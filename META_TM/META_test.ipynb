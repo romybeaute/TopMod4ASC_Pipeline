{
 "cells": [
  {
   "cell_type": "code",
   "execution_count": 17,
   "metadata": {},
   "outputs": [
    {
     "name": "stdout",
     "output_type": "stream",
     "text": [
      "Condition : \"highsensory\"\n",
      "N=336 reports (condition : highsensory)\n",
      "N=317 cleaned reports\n"
     ]
    },
    {
     "name": "stderr",
     "output_type": "stream",
     "text": [
      "/Users/rb666/projects/TopicModelling_META/META_TM/META_helpers.py:153: DtypeWarning: Columns (23,24,71,73,75,77,109,111,112,113,114,115,116,117,118,119,120,121,122,123,124,126,127,128,129,130,131,132,133,134,135,136,137,138,139,140,141,142,143,144,145,146,147,148,149,150,151,157,159,161,165,168,196,203,205) have mixed types. Specify dtype option on import or set low_memory=False.\n",
      "  df = pd.read_csv(DATADIR)\n"
     ]
    }
   ],
   "source": [
    "from META_helpers import *\n",
    "\n",
    "reports_filtered = get_data(HighSensory=True, Handwritten=False,remove_stopwords=False,extended_stopwords=False)\n",
    "data = reports_filtered.tolist()\n",
    "\n"
   ]
  },
  {
   "cell_type": "code",
   "execution_count": 18,
   "metadata": {},
   "outputs": [
    {
     "name": "stdout",
     "output_type": "stream",
     "text": [
      "Total number of combinations: 10\n",
      "Fitting 3 folds for each of 10 candidates, totalling 30 fits\n",
      "[CV 1/3; 1/10] START min_cluster_size=15, min_dist=0.01, min_samples=15, n_components=2, n_neighbors=5\n"
     ]
    },
    {
     "data": {
      "application/vnd.jupyter.widget-view+json": {
       "model_id": "2e0fc21a023a4513a9d4ce5211bb3565",
       "version_major": 2,
       "version_minor": 0
      },
      "text/plain": [
       "Batches:   0%|          | 0/7 [00:00<?, ?it/s]"
      ]
     },
     "metadata": {},
     "output_type": "display_data"
    },
    {
     "name": "stderr",
     "output_type": "stream",
     "text": [
      "2024-05-08 15:46:52,361 - BERTopic - Transformed documents to Embeddings\n",
      "OMP: Info #276: omp_set_nested routine deprecated, please use omp_set_max_active_levels instead.\n",
      "2024-05-08 15:46:54,770 - BERTopic - Reduced dimensionality\n",
      "2024-05-08 15:46:54,774 - BERTopic - Clustered reduced embeddings\n"
     ]
    },
    {
     "name": "stdout",
     "output_type": "stream",
     "text": [
      "[CV 1/3; 1/10] END min_cluster_size=15, min_dist=0.01, min_samples=15, n_components=2, n_neighbors=5;, score=nan total time=   3.3s\n",
      "[CV 2/3; 1/10] START min_cluster_size=15, min_dist=0.01, min_samples=15, n_components=2, n_neighbors=5\n"
     ]
    },
    {
     "data": {
      "application/vnd.jupyter.widget-view+json": {
       "model_id": "bd1be6b3eb754245b65e29b5ae0ff1bf",
       "version_major": 2,
       "version_minor": 0
      },
      "text/plain": [
       "Batches:   0%|          | 0/7 [00:00<?, ?it/s]"
      ]
     },
     "metadata": {},
     "output_type": "display_data"
    },
    {
     "name": "stderr",
     "output_type": "stream",
     "text": [
      "2024-05-08 15:46:55,598 - BERTopic - Transformed documents to Embeddings\n",
      "2024-05-08 15:46:55,965 - BERTopic - Reduced dimensionality\n",
      "2024-05-08 15:46:55,969 - BERTopic - Clustered reduced embeddings\n"
     ]
    },
    {
     "name": "stdout",
     "output_type": "stream",
     "text": [
      "[CV 2/3; 1/10] END min_cluster_size=15, min_dist=0.01, min_samples=15, n_components=2, n_neighbors=5;, score=nan total time=   1.2s\n",
      "[CV 3/3; 1/10] START min_cluster_size=15, min_dist=0.01, min_samples=15, n_components=2, n_neighbors=5\n"
     ]
    },
    {
     "data": {
      "application/vnd.jupyter.widget-view+json": {
       "model_id": "09095351e1954285a1037e8a29011d0a",
       "version_major": 2,
       "version_minor": 0
      },
      "text/plain": [
       "Batches:   0%|          | 0/7 [00:00<?, ?it/s]"
      ]
     },
     "metadata": {},
     "output_type": "display_data"
    },
    {
     "name": "stderr",
     "output_type": "stream",
     "text": [
      "2024-05-08 15:46:56,783 - BERTopic - Transformed documents to Embeddings\n",
      "2024-05-08 15:46:57,273 - BERTopic - Reduced dimensionality\n",
      "2024-05-08 15:46:57,276 - BERTopic - Clustered reduced embeddings\n"
     ]
    },
    {
     "name": "stdout",
     "output_type": "stream",
     "text": [
      "[CV 3/3; 1/10] END min_cluster_size=15, min_dist=0.01, min_samples=15, n_components=2, n_neighbors=5;, score=nan total time=   1.3s\n",
      "[CV 1/3; 2/10] START min_cluster_size=15, min_dist=0.01, min_samples=15, n_components=3, n_neighbors=5\n"
     ]
    },
    {
     "data": {
      "application/vnd.jupyter.widget-view+json": {
       "model_id": "1b84d7f48e414fd6861432a642663b57",
       "version_major": 2,
       "version_minor": 0
      },
      "text/plain": [
       "Batches:   0%|          | 0/7 [00:00<?, ?it/s]"
      ]
     },
     "metadata": {},
     "output_type": "display_data"
    },
    {
     "name": "stderr",
     "output_type": "stream",
     "text": [
      "2024-05-08 15:46:58,052 - BERTopic - Transformed documents to Embeddings\n",
      "2024-05-08 15:46:58,422 - BERTopic - Reduced dimensionality\n",
      "2024-05-08 15:46:58,426 - BERTopic - Clustered reduced embeddings\n"
     ]
    },
    {
     "name": "stdout",
     "output_type": "stream",
     "text": [
      "[CV 1/3; 2/10] END min_cluster_size=15, min_dist=0.01, min_samples=15, n_components=3, n_neighbors=5;, score=nan total time=   1.1s\n",
      "[CV 2/3; 2/10] START min_cluster_size=15, min_dist=0.01, min_samples=15, n_components=3, n_neighbors=5\n"
     ]
    },
    {
     "data": {
      "application/vnd.jupyter.widget-view+json": {
       "model_id": "0f9690d5d10945fcb219fb057b7730fd",
       "version_major": 2,
       "version_minor": 0
      },
      "text/plain": [
       "Batches:   0%|          | 0/7 [00:00<?, ?it/s]"
      ]
     },
     "metadata": {},
     "output_type": "display_data"
    },
    {
     "name": "stderr",
     "output_type": "stream",
     "text": [
      "2024-05-08 15:46:59,260 - BERTopic - Transformed documents to Embeddings\n",
      "2024-05-08 15:46:59,619 - BERTopic - Reduced dimensionality\n",
      "2024-05-08 15:46:59,623 - BERTopic - Clustered reduced embeddings\n"
     ]
    },
    {
     "name": "stdout",
     "output_type": "stream",
     "text": [
      "[CV 2/3; 2/10] END min_cluster_size=15, min_dist=0.01, min_samples=15, n_components=3, n_neighbors=5;, score=nan total time=   1.2s\n",
      "[CV 3/3; 2/10] START min_cluster_size=15, min_dist=0.01, min_samples=15, n_components=3, n_neighbors=5\n"
     ]
    },
    {
     "data": {
      "application/vnd.jupyter.widget-view+json": {
       "model_id": "6cbf351fdc4b454c8b43a54aa998ab58",
       "version_major": 2,
       "version_minor": 0
      },
      "text/plain": [
       "Batches:   0%|          | 0/7 [00:00<?, ?it/s]"
      ]
     },
     "metadata": {},
     "output_type": "display_data"
    },
    {
     "name": "stderr",
     "output_type": "stream",
     "text": [
      "2024-05-08 15:47:00,434 - BERTopic - Transformed documents to Embeddings\n",
      "2024-05-08 15:47:00,814 - BERTopic - Reduced dimensionality\n",
      "2024-05-08 15:47:00,817 - BERTopic - Clustered reduced embeddings\n"
     ]
    },
    {
     "name": "stdout",
     "output_type": "stream",
     "text": [
      "[CV 3/3; 2/10] END min_cluster_size=15, min_dist=0.01, min_samples=15, n_components=3, n_neighbors=5;, score=nan total time=   1.2s\n",
      "[CV 1/3; 3/10] START min_cluster_size=15, min_dist=0.01, min_samples=15, n_components=4, n_neighbors=5\n"
     ]
    },
    {
     "data": {
      "application/vnd.jupyter.widget-view+json": {
       "model_id": "a33219120a4d4ab18186826144d00944",
       "version_major": 2,
       "version_minor": 0
      },
      "text/plain": [
       "Batches:   0%|          | 0/7 [00:00<?, ?it/s]"
      ]
     },
     "metadata": {},
     "output_type": "display_data"
    },
    {
     "name": "stderr",
     "output_type": "stream",
     "text": [
      "2024-05-08 15:47:01,646 - BERTopic - Transformed documents to Embeddings\n",
      "2024-05-08 15:47:02,018 - BERTopic - Reduced dimensionality\n",
      "2024-05-08 15:47:02,022 - BERTopic - Clustered reduced embeddings\n"
     ]
    },
    {
     "name": "stdout",
     "output_type": "stream",
     "text": [
      "[CV 1/3; 3/10] END min_cluster_size=15, min_dist=0.01, min_samples=15, n_components=4, n_neighbors=5;, score=nan total time=   1.2s\n",
      "[CV 2/3; 3/10] START min_cluster_size=15, min_dist=0.01, min_samples=15, n_components=4, n_neighbors=5\n"
     ]
    },
    {
     "data": {
      "application/vnd.jupyter.widget-view+json": {
       "model_id": "8fedcb3fbbb845a49116f616d86e452d",
       "version_major": 2,
       "version_minor": 0
      },
      "text/plain": [
       "Batches:   0%|          | 0/7 [00:00<?, ?it/s]"
      ]
     },
     "metadata": {},
     "output_type": "display_data"
    },
    {
     "name": "stderr",
     "output_type": "stream",
     "text": [
      "2024-05-08 15:47:02,826 - BERTopic - Transformed documents to Embeddings\n",
      "2024-05-08 15:47:03,335 - BERTopic - Reduced dimensionality\n",
      "2024-05-08 15:47:03,338 - BERTopic - Clustered reduced embeddings\n"
     ]
    },
    {
     "name": "stdout",
     "output_type": "stream",
     "text": [
      "[CV 2/3; 3/10] END min_cluster_size=15, min_dist=0.01, min_samples=15, n_components=4, n_neighbors=5;, score=nan total time=   1.3s\n",
      "[CV 3/3; 3/10] START min_cluster_size=15, min_dist=0.01, min_samples=15, n_components=4, n_neighbors=5\n"
     ]
    },
    {
     "data": {
      "application/vnd.jupyter.widget-view+json": {
       "model_id": "3188e4458add43bba108ecd4a0a3079a",
       "version_major": 2,
       "version_minor": 0
      },
      "text/plain": [
       "Batches:   0%|          | 0/7 [00:00<?, ?it/s]"
      ]
     },
     "metadata": {},
     "output_type": "display_data"
    },
    {
     "name": "stderr",
     "output_type": "stream",
     "text": [
      "2024-05-08 15:47:04,143 - BERTopic - Transformed documents to Embeddings\n",
      "2024-05-08 15:47:04,532 - BERTopic - Reduced dimensionality\n",
      "2024-05-08 15:47:04,536 - BERTopic - Clustered reduced embeddings\n"
     ]
    },
    {
     "name": "stdout",
     "output_type": "stream",
     "text": [
      "[CV 3/3; 3/10] END min_cluster_size=15, min_dist=0.01, min_samples=15, n_components=4, n_neighbors=5;, score=nan total time=   1.2s\n",
      "[CV 1/3; 4/10] START min_cluster_size=15, min_dist=0.01, min_samples=15, n_components=5, n_neighbors=5\n"
     ]
    },
    {
     "data": {
      "application/vnd.jupyter.widget-view+json": {
       "model_id": "7e11508d780a43e888af2d9439746733",
       "version_major": 2,
       "version_minor": 0
      },
      "text/plain": [
       "Batches:   0%|          | 0/7 [00:00<?, ?it/s]"
      ]
     },
     "metadata": {},
     "output_type": "display_data"
    },
    {
     "name": "stderr",
     "output_type": "stream",
     "text": [
      "2024-05-08 15:47:05,334 - BERTopic - Transformed documents to Embeddings\n",
      "2024-05-08 15:47:05,711 - BERTopic - Reduced dimensionality\n",
      "2024-05-08 15:47:05,714 - BERTopic - Clustered reduced embeddings\n"
     ]
    },
    {
     "name": "stdout",
     "output_type": "stream",
     "text": [
      "[CV 1/3; 4/10] END min_cluster_size=15, min_dist=0.01, min_samples=15, n_components=5, n_neighbors=5;, score=nan total time=   1.2s\n",
      "[CV 2/3; 4/10] START min_cluster_size=15, min_dist=0.01, min_samples=15, n_components=5, n_neighbors=5\n"
     ]
    },
    {
     "data": {
      "application/vnd.jupyter.widget-view+json": {
       "model_id": "8efdaf53b69c479f8367c9e628c1eeb8",
       "version_major": 2,
       "version_minor": 0
      },
      "text/plain": [
       "Batches:   0%|          | 0/7 [00:00<?, ?it/s]"
      ]
     },
     "metadata": {},
     "output_type": "display_data"
    },
    {
     "name": "stderr",
     "output_type": "stream",
     "text": [
      "2024-05-08 15:47:06,531 - BERTopic - Transformed documents to Embeddings\n",
      "2024-05-08 15:47:06,904 - BERTopic - Reduced dimensionality\n",
      "2024-05-08 15:47:06,908 - BERTopic - Clustered reduced embeddings\n"
     ]
    },
    {
     "name": "stdout",
     "output_type": "stream",
     "text": [
      "[CV 2/3; 4/10] END min_cluster_size=15, min_dist=0.01, min_samples=15, n_components=5, n_neighbors=5;, score=nan total time=   1.2s\n",
      "[CV 3/3; 4/10] START min_cluster_size=15, min_dist=0.01, min_samples=15, n_components=5, n_neighbors=5\n"
     ]
    },
    {
     "data": {
      "application/vnd.jupyter.widget-view+json": {
       "model_id": "b74b018bcdab4bad9e6b6b123bfda056",
       "version_major": 2,
       "version_minor": 0
      },
      "text/plain": [
       "Batches:   0%|          | 0/7 [00:00<?, ?it/s]"
      ]
     },
     "metadata": {},
     "output_type": "display_data"
    },
    {
     "name": "stderr",
     "output_type": "stream",
     "text": [
      "2024-05-08 15:47:07,685 - BERTopic - Transformed documents to Embeddings\n",
      "2024-05-08 15:47:08,062 - BERTopic - Reduced dimensionality\n",
      "2024-05-08 15:47:08,066 - BERTopic - Clustered reduced embeddings\n"
     ]
    },
    {
     "name": "stdout",
     "output_type": "stream",
     "text": [
      "[CV 3/3; 4/10] END min_cluster_size=15, min_dist=0.01, min_samples=15, n_components=5, n_neighbors=5;, score=nan total time=   1.1s\n",
      "[CV 1/3; 5/10] START min_cluster_size=15, min_dist=0.01, min_samples=15, n_components=6, n_neighbors=5\n"
     ]
    },
    {
     "data": {
      "application/vnd.jupyter.widget-view+json": {
       "model_id": "9c485f940554404f9ad4d80196d2c4bd",
       "version_major": 2,
       "version_minor": 0
      },
      "text/plain": [
       "Batches:   0%|          | 0/7 [00:00<?, ?it/s]"
      ]
     },
     "metadata": {},
     "output_type": "display_data"
    },
    {
     "name": "stderr",
     "output_type": "stream",
     "text": [
      "2024-05-08 15:47:08,870 - BERTopic - Transformed documents to Embeddings\n",
      "2024-05-08 15:47:09,260 - BERTopic - Reduced dimensionality\n",
      "2024-05-08 15:47:09,263 - BERTopic - Clustered reduced embeddings\n"
     ]
    },
    {
     "name": "stdout",
     "output_type": "stream",
     "text": [
      "[CV 1/3; 5/10] END min_cluster_size=15, min_dist=0.01, min_samples=15, n_components=6, n_neighbors=5;, score=nan total time=   1.2s\n",
      "[CV 2/3; 5/10] START min_cluster_size=15, min_dist=0.01, min_samples=15, n_components=6, n_neighbors=5\n"
     ]
    },
    {
     "data": {
      "application/vnd.jupyter.widget-view+json": {
       "model_id": "5d50d6df7fc64aa489a33fa81fd2e6b7",
       "version_major": 2,
       "version_minor": 0
      },
      "text/plain": [
       "Batches:   0%|          | 0/7 [00:00<?, ?it/s]"
      ]
     },
     "metadata": {},
     "output_type": "display_data"
    },
    {
     "name": "stderr",
     "output_type": "stream",
     "text": [
      "2024-05-08 15:47:10,038 - BERTopic - Transformed documents to Embeddings\n",
      "2024-05-08 15:47:10,561 - BERTopic - Reduced dimensionality\n",
      "2024-05-08 15:47:10,565 - BERTopic - Clustered reduced embeddings\n"
     ]
    },
    {
     "name": "stdout",
     "output_type": "stream",
     "text": [
      "[CV 2/3; 5/10] END min_cluster_size=15, min_dist=0.01, min_samples=15, n_components=6, n_neighbors=5;, score=nan total time=   1.3s\n",
      "[CV 3/3; 5/10] START min_cluster_size=15, min_dist=0.01, min_samples=15, n_components=6, n_neighbors=5\n"
     ]
    },
    {
     "data": {
      "application/vnd.jupyter.widget-view+json": {
       "model_id": "53a56a76d3fc4f7fb6121ab977bafe1f",
       "version_major": 2,
       "version_minor": 0
      },
      "text/plain": [
       "Batches:   0%|          | 0/7 [00:00<?, ?it/s]"
      ]
     },
     "metadata": {},
     "output_type": "display_data"
    },
    {
     "name": "stderr",
     "output_type": "stream",
     "text": [
      "2024-05-08 15:47:11,345 - BERTopic - Transformed documents to Embeddings\n",
      "2024-05-08 15:47:11,721 - BERTopic - Reduced dimensionality\n",
      "2024-05-08 15:47:11,725 - BERTopic - Clustered reduced embeddings\n"
     ]
    },
    {
     "name": "stdout",
     "output_type": "stream",
     "text": [
      "[CV 3/3; 5/10] END min_cluster_size=15, min_dist=0.01, min_samples=15, n_components=6, n_neighbors=5;, score=nan total time=   1.1s\n",
      "[CV 1/3; 6/10] START min_cluster_size=15, min_dist=0.01, min_samples=15, n_components=7, n_neighbors=5\n"
     ]
    },
    {
     "data": {
      "application/vnd.jupyter.widget-view+json": {
       "model_id": "64ca62db76a94b478e69fbf1261efda7",
       "version_major": 2,
       "version_minor": 0
      },
      "text/plain": [
       "Batches:   0%|          | 0/7 [00:00<?, ?it/s]"
      ]
     },
     "metadata": {},
     "output_type": "display_data"
    },
    {
     "name": "stderr",
     "output_type": "stream",
     "text": [
      "2024-05-08 15:47:12,550 - BERTopic - Transformed documents to Embeddings\n",
      "2024-05-08 15:47:12,933 - BERTopic - Reduced dimensionality\n",
      "2024-05-08 15:47:12,937 - BERTopic - Clustered reduced embeddings\n"
     ]
    },
    {
     "name": "stdout",
     "output_type": "stream",
     "text": [
      "[CV 1/3; 6/10] END min_cluster_size=15, min_dist=0.01, min_samples=15, n_components=7, n_neighbors=5;, score=nan total time=   1.2s\n",
      "[CV 2/3; 6/10] START min_cluster_size=15, min_dist=0.01, min_samples=15, n_components=7, n_neighbors=5\n"
     ]
    },
    {
     "data": {
      "application/vnd.jupyter.widget-view+json": {
       "model_id": "eea212c369f042a19c7147b3c6e2ccfa",
       "version_major": 2,
       "version_minor": 0
      },
      "text/plain": [
       "Batches:   0%|          | 0/7 [00:00<?, ?it/s]"
      ]
     },
     "metadata": {},
     "output_type": "display_data"
    },
    {
     "name": "stderr",
     "output_type": "stream",
     "text": [
      "2024-05-08 15:47:13,715 - BERTopic - Transformed documents to Embeddings\n",
      "2024-05-08 15:47:14,114 - BERTopic - Reduced dimensionality\n",
      "2024-05-08 15:47:14,118 - BERTopic - Clustered reduced embeddings\n"
     ]
    },
    {
     "name": "stdout",
     "output_type": "stream",
     "text": [
      "[CV 2/3; 6/10] END min_cluster_size=15, min_dist=0.01, min_samples=15, n_components=7, n_neighbors=5;, score=nan total time=   1.2s\n",
      "[CV 3/3; 6/10] START min_cluster_size=15, min_dist=0.01, min_samples=15, n_components=7, n_neighbors=5\n"
     ]
    },
    {
     "data": {
      "application/vnd.jupyter.widget-view+json": {
       "model_id": "cf08f2f706c345c185938b22d1a1dd4e",
       "version_major": 2,
       "version_minor": 0
      },
      "text/plain": [
       "Batches:   0%|          | 0/7 [00:00<?, ?it/s]"
      ]
     },
     "metadata": {},
     "output_type": "display_data"
    },
    {
     "name": "stderr",
     "output_type": "stream",
     "text": [
      "2024-05-08 15:47:14,972 - BERTopic - Transformed documents to Embeddings\n",
      "2024-05-08 15:47:15,369 - BERTopic - Reduced dimensionality\n",
      "2024-05-08 15:47:15,373 - BERTopic - Clustered reduced embeddings\n"
     ]
    },
    {
     "name": "stdout",
     "output_type": "stream",
     "text": [
      "[CV 3/3; 6/10] END min_cluster_size=15, min_dist=0.01, min_samples=15, n_components=7, n_neighbors=5;, score=nan total time=   1.2s\n",
      "[CV 1/3; 7/10] START min_cluster_size=15, min_dist=0.01, min_samples=15, n_components=8, n_neighbors=5\n"
     ]
    },
    {
     "data": {
      "application/vnd.jupyter.widget-view+json": {
       "model_id": "ef8de73ccde642b4aeff6a6eb6ca9f9e",
       "version_major": 2,
       "version_minor": 0
      },
      "text/plain": [
       "Batches:   0%|          | 0/7 [00:00<?, ?it/s]"
      ]
     },
     "metadata": {},
     "output_type": "display_data"
    },
    {
     "name": "stderr",
     "output_type": "stream",
     "text": [
      "2024-05-08 15:47:16,227 - BERTopic - Transformed documents to Embeddings\n",
      "2024-05-08 15:47:16,600 - BERTopic - Reduced dimensionality\n",
      "2024-05-08 15:47:16,604 - BERTopic - Clustered reduced embeddings\n"
     ]
    },
    {
     "name": "stdout",
     "output_type": "stream",
     "text": [
      "[CV 1/3; 7/10] END min_cluster_size=15, min_dist=0.01, min_samples=15, n_components=8, n_neighbors=5;, score=nan total time=   1.2s\n",
      "[CV 2/3; 7/10] START min_cluster_size=15, min_dist=0.01, min_samples=15, n_components=8, n_neighbors=5\n"
     ]
    },
    {
     "data": {
      "application/vnd.jupyter.widget-view+json": {
       "model_id": "be0722d013254243b4cb058a8a67ac8b",
       "version_major": 2,
       "version_minor": 0
      },
      "text/plain": [
       "Batches:   0%|          | 0/7 [00:00<?, ?it/s]"
      ]
     },
     "metadata": {},
     "output_type": "display_data"
    },
    {
     "name": "stderr",
     "output_type": "stream",
     "text": [
      "2024-05-08 15:47:17,392 - BERTopic - Transformed documents to Embeddings\n",
      "2024-05-08 15:47:17,912 - BERTopic - Reduced dimensionality\n",
      "2024-05-08 15:47:17,916 - BERTopic - Clustered reduced embeddings\n"
     ]
    },
    {
     "name": "stdout",
     "output_type": "stream",
     "text": [
      "[CV 2/3; 7/10] END min_cluster_size=15, min_dist=0.01, min_samples=15, n_components=8, n_neighbors=5;, score=nan total time=   1.3s\n",
      "[CV 3/3; 7/10] START min_cluster_size=15, min_dist=0.01, min_samples=15, n_components=8, n_neighbors=5\n"
     ]
    },
    {
     "data": {
      "application/vnd.jupyter.widget-view+json": {
       "model_id": "3f511954fe8942029c7664f7dcb27495",
       "version_major": 2,
       "version_minor": 0
      },
      "text/plain": [
       "Batches:   0%|          | 0/7 [00:00<?, ?it/s]"
      ]
     },
     "metadata": {},
     "output_type": "display_data"
    },
    {
     "name": "stderr",
     "output_type": "stream",
     "text": [
      "2024-05-08 15:47:18,694 - BERTopic - Transformed documents to Embeddings\n",
      "2024-05-08 15:47:19,088 - BERTopic - Reduced dimensionality\n",
      "2024-05-08 15:47:19,093 - BERTopic - Clustered reduced embeddings\n"
     ]
    },
    {
     "name": "stdout",
     "output_type": "stream",
     "text": [
      "[CV 3/3; 7/10] END min_cluster_size=15, min_dist=0.01, min_samples=15, n_components=8, n_neighbors=5;, score=nan total time=   1.2s\n",
      "[CV 1/3; 8/10] START min_cluster_size=15, min_dist=0.01, min_samples=15, n_components=9, n_neighbors=5\n"
     ]
    },
    {
     "data": {
      "application/vnd.jupyter.widget-view+json": {
       "model_id": "94211902dd62453f8aaec289f6dfed74",
       "version_major": 2,
       "version_minor": 0
      },
      "text/plain": [
       "Batches:   0%|          | 0/7 [00:00<?, ?it/s]"
      ]
     },
     "metadata": {},
     "output_type": "display_data"
    },
    {
     "name": "stderr",
     "output_type": "stream",
     "text": [
      "2024-05-08 15:47:19,932 - BERTopic - Transformed documents to Embeddings\n",
      "2024-05-08 15:47:20,308 - BERTopic - Reduced dimensionality\n",
      "2024-05-08 15:47:20,312 - BERTopic - Clustered reduced embeddings\n"
     ]
    },
    {
     "name": "stdout",
     "output_type": "stream",
     "text": [
      "[CV 1/3; 8/10] END min_cluster_size=15, min_dist=0.01, min_samples=15, n_components=9, n_neighbors=5;, score=nan total time=   1.2s\n",
      "[CV 2/3; 8/10] START min_cluster_size=15, min_dist=0.01, min_samples=15, n_components=9, n_neighbors=5\n"
     ]
    },
    {
     "data": {
      "application/vnd.jupyter.widget-view+json": {
       "model_id": "54cfdc0d8a7b471f8d24301651217ffe",
       "version_major": 2,
       "version_minor": 0
      },
      "text/plain": [
       "Batches:   0%|          | 0/7 [00:00<?, ?it/s]"
      ]
     },
     "metadata": {},
     "output_type": "display_data"
    },
    {
     "name": "stderr",
     "output_type": "stream",
     "text": [
      "2024-05-08 15:47:21,291 - BERTopic - Transformed documents to Embeddings\n",
      "2024-05-08 15:47:21,790 - BERTopic - Reduced dimensionality\n",
      "2024-05-08 15:47:21,795 - BERTopic - Clustered reduced embeddings\n"
     ]
    },
    {
     "name": "stdout",
     "output_type": "stream",
     "text": [
      "[CV 2/3; 8/10] END min_cluster_size=15, min_dist=0.01, min_samples=15, n_components=9, n_neighbors=5;, score=nan total time=   1.5s\n",
      "[CV 3/3; 8/10] START min_cluster_size=15, min_dist=0.01, min_samples=15, n_components=9, n_neighbors=5\n"
     ]
    },
    {
     "data": {
      "application/vnd.jupyter.widget-view+json": {
       "model_id": "b69aa91da1b7463bbe6ee913c6fe67a9",
       "version_major": 2,
       "version_minor": 0
      },
      "text/plain": [
       "Batches:   0%|          | 0/7 [00:00<?, ?it/s]"
      ]
     },
     "metadata": {},
     "output_type": "display_data"
    },
    {
     "name": "stderr",
     "output_type": "stream",
     "text": [
      "2024-05-08 15:47:22,753 - BERTopic - Transformed documents to Embeddings\n",
      "2024-05-08 15:47:23,145 - BERTopic - Reduced dimensionality\n",
      "2024-05-08 15:47:23,150 - BERTopic - Clustered reduced embeddings\n"
     ]
    },
    {
     "name": "stdout",
     "output_type": "stream",
     "text": [
      "[CV 3/3; 8/10] END min_cluster_size=15, min_dist=0.01, min_samples=15, n_components=9, n_neighbors=5;, score=nan total time=   1.3s\n",
      "[CV 1/3; 9/10] START min_cluster_size=15, min_dist=0.01, min_samples=15, n_components=10, n_neighbors=5\n"
     ]
    },
    {
     "data": {
      "application/vnd.jupyter.widget-view+json": {
       "model_id": "ee04f6f82da44bde8632ca58595355cf",
       "version_major": 2,
       "version_minor": 0
      },
      "text/plain": [
       "Batches:   0%|          | 0/7 [00:00<?, ?it/s]"
      ]
     },
     "metadata": {},
     "output_type": "display_data"
    },
    {
     "name": "stderr",
     "output_type": "stream",
     "text": [
      "2024-05-08 15:47:23,974 - BERTopic - Transformed documents to Embeddings\n",
      "2024-05-08 15:47:24,384 - BERTopic - Reduced dimensionality\n",
      "2024-05-08 15:47:24,387 - BERTopic - Clustered reduced embeddings\n"
     ]
    },
    {
     "name": "stdout",
     "output_type": "stream",
     "text": [
      "[CV 1/3; 9/10] END min_cluster_size=15, min_dist=0.01, min_samples=15, n_components=10, n_neighbors=5;, score=nan total time=   1.2s\n",
      "[CV 2/3; 9/10] START min_cluster_size=15, min_dist=0.01, min_samples=15, n_components=10, n_neighbors=5\n"
     ]
    },
    {
     "data": {
      "application/vnd.jupyter.widget-view+json": {
       "model_id": "aee966d0fb0449ae9e9574c85197999d",
       "version_major": 2,
       "version_minor": 0
      },
      "text/plain": [
       "Batches:   0%|          | 0/7 [00:00<?, ?it/s]"
      ]
     },
     "metadata": {},
     "output_type": "display_data"
    },
    {
     "name": "stderr",
     "output_type": "stream",
     "text": [
      "2024-05-08 15:47:25,343 - BERTopic - Transformed documents to Embeddings\n",
      "2024-05-08 15:47:25,922 - BERTopic - Reduced dimensionality\n",
      "2024-05-08 15:47:25,926 - BERTopic - Clustered reduced embeddings\n"
     ]
    },
    {
     "name": "stdout",
     "output_type": "stream",
     "text": [
      "[CV 2/3; 9/10] END min_cluster_size=15, min_dist=0.01, min_samples=15, n_components=10, n_neighbors=5;, score=nan total time=   1.5s\n",
      "[CV 3/3; 9/10] START min_cluster_size=15, min_dist=0.01, min_samples=15, n_components=10, n_neighbors=5\n"
     ]
    },
    {
     "data": {
      "application/vnd.jupyter.widget-view+json": {
       "model_id": "b98da3a2e7d74e029cab4de8061052aa",
       "version_major": 2,
       "version_minor": 0
      },
      "text/plain": [
       "Batches:   0%|          | 0/7 [00:00<?, ?it/s]"
      ]
     },
     "metadata": {},
     "output_type": "display_data"
    },
    {
     "name": "stderr",
     "output_type": "stream",
     "text": [
      "2024-05-08 15:47:26,840 - BERTopic - Transformed documents to Embeddings\n",
      "2024-05-08 15:47:27,245 - BERTopic - Reduced dimensionality\n",
      "2024-05-08 15:47:27,250 - BERTopic - Clustered reduced embeddings\n"
     ]
    },
    {
     "name": "stdout",
     "output_type": "stream",
     "text": [
      "[CV 3/3; 9/10] END min_cluster_size=15, min_dist=0.01, min_samples=15, n_components=10, n_neighbors=5;, score=nan total time=   1.2s\n",
      "[CV 1/3; 10/10] START min_cluster_size=15, min_dist=0.01, min_samples=15, n_components=12, n_neighbors=5\n"
     ]
    },
    {
     "data": {
      "application/vnd.jupyter.widget-view+json": {
       "model_id": "db96c34044c8462cb6ce35721a659c76",
       "version_major": 2,
       "version_minor": 0
      },
      "text/plain": [
       "Batches:   0%|          | 0/7 [00:00<?, ?it/s]"
      ]
     },
     "metadata": {},
     "output_type": "display_data"
    },
    {
     "name": "stderr",
     "output_type": "stream",
     "text": [
      "2024-05-08 15:47:28,147 - BERTopic - Transformed documents to Embeddings\n",
      "2024-05-08 15:47:28,559 - BERTopic - Reduced dimensionality\n",
      "2024-05-08 15:47:28,563 - BERTopic - Clustered reduced embeddings\n"
     ]
    },
    {
     "name": "stdout",
     "output_type": "stream",
     "text": [
      "[CV 1/3; 10/10] END min_cluster_size=15, min_dist=0.01, min_samples=15, n_components=12, n_neighbors=5;, score=nan total time=   1.3s\n",
      "[CV 2/3; 10/10] START min_cluster_size=15, min_dist=0.01, min_samples=15, n_components=12, n_neighbors=5\n"
     ]
    },
    {
     "data": {
      "application/vnd.jupyter.widget-view+json": {
       "model_id": "62c5742ccfa9478498c7e0a642807977",
       "version_major": 2,
       "version_minor": 0
      },
      "text/plain": [
       "Batches:   0%|          | 0/7 [00:00<?, ?it/s]"
      ]
     },
     "metadata": {},
     "output_type": "display_data"
    },
    {
     "name": "stderr",
     "output_type": "stream",
     "text": [
      "2024-05-08 15:47:29,430 - BERTopic - Transformed documents to Embeddings\n",
      "2024-05-08 15:47:29,864 - BERTopic - Reduced dimensionality\n",
      "2024-05-08 15:47:29,868 - BERTopic - Clustered reduced embeddings\n"
     ]
    },
    {
     "name": "stdout",
     "output_type": "stream",
     "text": [
      "[CV 2/3; 10/10] END min_cluster_size=15, min_dist=0.01, min_samples=15, n_components=12, n_neighbors=5;, score=nan total time=   1.3s\n",
      "[CV 3/3; 10/10] START min_cluster_size=15, min_dist=0.01, min_samples=15, n_components=12, n_neighbors=5\n"
     ]
    },
    {
     "data": {
      "application/vnd.jupyter.widget-view+json": {
       "model_id": "f59c0c3bcf1440a39cf9fc4c727b3419",
       "version_major": 2,
       "version_minor": 0
      },
      "text/plain": [
       "Batches:   0%|          | 0/7 [00:00<?, ?it/s]"
      ]
     },
     "metadata": {},
     "output_type": "display_data"
    },
    {
     "name": "stderr",
     "output_type": "stream",
     "text": [
      "2024-05-08 15:47:30,930 - BERTopic - Transformed documents to Embeddings\n",
      "2024-05-08 15:47:31,465 - BERTopic - Reduced dimensionality\n",
      "2024-05-08 15:47:31,469 - BERTopic - Clustered reduced embeddings\n"
     ]
    },
    {
     "name": "stdout",
     "output_type": "stream",
     "text": [
      "[CV 3/3; 10/10] END min_cluster_size=15, min_dist=0.01, min_samples=15, n_components=12, n_neighbors=5;, score=nan total time=   1.6s\n"
     ]
    },
    {
     "data": {
      "application/vnd.jupyter.widget-view+json": {
       "model_id": "7f5fa564c4e44913bbac49214995608b",
       "version_major": 2,
       "version_minor": 0
      },
      "text/plain": [
       "Batches:   0%|          | 0/10 [00:00<?, ?it/s]"
      ]
     },
     "metadata": {},
     "output_type": "display_data"
    },
    {
     "name": "stderr",
     "output_type": "stream",
     "text": [
      "2024-05-08 15:47:32,587 - BERTopic - Transformed documents to Embeddings\n",
      "2024-05-08 15:47:33,168 - BERTopic - Reduced dimensionality\n",
      "2024-05-08 15:47:33,173 - BERTopic - Clustered reduced embeddings\n"
     ]
    },
    {
     "name": "stdout",
     "output_type": "stream",
     "text": [
      "Best parameters: {'min_cluster_size': 15, 'min_dist': 0.01, 'min_samples': 15, 'n_components': 2, 'n_neighbors': 5}\n",
      "Best coherence score: nan\n"
     ]
    }
   ],
   "source": [
    "vectorizer_model = CountVectorizer(ngram_range=(1,2), stop_words=list(stopwords.words('english')) + list(custom_stopwords))\n",
    "embedding_model = SentenceTransformer('all-MiniLM-L6-v2')\n",
    "\n",
    "\n",
    "# # For quick checkup if works : can quickly proceed to fit and evaluate the model with default wrapper parameters set in __init__\n",
    "\n",
    "# wrapper = BERTopicGridSearchWrapper(vectorizer_model=vectorizer_model, embedding_model=embedding_model)\n",
    "# wrapper.fit(data)\n",
    "# coherence = wrapper.score(data)\n",
    "# print(coherence)\n",
    "\n",
    "# Setup GridSearchCV\n",
    "# _, _, param_grid = get_params_grid(len(data))\n",
    "\n",
    "\n",
    "hyperparams_dict = hyperparams(len(data))\n",
    "hyperparams_dict\n",
    "\n",
    "params_grid = get_params_grid(len(data))\n",
    "\n",
    "grid_search = GridSearchCV(BERTopicGridSearchWrapper(vectorizer_model, embedding_model),\n",
    "                           param_grid=params_grid,\n",
    "                           cv=3,\n",
    "                           scoring=make_scorer(calculate_coherence, greater_is_better=True),\n",
    "                           verbose=10)\n",
    "\n",
    "# Fit grid search\n",
    "grid_search.fit(data)\n",
    "\n",
    "print(\"Best parameters:\", grid_search.best_params_)\n",
    "print(\"Best coherence score:\", grid_search.best_score_)"
   ]
  },
  {
   "cell_type": "code",
   "execution_count": null,
   "metadata": {},
   "outputs": [],
   "source": [
    "def get_params_grid(len_dataset):\n",
    "    hyperparams_dict = hyperparams(len_dataset)\n",
    "    hyperparams_umap = hyperparams_dict['umap_params']\n",
    "    hyperparams_hdbscan = hyperparams_dict['hdbscan_params']\n",
    "\n",
    "    # Print the hyperparameters for both UMAP and HDBSCAN\n",
    "    print(\"Hyperparameters for UMAP: \", hyperparams_umap)\n",
    "    print(\"Hyperparameters for HDBSCAN: \", hyperparams_hdbscan)\n",
    "\n",
    "    # Generate the parameter grid by iterating over each combination of hyperparameters\n",
    "    param_grid = []\n",
    "    for n_neighbors in hyperparams_umap['n_neighbors']:\n",
    "        for n_components in hyperparams_umap['n_components']:\n",
    "            for min_dist in hyperparams_umap['min_dist']:\n",
    "                for min_cluster_size in hyperparams_hdbscan['min_cluster_size']:\n",
    "                    for min_samples in hyperparams_hdbscan['min_samples']:\n",
    "                        param_grid.append({\n",
    "                            'n_neighbors': n_neighbors,\n",
    "                            'n_components': n_components,\n",
    "                            'min_dist': min_dist,\n",
    "                            'min_cluster_size': min_cluster_size,\n",
    "                            'min_samples': min_samples\n",
    "                        })\n",
    "\n",
    "    print(\"Number of combinations: \", len(param_grid))\n",
    "    return param_grid\n",
    "\n"
   ]
  },
  {
   "cell_type": "code",
   "execution_count": null,
   "metadata": {},
   "outputs": [],
   "source": [
    "param_grid = get_params_grid(len(data))\n",
    "param_grid"
   ]
  },
  {
   "cell_type": "code",
   "execution_count": null,
   "metadata": {},
   "outputs": [],
   "source": []
  }
 ],
 "metadata": {
  "kernelspec": {
   "display_name": "topmodvenv",
   "language": "python",
   "name": "python3"
  },
  "language_info": {
   "codemirror_mode": {
    "name": "ipython",
    "version": 3
   },
   "file_extension": ".py",
   "mimetype": "text/x-python",
   "name": "python",
   "nbconvert_exporter": "python",
   "pygments_lexer": "ipython3",
   "version": "3.11.3"
  }
 },
 "nbformat": 4,
 "nbformat_minor": 2
}
