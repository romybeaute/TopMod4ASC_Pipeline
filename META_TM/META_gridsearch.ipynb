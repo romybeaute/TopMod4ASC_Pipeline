{
 "cells": [
  {
   "cell_type": "markdown",
   "metadata": {},
   "source": [
    "### Sanity checks on the topic modelling project for DM dataset\n",
    "\n",
    "\n",
    "Author : Romy Beauté\\\n",
    "Date created : 13/05/2024\\\n",
    "Last modified : 14/05/2024\\\n",
    "Corresp : r.beaut@sussex.ac.uk"
   ]
  },
  {
   "cell_type": "code",
   "execution_count": 6,
   "metadata": {},
   "outputs": [
    {
     "name": "stdout",
     "output_type": "stream",
     "text": [
      "Condition : \"deeplistening\"\n",
      "N=98 reports (condition : deeplistening)\n",
      "Cleaning reports with options - Remove stopwords: False Tokenize: False Lemmatize: False\n",
      "N=92 cleaned and filtered reports\n"
     ]
    },
    {
     "name": "stderr",
     "output_type": "stream",
     "text": [
      "/Users/rb666/projects/TopicModelling_META/META_TM/META_helpers.py:164: DtypeWarning:\n",
      "\n",
      "Columns (23,24,71,73,75,77,109,111,112,113,114,115,116,117,118,119,120,121,122,123,124,126,127,128,129,130,131,132,133,134,135,136,137,138,139,140,141,142,143,144,145,146,147,148,149,150,151,157,159,161,165,168,196,203,205) have mixed types. Specify dtype option on import or set low_memory=False.\n",
      "\n"
     ]
    }
   ],
   "source": [
    "import os\n",
    "os.environ[\"TOKENIZERS_PARALLELISM\"] = \"True\"\n",
    "\n",
    "from META_helpers import *\n",
    "\n",
    "HighSensory, Handwritten =False, False\n",
    "reports_filtered = get_data(HighSensory, Handwritten)\n",
    "pd.DataFrame(reports_filtered).to_csv(f'META_DATA/reports_{\"HighSensory\" if HighSensory else \"DeepListening\" if not Handwritten else \"HandWritten\"}.csv', index=False) #to visualise reports\n",
    "\n"
   ]
  },
  {
   "cell_type": "code",
   "execution_count": 7,
   "metadata": {},
   "outputs": [
    {
     "name": "stdout",
     "output_type": "stream",
     "text": [
      "Total number of combinations: 8\n"
     ]
    },
    {
     "name": "stderr",
     "output_type": "stream",
     "text": [
      "  0%|          | 0/4 [00:00<?, ?it/s]"
     ]
    },
    {
     "name": "stdout",
     "output_type": "stream",
     "text": [
      "Received parameters: n_neighbors=3, n_components=3, min_dist=0.01, min_cluster_size=5, min_samples=None\n"
     ]
    },
    {
     "data": {
      "application/vnd.jupyter.widget-view+json": {
       "model_id": "67639cae29f84719aea56ba2056541d8",
       "version_major": 2,
       "version_minor": 0
      },
      "text/plain": [
       "Batches:   0%|          | 0/3 [00:00<?, ?it/s]"
      ]
     },
     "metadata": {},
     "output_type": "display_data"
    },
    {
     "name": "stderr",
     "output_type": "stream",
     "text": [
      "2024-05-15 15:13:21,456 - BERTopic - Transformed documents to Embeddings\n",
      "2024-05-15 15:13:21,734 - BERTopic - Reduced dimensionality\n",
      "2024-05-15 15:13:21,739 - BERTopic - Clustered reduced embeddings\n",
      "2024-05-15 15:13:21,754 - BERTopic - Reduced number of topics from 6 to 4\n"
     ]
    },
    {
     "data": {
      "application/vnd.jupyter.widget-view+json": {
       "model_id": "62eacfb3f2cc4471b879ce09fc6fa952",
       "version_major": 2,
       "version_minor": 0
      },
      "text/plain": [
       "Batches:   0%|          | 0/3 [00:00<?, ?it/s]"
      ]
     },
     "metadata": {},
     "output_type": "display_data"
    },
    {
     "name": "stderr",
     "output_type": "stream",
     "text": [
      "2024-05-15 15:13:22,226 - BERTopic - Transformed documents to Embeddings\n",
      "2024-05-15 15:13:22,507 - BERTopic - Reduced dimensionality\n",
      "2024-05-15 15:13:22,511 - BERTopic - Clustered reduced embeddings\n",
      "2024-05-15 15:13:22,525 - BERTopic - Reduced number of topics from 6 to 4\n"
     ]
    },
    {
     "name": "stdout",
     "output_type": "stream",
     "text": [
      "Topics: [['music', 'space', 'first', 'sound', 'ocean'], ['eyes', 'experience', 'different', 'see', 'lights'], ['past', 'thoughts', 'trying', 'deep', 'mind']]\n",
      "Coherence Score: 0.527052959630124\n",
      "Received parameters: n_neighbors=3, n_components=3, min_dist=0.01, min_cluster_size=10, min_samples=None\n"
     ]
    },
    {
     "data": {
      "application/vnd.jupyter.widget-view+json": {
       "model_id": "471997168ed940979baa210da8878aa1",
       "version_major": 2,
       "version_minor": 0
      },
      "text/plain": [
       "Batches:   0%|          | 0/3 [00:00<?, ?it/s]"
      ]
     },
     "metadata": {},
     "output_type": "display_data"
    },
    {
     "name": "stderr",
     "output_type": "stream",
     "text": [
      "2024-05-15 15:13:24,536 - BERTopic - Transformed documents to Embeddings\n",
      "2024-05-15 15:13:24,816 - BERTopic - Reduced dimensionality\n",
      "2024-05-15 15:13:24,820 - BERTopic - Clustered reduced embeddings\n",
      "2024-05-15 15:13:24,833 - BERTopic - Reduced number of topics from 3 to 3\n"
     ]
    },
    {
     "data": {
      "application/vnd.jupyter.widget-view+json": {
       "model_id": "acac96c9bcf3433aaea6ed77ffb4a36c",
       "version_major": 2,
       "version_minor": 0
      },
      "text/plain": [
       "Batches:   0%|          | 0/3 [00:00<?, ?it/s]"
      ]
     },
     "metadata": {},
     "output_type": "display_data"
    },
    {
     "name": "stderr",
     "output_type": "stream",
     "text": [
      "2024-05-15 15:13:25,298 - BERTopic - Transformed documents to Embeddings\n",
      "2024-05-15 15:13:25,572 - BERTopic - Reduced dimensionality\n",
      "2024-05-15 15:13:25,576 - BERTopic - Clustered reduced embeddings\n",
      "2024-05-15 15:13:25,589 - BERTopic - Reduced number of topics from 3 to 3\n"
     ]
    },
    {
     "name": "stdout",
     "output_type": "stream",
     "text": [
      "Topics: [['music', 'mind', 'time', 'space', 'saw'], ['eyes', 'see', 'lights', 'colours', 'experience']]\n"
     ]
    },
    {
     "name": "stderr",
     "output_type": "stream",
     "text": [
      " 25%|██▌       | 1/4 [00:06<00:18,  6.08s/it]"
     ]
    },
    {
     "name": "stdout",
     "output_type": "stream",
     "text": [
      "Coherence Score: 0.5880677800205549\n",
      "Received parameters: n_neighbors=5, n_components=3, min_dist=0.01, min_cluster_size=5, min_samples=None\n"
     ]
    },
    {
     "data": {
      "application/vnd.jupyter.widget-view+json": {
       "model_id": "79130f2077de4719b97c1e844a5027c0",
       "version_major": 2,
       "version_minor": 0
      },
      "text/plain": [
       "Batches:   0%|          | 0/3 [00:00<?, ?it/s]"
      ]
     },
     "metadata": {},
     "output_type": "display_data"
    },
    {
     "name": "stderr",
     "output_type": "stream",
     "text": [
      "2024-05-15 15:13:27,562 - BERTopic - Transformed documents to Embeddings\n",
      "2024-05-15 15:13:27,858 - BERTopic - Reduced dimensionality\n",
      "2024-05-15 15:13:27,861 - BERTopic - Clustered reduced embeddings\n",
      "2024-05-15 15:13:27,876 - BERTopic - Reduced number of topics from 4 to 4\n"
     ]
    },
    {
     "data": {
      "application/vnd.jupyter.widget-view+json": {
       "model_id": "726d34a396964d8b92a3857989796ce1",
       "version_major": 2,
       "version_minor": 0
      },
      "text/plain": [
       "Batches:   0%|          | 0/3 [00:00<?, ?it/s]"
      ]
     },
     "metadata": {},
     "output_type": "display_data"
    },
    {
     "name": "stderr",
     "output_type": "stream",
     "text": [
      "2024-05-15 15:13:28,345 - BERTopic - Transformed documents to Embeddings\n",
      "2024-05-15 15:13:28,811 - BERTopic - Reduced dimensionality\n",
      "2024-05-15 15:13:28,815 - BERTopic - Clustered reduced embeddings\n",
      "2024-05-15 15:13:28,829 - BERTopic - Reduced number of topics from 4 to 4\n"
     ]
    },
    {
     "name": "stdout",
     "output_type": "stream",
     "text": [
      "Topics: [['music', 'mind', 'sounds', 'relaxed', 'thoughts'], ['saw', 'space', 'ocean', 'room', 'one'], ['eyes', 'colours', 'lights', 'different', 'experience']]\n",
      "Coherence Score: 0.3889622862568263\n",
      "Received parameters: n_neighbors=5, n_components=3, min_dist=0.01, min_cluster_size=10, min_samples=None\n"
     ]
    },
    {
     "data": {
      "application/vnd.jupyter.widget-view+json": {
       "model_id": "86b6f8eedc984819b3659093785beb98",
       "version_major": 2,
       "version_minor": 0
      },
      "text/plain": [
       "Batches:   0%|          | 0/3 [00:00<?, ?it/s]"
      ]
     },
     "metadata": {},
     "output_type": "display_data"
    },
    {
     "name": "stderr",
     "output_type": "stream",
     "text": [
      "2024-05-15 15:13:30,785 - BERTopic - Transformed documents to Embeddings\n",
      "2024-05-15 15:13:31,098 - BERTopic - Reduced dimensionality\n",
      "2024-05-15 15:13:31,102 - BERTopic - Clustered reduced embeddings\n",
      "2024-05-15 15:13:31,116 - BERTopic - Reduced number of topics from 4 to 4\n"
     ]
    },
    {
     "data": {
      "application/vnd.jupyter.widget-view+json": {
       "model_id": "da57a7527f5444b2911d6eca5f7e0f37",
       "version_major": 2,
       "version_minor": 0
      },
      "text/plain": [
       "Batches:   0%|          | 0/3 [00:00<?, ?it/s]"
      ]
     },
     "metadata": {},
     "output_type": "display_data"
    },
    {
     "name": "stderr",
     "output_type": "stream",
     "text": [
      "2024-05-15 15:13:31,602 - BERTopic - Transformed documents to Embeddings\n",
      "2024-05-15 15:13:31,900 - BERTopic - Reduced dimensionality\n",
      "2024-05-15 15:13:31,904 - BERTopic - Clustered reduced embeddings\n",
      "2024-05-15 15:13:31,918 - BERTopic - Reduced number of topics from 4 to 4\n"
     ]
    },
    {
     "name": "stdout",
     "output_type": "stream",
     "text": [
      "Topics: [['music', 'thoughts', 'sounds', 'mind', 'took'], ['saw', 'space', 'ocean', 'one', 'body'], ['eyes', 'colours', 'different', 'closed eyes', 'closed']]\n"
     ]
    },
    {
     "name": "stderr",
     "output_type": "stream",
     "text": [
      " 50%|█████     | 2/4 [00:12<00:12,  6.24s/it]"
     ]
    },
    {
     "name": "stdout",
     "output_type": "stream",
     "text": [
      "Coherence Score: 0.4846878960287222\n",
      "Received parameters: n_neighbors=3, n_components=4, min_dist=0.01, min_cluster_size=5, min_samples=None\n"
     ]
    },
    {
     "data": {
      "application/vnd.jupyter.widget-view+json": {
       "model_id": "77a6a00504bd438e8376e3afe2d1c0f6",
       "version_major": 2,
       "version_minor": 0
      },
      "text/plain": [
       "Batches:   0%|          | 0/3 [00:00<?, ?it/s]"
      ]
     },
     "metadata": {},
     "output_type": "display_data"
    },
    {
     "name": "stderr",
     "output_type": "stream",
     "text": [
      "2024-05-15 15:13:33,923 - BERTopic - Transformed documents to Embeddings\n",
      "2024-05-15 15:13:34,201 - BERTopic - Reduced dimensionality\n",
      "2024-05-15 15:13:34,204 - BERTopic - Clustered reduced embeddings\n",
      "2024-05-15 15:13:34,220 - BERTopic - Reduced number of topics from 5 to 5\n"
     ]
    },
    {
     "data": {
      "application/vnd.jupyter.widget-view+json": {
       "model_id": "64d268cdcd6843b99359d27ea0b9a9ea",
       "version_major": 2,
       "version_minor": 0
      },
      "text/plain": [
       "Batches:   0%|          | 0/3 [00:00<?, ?it/s]"
      ]
     },
     "metadata": {},
     "output_type": "display_data"
    },
    {
     "name": "stderr",
     "output_type": "stream",
     "text": [
      "2024-05-15 15:13:34,694 - BERTopic - Transformed documents to Embeddings\n",
      "2024-05-15 15:13:34,995 - BERTopic - Reduced dimensionality\n",
      "2024-05-15 15:13:34,999 - BERTopic - Clustered reduced embeddings\n",
      "2024-05-15 15:13:35,013 - BERTopic - Reduced number of topics from 5 to 5\n"
     ]
    },
    {
     "name": "stdout",
     "output_type": "stream",
     "text": [
      "Topics: [['saw', 'ocean', 'room', 'space', 'one'], ['colours', 'eyes', 'different', 'closed eyes', 'closed'], ['music', 'took', 'journey', 'relaxed', 'sounds'], ['trying', 'past', 'time', 'reflected', 'couldnt']]\n",
      "Coherence Score: 0.4586709955905408\n",
      "Received parameters: n_neighbors=3, n_components=4, min_dist=0.01, min_cluster_size=10, min_samples=None\n"
     ]
    },
    {
     "data": {
      "application/vnd.jupyter.widget-view+json": {
       "model_id": "3f43423194494517967dcc260df54e84",
       "version_major": 2,
       "version_minor": 0
      },
      "text/plain": [
       "Batches:   0%|          | 0/3 [00:00<?, ?it/s]"
      ]
     },
     "metadata": {},
     "output_type": "display_data"
    },
    {
     "name": "stderr",
     "output_type": "stream",
     "text": [
      "2024-05-15 15:13:37,042 - BERTopic - Transformed documents to Embeddings\n",
      "2024-05-15 15:13:37,328 - BERTopic - Reduced dimensionality\n",
      "2024-05-15 15:13:37,332 - BERTopic - Clustered reduced embeddings\n",
      "2024-05-15 15:13:37,346 - BERTopic - Reduced number of topics from 4 to 4\n"
     ]
    },
    {
     "data": {
      "application/vnd.jupyter.widget-view+json": {
       "model_id": "5cf3619bf0c74f53b78ada35f69a3426",
       "version_major": 2,
       "version_minor": 0
      },
      "text/plain": [
       "Batches:   0%|          | 0/3 [00:00<?, ?it/s]"
      ]
     },
     "metadata": {},
     "output_type": "display_data"
    },
    {
     "name": "stderr",
     "output_type": "stream",
     "text": [
      "2024-05-15 15:13:37,827 - BERTopic - Transformed documents to Embeddings\n",
      "2024-05-15 15:13:38,323 - BERTopic - Reduced dimensionality\n",
      "2024-05-15 15:13:38,327 - BERTopic - Clustered reduced embeddings\n",
      "2024-05-15 15:13:38,341 - BERTopic - Reduced number of topics from 4 to 4\n"
     ]
    },
    {
     "name": "stdout",
     "output_type": "stream",
     "text": [
      "Topics: [['saw', 'space', 'room', 'ocean', 'blue'], ['music', 'mind', 'took', 'sounds', 'relaxed'], ['eyes', 'colours', 'different', 'closed', 'closed eyes']]\n"
     ]
    },
    {
     "name": "stderr",
     "output_type": "stream",
     "text": [
      " 75%|███████▌  | 3/4 [00:18<00:06,  6.30s/it]"
     ]
    },
    {
     "name": "stdout",
     "output_type": "stream",
     "text": [
      "Coherence Score: 0.48344633938595744\n",
      "Received parameters: n_neighbors=5, n_components=4, min_dist=0.01, min_cluster_size=5, min_samples=None\n"
     ]
    },
    {
     "data": {
      "application/vnd.jupyter.widget-view+json": {
       "model_id": "8029f78b301e4103aa6021226a373f95",
       "version_major": 2,
       "version_minor": 0
      },
      "text/plain": [
       "Batches:   0%|          | 0/3 [00:00<?, ?it/s]"
      ]
     },
     "metadata": {},
     "output_type": "display_data"
    },
    {
     "name": "stderr",
     "output_type": "stream",
     "text": [
      "2024-05-15 15:13:40,307 - BERTopic - Transformed documents to Embeddings\n",
      "2024-05-15 15:13:40,627 - BERTopic - Reduced dimensionality\n",
      "2024-05-15 15:13:40,631 - BERTopic - Clustered reduced embeddings\n",
      "2024-05-15 15:13:40,646 - BERTopic - Reduced number of topics from 4 to 4\n"
     ]
    },
    {
     "data": {
      "application/vnd.jupyter.widget-view+json": {
       "model_id": "e5dd5b4a5b88484b96f17fda9612226b",
       "version_major": 2,
       "version_minor": 0
      },
      "text/plain": [
       "Batches:   0%|          | 0/3 [00:00<?, ?it/s]"
      ]
     },
     "metadata": {},
     "output_type": "display_data"
    },
    {
     "name": "stderr",
     "output_type": "stream",
     "text": [
      "2024-05-15 15:13:41,183 - BERTopic - Transformed documents to Embeddings\n",
      "2024-05-15 15:13:41,511 - BERTopic - Reduced dimensionality\n",
      "2024-05-15 15:13:41,515 - BERTopic - Clustered reduced embeddings\n",
      "2024-05-15 15:13:41,530 - BERTopic - Reduced number of topics from 4 to 4\n"
     ]
    },
    {
     "name": "stdout",
     "output_type": "stream",
     "text": [
      "Topics: [['music', 'mind', 'thoughts', 'sounds', 'time'], ['saw', 'space', 'room', 'ocean', 'one'], ['eyes', 'lights', 'see', 'colours', 'experience']]\n",
      "Coherence Score: 0.4332481376863265\n",
      "Received parameters: n_neighbors=5, n_components=4, min_dist=0.01, min_cluster_size=10, min_samples=None\n"
     ]
    },
    {
     "data": {
      "application/vnd.jupyter.widget-view+json": {
       "model_id": "a8e083e3f0e14c20be4b57abce429277",
       "version_major": 2,
       "version_minor": 0
      },
      "text/plain": [
       "Batches:   0%|          | 0/3 [00:00<?, ?it/s]"
      ]
     },
     "metadata": {},
     "output_type": "display_data"
    },
    {
     "name": "stderr",
     "output_type": "stream",
     "text": [
      "2024-05-15 15:13:43,574 - BERTopic - Transformed documents to Embeddings\n",
      "2024-05-15 15:13:43,873 - BERTopic - Reduced dimensionality\n",
      "2024-05-15 15:13:43,877 - BERTopic - Clustered reduced embeddings\n",
      "2024-05-15 15:13:43,891 - BERTopic - Reduced number of topics from 4 to 4\n"
     ]
    },
    {
     "data": {
      "application/vnd.jupyter.widget-view+json": {
       "model_id": "7045b874965749adb13eccc672026fcc",
       "version_major": 2,
       "version_minor": 0
      },
      "text/plain": [
       "Batches:   0%|          | 0/3 [00:00<?, ?it/s]"
      ]
     },
     "metadata": {},
     "output_type": "display_data"
    },
    {
     "name": "stderr",
     "output_type": "stream",
     "text": [
      "2024-05-15 15:13:44,363 - BERTopic - Transformed documents to Embeddings\n",
      "2024-05-15 15:13:44,661 - BERTopic - Reduced dimensionality\n",
      "2024-05-15 15:13:44,665 - BERTopic - Clustered reduced embeddings\n",
      "2024-05-15 15:13:44,679 - BERTopic - Reduced number of topics from 4 to 4\n"
     ]
    },
    {
     "name": "stdout",
     "output_type": "stream",
     "text": [
      "Topics: [['saw', 'space', 'room', 'ocean', 'blue'], ['music', 'sounds', 'mind', 'journey', 'took'], ['eyes', 'see', 'lights', 'colours', 'experience']]\n"
     ]
    },
    {
     "name": "stderr",
     "output_type": "stream",
     "text": [
      "100%|██████████| 4/4 [00:25<00:00,  6.29s/it]"
     ]
    },
    {
     "name": "stdout",
     "output_type": "stream",
     "text": [
      "Coherence Score: 0.41056627173480775\n",
      "Grid search completed in 25.18 seconds\n"
     ]
    },
    {
     "name": "stderr",
     "output_type": "stream",
     "text": [
      "\n"
     ]
    },
    {
     "data": {
      "text/html": [
       "<div>\n",
       "<style scoped>\n",
       "    .dataframe tbody tr th:only-of-type {\n",
       "        vertical-align: middle;\n",
       "    }\n",
       "\n",
       "    .dataframe tbody tr th {\n",
       "        vertical-align: top;\n",
       "    }\n",
       "\n",
       "    .dataframe thead th {\n",
       "        text-align: right;\n",
       "    }\n",
       "</style>\n",
       "<table border=\"1\" class=\"dataframe\">\n",
       "  <thead>\n",
       "    <tr style=\"text-align: right;\">\n",
       "      <th></th>\n",
       "      <th>n_components</th>\n",
       "      <th>n_neighbors</th>\n",
       "      <th>min_dist</th>\n",
       "      <th>min_cluster_size</th>\n",
       "      <th>min_samples</th>\n",
       "      <th>coherence_score</th>\n",
       "      <th>model</th>\n",
       "    </tr>\n",
       "  </thead>\n",
       "  <tbody>\n",
       "    <tr>\n",
       "      <th>0</th>\n",
       "      <td>3</td>\n",
       "      <td>3</td>\n",
       "      <td>0.01</td>\n",
       "      <td>5</td>\n",
       "      <td>NaN</td>\n",
       "      <td>0.642713</td>\n",
       "      <td>BERTopic(calculate_probabilities=True, ctfidf_...</td>\n",
       "    </tr>\n",
       "    <tr>\n",
       "      <th>8</th>\n",
       "      <td>3</td>\n",
       "      <td>3</td>\n",
       "      <td>0.01</td>\n",
       "      <td>5</td>\n",
       "      <td>NaN</td>\n",
       "      <td>0.642713</td>\n",
       "      <td>BERTopic(calculate_probabilities=True, ctfidf_...</td>\n",
       "    </tr>\n",
       "    <tr>\n",
       "      <th>16</th>\n",
       "      <td>3</td>\n",
       "      <td>3</td>\n",
       "      <td>0.01</td>\n",
       "      <td>5</td>\n",
       "      <td>NaN</td>\n",
       "      <td>0.642713</td>\n",
       "      <td>BERTopic(calculate_probabilities=True, ctfidf_...</td>\n",
       "    </tr>\n",
       "    <tr>\n",
       "      <th>24</th>\n",
       "      <td>3</td>\n",
       "      <td>3</td>\n",
       "      <td>0.01</td>\n",
       "      <td>5</td>\n",
       "      <td>NaN</td>\n",
       "      <td>0.642713</td>\n",
       "      <td>BERTopic(calculate_probabilities=True, ctfidf_...</td>\n",
       "    </tr>\n",
       "    <tr>\n",
       "      <th>1</th>\n",
       "      <td>3</td>\n",
       "      <td>3</td>\n",
       "      <td>0.01</td>\n",
       "      <td>10</td>\n",
       "      <td>NaN</td>\n",
       "      <td>0.588068</td>\n",
       "      <td>BERTopic(calculate_probabilities=True, ctfidf_...</td>\n",
       "    </tr>\n",
       "    <tr>\n",
       "      <th>17</th>\n",
       "      <td>3</td>\n",
       "      <td>3</td>\n",
       "      <td>0.01</td>\n",
       "      <td>10</td>\n",
       "      <td>NaN</td>\n",
       "      <td>0.588068</td>\n",
       "      <td>BERTopic(calculate_probabilities=True, ctfidf_...</td>\n",
       "    </tr>\n",
       "    <tr>\n",
       "      <th>32</th>\n",
       "      <td>3</td>\n",
       "      <td>3</td>\n",
       "      <td>0.01</td>\n",
       "      <td>10</td>\n",
       "      <td>NaN</td>\n",
       "      <td>0.588068</td>\n",
       "      <td>BERTopic(calculate_probabilities=True, ctfidf_...</td>\n",
       "    </tr>\n",
       "    <tr>\n",
       "      <th>9</th>\n",
       "      <td>3</td>\n",
       "      <td>3</td>\n",
       "      <td>0.01</td>\n",
       "      <td>10</td>\n",
       "      <td>NaN</td>\n",
       "      <td>0.588068</td>\n",
       "      <td>BERTopic(calculate_probabilities=True, ctfidf_...</td>\n",
       "    </tr>\n",
       "    <tr>\n",
       "      <th>25</th>\n",
       "      <td>3</td>\n",
       "      <td>3</td>\n",
       "      <td>0.01</td>\n",
       "      <td>10</td>\n",
       "      <td>NaN</td>\n",
       "      <td>0.588068</td>\n",
       "      <td>BERTopic(calculate_probabilities=True, ctfidf_...</td>\n",
       "    </tr>\n",
       "    <tr>\n",
       "      <th>33</th>\n",
       "      <td>3</td>\n",
       "      <td>3</td>\n",
       "      <td>0.01</td>\n",
       "      <td>5</td>\n",
       "      <td>NaN</td>\n",
       "      <td>0.527053</td>\n",
       "      <td>BERTopic(calculate_probabilities=True, ctfidf_...</td>\n",
       "    </tr>\n",
       "    <tr>\n",
       "      <th>34</th>\n",
       "      <td>3</td>\n",
       "      <td>5</td>\n",
       "      <td>0.01</td>\n",
       "      <td>10</td>\n",
       "      <td>NaN</td>\n",
       "      <td>0.484688</td>\n",
       "      <td>BERTopic(calculate_probabilities=True, ctfidf_...</td>\n",
       "    </tr>\n",
       "    <tr>\n",
       "      <th>35</th>\n",
       "      <td>4</td>\n",
       "      <td>3</td>\n",
       "      <td>0.01</td>\n",
       "      <td>10</td>\n",
       "      <td>NaN</td>\n",
       "      <td>0.483446</td>\n",
       "      <td>BERTopic(calculate_probabilities=True, ctfidf_...</td>\n",
       "    </tr>\n",
       "    <tr>\n",
       "      <th>10</th>\n",
       "      <td>3</td>\n",
       "      <td>5</td>\n",
       "      <td>0.01</td>\n",
       "      <td>5</td>\n",
       "      <td>NaN</td>\n",
       "      <td>0.463522</td>\n",
       "      <td>BERTopic(calculate_probabilities=True, ctfidf_...</td>\n",
       "    </tr>\n",
       "    <tr>\n",
       "      <th>26</th>\n",
       "      <td>3</td>\n",
       "      <td>5</td>\n",
       "      <td>0.01</td>\n",
       "      <td>5</td>\n",
       "      <td>NaN</td>\n",
       "      <td>0.463522</td>\n",
       "      <td>BERTopic(calculate_probabilities=True, ctfidf_...</td>\n",
       "    </tr>\n",
       "    <tr>\n",
       "      <th>18</th>\n",
       "      <td>3</td>\n",
       "      <td>5</td>\n",
       "      <td>0.01</td>\n",
       "      <td>5</td>\n",
       "      <td>NaN</td>\n",
       "      <td>0.463522</td>\n",
       "      <td>BERTopic(calculate_probabilities=True, ctfidf_...</td>\n",
       "    </tr>\n",
       "    <tr>\n",
       "      <th>2</th>\n",
       "      <td>3</td>\n",
       "      <td>5</td>\n",
       "      <td>0.01</td>\n",
       "      <td>5</td>\n",
       "      <td>NaN</td>\n",
       "      <td>0.463522</td>\n",
       "      <td>BERTopic(calculate_probabilities=True, ctfidf_...</td>\n",
       "    </tr>\n",
       "    <tr>\n",
       "      <th>36</th>\n",
       "      <td>4</td>\n",
       "      <td>3</td>\n",
       "      <td>0.01</td>\n",
       "      <td>5</td>\n",
       "      <td>NaN</td>\n",
       "      <td>0.458671</td>\n",
       "      <td>BERTopic(calculate_probabilities=True, ctfidf_...</td>\n",
       "    </tr>\n",
       "    <tr>\n",
       "      <th>27</th>\n",
       "      <td>3</td>\n",
       "      <td>5</td>\n",
       "      <td>0.01</td>\n",
       "      <td>10</td>\n",
       "      <td>NaN</td>\n",
       "      <td>0.444266</td>\n",
       "      <td>BERTopic(calculate_probabilities=True, ctfidf_...</td>\n",
       "    </tr>\n",
       "    <tr>\n",
       "      <th>3</th>\n",
       "      <td>3</td>\n",
       "      <td>5</td>\n",
       "      <td>0.01</td>\n",
       "      <td>10</td>\n",
       "      <td>NaN</td>\n",
       "      <td>0.444266</td>\n",
       "      <td>BERTopic(calculate_probabilities=True, ctfidf_...</td>\n",
       "    </tr>\n",
       "    <tr>\n",
       "      <th>19</th>\n",
       "      <td>3</td>\n",
       "      <td>5</td>\n",
       "      <td>0.01</td>\n",
       "      <td>10</td>\n",
       "      <td>NaN</td>\n",
       "      <td>0.444266</td>\n",
       "      <td>BERTopic(calculate_probabilities=True, ctfidf_...</td>\n",
       "    </tr>\n",
       "    <tr>\n",
       "      <th>11</th>\n",
       "      <td>3</td>\n",
       "      <td>5</td>\n",
       "      <td>0.01</td>\n",
       "      <td>10</td>\n",
       "      <td>NaN</td>\n",
       "      <td>0.444266</td>\n",
       "      <td>BERTopic(calculate_probabilities=True, ctfidf_...</td>\n",
       "    </tr>\n",
       "    <tr>\n",
       "      <th>28</th>\n",
       "      <td>4</td>\n",
       "      <td>3</td>\n",
       "      <td>0.01</td>\n",
       "      <td>10</td>\n",
       "      <td>NaN</td>\n",
       "      <td>0.440921</td>\n",
       "      <td>BERTopic(calculate_probabilities=True, ctfidf_...</td>\n",
       "    </tr>\n",
       "    <tr>\n",
       "      <th>20</th>\n",
       "      <td>4</td>\n",
       "      <td>3</td>\n",
       "      <td>0.01</td>\n",
       "      <td>10</td>\n",
       "      <td>NaN</td>\n",
       "      <td>0.440921</td>\n",
       "      <td>BERTopic(calculate_probabilities=True, ctfidf_...</td>\n",
       "    </tr>\n",
       "    <tr>\n",
       "      <th>4</th>\n",
       "      <td>4</td>\n",
       "      <td>3</td>\n",
       "      <td>0.01</td>\n",
       "      <td>10</td>\n",
       "      <td>NaN</td>\n",
       "      <td>0.440921</td>\n",
       "      <td>BERTopic(calculate_probabilities=True, ctfidf_...</td>\n",
       "    </tr>\n",
       "    <tr>\n",
       "      <th>12</th>\n",
       "      <td>4</td>\n",
       "      <td>3</td>\n",
       "      <td>0.01</td>\n",
       "      <td>10</td>\n",
       "      <td>NaN</td>\n",
       "      <td>0.440921</td>\n",
       "      <td>BERTopic(calculate_probabilities=True, ctfidf_...</td>\n",
       "    </tr>\n",
       "    <tr>\n",
       "      <th>37</th>\n",
       "      <td>4</td>\n",
       "      <td>5</td>\n",
       "      <td>0.01</td>\n",
       "      <td>5</td>\n",
       "      <td>NaN</td>\n",
       "      <td>0.433248</td>\n",
       "      <td>BERTopic(calculate_probabilities=True, ctfidf_...</td>\n",
       "    </tr>\n",
       "    <tr>\n",
       "      <th>21</th>\n",
       "      <td>4</td>\n",
       "      <td>5</td>\n",
       "      <td>0.01</td>\n",
       "      <td>10</td>\n",
       "      <td>NaN</td>\n",
       "      <td>0.410566</td>\n",
       "      <td>BERTopic(calculate_probabilities=True, ctfidf_...</td>\n",
       "    </tr>\n",
       "    <tr>\n",
       "      <th>38</th>\n",
       "      <td>4</td>\n",
       "      <td>5</td>\n",
       "      <td>0.01</td>\n",
       "      <td>10</td>\n",
       "      <td>NaN</td>\n",
       "      <td>0.410566</td>\n",
       "      <td>BERTopic(calculate_probabilities=True, ctfidf_...</td>\n",
       "    </tr>\n",
       "    <tr>\n",
       "      <th>13</th>\n",
       "      <td>4</td>\n",
       "      <td>5</td>\n",
       "      <td>0.01</td>\n",
       "      <td>10</td>\n",
       "      <td>NaN</td>\n",
       "      <td>0.410566</td>\n",
       "      <td>BERTopic(calculate_probabilities=True, ctfidf_...</td>\n",
       "    </tr>\n",
       "    <tr>\n",
       "      <th>29</th>\n",
       "      <td>4</td>\n",
       "      <td>5</td>\n",
       "      <td>0.01</td>\n",
       "      <td>10</td>\n",
       "      <td>NaN</td>\n",
       "      <td>0.410566</td>\n",
       "      <td>BERTopic(calculate_probabilities=True, ctfidf_...</td>\n",
       "    </tr>\n",
       "    <tr>\n",
       "      <th>5</th>\n",
       "      <td>4</td>\n",
       "      <td>5</td>\n",
       "      <td>0.01</td>\n",
       "      <td>10</td>\n",
       "      <td>NaN</td>\n",
       "      <td>0.410566</td>\n",
       "      <td>BERTopic(calculate_probabilities=True, ctfidf_...</td>\n",
       "    </tr>\n",
       "    <tr>\n",
       "      <th>39</th>\n",
       "      <td>3</td>\n",
       "      <td>5</td>\n",
       "      <td>0.01</td>\n",
       "      <td>5</td>\n",
       "      <td>NaN</td>\n",
       "      <td>0.388962</td>\n",
       "      <td>BERTopic(calculate_probabilities=True, ctfidf_...</td>\n",
       "    </tr>\n",
       "    <tr>\n",
       "      <th>14</th>\n",
       "      <td>4</td>\n",
       "      <td>5</td>\n",
       "      <td>0.01</td>\n",
       "      <td>5</td>\n",
       "      <td>NaN</td>\n",
       "      <td>0.370865</td>\n",
       "      <td>BERTopic(calculate_probabilities=True, ctfidf_...</td>\n",
       "    </tr>\n",
       "    <tr>\n",
       "      <th>30</th>\n",
       "      <td>4</td>\n",
       "      <td>5</td>\n",
       "      <td>0.01</td>\n",
       "      <td>5</td>\n",
       "      <td>NaN</td>\n",
       "      <td>0.370865</td>\n",
       "      <td>BERTopic(calculate_probabilities=True, ctfidf_...</td>\n",
       "    </tr>\n",
       "    <tr>\n",
       "      <th>22</th>\n",
       "      <td>4</td>\n",
       "      <td>5</td>\n",
       "      <td>0.01</td>\n",
       "      <td>5</td>\n",
       "      <td>NaN</td>\n",
       "      <td>0.370865</td>\n",
       "      <td>BERTopic(calculate_probabilities=True, ctfidf_...</td>\n",
       "    </tr>\n",
       "    <tr>\n",
       "      <th>6</th>\n",
       "      <td>4</td>\n",
       "      <td>5</td>\n",
       "      <td>0.01</td>\n",
       "      <td>5</td>\n",
       "      <td>NaN</td>\n",
       "      <td>0.370865</td>\n",
       "      <td>BERTopic(calculate_probabilities=True, ctfidf_...</td>\n",
       "    </tr>\n",
       "    <tr>\n",
       "      <th>23</th>\n",
       "      <td>4</td>\n",
       "      <td>3</td>\n",
       "      <td>0.01</td>\n",
       "      <td>5</td>\n",
       "      <td>NaN</td>\n",
       "      <td>0.366791</td>\n",
       "      <td>BERTopic(calculate_probabilities=True, ctfidf_...</td>\n",
       "    </tr>\n",
       "    <tr>\n",
       "      <th>7</th>\n",
       "      <td>4</td>\n",
       "      <td>3</td>\n",
       "      <td>0.01</td>\n",
       "      <td>5</td>\n",
       "      <td>NaN</td>\n",
       "      <td>0.366791</td>\n",
       "      <td>BERTopic(calculate_probabilities=True, ctfidf_...</td>\n",
       "    </tr>\n",
       "    <tr>\n",
       "      <th>15</th>\n",
       "      <td>4</td>\n",
       "      <td>3</td>\n",
       "      <td>0.01</td>\n",
       "      <td>5</td>\n",
       "      <td>NaN</td>\n",
       "      <td>0.366791</td>\n",
       "      <td>BERTopic(calculate_probabilities=True, ctfidf_...</td>\n",
       "    </tr>\n",
       "    <tr>\n",
       "      <th>31</th>\n",
       "      <td>4</td>\n",
       "      <td>3</td>\n",
       "      <td>0.01</td>\n",
       "      <td>5</td>\n",
       "      <td>NaN</td>\n",
       "      <td>0.366791</td>\n",
       "      <td>BERTopic(calculate_probabilities=True, ctfidf_...</td>\n",
       "    </tr>\n",
       "  </tbody>\n",
       "</table>\n",
       "</div>"
      ],
      "text/plain": [
       "    n_components  n_neighbors  min_dist  min_cluster_size  min_samples  \\\n",
       "0              3            3      0.01                 5          NaN   \n",
       "8              3            3      0.01                 5          NaN   \n",
       "16             3            3      0.01                 5          NaN   \n",
       "24             3            3      0.01                 5          NaN   \n",
       "1              3            3      0.01                10          NaN   \n",
       "17             3            3      0.01                10          NaN   \n",
       "32             3            3      0.01                10          NaN   \n",
       "9              3            3      0.01                10          NaN   \n",
       "25             3            3      0.01                10          NaN   \n",
       "33             3            3      0.01                 5          NaN   \n",
       "34             3            5      0.01                10          NaN   \n",
       "35             4            3      0.01                10          NaN   \n",
       "10             3            5      0.01                 5          NaN   \n",
       "26             3            5      0.01                 5          NaN   \n",
       "18             3            5      0.01                 5          NaN   \n",
       "2              3            5      0.01                 5          NaN   \n",
       "36             4            3      0.01                 5          NaN   \n",
       "27             3            5      0.01                10          NaN   \n",
       "3              3            5      0.01                10          NaN   \n",
       "19             3            5      0.01                10          NaN   \n",
       "11             3            5      0.01                10          NaN   \n",
       "28             4            3      0.01                10          NaN   \n",
       "20             4            3      0.01                10          NaN   \n",
       "4              4            3      0.01                10          NaN   \n",
       "12             4            3      0.01                10          NaN   \n",
       "37             4            5      0.01                 5          NaN   \n",
       "21             4            5      0.01                10          NaN   \n",
       "38             4            5      0.01                10          NaN   \n",
       "13             4            5      0.01                10          NaN   \n",
       "29             4            5      0.01                10          NaN   \n",
       "5              4            5      0.01                10          NaN   \n",
       "39             3            5      0.01                 5          NaN   \n",
       "14             4            5      0.01                 5          NaN   \n",
       "30             4            5      0.01                 5          NaN   \n",
       "22             4            5      0.01                 5          NaN   \n",
       "6              4            5      0.01                 5          NaN   \n",
       "23             4            3      0.01                 5          NaN   \n",
       "7              4            3      0.01                 5          NaN   \n",
       "15             4            3      0.01                 5          NaN   \n",
       "31             4            3      0.01                 5          NaN   \n",
       "\n",
       "    coherence_score                                              model  \n",
       "0          0.642713  BERTopic(calculate_probabilities=True, ctfidf_...  \n",
       "8          0.642713  BERTopic(calculate_probabilities=True, ctfidf_...  \n",
       "16         0.642713  BERTopic(calculate_probabilities=True, ctfidf_...  \n",
       "24         0.642713  BERTopic(calculate_probabilities=True, ctfidf_...  \n",
       "1          0.588068  BERTopic(calculate_probabilities=True, ctfidf_...  \n",
       "17         0.588068  BERTopic(calculate_probabilities=True, ctfidf_...  \n",
       "32         0.588068  BERTopic(calculate_probabilities=True, ctfidf_...  \n",
       "9          0.588068  BERTopic(calculate_probabilities=True, ctfidf_...  \n",
       "25         0.588068  BERTopic(calculate_probabilities=True, ctfidf_...  \n",
       "33         0.527053  BERTopic(calculate_probabilities=True, ctfidf_...  \n",
       "34         0.484688  BERTopic(calculate_probabilities=True, ctfidf_...  \n",
       "35         0.483446  BERTopic(calculate_probabilities=True, ctfidf_...  \n",
       "10         0.463522  BERTopic(calculate_probabilities=True, ctfidf_...  \n",
       "26         0.463522  BERTopic(calculate_probabilities=True, ctfidf_...  \n",
       "18         0.463522  BERTopic(calculate_probabilities=True, ctfidf_...  \n",
       "2          0.463522  BERTopic(calculate_probabilities=True, ctfidf_...  \n",
       "36         0.458671  BERTopic(calculate_probabilities=True, ctfidf_...  \n",
       "27         0.444266  BERTopic(calculate_probabilities=True, ctfidf_...  \n",
       "3          0.444266  BERTopic(calculate_probabilities=True, ctfidf_...  \n",
       "19         0.444266  BERTopic(calculate_probabilities=True, ctfidf_...  \n",
       "11         0.444266  BERTopic(calculate_probabilities=True, ctfidf_...  \n",
       "28         0.440921  BERTopic(calculate_probabilities=True, ctfidf_...  \n",
       "20         0.440921  BERTopic(calculate_probabilities=True, ctfidf_...  \n",
       "4          0.440921  BERTopic(calculate_probabilities=True, ctfidf_...  \n",
       "12         0.440921  BERTopic(calculate_probabilities=True, ctfidf_...  \n",
       "37         0.433248  BERTopic(calculate_probabilities=True, ctfidf_...  \n",
       "21         0.410566  BERTopic(calculate_probabilities=True, ctfidf_...  \n",
       "38         0.410566  BERTopic(calculate_probabilities=True, ctfidf_...  \n",
       "13         0.410566  BERTopic(calculate_probabilities=True, ctfidf_...  \n",
       "29         0.410566  BERTopic(calculate_probabilities=True, ctfidf_...  \n",
       "5          0.410566  BERTopic(calculate_probabilities=True, ctfidf_...  \n",
       "39         0.388962  BERTopic(calculate_probabilities=True, ctfidf_...  \n",
       "14         0.370865  BERTopic(calculate_probabilities=True, ctfidf_...  \n",
       "30         0.370865  BERTopic(calculate_probabilities=True, ctfidf_...  \n",
       "22         0.370865  BERTopic(calculate_probabilities=True, ctfidf_...  \n",
       "6          0.370865  BERTopic(calculate_probabilities=True, ctfidf_...  \n",
       "23         0.366791  BERTopic(calculate_probabilities=True, ctfidf_...  \n",
       "7          0.366791  BERTopic(calculate_probabilities=True, ctfidf_...  \n",
       "15         0.366791  BERTopic(calculate_probabilities=True, ctfidf_...  \n",
       "31         0.366791  BERTopic(calculate_probabilities=True, ctfidf_...  "
      ]
     },
     "execution_count": 7,
     "metadata": {},
     "output_type": "execute_result"
    }
   ],
   "source": [
    "vectorizer_model = CountVectorizer(ngram_range=(1,1), stop_words=list(stopwords.words('english')) + list(custom_stopwords)) #ngram_range=(1,2) : unigrams and bigrams\n",
    "embedding_model = SentenceTransformer('all-MiniLM-L6-v2')\n",
    "\n",
    "\n",
    "results_df = run_grid_search(reports_filtered, vectorizer_model, embedding_model, HighSensory, Handwritten,store_results=True)\n",
    "results_df\n"
   ]
  },
  {
   "cell_type": "code",
   "execution_count": 8,
   "metadata": {},
   "outputs": [
    {
     "name": "stdout",
     "output_type": "stream",
     "text": [
      "n_components                                                        3\n",
      "n_neighbors                                                         3\n",
      "min_dist                                                         0.01\n",
      "min_cluster_size                                                    5\n",
      "min_samples                                                       NaN\n",
      "coherence_score                                              0.642713\n",
      "model               BERTopic(calculate_probabilities=True, ctfidf_...\n",
      "Name: 0, dtype: object\n",
      "Received parameters: n_neighbors=3, n_components=3, min_dist=0.01, min_cluster_size=5, min_samples=None\n"
     ]
    },
    {
     "data": {
      "application/vnd.jupyter.widget-view+json": {
       "model_id": "15e5cfb2a3944c1eb0e284a0a206f9df",
       "version_major": 2,
       "version_minor": 0
      },
      "text/plain": [
       "Batches:   0%|          | 0/3 [00:00<?, ?it/s]"
      ]
     },
     "metadata": {},
     "output_type": "display_data"
    },
    {
     "name": "stderr",
     "output_type": "stream",
     "text": [
      "2024-05-15 15:13:46,682 - BERTopic - Transformed documents to Embeddings\n",
      "2024-05-15 15:13:46,965 - BERTopic - Reduced dimensionality\n",
      "2024-05-15 15:13:46,968 - BERTopic - Clustered reduced embeddings\n",
      "2024-05-15 15:13:46,983 - BERTopic - Reduced number of topics from 6 to 4\n"
     ]
    },
    {
     "data": {
      "application/vnd.jupyter.widget-view+json": {
       "model_id": "f59f9dbb6f1b434782985746a1512fac",
       "version_major": 2,
       "version_minor": 0
      },
      "text/plain": [
       "Batches:   0%|          | 0/3 [00:00<?, ?it/s]"
      ]
     },
     "metadata": {},
     "output_type": "display_data"
    },
    {
     "name": "stderr",
     "output_type": "stream",
     "text": [
      "2024-05-15 15:13:47,459 - BERTopic - Transformed documents to Embeddings\n",
      "2024-05-15 15:13:47,767 - BERTopic - Reduced dimensionality\n",
      "2024-05-15 15:13:47,771 - BERTopic - Clustered reduced embeddings\n",
      "2024-05-15 15:13:47,790 - BERTopic - Reduced number of topics from 6 to 4\n"
     ]
    },
    {
     "name": "stdout",
     "output_type": "stream",
     "text": [
      "Topics: [['music', 'space', 'first', 'sound', 'ocean'], ['eyes', 'experience', 'different', 'see', 'lights'], ['past', 'thoughts', 'trying', 'deep', 'mind']]\n",
      "Coherence Score: 0.527052959630124\n"
     ]
    }
   ],
   "source": [
    "#print the best model\n",
    "best_params = results_df.iloc[0]\n",
    "print(best_params)\n",
    "\n",
    "best_params_model, topics, coherence_score = main(reports_filtered, vectorizer_model, embedding_model, best_params['n_neighbors'], best_params['n_components'], best_params['min_dist'],best_params['min_cluster_size'])\n"
   ]
  },
  {
   "cell_type": "code",
   "execution_count": 9,
   "metadata": {},
   "outputs": [
    {
     "data": {
      "application/vnd.plotly.v1+json": {
       "config": {
        "plotlyServerURL": "https://plot.ly"
       },
       "data": [
        {
         "marker": {
          "color": "#D55E00"
         },
         "orientation": "h",
         "type": "bar",
         "x": [
          0.02006632845595488,
          0.020995874268313702,
          0.020995874268313702,
          0.029398253103434576,
          0.0474229313126831
         ],
         "xaxis": "x",
         "y": [
          "ocean  ",
          "sound  ",
          "first  ",
          "space  ",
          "music  "
         ],
         "yaxis": "y"
        },
        {
         "marker": {
          "color": "#0072B2"
         },
         "orientation": "h",
         "type": "bar",
         "x": [
          0.030450972959434712,
          0.030450972959434712,
          0.03298715966702379,
          0.04078840430583898,
          0.04174277545519655
         ],
         "xaxis": "x2",
         "y": [
          "lights  ",
          "see  ",
          "different  ",
          "experience  ",
          "eyes  "
         ],
         "yaxis": "y2"
        },
        {
         "marker": {
          "color": "#CC79A7"
         },
         "orientation": "h",
         "type": "bar",
         "x": [
          0.05560194355033251,
          0.06489777494974547,
          0.06790407752614126,
          0.0832607718400823,
          0.0832607718400823
         ],
         "xaxis": "x3",
         "y": [
          "mind  ",
          "deep  ",
          "trying  ",
          "thoughts  ",
          "past  "
         ],
         "yaxis": "y3"
        }
       ],
       "layout": {
        "annotations": [
         {
          "font": {
           "size": 16
          },
          "showarrow": false,
          "text": "Topic 0",
          "x": 0.0875,
          "xanchor": "center",
          "xref": "paper",
          "y": 1,
          "yanchor": "bottom",
          "yref": "paper"
         },
         {
          "font": {
           "size": 16
          },
          "showarrow": false,
          "text": "Topic 1",
          "x": 0.36250000000000004,
          "xanchor": "center",
          "xref": "paper",
          "y": 1,
          "yanchor": "bottom",
          "yref": "paper"
         },
         {
          "font": {
           "size": 16
          },
          "showarrow": false,
          "text": "Topic 2",
          "x": 0.6375000000000001,
          "xanchor": "center",
          "xref": "paper",
          "y": 1,
          "yanchor": "bottom",
          "yref": "paper"
         }
        ],
        "height": 325,
        "hoverlabel": {
         "bgcolor": "white",
         "font": {
          "family": "Rockwell",
          "size": 16
         }
        },
        "showlegend": false,
        "template": {
         "data": {
          "bar": [
           {
            "error_x": {
             "color": "#2a3f5f"
            },
            "error_y": {
             "color": "#2a3f5f"
            },
            "marker": {
             "line": {
              "color": "white",
              "width": 0.5
             },
             "pattern": {
              "fillmode": "overlay",
              "size": 10,
              "solidity": 0.2
             }
            },
            "type": "bar"
           }
          ],
          "barpolar": [
           {
            "marker": {
             "line": {
              "color": "white",
              "width": 0.5
             },
             "pattern": {
              "fillmode": "overlay",
              "size": 10,
              "solidity": 0.2
             }
            },
            "type": "barpolar"
           }
          ],
          "carpet": [
           {
            "aaxis": {
             "endlinecolor": "#2a3f5f",
             "gridcolor": "#C8D4E3",
             "linecolor": "#C8D4E3",
             "minorgridcolor": "#C8D4E3",
             "startlinecolor": "#2a3f5f"
            },
            "baxis": {
             "endlinecolor": "#2a3f5f",
             "gridcolor": "#C8D4E3",
             "linecolor": "#C8D4E3",
             "minorgridcolor": "#C8D4E3",
             "startlinecolor": "#2a3f5f"
            },
            "type": "carpet"
           }
          ],
          "choropleth": [
           {
            "colorbar": {
             "outlinewidth": 0,
             "ticks": ""
            },
            "type": "choropleth"
           }
          ],
          "contour": [
           {
            "colorbar": {
             "outlinewidth": 0,
             "ticks": ""
            },
            "colorscale": [
             [
              0,
              "#0d0887"
             ],
             [
              0.1111111111111111,
              "#46039f"
             ],
             [
              0.2222222222222222,
              "#7201a8"
             ],
             [
              0.3333333333333333,
              "#9c179e"
             ],
             [
              0.4444444444444444,
              "#bd3786"
             ],
             [
              0.5555555555555556,
              "#d8576b"
             ],
             [
              0.6666666666666666,
              "#ed7953"
             ],
             [
              0.7777777777777778,
              "#fb9f3a"
             ],
             [
              0.8888888888888888,
              "#fdca26"
             ],
             [
              1,
              "#f0f921"
             ]
            ],
            "type": "contour"
           }
          ],
          "contourcarpet": [
           {
            "colorbar": {
             "outlinewidth": 0,
             "ticks": ""
            },
            "type": "contourcarpet"
           }
          ],
          "heatmap": [
           {
            "colorbar": {
             "outlinewidth": 0,
             "ticks": ""
            },
            "colorscale": [
             [
              0,
              "#0d0887"
             ],
             [
              0.1111111111111111,
              "#46039f"
             ],
             [
              0.2222222222222222,
              "#7201a8"
             ],
             [
              0.3333333333333333,
              "#9c179e"
             ],
             [
              0.4444444444444444,
              "#bd3786"
             ],
             [
              0.5555555555555556,
              "#d8576b"
             ],
             [
              0.6666666666666666,
              "#ed7953"
             ],
             [
              0.7777777777777778,
              "#fb9f3a"
             ],
             [
              0.8888888888888888,
              "#fdca26"
             ],
             [
              1,
              "#f0f921"
             ]
            ],
            "type": "heatmap"
           }
          ],
          "heatmapgl": [
           {
            "colorbar": {
             "outlinewidth": 0,
             "ticks": ""
            },
            "colorscale": [
             [
              0,
              "#0d0887"
             ],
             [
              0.1111111111111111,
              "#46039f"
             ],
             [
              0.2222222222222222,
              "#7201a8"
             ],
             [
              0.3333333333333333,
              "#9c179e"
             ],
             [
              0.4444444444444444,
              "#bd3786"
             ],
             [
              0.5555555555555556,
              "#d8576b"
             ],
             [
              0.6666666666666666,
              "#ed7953"
             ],
             [
              0.7777777777777778,
              "#fb9f3a"
             ],
             [
              0.8888888888888888,
              "#fdca26"
             ],
             [
              1,
              "#f0f921"
             ]
            ],
            "type": "heatmapgl"
           }
          ],
          "histogram": [
           {
            "marker": {
             "pattern": {
              "fillmode": "overlay",
              "size": 10,
              "solidity": 0.2
             }
            },
            "type": "histogram"
           }
          ],
          "histogram2d": [
           {
            "colorbar": {
             "outlinewidth": 0,
             "ticks": ""
            },
            "colorscale": [
             [
              0,
              "#0d0887"
             ],
             [
              0.1111111111111111,
              "#46039f"
             ],
             [
              0.2222222222222222,
              "#7201a8"
             ],
             [
              0.3333333333333333,
              "#9c179e"
             ],
             [
              0.4444444444444444,
              "#bd3786"
             ],
             [
              0.5555555555555556,
              "#d8576b"
             ],
             [
              0.6666666666666666,
              "#ed7953"
             ],
             [
              0.7777777777777778,
              "#fb9f3a"
             ],
             [
              0.8888888888888888,
              "#fdca26"
             ],
             [
              1,
              "#f0f921"
             ]
            ],
            "type": "histogram2d"
           }
          ],
          "histogram2dcontour": [
           {
            "colorbar": {
             "outlinewidth": 0,
             "ticks": ""
            },
            "colorscale": [
             [
              0,
              "#0d0887"
             ],
             [
              0.1111111111111111,
              "#46039f"
             ],
             [
              0.2222222222222222,
              "#7201a8"
             ],
             [
              0.3333333333333333,
              "#9c179e"
             ],
             [
              0.4444444444444444,
              "#bd3786"
             ],
             [
              0.5555555555555556,
              "#d8576b"
             ],
             [
              0.6666666666666666,
              "#ed7953"
             ],
             [
              0.7777777777777778,
              "#fb9f3a"
             ],
             [
              0.8888888888888888,
              "#fdca26"
             ],
             [
              1,
              "#f0f921"
             ]
            ],
            "type": "histogram2dcontour"
           }
          ],
          "mesh3d": [
           {
            "colorbar": {
             "outlinewidth": 0,
             "ticks": ""
            },
            "type": "mesh3d"
           }
          ],
          "parcoords": [
           {
            "line": {
             "colorbar": {
              "outlinewidth": 0,
              "ticks": ""
             }
            },
            "type": "parcoords"
           }
          ],
          "pie": [
           {
            "automargin": true,
            "type": "pie"
           }
          ],
          "scatter": [
           {
            "fillpattern": {
             "fillmode": "overlay",
             "size": 10,
             "solidity": 0.2
            },
            "type": "scatter"
           }
          ],
          "scatter3d": [
           {
            "line": {
             "colorbar": {
              "outlinewidth": 0,
              "ticks": ""
             }
            },
            "marker": {
             "colorbar": {
              "outlinewidth": 0,
              "ticks": ""
             }
            },
            "type": "scatter3d"
           }
          ],
          "scattercarpet": [
           {
            "marker": {
             "colorbar": {
              "outlinewidth": 0,
              "ticks": ""
             }
            },
            "type": "scattercarpet"
           }
          ],
          "scattergeo": [
           {
            "marker": {
             "colorbar": {
              "outlinewidth": 0,
              "ticks": ""
             }
            },
            "type": "scattergeo"
           }
          ],
          "scattergl": [
           {
            "marker": {
             "colorbar": {
              "outlinewidth": 0,
              "ticks": ""
             }
            },
            "type": "scattergl"
           }
          ],
          "scattermapbox": [
           {
            "marker": {
             "colorbar": {
              "outlinewidth": 0,
              "ticks": ""
             }
            },
            "type": "scattermapbox"
           }
          ],
          "scatterpolar": [
           {
            "marker": {
             "colorbar": {
              "outlinewidth": 0,
              "ticks": ""
             }
            },
            "type": "scatterpolar"
           }
          ],
          "scatterpolargl": [
           {
            "marker": {
             "colorbar": {
              "outlinewidth": 0,
              "ticks": ""
             }
            },
            "type": "scatterpolargl"
           }
          ],
          "scatterternary": [
           {
            "marker": {
             "colorbar": {
              "outlinewidth": 0,
              "ticks": ""
             }
            },
            "type": "scatterternary"
           }
          ],
          "surface": [
           {
            "colorbar": {
             "outlinewidth": 0,
             "ticks": ""
            },
            "colorscale": [
             [
              0,
              "#0d0887"
             ],
             [
              0.1111111111111111,
              "#46039f"
             ],
             [
              0.2222222222222222,
              "#7201a8"
             ],
             [
              0.3333333333333333,
              "#9c179e"
             ],
             [
              0.4444444444444444,
              "#bd3786"
             ],
             [
              0.5555555555555556,
              "#d8576b"
             ],
             [
              0.6666666666666666,
              "#ed7953"
             ],
             [
              0.7777777777777778,
              "#fb9f3a"
             ],
             [
              0.8888888888888888,
              "#fdca26"
             ],
             [
              1,
              "#f0f921"
             ]
            ],
            "type": "surface"
           }
          ],
          "table": [
           {
            "cells": {
             "fill": {
              "color": "#EBF0F8"
             },
             "line": {
              "color": "white"
             }
            },
            "header": {
             "fill": {
              "color": "#C8D4E3"
             },
             "line": {
              "color": "white"
             }
            },
            "type": "table"
           }
          ]
         },
         "layout": {
          "annotationdefaults": {
           "arrowcolor": "#2a3f5f",
           "arrowhead": 0,
           "arrowwidth": 1
          },
          "autotypenumbers": "strict",
          "coloraxis": {
           "colorbar": {
            "outlinewidth": 0,
            "ticks": ""
           }
          },
          "colorscale": {
           "diverging": [
            [
             0,
             "#8e0152"
            ],
            [
             0.1,
             "#c51b7d"
            ],
            [
             0.2,
             "#de77ae"
            ],
            [
             0.3,
             "#f1b6da"
            ],
            [
             0.4,
             "#fde0ef"
            ],
            [
             0.5,
             "#f7f7f7"
            ],
            [
             0.6,
             "#e6f5d0"
            ],
            [
             0.7,
             "#b8e186"
            ],
            [
             0.8,
             "#7fbc41"
            ],
            [
             0.9,
             "#4d9221"
            ],
            [
             1,
             "#276419"
            ]
           ],
           "sequential": [
            [
             0,
             "#0d0887"
            ],
            [
             0.1111111111111111,
             "#46039f"
            ],
            [
             0.2222222222222222,
             "#7201a8"
            ],
            [
             0.3333333333333333,
             "#9c179e"
            ],
            [
             0.4444444444444444,
             "#bd3786"
            ],
            [
             0.5555555555555556,
             "#d8576b"
            ],
            [
             0.6666666666666666,
             "#ed7953"
            ],
            [
             0.7777777777777778,
             "#fb9f3a"
            ],
            [
             0.8888888888888888,
             "#fdca26"
            ],
            [
             1,
             "#f0f921"
            ]
           ],
           "sequentialminus": [
            [
             0,
             "#0d0887"
            ],
            [
             0.1111111111111111,
             "#46039f"
            ],
            [
             0.2222222222222222,
             "#7201a8"
            ],
            [
             0.3333333333333333,
             "#9c179e"
            ],
            [
             0.4444444444444444,
             "#bd3786"
            ],
            [
             0.5555555555555556,
             "#d8576b"
            ],
            [
             0.6666666666666666,
             "#ed7953"
            ],
            [
             0.7777777777777778,
             "#fb9f3a"
            ],
            [
             0.8888888888888888,
             "#fdca26"
            ],
            [
             1,
             "#f0f921"
            ]
           ]
          },
          "colorway": [
           "#636efa",
           "#EF553B",
           "#00cc96",
           "#ab63fa",
           "#FFA15A",
           "#19d3f3",
           "#FF6692",
           "#B6E880",
           "#FF97FF",
           "#FECB52"
          ],
          "font": {
           "color": "#2a3f5f"
          },
          "geo": {
           "bgcolor": "white",
           "lakecolor": "white",
           "landcolor": "white",
           "showlakes": true,
           "showland": true,
           "subunitcolor": "#C8D4E3"
          },
          "hoverlabel": {
           "align": "left"
          },
          "hovermode": "closest",
          "mapbox": {
           "style": "light"
          },
          "paper_bgcolor": "white",
          "plot_bgcolor": "white",
          "polar": {
           "angularaxis": {
            "gridcolor": "#EBF0F8",
            "linecolor": "#EBF0F8",
            "ticks": ""
           },
           "bgcolor": "white",
           "radialaxis": {
            "gridcolor": "#EBF0F8",
            "linecolor": "#EBF0F8",
            "ticks": ""
           }
          },
          "scene": {
           "xaxis": {
            "backgroundcolor": "white",
            "gridcolor": "#DFE8F3",
            "gridwidth": 2,
            "linecolor": "#EBF0F8",
            "showbackground": true,
            "ticks": "",
            "zerolinecolor": "#EBF0F8"
           },
           "yaxis": {
            "backgroundcolor": "white",
            "gridcolor": "#DFE8F3",
            "gridwidth": 2,
            "linecolor": "#EBF0F8",
            "showbackground": true,
            "ticks": "",
            "zerolinecolor": "#EBF0F8"
           },
           "zaxis": {
            "backgroundcolor": "white",
            "gridcolor": "#DFE8F3",
            "gridwidth": 2,
            "linecolor": "#EBF0F8",
            "showbackground": true,
            "ticks": "",
            "zerolinecolor": "#EBF0F8"
           }
          },
          "shapedefaults": {
           "line": {
            "color": "#2a3f5f"
           }
          },
          "ternary": {
           "aaxis": {
            "gridcolor": "#DFE8F3",
            "linecolor": "#A2B1C6",
            "ticks": ""
           },
           "baxis": {
            "gridcolor": "#DFE8F3",
            "linecolor": "#A2B1C6",
            "ticks": ""
           },
           "bgcolor": "white",
           "caxis": {
            "gridcolor": "#DFE8F3",
            "linecolor": "#A2B1C6",
            "ticks": ""
           }
          },
          "title": {
           "x": 0.05
          },
          "xaxis": {
           "automargin": true,
           "gridcolor": "#EBF0F8",
           "linecolor": "#EBF0F8",
           "ticks": "",
           "title": {
            "standoff": 15
           },
           "zerolinecolor": "#EBF0F8",
           "zerolinewidth": 2
          },
          "yaxis": {
           "automargin": true,
           "gridcolor": "#EBF0F8",
           "linecolor": "#EBF0F8",
           "ticks": "",
           "title": {
            "standoff": 15
           },
           "zerolinecolor": "#EBF0F8",
           "zerolinewidth": 2
          }
         }
        },
        "title": {
         "font": {
          "color": "Black",
          "size": 22
         },
         "text": "Topic Word Scores",
         "x": 0.5,
         "xanchor": "center",
         "yanchor": "top"
        },
        "width": 1000,
        "xaxis": {
         "anchor": "y",
         "domain": [
          0,
          0.175
         ],
         "showgrid": true
        },
        "xaxis2": {
         "anchor": "y2",
         "domain": [
          0.275,
          0.45
         ],
         "showgrid": true
        },
        "xaxis3": {
         "anchor": "y3",
         "domain": [
          0.55,
          0.7250000000000001
         ],
         "showgrid": true
        },
        "xaxis4": {
         "anchor": "y4",
         "domain": [
          0.825,
          1
         ],
         "showgrid": true
        },
        "yaxis": {
         "anchor": "x",
         "domain": [
          0,
          1
         ],
         "showgrid": true
        },
        "yaxis2": {
         "anchor": "x2",
         "domain": [
          0,
          1
         ],
         "showgrid": true
        },
        "yaxis3": {
         "anchor": "x3",
         "domain": [
          0,
          1
         ],
         "showgrid": true
        },
        "yaxis4": {
         "anchor": "x4",
         "domain": [
          0,
          1
         ],
         "showgrid": true
        }
       }
      }
     },
     "metadata": {},
     "output_type": "display_data"
    }
   ],
   "source": [
    "best_params_model.visualize_barchart()"
   ]
  },
  {
   "cell_type": "code",
   "execution_count": 10,
   "metadata": {},
   "outputs": [
    {
     "data": {
      "application/vnd.plotly.v1+json": {
       "config": {
        "plotlyServerURL": "https://plot.ly"
       },
       "data": [
        {
         "hoverinfo": "text",
         "hovertext": [
          "i was everywhere i saw my partners nose her eyes her glasses everything like a molecule of air given eyes i saw everything the universe the multiverse all of time and emerged in someones sleeve everything packed into a tiny insignificant thing",
          "i had a vision of string theory that everything in the physical world is connected by invisible string particles and concatetions",
          "like i am part of something bigger",
          "i didnot exoperience visuals znd colours i enjoyed the colours on ceiling i arrived stressed so it took zwhile to relax i made up stories in my head in a narrative way imagining being on a spa eship with aliens communicating via sounds and colours and this was nice escapism from stress",
          "nothingness complete",
          "i was in a land not anywhere on earth it was another plannet with animals but they were not the usual colours a yellow elephant a blue gorilla we then started gently running towards the sea i turned into a mermaid and watched them on the land as i swam away with turtles fishes it was a beautiful experience of love peace harmony togetherness and freedom we felt so much love",
          "an unique experience that teach us how simple could be to recconnect with our primitive way to feel emotions trough sounds and colours",
          "an experienc like time travelling or as i imagine it",
          "i want one of these at home",
          "it felt like a journey through the cosmos travelling at the speed of light as galaxies wizz past",
          "i saw some different landscapes",
          "i mostly saw grey geometric shapes",
          "i saw a lot of imagery and colours especially images of water ripples of water snowscapes drops of water falling also abstract forms and pink and red colours",
          "my thoughts were about connecting with others",
          "my mind is a jellyfish suspended in space",
          "i wish i was here with george and that he created this experience for me",
          "i saw concave and convex and thehot orange os cillating of being insice avolcano",
          "very little occasiol passing thoights of nothing much",
          "thus should be available for everyone all the time",
          "detachment as though my body was in one box mind in another and my anxjety came from thst lack of control",
          "some visuals of trees heatsun likeexperience",
          null
         ],
         "marker": {
          "color": "#CFD8DC",
          "opacity": 0.5,
          "size": 5
         },
         "mode": "markers+text",
         "name": "other",
         "showlegend": false,
         "type": "scattergl",
         "x": [
          5.28529691696167,
          5.475144386291504,
          6.529540538787842,
          6.692601680755615,
          6.450047969818115,
          4.952243328094482,
          7.457143783569336,
          6.0196757316589355,
          5.0951409339904785,
          5.908837795257568,
          4.795161247253418,
          4.886549472808838,
          4.943402290344238,
          6.248680114746094,
          4.392592430114746,
          6.326207637786865,
          4.939259052276611,
          6.601468563079834,
          6.133135795593262,
          5.314419269561768,
          4.902478218078613,
          5.683287620544434
         ],
         "y": [
          4.658254623413086,
          4.600000858306885,
          6.023375988006592,
          5.346002578735352,
          4.534740447998047,
          4.839622497558594,
          6.163561820983887,
          6.085841655731201,
          4.23415994644165,
          6.1289753913879395,
          3.306950569152832,
          3.2265214920043945,
          3.1526272296905518,
          5.089471817016602,
          5.391286849975586,
          5.262551307678223,
          3.4431416988372803,
          4.284675121307373,
          4.956659317016602,
          6.396760940551758,
          3.533360719680786,
          4.793263912200928
         ]
        },
        {
         "hoverinfo": "text",
         "hovertext": [
          "anxiety loneliness my inner chikd screaming for love screeching i felt intensely anxious and a bit suffocated but also knowing that ive got this i embraced my inner child allowed it to sulk scream and cry coming out with a mix of intense feelings but knowing that i could handle them the music took me on a whole journey i was completrly surrounded music wasnt just in the space it was the space thick hot air saturated with the soundwaves which i was inhaling first drowning in that sound then learning how to swim and enjoy it and heal",
          "helped me with my meditation journey",
          "i felt like being at water first then in the womb then the birth and the light of this world also at some point being in a bees panel",
          "my visual expirence would change a lot with the music i became more and more relaxed as the music progressed further with its journey",
          "i went on a train underwater saw seas of colour and pulsing shapes at one point i think i was milking a cow in a field with someone playing the piano felt like i had a p without pping",
          "emptiness in my mind i was consumed by the power of the music it filled my mind",
          "windows into my busy life flashes of my past seeing my lovely mum my partner dad my sister niece and nephew my friends punctuated by the audio as it heightened and when it was most loud at that point i felt id left my body fully immersed in the sound and light",
          "un cerchio giallo con i contornirossi che si ingrandiva a seconda del mio respiro un cerchio non uniforme verde e blu chesceva dal uno spazio nero in quel momento percepivo questo come un simbolo di me stessa che scevo hoprovato compassione per me stessa e horealizzato il mio negative self talking dopo ho visto u luce rosa luminosa ed ho provato un senso di amore e ho capito che i deserve love and to be loved quando la musica e diventata intrnsa ho provato ansia e paura e wuesto ha raffiugato la mia depressione",
          "i experienced a calmness almost a nothingness but it was relaxed and peaceful and soothing almost womb like",
          "blue a bird flying coming closer calm and at peace a baby a smiling relative the thought of this not working but in the dream in another place",
          "a swivelling vortex of sound the loneliness of the moon a jacuzzi of lightness",
          "a doorway",
          "initially i was interested how others were reacting around me after a while i began to relax and the changing colours made me feel safe and happy the music conjured up images of buddists and other spiritual people",
          "i felt like my body kept sinking or dropping to another level into the seat and into itself",
          "at first hearing gongs i saw myself in sammi lings buddhist retreat ans imagined myself totally relaxing and at peace as the music pace and volume increased i saw horses galloping at increasing speed and zt some point i was on a horse too as the pace gathefed further i was on a train speed ing tgrough countryside then through time and space until the muic reach a climax i then found myself returning to the world and countryside and gradually getting back to normal everyday life i had no sense of the grating sounds towards the end exceot they were the colour turquoise which gradualky turned to black and nothingness",
          "the feeling of freedom of being in time and space i watched the room rise and fall with the music i felt the weight of the people in the room i felt connected",
          "the music was both gentle and powerful",
          "peacefulness and calm at times i felt transported to a meadow full of flowers in spring and then the sound of the bells took me to a mountaintop i tried to really focus on the listening and in doing so the music and my imagition took me to different places",
          "i saw a starry night and being in blue warm water and a blue butterfly",
          "a sense of ture the ocean and the beach sunrise and sunsets and futher along into space and filly back to the deepest ocean",
          "i love all of it the feling was amazing and i would come back i fell aslep and wake up with fresh mindset",
          "woman next to me was sniffing so had to move and was difficult to get back in",
          "calming sounds rising elation curiosity and connection an acceptance of being in a stressful time but self jubilation and inspiration",
          "relaxed and peaceful felt the beats of the music",
          "places and waves and an animal",
          "it felt like i was deep in the ocean it was dark but also a brilliant blue i wasnt drowning instead it felt like thats where i was meant to be a sense of place akin to home almost a calling or draw to be submerged away from the world and in my own space where i could float and simply exist without any interruptions",
          "physically being the music especially the percussion and the bass still feeling it now",
          "vibration in visuals centered in body aware of sounds mind realty quietened down",
          "i saw myself flaring whirling in water in the air becoming one withwhat i floated in",
          "some thoughts about mundane everyday things like work but mainly felt relaxed ansd able to float into a dreamlike place some visuals ofspace and deep ocean",
          "felt as though i was moving through a tunnel at first towards end in darkness i felt i was being wrapped in metal in strips",
          "floating in space",
          null
         ],
         "marker": {
          "opacity": 0.5,
          "size": 5
         },
         "mode": "markers+text",
         "name": "0_music_space_first",
         "text": [
          "",
          "",
          "",
          "",
          "",
          "",
          "",
          "",
          "",
          "",
          "",
          "",
          "",
          "",
          "",
          "",
          "",
          "",
          "",
          "",
          "",
          "",
          "",
          "",
          "",
          "",
          "",
          "",
          "",
          "",
          "",
          "",
          "0_music_space_first"
         ],
         "textfont": {
          "size": 12
         },
         "type": "scattergl",
         "x": [
          7.1442952156066895,
          7.464964866638184,
          4.753120422363281,
          7.271435737609863,
          4.748589038848877,
          7.2102885246276855,
          6.107532501220703,
          7.869198322296143,
          8.317938804626465,
          8.192187309265137,
          4.384289264678955,
          5.234269618988037,
          7.524510860443115,
          5.19202995300293,
          7.257355213165283,
          5.96772575378418,
          7.87633752822876,
          7.586903095245361,
          4.685403347015381,
          4.4027862548828125,
          6.949885368347168,
          5.049387454986572,
          8.013587951660156,
          7.929842472076416,
          4.40386438369751,
          4.9524054527282715,
          7.939047336578369,
          7.779348373413086,
          4.2531538009643555,
          4.670934200286865,
          4.7506022453308105,
          4.3770294189453125,
          6.2581329345703125
         ],
         "y": [
          6.581216335296631,
          6.658880233764648,
          5.001964092254639,
          7.147454738616943,
          5.756618499755859,
          6.756031036376953,
          6.624882221221924,
          6.956292152404785,
          6.185483932495117,
          6.04763126373291,
          4.6411542892456055,
          6.841109275817871,
          6.980541229248047,
          6.458142280578613,
          6.958067417144775,
          6.465481758117676,
          6.917753219604492,
          6.741873741149902,
          4.38749361038208,
          4.730091094970703,
          6.770669937133789,
          6.776928901672363,
          6.140265464782715,
          6.617619037628174,
          4.663627624511719,
          5.378088474273682,
          6.869531154632568,
          6.372830867767334,
          5.584533214569092,
          5.128663539886475,
          6.29944372177124,
          5.3668646812438965,
          6.150225639343262
         ]
        },
        {
         "hoverinfo": "text",
         "hovertext": [
          "it was a bit weird i know that mybrain is trying to create something by itself i felt different things based on the colour",
          "interested to experience different darkness when different colours were projected",
          "physical heaviness physical lightness i didnt experience visual or aural socalled hallucinations it was relaxing a bit hot to start",
          "it was something very familiar to the soul but not i experienced several emotions felt numb too",
          "breathing is hard",
          "i saw a grey pulsing heart float across my mind",
          "i tried hard to immerse into the dreamstate but failed i did not see anything except for the flickering lights i think i ought to experience it once more to see if it changes",
          "not sure what the puroose of it was except being with the muxic certainly not inuced to sleep dream state as bpm too high otherwise interesting but co fusing experience not much visions either do t think the lights were in sy c too to to go with music well",
          "i had various flashing images of my memories random events and people in my life kept popping up nothing lingered but lots of individual things happened in the memories i also felt numb and tingly throughout it at different points i felt like my body was light and fuzzy like i wasnt sitting on anything",
          "so many different things i was a little afraid at thinking of the gas chambers then an overwheming feeling of love and connection to everyone in the room i became a white egret from a dream last week i flew around the room touching everyone my heart expanded and i opened my wings to hold the room then i t felt like a typeof death experience as i decended into the underworld i felyt myself go down through the layers of the earth into a moss land there was abeing there call eveleryn then things changed and it became very pink and i was in the clouds i met a being long and blue with not much of a defined form he told me he was francis of assisi i asked him how i was doing and about my husband he told me we were doing important work that was our destiny then i became a mantaray and drifted",
          "the moment ill die i want to feel this",
          "we were told atthe start that we could keep our eyes open so i did a lot as i thought it was more of a light show so i didnt get the whole idea or impact of impact of flickering lights on closed eyes",
          "had my eyes shut most of the time was aware of colours changing",
          "i thought i was drifting in space i quite enjoyed the experience i opened my eyesbut thought the centrelights were mild and not that impressive the colors i sawwhen my eyes were shut very brief fleeting and hues nebulous no specific patterns",
          "i saw a different cokour to the lights that were in the centre when i closed my eyes",
          "got many vivid visions saw lots of colours my bedroom old tv shows videogames cities",
          "it was near impossible to keep eyes open",
          "i cant recognise the color actually but i can feel the light dimming",
          "i saw a lot of animals ones which i used to not like like rreptiles but this time i liked them and they seemed adorable i also felt like i was dreaming of random objects and my started to create stories like if does when i am dreamingit felt like a drug trip at some points and it also felt like being inside an ocean",
          "strange lights and sense of relaxation i was interested to see what would happen next",
          "we have billion neurons no wonder we can have psychedelic experiences the complexity of the brain can produce a limitless spectrum of experience from depression to enlightenment this is a thought i had anyway during the dream machine",
          "pleasant but should i be seeim something unexpected",
          "thecoloursmade patterns when i had my eyes closec almost like a weave of colours in a woollen fabric",
          "it is like i am in a dream in a movie no one there not even me just my mind have been to there flying through a lot of shape light space there is a moment i feel like i was draw back to my body and the environment my thought has been to somewhere no one have been to i cant realise have long was that experience it was so quick in and then out i dont feel the time",
          "towardsthe end maybe quarter i started having really intense visual of ripples and looking up into a tower",
          "i began to see the source the light we all come from the connection to everything i could see how we are all just little sensory machines moving through this relm bumping off sounds colours and emotions the colours behind my closed eyes swapped to the opposite colour or the colour spectrum of that on the screen",
          null
         ],
         "marker": {
          "opacity": 0.5,
          "size": 5
         },
         "mode": "markers+text",
         "name": "1_eyes_experience_different",
         "text": [
          "",
          "",
          "",
          "",
          "",
          "",
          "",
          "",
          "",
          "",
          "",
          "",
          "",
          "",
          "",
          "",
          "",
          "",
          "",
          "",
          "",
          "",
          "",
          "",
          "",
          "",
          "1_eyes_experience_different"
         ],
         "textfont": {
          "size": 12
         },
         "type": "scattergl",
         "x": [
          6.2664079666137695,
          5.840867519378662,
          6.238689422607422,
          4.909515380859375,
          7.3448166847229,
          4.666496276855469,
          5.913559436798096,
          5.9868083000183105,
          5.168703079223633,
          5.361207962036133,
          5.313480854034424,
          6.6545233726501465,
          6.112717628479004,
          6.164726257324219,
          6.5104780197143555,
          5.8035688400268555,
          6.862100601196289,
          6.322412967681885,
          5.1399383544921875,
          6.366591930389404,
          5.280244827270508,
          6.37002420425415,
          6.175507545471191,
          5.440704345703125,
          5.92756986618042,
          6.372681140899658,
          5.942859172821045
         ],
         "y": [
          2.5781753063201904,
          2.5312912464141846,
          3.545670747756958,
          6.164142608642578,
          4.148169994354248,
          5.9065141677856445,
          3.934194803237915,
          3.905106544494629,
          5.9896626472473145,
          5.817391395568848,
          6.134460926055908,
          3.2371954917907715,
          2.460824489593506,
          3.2117223739624023,
          3.101825475692749,
          2.867335796356201,
          3.4057257175445557,
          2.81618595123291,
          5.268972396850586,
          3.368774175643921,
          5.263140678405762,
          3.7894420623779297,
          2.513585090637207,
          5.92661190032959,
          3.2501490116119385,
          2.879812240600586,
          4.000618934631348
         ]
        },
        {
         "hoverinfo": "text",
         "hovertext": [
          "i was struggling because my mind would go back to a stringof thoughts andtoget out of it i had to take avery deep breath once i went past that it was blank the same set of thoughts occured thrice andiinhaled really deep to get past it",
          "retrospective thoughts looking to the past to alyse my future",
          "i saw past experiences and reflected on my choices i saw new scenes and reflected on opportunities",
          "constant thoughts coming towards me as i batted them away into the sky",
          "deep relaxation close to falling asleep",
          "very relaxing",
          "my mind began to wander and reflect on my dreams and goals in a relaxed way whereas usually i am anxious",
          "i was awake the whole time i could not relax or switch off",
          "i couldnt stop the thinking process i was trying memorise the visuals and then trying to disconnect but couldnt i wish i meditated more at some point started experimenting and trying to recall the images i liked it was successful of time reminded space odyssey",
          "i had a very nice snooze thank you",
          "relaxed just about to sleep when music or colour chqnged",
          "more scope mentally acceptance and peace",
          "complete relaxationpeace of mind and ready to face whatever happens",
          null
         ],
         "marker": {
          "opacity": 0.5,
          "size": 5
         },
         "mode": "markers+text",
         "name": "2_past_thoughts_trying",
         "text": [
          "",
          "",
          "",
          "",
          "",
          "",
          "",
          "",
          "",
          "",
          "",
          "",
          "",
          "2_past_thoughts_trying"
         ],
         "textfont": {
          "size": 12
         },
         "type": "scattergl",
         "x": [
          7.363162994384766,
          6.978410243988037,
          6.689123153686523,
          7.281760215759277,
          8.352416038513184,
          8.589493751525879,
          7.732213973999023,
          8.383963584899902,
          6.9709906578063965,
          8.412921905517578,
          8.466826438903809,
          7.888798713684082,
          7.948554039001465,
          7.773741722106934
         ],
         "y": [
          5.3871026039123535,
          5.694658279418945,
          5.833094120025635,
          5.161907196044922,
          4.933691501617432,
          5.141231536865234,
          5.359865665435791,
          4.819186210632324,
          5.552481651306152,
          4.8494181632995605,
          5.090025424957275,
          5.872725963592529,
          5.326565742492676,
          5.309381484985352
         ]
        }
       ],
       "layout": {
        "annotations": [
         {
          "showarrow": false,
          "text": "D1",
          "x": 3.615180730819702,
          "y": 5.155636882781983,
          "yshift": 10
         },
         {
          "showarrow": false,
          "text": "D2",
          "x": 6.746549272537232,
          "xshift": 10,
          "y": 8.219572949409486
         }
        ],
        "height": 750,
        "shapes": [
         {
          "line": {
           "color": "#CFD8DC",
           "width": 2
          },
          "type": "line",
          "x0": 6.746549272537232,
          "x1": 6.746549272537232,
          "y0": 2.09170081615448,
          "y1": 8.219572949409486
         },
         {
          "line": {
           "color": "#9E9E9E",
           "width": 2
          },
          "type": "line",
          "x0": 3.615180730819702,
          "x1": 9.877917814254761,
          "y0": 5.155636882781983,
          "y1": 5.155636882781983
         }
        ],
        "template": {
         "data": {
          "bar": [
           {
            "error_x": {
             "color": "rgb(36,36,36)"
            },
            "error_y": {
             "color": "rgb(36,36,36)"
            },
            "marker": {
             "line": {
              "color": "white",
              "width": 0.5
             },
             "pattern": {
              "fillmode": "overlay",
              "size": 10,
              "solidity": 0.2
             }
            },
            "type": "bar"
           }
          ],
          "barpolar": [
           {
            "marker": {
             "line": {
              "color": "white",
              "width": 0.5
             },
             "pattern": {
              "fillmode": "overlay",
              "size": 10,
              "solidity": 0.2
             }
            },
            "type": "barpolar"
           }
          ],
          "carpet": [
           {
            "aaxis": {
             "endlinecolor": "rgb(36,36,36)",
             "gridcolor": "white",
             "linecolor": "white",
             "minorgridcolor": "white",
             "startlinecolor": "rgb(36,36,36)"
            },
            "baxis": {
             "endlinecolor": "rgb(36,36,36)",
             "gridcolor": "white",
             "linecolor": "white",
             "minorgridcolor": "white",
             "startlinecolor": "rgb(36,36,36)"
            },
            "type": "carpet"
           }
          ],
          "choropleth": [
           {
            "colorbar": {
             "outlinewidth": 1,
             "tickcolor": "rgb(36,36,36)",
             "ticks": "outside"
            },
            "type": "choropleth"
           }
          ],
          "contour": [
           {
            "colorbar": {
             "outlinewidth": 1,
             "tickcolor": "rgb(36,36,36)",
             "ticks": "outside"
            },
            "colorscale": [
             [
              0,
              "#440154"
             ],
             [
              0.1111111111111111,
              "#482878"
             ],
             [
              0.2222222222222222,
              "#3e4989"
             ],
             [
              0.3333333333333333,
              "#31688e"
             ],
             [
              0.4444444444444444,
              "#26828e"
             ],
             [
              0.5555555555555556,
              "#1f9e89"
             ],
             [
              0.6666666666666666,
              "#35b779"
             ],
             [
              0.7777777777777778,
              "#6ece58"
             ],
             [
              0.8888888888888888,
              "#b5de2b"
             ],
             [
              1,
              "#fde725"
             ]
            ],
            "type": "contour"
           }
          ],
          "contourcarpet": [
           {
            "colorbar": {
             "outlinewidth": 1,
             "tickcolor": "rgb(36,36,36)",
             "ticks": "outside"
            },
            "type": "contourcarpet"
           }
          ],
          "heatmap": [
           {
            "colorbar": {
             "outlinewidth": 1,
             "tickcolor": "rgb(36,36,36)",
             "ticks": "outside"
            },
            "colorscale": [
             [
              0,
              "#440154"
             ],
             [
              0.1111111111111111,
              "#482878"
             ],
             [
              0.2222222222222222,
              "#3e4989"
             ],
             [
              0.3333333333333333,
              "#31688e"
             ],
             [
              0.4444444444444444,
              "#26828e"
             ],
             [
              0.5555555555555556,
              "#1f9e89"
             ],
             [
              0.6666666666666666,
              "#35b779"
             ],
             [
              0.7777777777777778,
              "#6ece58"
             ],
             [
              0.8888888888888888,
              "#b5de2b"
             ],
             [
              1,
              "#fde725"
             ]
            ],
            "type": "heatmap"
           }
          ],
          "heatmapgl": [
           {
            "colorbar": {
             "outlinewidth": 1,
             "tickcolor": "rgb(36,36,36)",
             "ticks": "outside"
            },
            "colorscale": [
             [
              0,
              "#440154"
             ],
             [
              0.1111111111111111,
              "#482878"
             ],
             [
              0.2222222222222222,
              "#3e4989"
             ],
             [
              0.3333333333333333,
              "#31688e"
             ],
             [
              0.4444444444444444,
              "#26828e"
             ],
             [
              0.5555555555555556,
              "#1f9e89"
             ],
             [
              0.6666666666666666,
              "#35b779"
             ],
             [
              0.7777777777777778,
              "#6ece58"
             ],
             [
              0.8888888888888888,
              "#b5de2b"
             ],
             [
              1,
              "#fde725"
             ]
            ],
            "type": "heatmapgl"
           }
          ],
          "histogram": [
           {
            "marker": {
             "line": {
              "color": "white",
              "width": 0.6
             }
            },
            "type": "histogram"
           }
          ],
          "histogram2d": [
           {
            "colorbar": {
             "outlinewidth": 1,
             "tickcolor": "rgb(36,36,36)",
             "ticks": "outside"
            },
            "colorscale": [
             [
              0,
              "#440154"
             ],
             [
              0.1111111111111111,
              "#482878"
             ],
             [
              0.2222222222222222,
              "#3e4989"
             ],
             [
              0.3333333333333333,
              "#31688e"
             ],
             [
              0.4444444444444444,
              "#26828e"
             ],
             [
              0.5555555555555556,
              "#1f9e89"
             ],
             [
              0.6666666666666666,
              "#35b779"
             ],
             [
              0.7777777777777778,
              "#6ece58"
             ],
             [
              0.8888888888888888,
              "#b5de2b"
             ],
             [
              1,
              "#fde725"
             ]
            ],
            "type": "histogram2d"
           }
          ],
          "histogram2dcontour": [
           {
            "colorbar": {
             "outlinewidth": 1,
             "tickcolor": "rgb(36,36,36)",
             "ticks": "outside"
            },
            "colorscale": [
             [
              0,
              "#440154"
             ],
             [
              0.1111111111111111,
              "#482878"
             ],
             [
              0.2222222222222222,
              "#3e4989"
             ],
             [
              0.3333333333333333,
              "#31688e"
             ],
             [
              0.4444444444444444,
              "#26828e"
             ],
             [
              0.5555555555555556,
              "#1f9e89"
             ],
             [
              0.6666666666666666,
              "#35b779"
             ],
             [
              0.7777777777777778,
              "#6ece58"
             ],
             [
              0.8888888888888888,
              "#b5de2b"
             ],
             [
              1,
              "#fde725"
             ]
            ],
            "type": "histogram2dcontour"
           }
          ],
          "mesh3d": [
           {
            "colorbar": {
             "outlinewidth": 1,
             "tickcolor": "rgb(36,36,36)",
             "ticks": "outside"
            },
            "type": "mesh3d"
           }
          ],
          "parcoords": [
           {
            "line": {
             "colorbar": {
              "outlinewidth": 1,
              "tickcolor": "rgb(36,36,36)",
              "ticks": "outside"
             }
            },
            "type": "parcoords"
           }
          ],
          "pie": [
           {
            "automargin": true,
            "type": "pie"
           }
          ],
          "scatter": [
           {
            "fillpattern": {
             "fillmode": "overlay",
             "size": 10,
             "solidity": 0.2
            },
            "type": "scatter"
           }
          ],
          "scatter3d": [
           {
            "line": {
             "colorbar": {
              "outlinewidth": 1,
              "tickcolor": "rgb(36,36,36)",
              "ticks": "outside"
             }
            },
            "marker": {
             "colorbar": {
              "outlinewidth": 1,
              "tickcolor": "rgb(36,36,36)",
              "ticks": "outside"
             }
            },
            "type": "scatter3d"
           }
          ],
          "scattercarpet": [
           {
            "marker": {
             "colorbar": {
              "outlinewidth": 1,
              "tickcolor": "rgb(36,36,36)",
              "ticks": "outside"
             }
            },
            "type": "scattercarpet"
           }
          ],
          "scattergeo": [
           {
            "marker": {
             "colorbar": {
              "outlinewidth": 1,
              "tickcolor": "rgb(36,36,36)",
              "ticks": "outside"
             }
            },
            "type": "scattergeo"
           }
          ],
          "scattergl": [
           {
            "marker": {
             "colorbar": {
              "outlinewidth": 1,
              "tickcolor": "rgb(36,36,36)",
              "ticks": "outside"
             }
            },
            "type": "scattergl"
           }
          ],
          "scattermapbox": [
           {
            "marker": {
             "colorbar": {
              "outlinewidth": 1,
              "tickcolor": "rgb(36,36,36)",
              "ticks": "outside"
             }
            },
            "type": "scattermapbox"
           }
          ],
          "scatterpolar": [
           {
            "marker": {
             "colorbar": {
              "outlinewidth": 1,
              "tickcolor": "rgb(36,36,36)",
              "ticks": "outside"
             }
            },
            "type": "scatterpolar"
           }
          ],
          "scatterpolargl": [
           {
            "marker": {
             "colorbar": {
              "outlinewidth": 1,
              "tickcolor": "rgb(36,36,36)",
              "ticks": "outside"
             }
            },
            "type": "scatterpolargl"
           }
          ],
          "scatterternary": [
           {
            "marker": {
             "colorbar": {
              "outlinewidth": 1,
              "tickcolor": "rgb(36,36,36)",
              "ticks": "outside"
             }
            },
            "type": "scatterternary"
           }
          ],
          "surface": [
           {
            "colorbar": {
             "outlinewidth": 1,
             "tickcolor": "rgb(36,36,36)",
             "ticks": "outside"
            },
            "colorscale": [
             [
              0,
              "#440154"
             ],
             [
              0.1111111111111111,
              "#482878"
             ],
             [
              0.2222222222222222,
              "#3e4989"
             ],
             [
              0.3333333333333333,
              "#31688e"
             ],
             [
              0.4444444444444444,
              "#26828e"
             ],
             [
              0.5555555555555556,
              "#1f9e89"
             ],
             [
              0.6666666666666666,
              "#35b779"
             ],
             [
              0.7777777777777778,
              "#6ece58"
             ],
             [
              0.8888888888888888,
              "#b5de2b"
             ],
             [
              1,
              "#fde725"
             ]
            ],
            "type": "surface"
           }
          ],
          "table": [
           {
            "cells": {
             "fill": {
              "color": "rgb(237,237,237)"
             },
             "line": {
              "color": "white"
             }
            },
            "header": {
             "fill": {
              "color": "rgb(217,217,217)"
             },
             "line": {
              "color": "white"
             }
            },
            "type": "table"
           }
          ]
         },
         "layout": {
          "annotationdefaults": {
           "arrowhead": 0,
           "arrowwidth": 1
          },
          "autotypenumbers": "strict",
          "coloraxis": {
           "colorbar": {
            "outlinewidth": 1,
            "tickcolor": "rgb(36,36,36)",
            "ticks": "outside"
           }
          },
          "colorscale": {
           "diverging": [
            [
             0,
             "rgb(103,0,31)"
            ],
            [
             0.1,
             "rgb(178,24,43)"
            ],
            [
             0.2,
             "rgb(214,96,77)"
            ],
            [
             0.3,
             "rgb(244,165,130)"
            ],
            [
             0.4,
             "rgb(253,219,199)"
            ],
            [
             0.5,
             "rgb(247,247,247)"
            ],
            [
             0.6,
             "rgb(209,229,240)"
            ],
            [
             0.7,
             "rgb(146,197,222)"
            ],
            [
             0.8,
             "rgb(67,147,195)"
            ],
            [
             0.9,
             "rgb(33,102,172)"
            ],
            [
             1,
             "rgb(5,48,97)"
            ]
           ],
           "sequential": [
            [
             0,
             "#440154"
            ],
            [
             0.1111111111111111,
             "#482878"
            ],
            [
             0.2222222222222222,
             "#3e4989"
            ],
            [
             0.3333333333333333,
             "#31688e"
            ],
            [
             0.4444444444444444,
             "#26828e"
            ],
            [
             0.5555555555555556,
             "#1f9e89"
            ],
            [
             0.6666666666666666,
             "#35b779"
            ],
            [
             0.7777777777777778,
             "#6ece58"
            ],
            [
             0.8888888888888888,
             "#b5de2b"
            ],
            [
             1,
             "#fde725"
            ]
           ],
           "sequentialminus": [
            [
             0,
             "#440154"
            ],
            [
             0.1111111111111111,
             "#482878"
            ],
            [
             0.2222222222222222,
             "#3e4989"
            ],
            [
             0.3333333333333333,
             "#31688e"
            ],
            [
             0.4444444444444444,
             "#26828e"
            ],
            [
             0.5555555555555556,
             "#1f9e89"
            ],
            [
             0.6666666666666666,
             "#35b779"
            ],
            [
             0.7777777777777778,
             "#6ece58"
            ],
            [
             0.8888888888888888,
             "#b5de2b"
            ],
            [
             1,
             "#fde725"
            ]
           ]
          },
          "colorway": [
           "#1F77B4",
           "#FF7F0E",
           "#2CA02C",
           "#D62728",
           "#9467BD",
           "#8C564B",
           "#E377C2",
           "#7F7F7F",
           "#BCBD22",
           "#17BECF"
          ],
          "font": {
           "color": "rgb(36,36,36)"
          },
          "geo": {
           "bgcolor": "white",
           "lakecolor": "white",
           "landcolor": "white",
           "showlakes": true,
           "showland": true,
           "subunitcolor": "white"
          },
          "hoverlabel": {
           "align": "left"
          },
          "hovermode": "closest",
          "mapbox": {
           "style": "light"
          },
          "paper_bgcolor": "white",
          "plot_bgcolor": "white",
          "polar": {
           "angularaxis": {
            "gridcolor": "rgb(232,232,232)",
            "linecolor": "rgb(36,36,36)",
            "showgrid": false,
            "showline": true,
            "ticks": "outside"
           },
           "bgcolor": "white",
           "radialaxis": {
            "gridcolor": "rgb(232,232,232)",
            "linecolor": "rgb(36,36,36)",
            "showgrid": false,
            "showline": true,
            "ticks": "outside"
           }
          },
          "scene": {
           "xaxis": {
            "backgroundcolor": "white",
            "gridcolor": "rgb(232,232,232)",
            "gridwidth": 2,
            "linecolor": "rgb(36,36,36)",
            "showbackground": true,
            "showgrid": false,
            "showline": true,
            "ticks": "outside",
            "zeroline": false,
            "zerolinecolor": "rgb(36,36,36)"
           },
           "yaxis": {
            "backgroundcolor": "white",
            "gridcolor": "rgb(232,232,232)",
            "gridwidth": 2,
            "linecolor": "rgb(36,36,36)",
            "showbackground": true,
            "showgrid": false,
            "showline": true,
            "ticks": "outside",
            "zeroline": false,
            "zerolinecolor": "rgb(36,36,36)"
           },
           "zaxis": {
            "backgroundcolor": "white",
            "gridcolor": "rgb(232,232,232)",
            "gridwidth": 2,
            "linecolor": "rgb(36,36,36)",
            "showbackground": true,
            "showgrid": false,
            "showline": true,
            "ticks": "outside",
            "zeroline": false,
            "zerolinecolor": "rgb(36,36,36)"
           }
          },
          "shapedefaults": {
           "fillcolor": "black",
           "line": {
            "width": 0
           },
           "opacity": 0.3
          },
          "ternary": {
           "aaxis": {
            "gridcolor": "rgb(232,232,232)",
            "linecolor": "rgb(36,36,36)",
            "showgrid": false,
            "showline": true,
            "ticks": "outside"
           },
           "baxis": {
            "gridcolor": "rgb(232,232,232)",
            "linecolor": "rgb(36,36,36)",
            "showgrid": false,
            "showline": true,
            "ticks": "outside"
           },
           "bgcolor": "white",
           "caxis": {
            "gridcolor": "rgb(232,232,232)",
            "linecolor": "rgb(36,36,36)",
            "showgrid": false,
            "showline": true,
            "ticks": "outside"
           }
          },
          "title": {
           "x": 0.05
          },
          "xaxis": {
           "automargin": true,
           "gridcolor": "rgb(232,232,232)",
           "linecolor": "rgb(36,36,36)",
           "showgrid": false,
           "showline": true,
           "ticks": "outside",
           "title": {
            "standoff": 15
           },
           "zeroline": false,
           "zerolinecolor": "rgb(36,36,36)"
          },
          "yaxis": {
           "automargin": true,
           "gridcolor": "rgb(232,232,232)",
           "linecolor": "rgb(36,36,36)",
           "showgrid": false,
           "showline": true,
           "ticks": "outside",
           "title": {
            "standoff": 15
           },
           "zeroline": false,
           "zerolinecolor": "rgb(36,36,36)"
          }
         }
        },
        "title": {
         "font": {
          "color": "Black",
          "size": 22
         },
         "text": "<b>Documents and Topics</b>",
         "x": 0.5,
         "xanchor": "center",
         "yanchor": "top"
        },
        "width": 1200,
        "xaxis": {
         "visible": false
        },
        "yaxis": {
         "visible": false
        }
       }
      }
     },
     "metadata": {},
     "output_type": "display_data"
    }
   ],
   "source": [
    "best_params_model.visualize_documents(reports_filtered.values) "
   ]
  }
 ],
 "metadata": {
  "kernelspec": {
   "display_name": "topmodvenv",
   "language": "python",
   "name": "python3"
  },
  "language_info": {
   "codemirror_mode": {
    "name": "ipython",
    "version": 3
   },
   "file_extension": ".py",
   "mimetype": "text/x-python",
   "name": "python",
   "nbconvert_exporter": "python",
   "pygments_lexer": "ipython3",
   "version": "3.11.3"
  }
 },
 "nbformat": 4,
 "nbformat_minor": 2
}
