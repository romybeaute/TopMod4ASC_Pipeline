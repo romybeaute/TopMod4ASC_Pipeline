{
 "cells": [
  {
   "cell_type": "markdown",
   "metadata": {},
   "source": [
    "@Author: Romy Beauté\\\n",
    "@Contact: r.beaut@sussex.ac.uk\\\n",
    "@Date: 07-2023\\\n",
    "@Last modification: 08-03-2024"
   ]
  },
  {
   "cell_type": "code",
   "execution_count": 1,
   "metadata": {},
   "outputs": [
    {
     "name": "stderr",
     "output_type": "stream",
     "text": [
      "/Users/rb666/projects/TopicModelling_META/topmodvenv/lib/python3.11/site-packages/umap/distances.py:1063: NumbaDeprecationWarning: The 'nopython' keyword argument was not supplied to the 'numba.jit' decorator. The implicit default value for this argument is currently False, but it will be changed to True in Numba 0.59.0. See https://numba.readthedocs.io/en/stable/reference/deprecation.html#deprecation-of-object-mode-fall-back-behaviour-when-using-jit for details.\n",
      "  @numba.jit()\n",
      "/Users/rb666/projects/TopicModelling_META/topmodvenv/lib/python3.11/site-packages/umap/distances.py:1071: NumbaDeprecationWarning: The 'nopython' keyword argument was not supplied to the 'numba.jit' decorator. The implicit default value for this argument is currently False, but it will be changed to True in Numba 0.59.0. See https://numba.readthedocs.io/en/stable/reference/deprecation.html#deprecation-of-object-mode-fall-back-behaviour-when-using-jit for details.\n",
      "  @numba.jit()\n",
      "/Users/rb666/projects/TopicModelling_META/topmodvenv/lib/python3.11/site-packages/umap/distances.py:1086: NumbaDeprecationWarning: The 'nopython' keyword argument was not supplied to the 'numba.jit' decorator. The implicit default value for this argument is currently False, but it will be changed to True in Numba 0.59.0. See https://numba.readthedocs.io/en/stable/reference/deprecation.html#deprecation-of-object-mode-fall-back-behaviour-when-using-jit for details.\n",
      "  @numba.jit()\n",
      "/Users/rb666/projects/TopicModelling_META/topmodvenv/lib/python3.11/site-packages/umap/umap_.py:660: NumbaDeprecationWarning: The 'nopython' keyword argument was not supplied to the 'numba.jit' decorator. The implicit default value for this argument is currently False, but it will be changed to True in Numba 0.59.0. See https://numba.readthedocs.io/en/stable/reference/deprecation.html#deprecation-of-object-mode-fall-back-behaviour-when-using-jit for details.\n",
      "  @numba.jit()\n"
     ]
    }
   ],
   "source": [
    "%matplotlib inline\n",
    "\n",
    "import pandas as pd\n",
    "import os \n",
    "from pathlib import Path\n",
    "from bertopic import BERTopic\n",
    "import re \n",
    "from nltk.corpus import stopwords\n",
    "import sys\n",
    "\n",
    "\n",
    "#import helpers functions manually created\n",
    "project_path = os.path.abspath('/Users/rb666/projects/TopicModelling_META')\n",
    "if project_path not in sys.path:\n",
    "    sys.path.append(project_path)\n",
    "from helpers.BERT_helpers import *\n",
    "\n",
    "\n",
    "#Select parameters for dataset and preprocessing\n",
    "HighSensory = True #If False, corresponds to deep listening experience (no flicker)\n",
    "remove_stopwords = True\n",
    "extended_stopwords = False\n"
   ]
  },
  {
   "cell_type": "markdown",
   "metadata": {},
   "source": [
    "# Prepare reports dataset"
   ]
  },
  {
   "cell_type": "code",
   "execution_count": 2,
   "metadata": {},
   "outputs": [
    {
     "name": "stdout",
     "output_type": "stream",
     "text": [
      "Condition : \"highsensory\"\n",
      "N=336 reports (HighSensory = True)\n"
     ]
    },
    {
     "name": "stderr",
     "output_type": "stream",
     "text": [
      "/var/folders/1d/q_0fy53s0jdcsc1sb09wkntw00z7v7/T/ipykernel_36776/532680189.py:12: DtypeWarning: Columns (23,24,71,73,75,77,109,111,112,113,114,115,116,117,118,119,120,121,122,123,124,126,127,128,129,130,131,132,133,134,135,136,137,138,139,140,141,142,143,144,145,146,147,148,149,150,151,157,159,161,165,168,196,203,205) have mixed types. Specify dtype option on import or set low_memory=False.\n",
      "  df = pd.read_csv(DATADIR)\n"
     ]
    },
    {
     "data": {
      "text/plain": [
       "83     Intense chaos. And then my mind checked out an...\n",
       "99                                         good stuff.\\n\n",
       "120    a pattern of red and white lights thatflashed ...\n",
       "172    i wentback to many hard and mostly beautiful m...\n",
       "189                                                Hello\n",
       "Name: reflection_answer, dtype: object"
      ]
     },
     "execution_count": 2,
     "metadata": {},
     "output_type": "execute_result"
    }
   ],
   "source": [
    "dataset_name = \"SensoryTool_CombinedData.csv\"\n",
    "metaproject_name = 'TopicModelling_META'\n",
    "subproject_name = 'TopMod_pipeline'\n",
    "\n",
    "condition = 'highsensory' if HighSensory else 'deeplistening'\n",
    "print(f'Condition : \"{condition}\"')\n",
    "\n",
    "PROJDIR = os.path.expanduser(f\"~/projects/{metaproject_name}\")\n",
    "DATADIR = os.path.join(PROJDIR,f'DATA/{dataset_name}')\n",
    "CODEDIR = os.path.join(PROJDIR,f'{subproject_name}')\n",
    "\n",
    "df = pd.read_csv(DATADIR)\n",
    "dataset = df[df['meta_HighSensory'] == HighSensory]['reflection_answer']\n",
    "reports = dataset[dataset.notna() & (dataset != '')]\n",
    "\n",
    "print('N={} reports (HighSensory = {})'.format(len(reports),HighSensory))\n",
    "reports.head()\n",
    "\n",
    "\n"
   ]
  },
  {
   "cell_type": "markdown",
   "metadata": {},
   "source": [
    "### Start preprocessing"
   ]
  },
  {
   "cell_type": "code",
   "execution_count": 3,
   "metadata": {},
   "outputs": [
    {
     "name": "stdout",
     "output_type": "stream",
     "text": [
      "83     intense chaos mind checked subconscious took s...\n",
      "99                                            good stuff\n",
      "120    pattern red white lights thatflashed andbecame...\n",
      "172    wentback many hard mostly beautiful memories w...\n",
      "191                                          hope colour\n",
      "Name: reflection_answer, dtype: object\n",
      "N=312 reports after cleaning\n"
     ]
    }
   ],
   "source": [
    "#select stop words to remove\n",
    "stop_words = set(stopwords.words('english'))\n",
    "if extended_stopwords:\n",
    "    stop_words = stop_words.union(custom_stopwords) #load custom stopwords from BERT_helpers.py\n",
    "\n",
    "reports_cleaned = reports.apply(clean_text)\n",
    "reports_filtered = reports_cleaned[reports_cleaned.apply(lambda x: len(x.split()) > 1)]\n",
    "\n",
    "print(reports_filtered.head())\n",
    "#print the number of reports after cleaning\n",
    "print('N={} reports after cleaning'.format(len(reports_filtered)))"
   ]
  },
  {
   "cell_type": "markdown",
   "metadata": {},
   "source": [
    "# Embeddings and BERTopic Model\n",
    "\n",
    "After preporcessing we convert clean text into embeddings and apply BERTopic model. This step includes choosing the right transformer model for embeddings, setting BERTopic parameters, and training the model "
   ]
  },
  {
   "cell_type": "code",
   "execution_count": 4,
   "metadata": {},
   "outputs": [
    {
     "data": {
      "application/vnd.jupyter.widget-view+json": {
       "model_id": "f4d3219a62474f98a50e619d1bdd68d9",
       "version_major": 2,
       "version_minor": 0
      },
      "text/plain": [
       "Batches:   0%|          | 0/10 [00:00<?, ?it/s]"
      ]
     },
     "metadata": {},
     "output_type": "display_data"
    },
    {
     "name": "stderr",
     "output_type": "stream",
     "text": [
      "OMP: Info #276: omp_set_nested routine deprecated, please use omp_set_max_active_levels instead.\n"
     ]
    }
   ],
   "source": [
    "from bertopic import BERTopic\n",
    "from sentence_transformers import SentenceTransformer\n",
    "from sklearn.feature_extraction.text import CountVectorizer\n",
    "\n",
    "\n",
    "\n",
    "# convert text to embeddings\n",
    "model = \"all-MiniLM-L6-v2\"  #\"paraphrase-MiniLM-L6-v2\" #\n",
    "sentence_model = SentenceTransformer(model)\n",
    "embeddings = sentence_model.encode(reports_filtered.values,show_progress_bar=True)\n",
    "# vectorizer_model = CountVectorizer(ngram_range=(1, 2), stop_words=\"english\")\n",
    "\n",
    "\n",
    "\n",
    "# BERTopic model initialisation\n",
    "model = BERTopic(language=\"english\", \n",
    "                #  vectorizer_model=vectorizer_model, \n",
    "                 calculate_probabilities=True,\n",
    "                 min_topic_size=5,\n",
    "                 embedding_model=model)\n",
    "\n",
    "\n",
    "\n",
    "# Fit BERTopic model\n",
    "topics, probs = model.fit_transform(reports_filtered.values, embeddings) \n",
    "\n"
   ]
  },
  {
   "cell_type": "code",
   "execution_count": 5,
   "metadata": {},
   "outputs": [
    {
     "data": {
      "application/vnd.plotly.v1+json": {
       "config": {
        "plotlyServerURL": "https://plot.ly"
       },
       "data": [
        {
         "customdata": [
          [
           0,
           "like | saw | shapes | space | moving",
           92
          ],
          [
           1,
           "colours | eyes | would | orange | mind",
           29
          ],
          [
           2,
           "saw | ocean | visuals | away | factory",
           14
          ],
          [
           3,
           "experience | awesome | expected | emotions | good",
           14
          ],
          [
           4,
           "peace | peaceful | happiness | ture | sense",
           13
          ],
          [
           5,
           "time | body | flat | sense | images",
           9
          ],
          [
           6,
           "people | thoughts | eg | thought | need",
           9
          ],
          [
           7,
           "dreaming | asleep | opened | dreamlike | felt",
           8
          ],
          [
           8,
           "curiosity | relaxation | calm | mild | intrigued",
           8
          ],
          [
           9,
           "drugs | emotiol | acid | closest | lsd",
           8
          ],
          [
           10,
           "body | strobing | experienced | pure | feel",
           8
          ],
          [
           11,
           "music | enjoyed | created | patterns | zen",
           8
          ],
          [
           12,
           "life | death | retired | dying | origin",
           6
          ]
         ],
         "hovertemplate": "<b>Topic %{customdata[0]}</b><br>%{customdata[1]}<br>Size: %{customdata[2]}",
         "legendgroup": "",
         "marker": {
          "color": "#B0BEC5",
          "line": {
           "color": "DarkSlateGrey",
           "width": 2
          },
          "size": [
           92,
           29,
           14,
           14,
           13,
           9,
           9,
           8,
           8,
           8,
           8,
           8,
           6
          ],
          "sizemode": "area",
          "sizeref": 0.0575,
          "symbol": "circle"
         },
         "mode": "markers",
         "name": "",
         "orientation": "v",
         "showlegend": false,
         "type": "scatter",
         "x": [
          6.20933723449707,
          6.666535377502441,
          7.171421527862549,
          -0.37604743242263794,
          -0.5124534964561462,
          6.752185344696045,
          -0.7491201758384705,
          -0.6073035597801208,
          -0.5249801278114319,
          6.607757091522217,
          0.3703339993953705,
          0.6517826914787292,
          -1.215478539466858
         ],
         "xaxis": "x",
         "y": [
          -18.058040618896484,
          -17.942325592041016,
          -17.793197631835938,
          9.665922164916992,
          8.634553909301758,
          -18.41336441040039,
          10.306129455566406,
          10.844975471496582,
          9.149599075317383,
          -17.502302169799805,
          9.694024085998535,
          9.55334758758545,
          10.471709251403809
         ],
         "yaxis": "y"
        }
       ],
       "layout": {
        "annotations": [
         {
          "showarrow": false,
          "text": "D1",
          "x": -1.3978003203868865,
          "y": -4.35182363986969,
          "yshift": 10
         },
         {
          "showarrow": false,
          "text": "D2",
          "x": 3.4246672183275217,
          "xshift": 10,
          "y": 12.47172179222107
         }
        ],
        "height": 650,
        "hoverlabel": {
         "bgcolor": "white",
         "font": {
          "family": "Rockwell",
          "size": 16
         }
        },
        "legend": {
         "itemsizing": "constant",
         "tracegroupgap": 0
        },
        "margin": {
         "t": 60
        },
        "shapes": [
         {
          "line": {
           "color": "#CFD8DC",
           "width": 2
          },
          "type": "line",
          "x0": 3.4246672183275217,
          "x1": 3.4246672183275217,
          "y0": -21.17536907196045,
          "y1": 12.47172179222107
         },
         {
          "line": {
           "color": "#9E9E9E",
           "width": 2
          },
          "type": "line",
          "x0": -1.3978003203868865,
          "x1": 8.24713475704193,
          "y0": -4.35182363986969,
          "y1": -4.35182363986969
         }
        ],
        "sliders": [
         {
          "active": 0,
          "pad": {
           "t": 50
          },
          "steps": [
           {
            "args": [
             {
              "marker.color": [
               [
                "red",
                "#B0BEC5",
                "#B0BEC5",
                "#B0BEC5",
                "#B0BEC5",
                "#B0BEC5",
                "#B0BEC5",
                "#B0BEC5",
                "#B0BEC5",
                "#B0BEC5",
                "#B0BEC5",
                "#B0BEC5",
                "#B0BEC5"
               ]
              ]
             }
            ],
            "label": "Topic 0",
            "method": "update"
           },
           {
            "args": [
             {
              "marker.color": [
               [
                "#B0BEC5",
                "red",
                "#B0BEC5",
                "#B0BEC5",
                "#B0BEC5",
                "#B0BEC5",
                "#B0BEC5",
                "#B0BEC5",
                "#B0BEC5",
                "#B0BEC5",
                "#B0BEC5",
                "#B0BEC5",
                "#B0BEC5"
               ]
              ]
             }
            ],
            "label": "Topic 1",
            "method": "update"
           },
           {
            "args": [
             {
              "marker.color": [
               [
                "#B0BEC5",
                "#B0BEC5",
                "red",
                "#B0BEC5",
                "#B0BEC5",
                "#B0BEC5",
                "#B0BEC5",
                "#B0BEC5",
                "#B0BEC5",
                "#B0BEC5",
                "#B0BEC5",
                "#B0BEC5",
                "#B0BEC5"
               ]
              ]
             }
            ],
            "label": "Topic 2",
            "method": "update"
           },
           {
            "args": [
             {
              "marker.color": [
               [
                "#B0BEC5",
                "#B0BEC5",
                "#B0BEC5",
                "red",
                "#B0BEC5",
                "#B0BEC5",
                "#B0BEC5",
                "#B0BEC5",
                "#B0BEC5",
                "#B0BEC5",
                "#B0BEC5",
                "#B0BEC5",
                "#B0BEC5"
               ]
              ]
             }
            ],
            "label": "Topic 3",
            "method": "update"
           },
           {
            "args": [
             {
              "marker.color": [
               [
                "#B0BEC5",
                "#B0BEC5",
                "#B0BEC5",
                "#B0BEC5",
                "red",
                "#B0BEC5",
                "#B0BEC5",
                "#B0BEC5",
                "#B0BEC5",
                "#B0BEC5",
                "#B0BEC5",
                "#B0BEC5",
                "#B0BEC5"
               ]
              ]
             }
            ],
            "label": "Topic 4",
            "method": "update"
           },
           {
            "args": [
             {
              "marker.color": [
               [
                "#B0BEC5",
                "#B0BEC5",
                "#B0BEC5",
                "#B0BEC5",
                "#B0BEC5",
                "red",
                "#B0BEC5",
                "#B0BEC5",
                "#B0BEC5",
                "#B0BEC5",
                "#B0BEC5",
                "#B0BEC5",
                "#B0BEC5"
               ]
              ]
             }
            ],
            "label": "Topic 5",
            "method": "update"
           },
           {
            "args": [
             {
              "marker.color": [
               [
                "#B0BEC5",
                "#B0BEC5",
                "#B0BEC5",
                "#B0BEC5",
                "#B0BEC5",
                "#B0BEC5",
                "red",
                "#B0BEC5",
                "#B0BEC5",
                "#B0BEC5",
                "#B0BEC5",
                "#B0BEC5",
                "#B0BEC5"
               ]
              ]
             }
            ],
            "label": "Topic 6",
            "method": "update"
           },
           {
            "args": [
             {
              "marker.color": [
               [
                "#B0BEC5",
                "#B0BEC5",
                "#B0BEC5",
                "#B0BEC5",
                "#B0BEC5",
                "#B0BEC5",
                "#B0BEC5",
                "red",
                "#B0BEC5",
                "#B0BEC5",
                "#B0BEC5",
                "#B0BEC5",
                "#B0BEC5"
               ]
              ]
             }
            ],
            "label": "Topic 7",
            "method": "update"
           },
           {
            "args": [
             {
              "marker.color": [
               [
                "#B0BEC5",
                "#B0BEC5",
                "#B0BEC5",
                "#B0BEC5",
                "#B0BEC5",
                "#B0BEC5",
                "#B0BEC5",
                "#B0BEC5",
                "red",
                "#B0BEC5",
                "#B0BEC5",
                "#B0BEC5",
                "#B0BEC5"
               ]
              ]
             }
            ],
            "label": "Topic 8",
            "method": "update"
           },
           {
            "args": [
             {
              "marker.color": [
               [
                "#B0BEC5",
                "#B0BEC5",
                "#B0BEC5",
                "#B0BEC5",
                "#B0BEC5",
                "#B0BEC5",
                "#B0BEC5",
                "#B0BEC5",
                "#B0BEC5",
                "red",
                "#B0BEC5",
                "#B0BEC5",
                "#B0BEC5"
               ]
              ]
             }
            ],
            "label": "Topic 9",
            "method": "update"
           },
           {
            "args": [
             {
              "marker.color": [
               [
                "#B0BEC5",
                "#B0BEC5",
                "#B0BEC5",
                "#B0BEC5",
                "#B0BEC5",
                "#B0BEC5",
                "#B0BEC5",
                "#B0BEC5",
                "#B0BEC5",
                "#B0BEC5",
                "red",
                "#B0BEC5",
                "#B0BEC5"
               ]
              ]
             }
            ],
            "label": "Topic 10",
            "method": "update"
           },
           {
            "args": [
             {
              "marker.color": [
               [
                "#B0BEC5",
                "#B0BEC5",
                "#B0BEC5",
                "#B0BEC5",
                "#B0BEC5",
                "#B0BEC5",
                "#B0BEC5",
                "#B0BEC5",
                "#B0BEC5",
                "#B0BEC5",
                "#B0BEC5",
                "red",
                "#B0BEC5"
               ]
              ]
             }
            ],
            "label": "Topic 11",
            "method": "update"
           },
           {
            "args": [
             {
              "marker.color": [
               [
                "#B0BEC5",
                "#B0BEC5",
                "#B0BEC5",
                "#B0BEC5",
                "#B0BEC5",
                "#B0BEC5",
                "#B0BEC5",
                "#B0BEC5",
                "#B0BEC5",
                "#B0BEC5",
                "#B0BEC5",
                "#B0BEC5",
                "red"
               ]
              ]
             }
            ],
            "label": "Topic 12",
            "method": "update"
           }
          ]
         }
        ],
        "template": {
         "data": {
          "bar": [
           {
            "error_x": {
             "color": "rgb(36,36,36)"
            },
            "error_y": {
             "color": "rgb(36,36,36)"
            },
            "marker": {
             "line": {
              "color": "white",
              "width": 0.5
             },
             "pattern": {
              "fillmode": "overlay",
              "size": 10,
              "solidity": 0.2
             }
            },
            "type": "bar"
           }
          ],
          "barpolar": [
           {
            "marker": {
             "line": {
              "color": "white",
              "width": 0.5
             },
             "pattern": {
              "fillmode": "overlay",
              "size": 10,
              "solidity": 0.2
             }
            },
            "type": "barpolar"
           }
          ],
          "carpet": [
           {
            "aaxis": {
             "endlinecolor": "rgb(36,36,36)",
             "gridcolor": "white",
             "linecolor": "white",
             "minorgridcolor": "white",
             "startlinecolor": "rgb(36,36,36)"
            },
            "baxis": {
             "endlinecolor": "rgb(36,36,36)",
             "gridcolor": "white",
             "linecolor": "white",
             "minorgridcolor": "white",
             "startlinecolor": "rgb(36,36,36)"
            },
            "type": "carpet"
           }
          ],
          "choropleth": [
           {
            "colorbar": {
             "outlinewidth": 1,
             "tickcolor": "rgb(36,36,36)",
             "ticks": "outside"
            },
            "type": "choropleth"
           }
          ],
          "contour": [
           {
            "colorbar": {
             "outlinewidth": 1,
             "tickcolor": "rgb(36,36,36)",
             "ticks": "outside"
            },
            "colorscale": [
             [
              0,
              "#440154"
             ],
             [
              0.1111111111111111,
              "#482878"
             ],
             [
              0.2222222222222222,
              "#3e4989"
             ],
             [
              0.3333333333333333,
              "#31688e"
             ],
             [
              0.4444444444444444,
              "#26828e"
             ],
             [
              0.5555555555555556,
              "#1f9e89"
             ],
             [
              0.6666666666666666,
              "#35b779"
             ],
             [
              0.7777777777777778,
              "#6ece58"
             ],
             [
              0.8888888888888888,
              "#b5de2b"
             ],
             [
              1,
              "#fde725"
             ]
            ],
            "type": "contour"
           }
          ],
          "contourcarpet": [
           {
            "colorbar": {
             "outlinewidth": 1,
             "tickcolor": "rgb(36,36,36)",
             "ticks": "outside"
            },
            "type": "contourcarpet"
           }
          ],
          "heatmap": [
           {
            "colorbar": {
             "outlinewidth": 1,
             "tickcolor": "rgb(36,36,36)",
             "ticks": "outside"
            },
            "colorscale": [
             [
              0,
              "#440154"
             ],
             [
              0.1111111111111111,
              "#482878"
             ],
             [
              0.2222222222222222,
              "#3e4989"
             ],
             [
              0.3333333333333333,
              "#31688e"
             ],
             [
              0.4444444444444444,
              "#26828e"
             ],
             [
              0.5555555555555556,
              "#1f9e89"
             ],
             [
              0.6666666666666666,
              "#35b779"
             ],
             [
              0.7777777777777778,
              "#6ece58"
             ],
             [
              0.8888888888888888,
              "#b5de2b"
             ],
             [
              1,
              "#fde725"
             ]
            ],
            "type": "heatmap"
           }
          ],
          "heatmapgl": [
           {
            "colorbar": {
             "outlinewidth": 1,
             "tickcolor": "rgb(36,36,36)",
             "ticks": "outside"
            },
            "colorscale": [
             [
              0,
              "#440154"
             ],
             [
              0.1111111111111111,
              "#482878"
             ],
             [
              0.2222222222222222,
              "#3e4989"
             ],
             [
              0.3333333333333333,
              "#31688e"
             ],
             [
              0.4444444444444444,
              "#26828e"
             ],
             [
              0.5555555555555556,
              "#1f9e89"
             ],
             [
              0.6666666666666666,
              "#35b779"
             ],
             [
              0.7777777777777778,
              "#6ece58"
             ],
             [
              0.8888888888888888,
              "#b5de2b"
             ],
             [
              1,
              "#fde725"
             ]
            ],
            "type": "heatmapgl"
           }
          ],
          "histogram": [
           {
            "marker": {
             "line": {
              "color": "white",
              "width": 0.6
             }
            },
            "type": "histogram"
           }
          ],
          "histogram2d": [
           {
            "colorbar": {
             "outlinewidth": 1,
             "tickcolor": "rgb(36,36,36)",
             "ticks": "outside"
            },
            "colorscale": [
             [
              0,
              "#440154"
             ],
             [
              0.1111111111111111,
              "#482878"
             ],
             [
              0.2222222222222222,
              "#3e4989"
             ],
             [
              0.3333333333333333,
              "#31688e"
             ],
             [
              0.4444444444444444,
              "#26828e"
             ],
             [
              0.5555555555555556,
              "#1f9e89"
             ],
             [
              0.6666666666666666,
              "#35b779"
             ],
             [
              0.7777777777777778,
              "#6ece58"
             ],
             [
              0.8888888888888888,
              "#b5de2b"
             ],
             [
              1,
              "#fde725"
             ]
            ],
            "type": "histogram2d"
           }
          ],
          "histogram2dcontour": [
           {
            "colorbar": {
             "outlinewidth": 1,
             "tickcolor": "rgb(36,36,36)",
             "ticks": "outside"
            },
            "colorscale": [
             [
              0,
              "#440154"
             ],
             [
              0.1111111111111111,
              "#482878"
             ],
             [
              0.2222222222222222,
              "#3e4989"
             ],
             [
              0.3333333333333333,
              "#31688e"
             ],
             [
              0.4444444444444444,
              "#26828e"
             ],
             [
              0.5555555555555556,
              "#1f9e89"
             ],
             [
              0.6666666666666666,
              "#35b779"
             ],
             [
              0.7777777777777778,
              "#6ece58"
             ],
             [
              0.8888888888888888,
              "#b5de2b"
             ],
             [
              1,
              "#fde725"
             ]
            ],
            "type": "histogram2dcontour"
           }
          ],
          "mesh3d": [
           {
            "colorbar": {
             "outlinewidth": 1,
             "tickcolor": "rgb(36,36,36)",
             "ticks": "outside"
            },
            "type": "mesh3d"
           }
          ],
          "parcoords": [
           {
            "line": {
             "colorbar": {
              "outlinewidth": 1,
              "tickcolor": "rgb(36,36,36)",
              "ticks": "outside"
             }
            },
            "type": "parcoords"
           }
          ],
          "pie": [
           {
            "automargin": true,
            "type": "pie"
           }
          ],
          "scatter": [
           {
            "fillpattern": {
             "fillmode": "overlay",
             "size": 10,
             "solidity": 0.2
            },
            "type": "scatter"
           }
          ],
          "scatter3d": [
           {
            "line": {
             "colorbar": {
              "outlinewidth": 1,
              "tickcolor": "rgb(36,36,36)",
              "ticks": "outside"
             }
            },
            "marker": {
             "colorbar": {
              "outlinewidth": 1,
              "tickcolor": "rgb(36,36,36)",
              "ticks": "outside"
             }
            },
            "type": "scatter3d"
           }
          ],
          "scattercarpet": [
           {
            "marker": {
             "colorbar": {
              "outlinewidth": 1,
              "tickcolor": "rgb(36,36,36)",
              "ticks": "outside"
             }
            },
            "type": "scattercarpet"
           }
          ],
          "scattergeo": [
           {
            "marker": {
             "colorbar": {
              "outlinewidth": 1,
              "tickcolor": "rgb(36,36,36)",
              "ticks": "outside"
             }
            },
            "type": "scattergeo"
           }
          ],
          "scattergl": [
           {
            "marker": {
             "colorbar": {
              "outlinewidth": 1,
              "tickcolor": "rgb(36,36,36)",
              "ticks": "outside"
             }
            },
            "type": "scattergl"
           }
          ],
          "scattermapbox": [
           {
            "marker": {
             "colorbar": {
              "outlinewidth": 1,
              "tickcolor": "rgb(36,36,36)",
              "ticks": "outside"
             }
            },
            "type": "scattermapbox"
           }
          ],
          "scatterpolar": [
           {
            "marker": {
             "colorbar": {
              "outlinewidth": 1,
              "tickcolor": "rgb(36,36,36)",
              "ticks": "outside"
             }
            },
            "type": "scatterpolar"
           }
          ],
          "scatterpolargl": [
           {
            "marker": {
             "colorbar": {
              "outlinewidth": 1,
              "tickcolor": "rgb(36,36,36)",
              "ticks": "outside"
             }
            },
            "type": "scatterpolargl"
           }
          ],
          "scatterternary": [
           {
            "marker": {
             "colorbar": {
              "outlinewidth": 1,
              "tickcolor": "rgb(36,36,36)",
              "ticks": "outside"
             }
            },
            "type": "scatterternary"
           }
          ],
          "surface": [
           {
            "colorbar": {
             "outlinewidth": 1,
             "tickcolor": "rgb(36,36,36)",
             "ticks": "outside"
            },
            "colorscale": [
             [
              0,
              "#440154"
             ],
             [
              0.1111111111111111,
              "#482878"
             ],
             [
              0.2222222222222222,
              "#3e4989"
             ],
             [
              0.3333333333333333,
              "#31688e"
             ],
             [
              0.4444444444444444,
              "#26828e"
             ],
             [
              0.5555555555555556,
              "#1f9e89"
             ],
             [
              0.6666666666666666,
              "#35b779"
             ],
             [
              0.7777777777777778,
              "#6ece58"
             ],
             [
              0.8888888888888888,
              "#b5de2b"
             ],
             [
              1,
              "#fde725"
             ]
            ],
            "type": "surface"
           }
          ],
          "table": [
           {
            "cells": {
             "fill": {
              "color": "rgb(237,237,237)"
             },
             "line": {
              "color": "white"
             }
            },
            "header": {
             "fill": {
              "color": "rgb(217,217,217)"
             },
             "line": {
              "color": "white"
             }
            },
            "type": "table"
           }
          ]
         },
         "layout": {
          "annotationdefaults": {
           "arrowhead": 0,
           "arrowwidth": 1
          },
          "autotypenumbers": "strict",
          "coloraxis": {
           "colorbar": {
            "outlinewidth": 1,
            "tickcolor": "rgb(36,36,36)",
            "ticks": "outside"
           }
          },
          "colorscale": {
           "diverging": [
            [
             0,
             "rgb(103,0,31)"
            ],
            [
             0.1,
             "rgb(178,24,43)"
            ],
            [
             0.2,
             "rgb(214,96,77)"
            ],
            [
             0.3,
             "rgb(244,165,130)"
            ],
            [
             0.4,
             "rgb(253,219,199)"
            ],
            [
             0.5,
             "rgb(247,247,247)"
            ],
            [
             0.6,
             "rgb(209,229,240)"
            ],
            [
             0.7,
             "rgb(146,197,222)"
            ],
            [
             0.8,
             "rgb(67,147,195)"
            ],
            [
             0.9,
             "rgb(33,102,172)"
            ],
            [
             1,
             "rgb(5,48,97)"
            ]
           ],
           "sequential": [
            [
             0,
             "#440154"
            ],
            [
             0.1111111111111111,
             "#482878"
            ],
            [
             0.2222222222222222,
             "#3e4989"
            ],
            [
             0.3333333333333333,
             "#31688e"
            ],
            [
             0.4444444444444444,
             "#26828e"
            ],
            [
             0.5555555555555556,
             "#1f9e89"
            ],
            [
             0.6666666666666666,
             "#35b779"
            ],
            [
             0.7777777777777778,
             "#6ece58"
            ],
            [
             0.8888888888888888,
             "#b5de2b"
            ],
            [
             1,
             "#fde725"
            ]
           ],
           "sequentialminus": [
            [
             0,
             "#440154"
            ],
            [
             0.1111111111111111,
             "#482878"
            ],
            [
             0.2222222222222222,
             "#3e4989"
            ],
            [
             0.3333333333333333,
             "#31688e"
            ],
            [
             0.4444444444444444,
             "#26828e"
            ],
            [
             0.5555555555555556,
             "#1f9e89"
            ],
            [
             0.6666666666666666,
             "#35b779"
            ],
            [
             0.7777777777777778,
             "#6ece58"
            ],
            [
             0.8888888888888888,
             "#b5de2b"
            ],
            [
             1,
             "#fde725"
            ]
           ]
          },
          "colorway": [
           "#1F77B4",
           "#FF7F0E",
           "#2CA02C",
           "#D62728",
           "#9467BD",
           "#8C564B",
           "#E377C2",
           "#7F7F7F",
           "#BCBD22",
           "#17BECF"
          ],
          "font": {
           "color": "rgb(36,36,36)"
          },
          "geo": {
           "bgcolor": "white",
           "lakecolor": "white",
           "landcolor": "white",
           "showlakes": true,
           "showland": true,
           "subunitcolor": "white"
          },
          "hoverlabel": {
           "align": "left"
          },
          "hovermode": "closest",
          "mapbox": {
           "style": "light"
          },
          "paper_bgcolor": "white",
          "plot_bgcolor": "white",
          "polar": {
           "angularaxis": {
            "gridcolor": "rgb(232,232,232)",
            "linecolor": "rgb(36,36,36)",
            "showgrid": false,
            "showline": true,
            "ticks": "outside"
           },
           "bgcolor": "white",
           "radialaxis": {
            "gridcolor": "rgb(232,232,232)",
            "linecolor": "rgb(36,36,36)",
            "showgrid": false,
            "showline": true,
            "ticks": "outside"
           }
          },
          "scene": {
           "xaxis": {
            "backgroundcolor": "white",
            "gridcolor": "rgb(232,232,232)",
            "gridwidth": 2,
            "linecolor": "rgb(36,36,36)",
            "showbackground": true,
            "showgrid": false,
            "showline": true,
            "ticks": "outside",
            "zeroline": false,
            "zerolinecolor": "rgb(36,36,36)"
           },
           "yaxis": {
            "backgroundcolor": "white",
            "gridcolor": "rgb(232,232,232)",
            "gridwidth": 2,
            "linecolor": "rgb(36,36,36)",
            "showbackground": true,
            "showgrid": false,
            "showline": true,
            "ticks": "outside",
            "zeroline": false,
            "zerolinecolor": "rgb(36,36,36)"
           },
           "zaxis": {
            "backgroundcolor": "white",
            "gridcolor": "rgb(232,232,232)",
            "gridwidth": 2,
            "linecolor": "rgb(36,36,36)",
            "showbackground": true,
            "showgrid": false,
            "showline": true,
            "ticks": "outside",
            "zeroline": false,
            "zerolinecolor": "rgb(36,36,36)"
           }
          },
          "shapedefaults": {
           "fillcolor": "black",
           "line": {
            "width": 0
           },
           "opacity": 0.3
          },
          "ternary": {
           "aaxis": {
            "gridcolor": "rgb(232,232,232)",
            "linecolor": "rgb(36,36,36)",
            "showgrid": false,
            "showline": true,
            "ticks": "outside"
           },
           "baxis": {
            "gridcolor": "rgb(232,232,232)",
            "linecolor": "rgb(36,36,36)",
            "showgrid": false,
            "showline": true,
            "ticks": "outside"
           },
           "bgcolor": "white",
           "caxis": {
            "gridcolor": "rgb(232,232,232)",
            "linecolor": "rgb(36,36,36)",
            "showgrid": false,
            "showline": true,
            "ticks": "outside"
           }
          },
          "title": {
           "x": 0.05
          },
          "xaxis": {
           "automargin": true,
           "gridcolor": "rgb(232,232,232)",
           "linecolor": "rgb(36,36,36)",
           "showgrid": false,
           "showline": true,
           "ticks": "outside",
           "title": {
            "standoff": 15
           },
           "zeroline": false,
           "zerolinecolor": "rgb(36,36,36)"
          },
          "yaxis": {
           "automargin": true,
           "gridcolor": "rgb(232,232,232)",
           "linecolor": "rgb(36,36,36)",
           "showgrid": false,
           "showline": true,
           "ticks": "outside",
           "title": {
            "standoff": 15
           },
           "zeroline": false,
           "zerolinecolor": "rgb(36,36,36)"
          }
         }
        },
        "title": {
         "font": {
          "color": "Black",
          "size": 22
         },
         "text": "<b>Intertopic Distance Map</b>",
         "x": 0.5,
         "xanchor": "center",
         "y": 0.95,
         "yanchor": "top"
        },
        "width": 650,
        "xaxis": {
         "anchor": "y",
         "domain": [
          0,
          1
         ],
         "range": [
          -1.3978003203868865,
          8.24713475704193
         ],
         "title": {
          "text": ""
         },
         "visible": false
        },
        "yaxis": {
         "anchor": "x",
         "domain": [
          0,
          1
         ],
         "range": [
          -21.17536907196045,
          12.47172179222107
         ],
         "title": {
          "text": ""
         },
         "visible": false
        }
       }
      }
     },
     "metadata": {},
     "output_type": "display_data"
    }
   ],
   "source": [
    "model.visualize_topics()"
   ]
  },
  {
   "cell_type": "markdown",
   "metadata": {},
   "source": [
    "### visualisation and evaluation"
   ]
  },
  {
   "cell_type": "code",
   "execution_count": 6,
   "metadata": {},
   "outputs": [
    {
     "name": "stdout",
     "output_type": "stream",
     "text": [
      "N number of topics:  14\n",
      "   Topic  Count                                    Name  \\\n",
      "0     -1     86           -1_felt_experience_like_could   \n",
      "1      0     92                 0_like_saw_shapes_space   \n",
      "2      1     29             1_colours_eyes_would_orange   \n",
      "3      2     14                2_saw_ocean_visuals_away   \n",
      "4      3     14  3_experience_awesome_expected_emotions   \n",
      "\n",
      "                                      Representation  \\\n",
      "0  [felt, experience, like, could, really, music,...   \n",
      "1  [like, saw, shapes, space, moving, one, colour...   \n",
      "2  [colours, eyes, would, orange, mind, like, lot...   \n",
      "3  [saw, ocean, visuals, away, factory, scene, am...   \n",
      "4  [experience, awesome, expected, emotions, good...   \n",
      "\n",
      "                                 Representative_Docs  \n",
      "0  [thought fluffy speech writtenhealth safetyasp...  \n",
      "1  [experienced range images chose many colours s...  \n",
      "2  [lots ofvisuals towards end people love thence...  \n",
      "3  [interesting experience definitely easy moment...  \n",
      "4  [good experience surprise sensation play mind ...  \n"
     ]
    }
   ],
   "source": [
    "topic_freq = model.get_topic_freq().head() #Get the frequency of each topic\n",
    "freq = model.get_topic_info() #Get the frequency of each topic\n",
    "print(\"N number of topics: \",len(freq))\n",
    "print(freq.head())"
   ]
  },
  {
   "cell_type": "code",
   "execution_count": 7,
   "metadata": {},
   "outputs": [
    {
     "data": {
      "application/vnd.plotly.v1+json": {
       "config": {
        "plotlyServerURL": "https://plot.ly"
       },
       "data": [
        {
         "marker": {
          "color": "#D55E00"
         },
         "orientation": "h",
         "type": "bar",
         "x": [
          0.032068404856547314,
          0.03688215725784061,
          0.04012649613678055,
          0.04018606471547301,
          0.041052694934542555
         ],
         "xaxis": "x",
         "y": [
          "moving  ",
          "space  ",
          "shapes  ",
          "saw  ",
          "like  "
         ],
         "yaxis": "y"
        },
        {
         "marker": {
          "color": "#0072B2"
         },
         "orientation": "h",
         "type": "bar",
         "x": [
          0.030509181738979603,
          0.0313992861969063,
          0.03354395522068845,
          0.036505537274071485,
          0.057318981678232246
         ],
         "xaxis": "x2",
         "y": [
          "mind  ",
          "orange  ",
          "would  ",
          "eyes  ",
          "colours  "
         ],
         "yaxis": "y2"
        },
        {
         "marker": {
          "color": "#CC79A7"
         },
         "orientation": "h",
         "type": "bar",
         "x": [
          0.03265224487696643,
          0.038532049858004534,
          0.038532049858004534,
          0.04776530034918785,
          0.04833275892461938
         ],
         "xaxis": "x3",
         "y": [
          "factory  ",
          "away  ",
          "visuals  ",
          "ocean  ",
          "saw  "
         ],
         "yaxis": "y3"
        },
        {
         "marker": {
          "color": "#E69F00"
         },
         "orientation": "h",
         "type": "bar",
         "x": [
          0.07234356169391558,
          0.08129358909381108,
          0.09890777088945168,
          0.09890777088945168,
          0.23327070320424553
         ],
         "xaxis": "x4",
         "y": [
          "good  ",
          "emotions  ",
          "expected  ",
          "awesome  ",
          "experience  "
         ],
         "yaxis": "y4"
        },
        {
         "marker": {
          "color": "#56B4E9"
         },
         "orientation": "h",
         "type": "bar",
         "x": [
          0.14604384608208998,
          0.1694892018178559,
          0.19591346926179856,
          0.20241668653746084,
          0.39418099142615726
         ],
         "xaxis": "x5",
         "y": [
          "sense  ",
          "ture  ",
          "happiness  ",
          "peaceful  ",
          "peace  "
         ],
         "yaxis": "y5"
        },
        {
         "marker": {
          "color": "#009E73"
         },
         "orientation": "h",
         "type": "bar",
         "x": [
          0.07516250774831286,
          0.07613313279467347,
          0.07659774738055282,
          0.08286906230674912,
          0.1189261397293636
         ],
         "xaxis": "x6",
         "y": [
          "images  ",
          "sense  ",
          "flat  ",
          "body  ",
          "time  "
         ],
         "yaxis": "y6"
        },
        {
         "marker": {
          "color": "#F0E442"
         },
         "orientation": "h",
         "type": "bar",
         "x": [
          0.07446583940046259,
          0.0775031803069244,
          0.08085317779058353,
          0.13223033770536521,
          0.14554080454144885
         ],
         "xaxis": "x7",
         "y": [
          "need  ",
          "thought  ",
          "eg  ",
          "thoughts  ",
          "people  "
         ],
         "yaxis": "y7"
        },
        {
         "marker": {
          "color": "#D55E00"
         },
         "orientation": "h",
         "type": "bar",
         "x": [
          0.0928852837094561,
          0.09702381334870025,
          0.09702381334870025,
          0.15266031181837986,
          0.16787501894340015
         ],
         "xaxis": "x8",
         "y": [
          "felt  ",
          "dreamlike  ",
          "opened  ",
          "asleep  ",
          "dreaming  "
         ],
         "yaxis": "y8"
        }
       ],
       "layout": {
        "annotations": [
         {
          "font": {
           "size": 16
          },
          "showarrow": false,
          "text": "Topic 0",
          "x": 0.0875,
          "xanchor": "center",
          "xref": "paper",
          "y": 1,
          "yanchor": "bottom",
          "yref": "paper"
         },
         {
          "font": {
           "size": 16
          },
          "showarrow": false,
          "text": "Topic 1",
          "x": 0.36250000000000004,
          "xanchor": "center",
          "xref": "paper",
          "y": 1,
          "yanchor": "bottom",
          "yref": "paper"
         },
         {
          "font": {
           "size": 16
          },
          "showarrow": false,
          "text": "Topic 2",
          "x": 0.6375000000000001,
          "xanchor": "center",
          "xref": "paper",
          "y": 1,
          "yanchor": "bottom",
          "yref": "paper"
         },
         {
          "font": {
           "size": 16
          },
          "showarrow": false,
          "text": "Topic 3",
          "x": 0.9125,
          "xanchor": "center",
          "xref": "paper",
          "y": 1,
          "yanchor": "bottom",
          "yref": "paper"
         },
         {
          "font": {
           "size": 16
          },
          "showarrow": false,
          "text": "Topic 4",
          "x": 0.0875,
          "xanchor": "center",
          "xref": "paper",
          "y": 0.4,
          "yanchor": "bottom",
          "yref": "paper"
         },
         {
          "font": {
           "size": 16
          },
          "showarrow": false,
          "text": "Topic 5",
          "x": 0.36250000000000004,
          "xanchor": "center",
          "xref": "paper",
          "y": 0.4,
          "yanchor": "bottom",
          "yref": "paper"
         },
         {
          "font": {
           "size": 16
          },
          "showarrow": false,
          "text": "Topic 6",
          "x": 0.6375000000000001,
          "xanchor": "center",
          "xref": "paper",
          "y": 0.4,
          "yanchor": "bottom",
          "yref": "paper"
         },
         {
          "font": {
           "size": 16
          },
          "showarrow": false,
          "text": "Topic 7",
          "x": 0.9125,
          "xanchor": "center",
          "xref": "paper",
          "y": 0.4,
          "yanchor": "bottom",
          "yref": "paper"
         }
        ],
        "height": 500,
        "hoverlabel": {
         "bgcolor": "white",
         "font": {
          "family": "Rockwell",
          "size": 16
         }
        },
        "showlegend": false,
        "template": {
         "data": {
          "bar": [
           {
            "error_x": {
             "color": "#2a3f5f"
            },
            "error_y": {
             "color": "#2a3f5f"
            },
            "marker": {
             "line": {
              "color": "white",
              "width": 0.5
             },
             "pattern": {
              "fillmode": "overlay",
              "size": 10,
              "solidity": 0.2
             }
            },
            "type": "bar"
           }
          ],
          "barpolar": [
           {
            "marker": {
             "line": {
              "color": "white",
              "width": 0.5
             },
             "pattern": {
              "fillmode": "overlay",
              "size": 10,
              "solidity": 0.2
             }
            },
            "type": "barpolar"
           }
          ],
          "carpet": [
           {
            "aaxis": {
             "endlinecolor": "#2a3f5f",
             "gridcolor": "#C8D4E3",
             "linecolor": "#C8D4E3",
             "minorgridcolor": "#C8D4E3",
             "startlinecolor": "#2a3f5f"
            },
            "baxis": {
             "endlinecolor": "#2a3f5f",
             "gridcolor": "#C8D4E3",
             "linecolor": "#C8D4E3",
             "minorgridcolor": "#C8D4E3",
             "startlinecolor": "#2a3f5f"
            },
            "type": "carpet"
           }
          ],
          "choropleth": [
           {
            "colorbar": {
             "outlinewidth": 0,
             "ticks": ""
            },
            "type": "choropleth"
           }
          ],
          "contour": [
           {
            "colorbar": {
             "outlinewidth": 0,
             "ticks": ""
            },
            "colorscale": [
             [
              0,
              "#0d0887"
             ],
             [
              0.1111111111111111,
              "#46039f"
             ],
             [
              0.2222222222222222,
              "#7201a8"
             ],
             [
              0.3333333333333333,
              "#9c179e"
             ],
             [
              0.4444444444444444,
              "#bd3786"
             ],
             [
              0.5555555555555556,
              "#d8576b"
             ],
             [
              0.6666666666666666,
              "#ed7953"
             ],
             [
              0.7777777777777778,
              "#fb9f3a"
             ],
             [
              0.8888888888888888,
              "#fdca26"
             ],
             [
              1,
              "#f0f921"
             ]
            ],
            "type": "contour"
           }
          ],
          "contourcarpet": [
           {
            "colorbar": {
             "outlinewidth": 0,
             "ticks": ""
            },
            "type": "contourcarpet"
           }
          ],
          "heatmap": [
           {
            "colorbar": {
             "outlinewidth": 0,
             "ticks": ""
            },
            "colorscale": [
             [
              0,
              "#0d0887"
             ],
             [
              0.1111111111111111,
              "#46039f"
             ],
             [
              0.2222222222222222,
              "#7201a8"
             ],
             [
              0.3333333333333333,
              "#9c179e"
             ],
             [
              0.4444444444444444,
              "#bd3786"
             ],
             [
              0.5555555555555556,
              "#d8576b"
             ],
             [
              0.6666666666666666,
              "#ed7953"
             ],
             [
              0.7777777777777778,
              "#fb9f3a"
             ],
             [
              0.8888888888888888,
              "#fdca26"
             ],
             [
              1,
              "#f0f921"
             ]
            ],
            "type": "heatmap"
           }
          ],
          "heatmapgl": [
           {
            "colorbar": {
             "outlinewidth": 0,
             "ticks": ""
            },
            "colorscale": [
             [
              0,
              "#0d0887"
             ],
             [
              0.1111111111111111,
              "#46039f"
             ],
             [
              0.2222222222222222,
              "#7201a8"
             ],
             [
              0.3333333333333333,
              "#9c179e"
             ],
             [
              0.4444444444444444,
              "#bd3786"
             ],
             [
              0.5555555555555556,
              "#d8576b"
             ],
             [
              0.6666666666666666,
              "#ed7953"
             ],
             [
              0.7777777777777778,
              "#fb9f3a"
             ],
             [
              0.8888888888888888,
              "#fdca26"
             ],
             [
              1,
              "#f0f921"
             ]
            ],
            "type": "heatmapgl"
           }
          ],
          "histogram": [
           {
            "marker": {
             "pattern": {
              "fillmode": "overlay",
              "size": 10,
              "solidity": 0.2
             }
            },
            "type": "histogram"
           }
          ],
          "histogram2d": [
           {
            "colorbar": {
             "outlinewidth": 0,
             "ticks": ""
            },
            "colorscale": [
             [
              0,
              "#0d0887"
             ],
             [
              0.1111111111111111,
              "#46039f"
             ],
             [
              0.2222222222222222,
              "#7201a8"
             ],
             [
              0.3333333333333333,
              "#9c179e"
             ],
             [
              0.4444444444444444,
              "#bd3786"
             ],
             [
              0.5555555555555556,
              "#d8576b"
             ],
             [
              0.6666666666666666,
              "#ed7953"
             ],
             [
              0.7777777777777778,
              "#fb9f3a"
             ],
             [
              0.8888888888888888,
              "#fdca26"
             ],
             [
              1,
              "#f0f921"
             ]
            ],
            "type": "histogram2d"
           }
          ],
          "histogram2dcontour": [
           {
            "colorbar": {
             "outlinewidth": 0,
             "ticks": ""
            },
            "colorscale": [
             [
              0,
              "#0d0887"
             ],
             [
              0.1111111111111111,
              "#46039f"
             ],
             [
              0.2222222222222222,
              "#7201a8"
             ],
             [
              0.3333333333333333,
              "#9c179e"
             ],
             [
              0.4444444444444444,
              "#bd3786"
             ],
             [
              0.5555555555555556,
              "#d8576b"
             ],
             [
              0.6666666666666666,
              "#ed7953"
             ],
             [
              0.7777777777777778,
              "#fb9f3a"
             ],
             [
              0.8888888888888888,
              "#fdca26"
             ],
             [
              1,
              "#f0f921"
             ]
            ],
            "type": "histogram2dcontour"
           }
          ],
          "mesh3d": [
           {
            "colorbar": {
             "outlinewidth": 0,
             "ticks": ""
            },
            "type": "mesh3d"
           }
          ],
          "parcoords": [
           {
            "line": {
             "colorbar": {
              "outlinewidth": 0,
              "ticks": ""
             }
            },
            "type": "parcoords"
           }
          ],
          "pie": [
           {
            "automargin": true,
            "type": "pie"
           }
          ],
          "scatter": [
           {
            "fillpattern": {
             "fillmode": "overlay",
             "size": 10,
             "solidity": 0.2
            },
            "type": "scatter"
           }
          ],
          "scatter3d": [
           {
            "line": {
             "colorbar": {
              "outlinewidth": 0,
              "ticks": ""
             }
            },
            "marker": {
             "colorbar": {
              "outlinewidth": 0,
              "ticks": ""
             }
            },
            "type": "scatter3d"
           }
          ],
          "scattercarpet": [
           {
            "marker": {
             "colorbar": {
              "outlinewidth": 0,
              "ticks": ""
             }
            },
            "type": "scattercarpet"
           }
          ],
          "scattergeo": [
           {
            "marker": {
             "colorbar": {
              "outlinewidth": 0,
              "ticks": ""
             }
            },
            "type": "scattergeo"
           }
          ],
          "scattergl": [
           {
            "marker": {
             "colorbar": {
              "outlinewidth": 0,
              "ticks": ""
             }
            },
            "type": "scattergl"
           }
          ],
          "scattermapbox": [
           {
            "marker": {
             "colorbar": {
              "outlinewidth": 0,
              "ticks": ""
             }
            },
            "type": "scattermapbox"
           }
          ],
          "scatterpolar": [
           {
            "marker": {
             "colorbar": {
              "outlinewidth": 0,
              "ticks": ""
             }
            },
            "type": "scatterpolar"
           }
          ],
          "scatterpolargl": [
           {
            "marker": {
             "colorbar": {
              "outlinewidth": 0,
              "ticks": ""
             }
            },
            "type": "scatterpolargl"
           }
          ],
          "scatterternary": [
           {
            "marker": {
             "colorbar": {
              "outlinewidth": 0,
              "ticks": ""
             }
            },
            "type": "scatterternary"
           }
          ],
          "surface": [
           {
            "colorbar": {
             "outlinewidth": 0,
             "ticks": ""
            },
            "colorscale": [
             [
              0,
              "#0d0887"
             ],
             [
              0.1111111111111111,
              "#46039f"
             ],
             [
              0.2222222222222222,
              "#7201a8"
             ],
             [
              0.3333333333333333,
              "#9c179e"
             ],
             [
              0.4444444444444444,
              "#bd3786"
             ],
             [
              0.5555555555555556,
              "#d8576b"
             ],
             [
              0.6666666666666666,
              "#ed7953"
             ],
             [
              0.7777777777777778,
              "#fb9f3a"
             ],
             [
              0.8888888888888888,
              "#fdca26"
             ],
             [
              1,
              "#f0f921"
             ]
            ],
            "type": "surface"
           }
          ],
          "table": [
           {
            "cells": {
             "fill": {
              "color": "#EBF0F8"
             },
             "line": {
              "color": "white"
             }
            },
            "header": {
             "fill": {
              "color": "#C8D4E3"
             },
             "line": {
              "color": "white"
             }
            },
            "type": "table"
           }
          ]
         },
         "layout": {
          "annotationdefaults": {
           "arrowcolor": "#2a3f5f",
           "arrowhead": 0,
           "arrowwidth": 1
          },
          "autotypenumbers": "strict",
          "coloraxis": {
           "colorbar": {
            "outlinewidth": 0,
            "ticks": ""
           }
          },
          "colorscale": {
           "diverging": [
            [
             0,
             "#8e0152"
            ],
            [
             0.1,
             "#c51b7d"
            ],
            [
             0.2,
             "#de77ae"
            ],
            [
             0.3,
             "#f1b6da"
            ],
            [
             0.4,
             "#fde0ef"
            ],
            [
             0.5,
             "#f7f7f7"
            ],
            [
             0.6,
             "#e6f5d0"
            ],
            [
             0.7,
             "#b8e186"
            ],
            [
             0.8,
             "#7fbc41"
            ],
            [
             0.9,
             "#4d9221"
            ],
            [
             1,
             "#276419"
            ]
           ],
           "sequential": [
            [
             0,
             "#0d0887"
            ],
            [
             0.1111111111111111,
             "#46039f"
            ],
            [
             0.2222222222222222,
             "#7201a8"
            ],
            [
             0.3333333333333333,
             "#9c179e"
            ],
            [
             0.4444444444444444,
             "#bd3786"
            ],
            [
             0.5555555555555556,
             "#d8576b"
            ],
            [
             0.6666666666666666,
             "#ed7953"
            ],
            [
             0.7777777777777778,
             "#fb9f3a"
            ],
            [
             0.8888888888888888,
             "#fdca26"
            ],
            [
             1,
             "#f0f921"
            ]
           ],
           "sequentialminus": [
            [
             0,
             "#0d0887"
            ],
            [
             0.1111111111111111,
             "#46039f"
            ],
            [
             0.2222222222222222,
             "#7201a8"
            ],
            [
             0.3333333333333333,
             "#9c179e"
            ],
            [
             0.4444444444444444,
             "#bd3786"
            ],
            [
             0.5555555555555556,
             "#d8576b"
            ],
            [
             0.6666666666666666,
             "#ed7953"
            ],
            [
             0.7777777777777778,
             "#fb9f3a"
            ],
            [
             0.8888888888888888,
             "#fdca26"
            ],
            [
             1,
             "#f0f921"
            ]
           ]
          },
          "colorway": [
           "#636efa",
           "#EF553B",
           "#00cc96",
           "#ab63fa",
           "#FFA15A",
           "#19d3f3",
           "#FF6692",
           "#B6E880",
           "#FF97FF",
           "#FECB52"
          ],
          "font": {
           "color": "#2a3f5f"
          },
          "geo": {
           "bgcolor": "white",
           "lakecolor": "white",
           "landcolor": "white",
           "showlakes": true,
           "showland": true,
           "subunitcolor": "#C8D4E3"
          },
          "hoverlabel": {
           "align": "left"
          },
          "hovermode": "closest",
          "mapbox": {
           "style": "light"
          },
          "paper_bgcolor": "white",
          "plot_bgcolor": "white",
          "polar": {
           "angularaxis": {
            "gridcolor": "#EBF0F8",
            "linecolor": "#EBF0F8",
            "ticks": ""
           },
           "bgcolor": "white",
           "radialaxis": {
            "gridcolor": "#EBF0F8",
            "linecolor": "#EBF0F8",
            "ticks": ""
           }
          },
          "scene": {
           "xaxis": {
            "backgroundcolor": "white",
            "gridcolor": "#DFE8F3",
            "gridwidth": 2,
            "linecolor": "#EBF0F8",
            "showbackground": true,
            "ticks": "",
            "zerolinecolor": "#EBF0F8"
           },
           "yaxis": {
            "backgroundcolor": "white",
            "gridcolor": "#DFE8F3",
            "gridwidth": 2,
            "linecolor": "#EBF0F8",
            "showbackground": true,
            "ticks": "",
            "zerolinecolor": "#EBF0F8"
           },
           "zaxis": {
            "backgroundcolor": "white",
            "gridcolor": "#DFE8F3",
            "gridwidth": 2,
            "linecolor": "#EBF0F8",
            "showbackground": true,
            "ticks": "",
            "zerolinecolor": "#EBF0F8"
           }
          },
          "shapedefaults": {
           "line": {
            "color": "#2a3f5f"
           }
          },
          "ternary": {
           "aaxis": {
            "gridcolor": "#DFE8F3",
            "linecolor": "#A2B1C6",
            "ticks": ""
           },
           "baxis": {
            "gridcolor": "#DFE8F3",
            "linecolor": "#A2B1C6",
            "ticks": ""
           },
           "bgcolor": "white",
           "caxis": {
            "gridcolor": "#DFE8F3",
            "linecolor": "#A2B1C6",
            "ticks": ""
           }
          },
          "title": {
           "x": 0.05
          },
          "xaxis": {
           "automargin": true,
           "gridcolor": "#EBF0F8",
           "linecolor": "#EBF0F8",
           "ticks": "",
           "title": {
            "standoff": 15
           },
           "zerolinecolor": "#EBF0F8",
           "zerolinewidth": 2
          },
          "yaxis": {
           "automargin": true,
           "gridcolor": "#EBF0F8",
           "linecolor": "#EBF0F8",
           "ticks": "",
           "title": {
            "standoff": 15
           },
           "zerolinecolor": "#EBF0F8",
           "zerolinewidth": 2
          }
         }
        },
        "title": {
         "font": {
          "color": "Black",
          "size": 22
         },
         "text": "Topic Word Scores",
         "x": 0.5,
         "xanchor": "center",
         "yanchor": "top"
        },
        "width": 1000,
        "xaxis": {
         "anchor": "y",
         "domain": [
          0,
          0.175
         ],
         "showgrid": true
        },
        "xaxis2": {
         "anchor": "y2",
         "domain": [
          0.275,
          0.45
         ],
         "showgrid": true
        },
        "xaxis3": {
         "anchor": "y3",
         "domain": [
          0.55,
          0.7250000000000001
         ],
         "showgrid": true
        },
        "xaxis4": {
         "anchor": "y4",
         "domain": [
          0.825,
          1
         ],
         "showgrid": true
        },
        "xaxis5": {
         "anchor": "y5",
         "domain": [
          0,
          0.175
         ],
         "showgrid": true
        },
        "xaxis6": {
         "anchor": "y6",
         "domain": [
          0.275,
          0.45
         ],
         "showgrid": true
        },
        "xaxis7": {
         "anchor": "y7",
         "domain": [
          0.55,
          0.7250000000000001
         ],
         "showgrid": true
        },
        "xaxis8": {
         "anchor": "y8",
         "domain": [
          0.825,
          1
         ],
         "showgrid": true
        },
        "yaxis": {
         "anchor": "x",
         "domain": [
          0.6000000000000001,
          1
         ],
         "showgrid": true
        },
        "yaxis2": {
         "anchor": "x2",
         "domain": [
          0.6000000000000001,
          1
         ],
         "showgrid": true
        },
        "yaxis3": {
         "anchor": "x3",
         "domain": [
          0.6000000000000001,
          1
         ],
         "showgrid": true
        },
        "yaxis4": {
         "anchor": "x4",
         "domain": [
          0.6000000000000001,
          1
         ],
         "showgrid": true
        },
        "yaxis5": {
         "anchor": "x5",
         "domain": [
          0,
          0.4
         ],
         "showgrid": true
        },
        "yaxis6": {
         "anchor": "x6",
         "domain": [
          0,
          0.4
         ],
         "showgrid": true
        },
        "yaxis7": {
         "anchor": "x7",
         "domain": [
          0,
          0.4
         ],
         "showgrid": true
        },
        "yaxis8": {
         "anchor": "x8",
         "domain": [
          0,
          0.4
         ],
         "showgrid": true
        }
       }
      }
     },
     "metadata": {},
     "output_type": "display_data"
    }
   ],
   "source": [
    "model.visualize_barchart() #Visualize the top 10 topics"
   ]
  },
  {
   "cell_type": "code",
   "execution_count": 8,
   "metadata": {},
   "outputs": [
    {
     "data": {
      "application/vnd.plotly.v1+json": {
       "config": {
        "plotlyServerURL": "https://plot.ly"
       },
       "data": [
        {
         "hoverinfo": "text",
         "hovertext": [
          "possible generate full images demand elephant made upwards flowing oil rivulets",
          "wentback many hard mostly beautiful memories without prompting",
          "helicopter busy mind rest relentless stuck",
          "atei feel really relaxed would like j try meditate beforehand still racing thoughts interrupting couldnt totally immersed suffer tinnitus matter always distraction",
          "devtest trevor onsite",
          "felt confusing sense place familiar place like grandmothers basement train station couldnt place sensation strong struggled find memory matched feeling knew felt strong pull familiar place beyond remembering sure glad wasnt drugs",
          "felt incredibly small weight exsistence like heavy blanket rather negative experience felt relief comforted",
          "many psychecik lic experiences many years tame interezted potential taki g co mbining substzncex",
          "devtest trev site",
          "really pleasant relaxing sensation erotic make think sex sense struck enjoyable could sexual experience alone others conjunction sensation also felt like wanted experience intenlse much louder music intense part lighting pattern repeated longer",
          "kept seeing images og peope",
          "felt like fun fare spinning ride two next spinning opposite directions light lot mottled reds greens",
          "calm serenity flashback emotions",
          "anxiousoverwhelmed total lack control first reaklized give entregarme experience wanted feel emotiol somatic understanding control place saw planets revolving rapidly almost colliding spaceship travelling fast felt leaving body behind approaching sun heat cartoonish face man moustache reflected like disco light ceiling fans approached zoomed collective many fans intricacies single fan jumped bloodstream could see red blood cells travelling flow could almost feel warmth blood floated flowed squirrel bioluminescence ocean la gigi end",
          "incredible technicolour experience",
          "intense chaos mind checked subconscious took started talking imagine like looking back life die",
          "wish could remindedme child",
          "journey unknown beautiful quest oblivion",
          "kept thinking game football played tuesdayand hyper aware eyes something something might pull awzy experience",
          "interesting one",
          "brain hallucites go",
          "thought fluffy speech writtenhealth safetyaspect broke sense adventure departure really ecessary meditive part nice perhaps take intro time brief overview histiry pursuits aybea bit science lose faux hand holding lovely experience overall",
          "want fo",
          "musicis calming surreal sensory overwhelming powerful scared ar first calmed feels like sympolism acceptance self fear life isvan unique experience wont forget",
          "seeing hearing deceased relatives smiled could hear distinctive voices",
          "remembered beautiful joyful memories moments family asif waswith beach",
          "amazing sense harmony balance oneness visually moving mandala",
          "felt relaxed comfortable",
          "yourefrom university sussex need stand reality believe souls gendered ogherwise",
          "changing temperature body lights changes intensity experience focussed compared light across whole peripheral vision",
          "rollercoaster sun dont make get",
          "euphoric healing experience",
          "good vibes",
          "ittransported memories deeper onnection ever beforei could walk around room almost reach felt like therein memory looking back places deep unsure totally conscious felt like almost dream like state aesthesia",
          "felt overwhelming sense euphoria love everyone room felt journeying together felt hopeful",
          "trying remember patterns",
          "felt like parents house couldnt figure room felt like old house shared ex walking daily comute towards old front door felt like walking dog normal experiences usually time everything scary felt like people things surroundings closing sides made jump grab chest",
          "deep memories emotive reflections images ive seen",
          "something ever experienced something wish could week",
          "saw stars hexagons tesselating twisting zooming left right reds blues greens galactic bacground wanted engage annoyed started ands topped brain developing themes louder music better would liked slight difusion light something keep eyes shut intensity demanding open eyes concious mind thinking stopping thinking end funny couldnt help thinking would happen drum beat maybe allow non euro music much love john hopkins",
          "first resistance gone bliss saw colourful mandalas keeping pace beats perfect synchronicity amazed never experienced something equal beyond words",
          "saw lot fast movement despite emotiolly felt absolute stillness deep calm periphery vision sometimes saw objects people tried interpret first decided fully present experience overall enjoyed dreamachine still feel stilness feeling bliss",
          "ajourney relaxedand abit worried iknewi would safe",
          "good stuff",
          "memories meditationswimming weightlessnessspace",
          "fabulous experience didnt wantit end like eyesopen throughoutand yet totally enveloped sound",
          "felt clouds holding breath",
          "felt like looking across universe beyond realm experience felt deep connection humankind overwhelming sense peace left feeling profoundly moved tearful",
          "felt warm cold sensations hands one point relaxed sleepy end found flashing lights little intense eye mask worked well times overall enjoyable relaxing experience",
          "entry another univerise",
          "totally immersive experience felt like inside kaleidescope saw bright yellow like thesun took myhappy place",
          "falling snow peaceful lost cornfield staring tunnel scared",
          "different thoughts perception light manner human descernment develops towards something",
          "deep relaxation like deep tissue massage mind safe healthy groovy drugfree trip long last afterwards felt deepest deepest sleep worried might give headache didnt great peace soothed tired",
          "fasciting experience great thrapeutic potential",
          "people talking made see people walking towards really creepy",
          "loved would like try couple hours",
          "thought fluffy speech writtenhealth safetyaspect broke sense adventure departure really ecessary meditive part nice perhaps take intro time brief overview histiry pursuits aybea bit science lose faux hand holding lovely experience overall",
          "found experience moving emotiol transcendental peaceful although also felt somewhat anxious participated pschycedelic trial dmt months ago experience took back music especially par one perceives sound actual trip find feeling peaceful present like back truly amazing experiencehard describe thank creating",
          "like interactive multicoloured multidimensiol escher painting",
          "felt relaxed also stimulated brightness frequency flickering felt attacked yet never felt scared weak",
          "experience felt almost transformative lights started gradually built moved states mindfullness distracted everyday thoughts sometimes wrestling two crescendoed cacophony sound light reached state full awareness arms weightless parts body felt distant unrecognisable",
          "good loads ket still decent",
          "first thouhht really intense went phases felt rush anxiety taking journey colour beautiful calmingor rigid uncomfortable ididnt know look sudden felt like disembodied huge wave eurphoria took felt like totally free itsthe comfort ive ever felt magical",
          "pattern red white lights thatflashed andbecame intensewhen lights flashed intensely alsofelt sleep abit thinkingof partner could visualise",
          "dreamt harbinger new planet shaping world life equity wish belong someone really loved missed",
          "felt outerspace experiencing transition death comforting whilst felt small insignificant also felt free powerful",
          "felt pulled vortex time waiting awake different dimension",
          "immense comfort even much experience frantic towards end saw deep blue snow incredibly peaceful",
          "times felt concern experience would end soon",
          "someone sleep paralysis regularly quite interesting brain automatically reached details prove wasnt real felt much present couldnt meditate either even though tried visuals pretty fun though",
          "incredible sensory experience huge feeling calm peace times felt like l back womb",
          "quite honest think fell asleep dont really rememberwhat saw",
          "found lost thought near end stopped aware visual experience thought stuff similar stuff normally think wonder didnt work tall chair",
          "would like next make felt artwork",
          "dreamachine put quite strange amazing mood want catch still sensitizing feeling one afterglow wonderful seeing deep textures powdery lights arise vision best bit taking feelingss music gliding morphing visions according feel music memory childhood spending lots time staring windows media player audio visualiser listening songs liked seemed amazing time made think synesthetic experiences theyre precious worth seeking appreciating like music visual thing",
          "felt like coming home",
          "busy airport waiting area landing egypt",
          "began violent falling away darkness",
          "alot memories",
          "brains neurons veins elephants",
          "evershifting visions often kaleidoscopic geometric cosmic linked music could shaped intention obliquely mysteriously taken alterte realities unintelligible considerate guide",
          "past memories people really life anymore",
          "end sharp music connected sound helicopters smell burning associated war majority experienced heart shapes cosmic lights galaxies",
          "collection keyholes could see paintingthrough animals merpeople morphing intoeach wireframe structures animated moviestyle montage future",
          "spoke year old self year old self happy",
          null
         ],
         "marker": {
          "color": "#CFD8DC",
          "opacity": 0.5,
          "size": 5
         },
         "mode": "markers+text",
         "name": "other",
         "showlegend": false,
         "type": "scattergl",
         "x": [
          7.67816162109375,
          7.854881286621094,
          10.169209480285645,
          5.910043716430664,
          6.504738807678223,
          7.426916599273682,
          6.680342197418213,
          6.662621021270752,
          6.309013843536377,
          5.836549282073975,
          8.09210205078125,
          8.914031982421875,
          6.689488887786865,
          7.823222637176514,
          6.229731559753418,
          7.026769161224365,
          7.239706039428711,
          7.336818218231201,
          7.54337215423584,
          5.364267349243164,
          7.362523555755615,
          7.856286525726318,
          7.563272476196289,
          6.534894943237305,
          6.709278583526611,
          8.105884552001953,
          7.693545818328857,
          5.365481853485107,
          7.8974504470825195,
          9.053590774536133,
          9.04721736907959,
          4.7183098793029785,
          5.534985065460205,
          7.593660831451416,
          4.784658432006836,
          11.041611671447754,
          6.64506721496582,
          7.739345073699951,
          6.960977077484131,
          7.548848628997803,
          7.430734157562256,
          7.660405158996582,
          5.3507208824157715,
          5.543694019317627,
          7.481345176696777,
          7.63731050491333,
          6.554728031158447,
          8.156075477600098,
          5.650071144104004,
          7.989898681640625,
          9.233355522155762,
          8.122980117797852,
          7.174183368682861,
          5.647258281707764,
          6.3031086921691895,
          6.824468612670898,
          7.4690022468566895,
          7.810092926025391,
          6.771997928619385,
          7.819748401641846,
          5.874070167541504,
          7.220097064971924,
          5.587255954742432,
          6.500726222991943,
          9.04001522064209,
          7.765368938446045,
          8.03148365020752,
          8.50944995880127,
          8.016813278198242,
          5.997689247131348,
          6.963322162628174,
          6.426009654998779,
          7.400945663452148,
          7.035046100616455,
          7.543816089630127,
          7.43087100982666,
          6.606909275054932,
          10.16256046295166,
          8.081934928894043,
          7.901828289031982,
          7.482177257537842,
          9.90224552154541,
          7.794656753540039,
          9.13577938079834,
          7.759072303771973,
          4.788051605224609,
          7.286491394042969
         ],
         "y": [
          8.09481143951416,
          5.474247932434082,
          5.737807273864746,
          5.984498977661133,
          8.131851196289062,
          5.983606815338135,
          6.314517974853516,
          6.725455284118652,
          7.968339443206787,
          6.479250907897949,
          8.048332214355469,
          7.280371189117432,
          6.359222888946533,
          6.825140953063965,
          7.716365814208984,
          5.153954982757568,
          5.379907608032227,
          7.603883266448975,
          6.455069541931152,
          6.983036994934082,
          7.735836505889893,
          7.2577409744262695,
          8.429197311401367,
          6.5823259353637695,
          6.074034214019775,
          5.841332912445068,
          6.3394389152526855,
          6.291340351104736,
          7.216257572174072,
          7.627633094787598,
          6.7861456871032715,
          5.959903717041016,
          7.505001068115234,
          5.515900135040283,
          5.877345085144043,
          7.878861904144287,
          6.069304466247559,
          5.498035430908203,
          5.672543525695801,
          7.170379161834717,
          6.509908199310303,
          6.090115070343018,
          6.190946102142334,
          7.510665416717529,
          5.72460412979126,
          6.937469482421875,
          6.494081020355225,
          5.114690780639648,
          5.7704758644104,
          7.073151588439941,
          6.7685546875,
          6.732024192810059,
          6.113265514373779,
          5.805418014526367,
          7.676569938659668,
          5.9874701499938965,
          8.470989227294922,
          7.2941975593566895,
          6.75653076171875,
          8.250895500183105,
          5.639817237854004,
          6.045648574829102,
          7.595170497894287,
          6.515732765197754,
          8.085156440734863,
          5.1060261726379395,
          5.0170135498046875,
          5.438605785369873,
          6.675114631652832,
          6.499509811401367,
          5.313649654388428,
          6.449002265930176,
          5.366819381713867,
          5.339189052581787,
          8.444759368896484,
          6.848321914672852,
          5.369504451751709,
          5.846455097198486,
          6.696354389190674,
          5.4032416343688965,
          7.893218040466309,
          6.67414665222168,
          5.435879230499268,
          6.399046421051025,
          8.06266975402832,
          6.482595920562744,
          6.580730438232422
         ]
        },
        {
         "hoverinfo": "text",
         "hovertext": [
          "sequential rich kalidescopic patterning sense depth structures felt ite tural rather architectural fantastical transcendental",
          "incredible kakeidoscopic journey set ckmbitions colours shapes took different dimensions like flying crashing different dimensions shockingly vivid white red black angular kakeidoscooe elements grew textured physical forms within kakeidoscope blue mist dots black void like space tunnel pink yellow round shapes incredible deep orange morohed bred amazing new forms calm turquoise blue hints yellow like gradient sunset",
          "geometrical rythmic pulsating cosmos front eyes infinently varied beutiful return time without help dream machine",
          "experienced range images chose many colours shapes asked describe saw perhaps focused one saw octagol like shapes saw rotations like washed yellow light intense part smooth heavy intense red light mixed yellow like fire looked like spaceship moving like eruption light engine firing thank interesting",
          "saw map london walked new york floating space like star angel floating past memories forgiving ever felt sad numb",
          "floating air travelling universe flowers blooming",
          "portal moving towards away fractaling everything",
          "thousansds fluttering butterfly wings flying space incredible speed phosporescence water welsh blanket mothers blue handmade patchwork quilt tesselations hexagons overwhelming beauty spinning planet childhood memory staring glittering eyelashes rainbow bright sun",
          "hurtling space time speed couldnt determine felt like experienced big bang everything since really hard put finger shedding different layers felt connected life forms felt much energy pulsating body",
          "points intense chaos broke clear defined counter clockwise spiralling tunnel two small semi circles centre going opposite way",
          "lots pulsating spiralling images take specific forms",
          "colour fields varying colours changed rapidly moving patterns sometimes patterns appeared move downwards front eyes sometimes across vision sometimes towards point infinity",
          "saw incredible kaleidescopes patterns made solid stripes colour edges kaleidescopes started see corridors gardens though doorways imagined world inside patterns one moment darker saw deep mass blue green sparks pulsed almost like jelly fish wanted stay space see worlds",
          "lot kaleidoscope flowers falling blossoms snow flakes ripples like rain drops water",
          "riding ray sort flying barren icelandic desert spinning universe",
          "felt like understood islamic architecture featurees geometriic shapes promintly becasue see shaops close eyes obviously spiritual",
          "moving tunnel branches green see green start finish",
          "often felt connected space floating weightless surrounded millions stars travelling great speed time sometimes felt looked like wormholes felt elated completely peaceful found smiling broadly moments",
          "intense fast movement sound shapes colour aand light immersive anticipated",
          "colurs shapes stars ac inecoce",
          "kaleidascopic guest beauty beast experience kept seeing happy spinning teapots",
          "changing colours interlocking diamond triangles faintly distinct light appear grow shrink",
          "saw kaleidoscope like childhood toy abstract space dunes sunshine",
          "l felt like flower slowly unfurling sunlight like trippy mickey mouse disney animation seen kalaidescope",
          "bright blue skies waterfall flowing backwards flock birds universe",
          "huge landscapes flashing backgrounds undulating foreground quuckly becoming new perspective",
          "like particles star emiting light space",
          "saw many shapes colours usually swirling falling around moving vortex tunnel often red orange sometimes bluey green underwater",
          "blue red cross initially dots various colours one point got quite animated bounced around fair bit dozed",
          "initially spiral like spool old film running projector figures standing though dance starfields reminiscent stargate oddly robbie williams",
          "surprised time th experience high sensory seeing peripheral live structures pyramidal shapes another thing found strange seeing clearly pentagram centre spiral normal one well reversed rotating",
          "felt powerless pulled along experience like dragged along space portal tunnel high speed saw stars outlines planets saw large cross two wolf shapes facing saw large butterfydragon shape descending stars saw large huge open space paterned looked like white black tiles saw large ske like shapes writhing space tunnel different colour",
          "wasmy second time experance black white cold bluues grids fractials previous pink tones vortexes sensation flyingin wormhole",
          "became music music became floating flying multidimensiol kaleidoscope beautiful geometry symmetry colour",
          "incredible colours patterns tended shift focusing sound colours difficult hold equally present",
          "hard focus single pattern wanted focus one would become less focused let pass would able see clearer",
          "desert figures moving across dunes underwater among whales viewing london sky line one point followed helicopter saw lot orange blue bubbly patterns",
          "sense moving portal transported like end viewed kaleidoscope wearing kaleidogoggles immense",
          "towards end went space take intense scary end floating peacefully orbit glow earth could see stars",
          "flying coourful vortex overwhelming vast spaceand insignificant",
          "peacefull contemplation vivid mandelbrot type kaladescopic patterns",
          "thought universe felt like moving moving centre drawn saw honeycomb shapes thought bees saw blocks colour red yellow felt dramatic",
          "varirtyof lights colours movinginward outwards",
          "outside kelidoscope colour rotating universe stars beyond everything one point felt like looking buildings white curved modernist like futuristic city",
          "seeing figures wearing black hats height music banda stars twirling tunnels slanting right left well zooming creamsicle room totally disorienting picked spot tried blink lots uncertainty went okay",
          "colours lines spheres twirls",
          "kalsczscope colours",
          "one point light darkened vision shifted field blue one recognised deep shade derek jarmans film",
          "travelling space",
          "saw x distinct images staircaseescalator treasure chests x opening x closedlocked bookmark symbol",
          "bizarre lots observing others giant bubble people coming protected others control dome",
          "geometric kaleidescope shapes overlayed moving cosmosnight sky slow exposure different pulling directions moving portal time space",
          "saw something like moroccan tile pattern based around small geometric crosses diagols lots lots flickering moving sometimes focusing particularly one shape others colourful lots small different blocks colour repetitive shapes colours repeated sometimes couple colours became domint like blue red fluffy green pattern couple times small geometric shapes started grey black white sometimes felt like beginnings ends musical light episodes periods stillness one colour mainly warm yellow orangey red",
          "felt like vsarely flying brain space warm sunset",
          "intro red spiralsalmost like cyclone",
          "felt body fact planet earth like took trip space",
          "felt one point saw someone leave room like dream also lifted spiralled like waltzer saw many kinds patterns sparks geometric shapes contrarotating spirals feet feel bit floaty",
          "saw shapes waves azulejo tiles patchwork blurry landscapes vague outlines animals shapes stag running saw past love wedding dress another swimming ocean",
          "jouney forward maybe backwards slow fast really fast really sloooow many fractals colours",
          "experienced absolute chaos mirrors im currently feeling emotiol saw every combition shape colour seemingly combining random",
          "saw vertical tree branches green leaves towards end felt though moving sleep state point",
          "visions ture petals flowers sun connection things vast desert dunes multitude cells zooming shapes floral crystalline technology humans chaos stillness",
          "wheat field girl summer roller coaster speeding bird flying earths atmosphere space sun covered creamy milk swim deep ocean ske coming towards feeling cocoon womb",
          "suddenly fely like shot air travelling time space saw stars pass overhead everything taking kalaeidoscopic texture also saw alogue timer counting filling whole field view",
          "quite meshes orders dark colours emerging blackness one point hexagons pulsating pink black began punching sides altertely lasted seconds gone longer would",
          "saw hexagons blue tunnel thought bees generativity pure full electricity",
          "fractals intense colours sometimes mix memories single short scenes beautiful situations past",
          "vca fuzz patterns",
          "towards end felt like slowly floating upwards",
          "sensory rollercoaster",
          "visual doesnt look anything like whst saw much geometric kaledoscopic sky like",
          "mass moving shapes vivid colours continually changing evolving enveloping",
          "perception various geometric constructs dyson speheres mobius strips rippling water etc",
          "kaleidoscope light patterns",
          "colourful patterns",
          "geometric paterns colour mainly sometimes white dots moved rapidly direcion shape centre sometimes moved opposite direction towards centre point like calledoscope linear helicopter like sound could see like rotors geometrical shapes one front eye",
          "light shapes emerging receding patterns folding ofeash kaleidescope effects wasalso interesting image stabilised scan field vision side fo side explore periphery",
          "saw film strips sons lips giant wooshing manga dragon focussed grass slate little windows stained glass",
          "red red shapes travel tbrough time",
          "towards end washing machine spin going helicopter moving different possitions",
          "web gold dark universe saw energy connection things domed tower full stars mountains arches appeared surrendered geometry falling lifted tunnels felt ascending warmth sun saw waters moving face earth covering deepness outside time felt close religious experience profoundly moving elating",
          "felt thatgods light shone upon going back beginning universe big bang andseeing creatures microcosm cellular level well planets stars also end depths ocean",
          "sea f green stars moving like oil water wading fading glimspe something disappearing shifting sharp angled reds bold lines intersectoring like gate black swirling spheres orange turning spiral sense happening seems arrive vision virbates sense leaves",
          "moved wild tide atomic energy converging around us",
          "one central heart shape kept returning every colour rainbow one point sky immersed like skydiving went space saw galaxies stars lots kaleidoscope shapes",
          "felt though experiencing formation solar system eartha place warmth light arising dust spinning chaos suspended infinite void",
          "space even ive never physically",
          "intense visual clarity hyperresolution extremely rich",
          "spirals pulsing",
          "felt like ajourney space riding kaleidoscope body experience occasion felt spinning sensastion like could see glaxies star clusters around invisibke kaleidsospascecraft felt body lifted tracvelling theuniverse profound throughout felt calm exalted",
          "numerous random shapes sometimes geometric sometimes dots feeling things comings sense travelling along galaxy highway towards end",
          "frustration couldnt stop thinking outside concentdate happening occasiol tumbles patterns made leap back",
          null
         ],
         "marker": {
          "opacity": 0.5,
          "size": 5
         },
         "mode": "markers+text",
         "name": "0_like_saw_shapes",
         "text": [
          "",
          "",
          "",
          "",
          "",
          "",
          "",
          "",
          "",
          "",
          "",
          "",
          "",
          "",
          "",
          "",
          "",
          "",
          "",
          "",
          "",
          "",
          "",
          "",
          "",
          "",
          "",
          "",
          "",
          "",
          "",
          "",
          "",
          "",
          "",
          "",
          "",
          "",
          "",
          "",
          "",
          "",
          "",
          "",
          "",
          "",
          "",
          "",
          "",
          "",
          "",
          "",
          "",
          "",
          "",
          "",
          "",
          "",
          "",
          "",
          "",
          "",
          "",
          "",
          "",
          "",
          "",
          "",
          "",
          "",
          "",
          "",
          "",
          "",
          "",
          "",
          "",
          "",
          "",
          "",
          "",
          "",
          "",
          "",
          "",
          "",
          "",
          "",
          "",
          "",
          "",
          "",
          "0_like_saw_shapes"
         ],
         "textfont": {
          "size": 12
         },
         "type": "scattergl",
         "x": [
          10.146915435791016,
          9.967997550964355,
          10.405899047851562,
          10.395050048828125,
          8.768722534179688,
          9.536408424377441,
          10.729610443115234,
          9.366093635559082,
          9.314599990844727,
          11.343603134155273,
          11.167739868164062,
          11.100526809692383,
          10.278128623962402,
          9.62259292602539,
          9.656732559204102,
          10.211464881896973,
          10.98222541809082,
          9.432852745056152,
          10.768442153930664,
          10.554281234741211,
          9.34697151184082,
          10.980582237243652,
          9.7178316116333,
          9.607139587402344,
          9.535141944885254,
          10.866654396057129,
          9.85086441040039,
          11.366747856140137,
          11.26082706451416,
          10.990873336791992,
          11.08034896850586,
          10.19912052154541,
          11.35252571105957,
          9.928401947021484,
          10.83017349243164,
          10.675979614257812,
          10.19736099243164,
          10.3173246383667,
          9.77499771118164,
          9.567726135253906,
          9.744559288024902,
          10.336996078491211,
          11.021199226379395,
          10.5889310836792,
          10.037216186523438,
          11.185586929321289,
          10.216221809387207,
          10.536001205444336,
          9.378636360168457,
          10.046079635620117,
          11.006893157958984,
          10.591947555541992,
          11.20047664642334,
          9.078655242919922,
          11.349077224731445,
          9.205401420593262,
          10.791948318481445,
          10.3056058883667,
          11.160872459411621,
          11.162089347839355,
          10.761099815368652,
          9.306755065917969,
          9.18836784362793,
          10.31872844696045,
          11.350569725036621,
          10.311893463134766,
          11.086494445800781,
          11.222261428833008,
          10.685784339904785,
          8.853006362915039,
          10.676065444946289,
          11.160846710205078,
          10.40274429321289,
          10.038057327270508,
          11.124446868896484,
          10.921072959899902,
          10.507829666137695,
          10.180314064025879,
          11.347509384155273,
          10.300955772399902,
          9.468423843383789,
          9.638653755187988,
          10.933090209960938,
          9.576665878295898,
          10.488448143005371,
          9.535355567932129,
          9.434109687805176,
          10.707501411437988,
          11.332199096679688,
          9.087873458862305,
          10.926517486572266,
          10.679868698120117,
          10.344515800476074
         ],
         "y": [
          6.986512184143066,
          7.110050201416016,
          6.520574569702148,
          7.063819885253906,
          5.808499813079834,
          6.610621929168701,
          6.669234752655029,
          6.962560176849365,
          5.572198867797852,
          6.932492733001709,
          6.797511100769043,
          7.633955478668213,
          6.905561447143555,
          6.922064781188965,
          5.719967365264893,
          6.5172929763793945,
          6.27392053604126,
          5.695054054260254,
          7.940838813781738,
          6.406453609466553,
          6.878104209899902,
          7.877506256103516,
          6.910780906677246,
          6.901195049285889,
          6.544994354248047,
          7.098392486572266,
          5.858765125274658,
          7.364371299743652,
          7.582866668701172,
          6.67914342880249,
          6.904719352722168,
          6.205530166625977,
          7.334834575653076,
          6.986736297607422,
          7.968898296356201,
          7.692245006561279,
          6.385338306427002,
          6.879493236541748,
          5.828139305114746,
          5.579586982727051,
          7.101017951965332,
          6.730550289154053,
          7.600146770477295,
          6.488864898681641,
          6.4727325439453125,
          7.608961582183838,
          7.570806503295898,
          7.586570739746094,
          5.5852131843566895,
          6.301691055297852,
          6.914560317993164,
          6.652449131011963,
          7.737273693084717,
          5.97239875793457,
          7.068882942199707,
          5.743570327758789,
          6.397537708282471,
          6.964648246765137,
          7.723992347717285,
          7.437585830688477,
          6.064428806304932,
          7.307025909423828,
          6.696356296539307,
          6.2407331466674805,
          7.371043682098389,
          6.88516092300415,
          7.685551643371582,
          7.790678024291992,
          6.070699691772461,
          6.682584762573242,
          6.798919677734375,
          7.821347236633301,
          6.760452747344971,
          7.251131534576416,
          7.9050679206848145,
          7.4247517585754395,
          7.552027225494385,
          7.114749431610107,
          7.466302871704102,
          5.8176589012146,
          6.04025936126709,
          5.85545015335083,
          6.815799713134766,
          5.821080684661865,
          6.5668487548828125,
          5.800540447235107,
          5.598769187927246,
          7.438608169555664,
          6.93657922744751,
          5.937788009643555,
          6.726059436798096,
          6.462848663330078,
          6.792148113250732
         ]
        },
        {
         "hoverinfo": "text",
         "hovertext": [
          "psychedelic colours",
          "physical discomfort amazing patterns intense colours yearning desire see questions",
          "would love experience continual stimulation without breaks see images evolve",
          "mainly stressed moments calm went dark blue saw lots colours patterns didnt like lot found hoping would become colour combition like find emotiolly peaceful one point darker background starry bright pink yellow blue shapes dancing liked white background made feel like clinical space made stressed generally prefer dark",
          "struggled let go though amazing mind make colours shapes images tried think living fear experience live",
          "curiositywant contol uble intense orange",
          "persolly hard find peace intensity bright light eyes wouldnt stop watering kept mind occupied still really cool experience",
          "whole spectrum colors shapes colors never seen moving many directions pircing thorough body mind ecstatic experience wished would never end end felt home deep sense warm loving embrace like mothers wumb",
          "range emotions patterns colour movement sense really beingbinside head",
          "guides voice began speak telling us felt colours stopped time realised interaction quite short consciousness drifted early stages sand man cometh brains alpha waves quickly displaced exterlly generated momentary visions garbled messy free association nonsensical stories act scent kindling dreams",
          "hope colour",
          "lots ofvisuals towards end people love thencestors previously know apparent within eye good bad stories immaterial experiences eye wider space colours reverberating patterns many eyes many perceptions born many lifetimes witnin themall eyes within flow colours inside outside syes infinite",
          "lots colors",
          "noxtalgia andpdace optimism escapism ive visited three timesand different experience wearing contacts geometric last timei saw lot white geomtricforms mixed smoke times saw hyperspace style visuals red blue",
          "colours patterns sense awe brain light creating powerful hallucitions little afraid first good get touch fear feel beautiful experience",
          "thought alot rands journey rhudian experiencing history aiel eyes ancestors",
          "found thoughts developing stories images eyes closed vast colours brain generated impressive art gallerty",
          "wondered would like die calm serene frightening isaw lots warmcolours black crossesno green",
          "breathing exercize would help staff could show us could copy way delivered fast long wasnt rythm found eye mask uncomfortable forehead took would prefer use hands shield light abit cold dreamachine especially moving quite echoy dreamachine could hear someone snoring staff openin shutting thedoor near beginning end might idea box tissues reflection room",
          "strobe lighting orange yellow domint colours like old kaleidoscopes kids main experience visual senses involved",
          "deep relaxation sense hope made feel positive though sometging guiding mei saw deep red heart distance well flowers glitter skeskin eye owl",
          "aware started follow train thought maybe going deeoer didnt see much imagery whdn concentratingon colours shapes spent lot timethunjing aboutthe way experience world sesoriky whether normal compaired people",
          "brightest fullvision orange never entire sight orange lots lines n sw ne nw se mostly red orange yellow also black white blue dont know ever saw green pink brown purple moments body jerked like try p mind sometimes active overthinking actually memory always something obvious captivating come back",
          "colours like testcard first lightly muted called pink mind saw wash deep pink also saw text almost like ancient runes one point felt like iwas flying remembered difficult experiences afterwards felt euphoric",
          "first unsettling lights flashing like kalediscope front eyes even thouh eyes closed didnt feel control wondered would positive found could shut wanted able relax almost falling asleep times experience colours changed patterns sometimes like sunrise othertimes like something science fiction blue backgrounds white linked rectangles",
          "saw insideof eyelids whole new way",
          "dissolved light",
          "lights colours sense calm joy",
          "brain oscar worthy director",
          null
         ],
         "marker": {
          "opacity": 0.5,
          "size": 5
         },
         "mode": "markers+text",
         "name": "1_colours_eyes_would",
         "text": [
          "",
          "",
          "",
          "",
          "",
          "",
          "",
          "",
          "",
          "",
          "",
          "",
          "",
          "",
          "",
          "",
          "",
          "",
          "",
          "",
          "",
          "",
          "",
          "",
          "",
          "",
          "",
          "",
          "",
          "1_colours_eyes_would"
         ],
         "textfont": {
          "size": 12
         },
         "type": "scattergl",
         "x": [
          8.63066577911377,
          8.61509895324707,
          8.220427513122559,
          8.66353988647461,
          8.060416221618652,
          8.569844245910645,
          9.32436752319336,
          8.763042449951172,
          8.915252685546875,
          8.045882225036621,
          8.807018280029297,
          8.073728561401367,
          8.866353988647461,
          8.437295913696289,
          8.808988571166992,
          8.099916458129883,
          8.007328987121582,
          8.551616668701172,
          7.768918514251709,
          9.015253067016602,
          8.954056739807129,
          8.191679954528809,
          8.689837455749512,
          8.536428451538086,
          8.607253074645996,
          7.6983466148376465,
          9.439205169677734,
          8.944112777709961,
          7.555346488952637,
          8.512455940246582
         ],
         "y": [
          8.288694381713867,
          7.980803966522217,
          8.077875137329102,
          8.013744354248047,
          8.052329063415527,
          8.375679016113281,
          8.21594524383545,
          7.748646259307861,
          7.864361763000488,
          7.416463375091553,
          8.376412391662598,
          7.579551696777344,
          8.38992977142334,
          7.660141944885254,
          7.972054481506348,
          7.636292457580566,
          7.834636211395264,
          8.392990112304688,
          7.270430088043213,
          8.118249893188477,
          7.858886241912842,
          7.660282611846924,
          8.213722229003906,
          7.9320478439331055,
          7.946321487426758,
          7.035984992980957,
          8.174256324768066,
          8.075749397277832,
          7.810899257659912,
          7.930116176605225
         ]
        },
        {
         "hoverinfo": "text",
         "hovertext": [
          "feel amazed saw afriend past free field green hill made weep joy saw poverty forebears loved thanked",
          "felt like boat charlie chocolate factory",
          "felt like llama intro credit scene monty python holy grail points",
          "many different visuals experiences one ocean house grass fields near cliffs next ocean approaching heaven one last ones walworth road",
          "intense geometric shapes spiralling deep ocean blue circle vivid memories dad carrying shoulders young girl felt like back short dream machine unforgettable magical lifeaffirming experience",
          "interesting experience definitely easy moment reminded used get bored school assemblies press eyes watch patterns unfold visuals kaleidoscopic although saw moroccan landscape dolphin swimming away cave various points",
          "direct experience infinite creativity much beauty vivid colours patterns like travelling dimensions imagine would go similar journey transition realms",
          "like riding willie wonkas boat crazy tunnels charlie chocolate factory",
          "wild experience could stayed dreamachine day complete disconnection body strong desire turn intensity explore visual phases kaleidoscope swirls geometric patterns oranges reds blues green suddenly blackwhite phases feeling motion floating looking sky looking beneath flying forwards backwards tunnel",
          "earth falling sun least nineties rave visuals cycle death rebirth envisaged eighties dd summer meadow lot diamond ripples",
          "wild ride",
          "saw serene beach scene people text subtitled movie set south france",
          "scary pointy laughing clown face test period came later able control turned pecking bird zooming space someone wanted show planet far away flew cities deserts one point wasflyingclose ground herd elephants met god one eye middle theirforehead great sense ofadventure wellbeing traveller welcome ontheir peaceful world",
          "times saw clear blue ocean saw people yellow walking past bus lots children playing parents throwing balls air various characters focused would disappear end everything calmed saw person amongst white hospital bed saw hazy silhouette man walking away looked shoulder disappearing filly pregnt mother amongst blue cradled husband felt like circle life soul leaving returning emotiolly moved wonderful experience wasnt expecting",
          null
         ],
         "marker": {
          "opacity": 0.5,
          "size": 5
         },
         "mode": "markers+text",
         "name": "2_saw_ocean_visuals",
         "text": [
          "",
          "",
          "",
          "",
          "",
          "",
          "",
          "",
          "",
          "",
          "",
          "",
          "",
          "",
          "2_saw_ocean_visuals"
         ],
         "textfont": {
          "size": 12
         },
         "type": "scattergl",
         "x": [
          7.946558475494385,
          8.426012992858887,
          8.442469596862793,
          8.675215721130371,
          8.610088348388672,
          5.902332782745361,
          8.150557518005371,
          8.622784614562988,
          8.752349853515625,
          8.84855842590332,
          8.778824806213379,
          8.32368278503418,
          8.083215713500977,
          8.02035140991211,
          8.255928039550781
         ],
         "y": [
          6.412726402282715,
          6.62809419631958,
          6.6245856285095215,
          6.479118347167969,
          6.852987766265869,
          7.078586101531982,
          7.793715953826904,
          6.859643459320068,
          7.10463809967041,
          6.987493515014648,
          7.1555681228637695,
          6.239410877227783,
          7.1054887771606445,
          6.626152992248535,
          6.8534440994262695
         ]
        },
        {
         "hoverinfo": "text",
         "hovertext": [
          "zeen experience",
          "confusion difficult make note seeing ive never experienced also felt happy smiledat certain points quite weird",
          "starting fee lfar significantinteresting emotions experience stopped",
          "absolutely tripped away good came n experienced experience u set",
          "overall amazing experience",
          "perfectly cromulent experience",
          "thoughts felt safe fun gives odd feeling wanting keep feeling types thing",
          "awesome experience expected sometimes verging oppressive never scary well lead",
          "awesome experience much expected diolch yn fawr tess calming",
          "interesting experience felt relaxed",
          "good experience surprise sensation play mind emotions thanks experience",
          "similar stuff normally experience",
          "experience felt like new form art individual host unique experience",
          "pareidolia unnerving sometimes amazing experience though",
          null
         ],
         "marker": {
          "opacity": 0.5,
          "size": 5
         },
         "mode": "markers+text",
         "name": "3_experience_awesome_expected",
         "text": [
          "",
          "",
          "",
          "",
          "",
          "",
          "",
          "",
          "",
          "",
          "",
          "",
          "",
          "",
          "3_experience_awesome_expected"
         ],
         "textfont": {
          "size": 12
         },
         "type": "scattergl",
         "x": [
          5.891845226287842,
          5.918352127075195,
          6.239945411682129,
          5.840905666351318,
          5.857769012451172,
          5.718766689300537,
          6.533549785614014,
          6.213964939117432,
          6.103865146636963,
          5.637648105621338,
          5.8770060539245605,
          5.839382648468018,
          5.91762638092041,
          5.778807163238525,
          5.954959869384766
         ],
         "y": [
          7.2343525886535645,
          6.474035263061523,
          6.461302757263184,
          6.893989086151123,
          7.289323329925537,
          7.090266227722168,
          6.048827171325684,
          6.596318244934082,
          6.669742584228516,
          6.737250328063965,
          6.696232318878174,
          6.8680338859558105,
          7.254537582397461,
          6.904719829559326,
          6.801352500915527
         ]
        },
        {
         "hoverinfo": "text",
         "hovertext": [
          "overarching ture love",
          "calm peaceful state blissful even vastness poetic beautiful",
          "feeling peace tranquillity",
          "felt peaceful euphoric sense wonder awe",
          "sen se comfort connection anin inner peace clam safe",
          "peace sunlight ture",
          "great sense calm belonging",
          "utter peace happiness",
          "peace contentment",
          "amazing sense peace positivity",
          "peacefulness guidance",
          "peaceful experience",
          "happiness joy adventure",
          null
         ],
         "marker": {
          "opacity": 0.5,
          "size": 5
         },
         "mode": "markers+text",
         "name": "4_peace_peaceful_happiness",
         "text": [
          "",
          "",
          "",
          "",
          "",
          "",
          "",
          "",
          "",
          "",
          "",
          "",
          "",
          "4_peace_peaceful_happiness"
         ],
         "textfont": {
          "size": 12
         },
         "type": "scattergl",
         "x": [
          4.321987152099609,
          4.220076084136963,
          4.342100143432617,
          4.488720893859863,
          5.125124454498291,
          4.184670448303223,
          4.4800543785095215,
          4.241598606109619,
          4.204250335693359,
          4.331145286560059,
          4.136508464813232,
          4.381426811218262,
          4.871675491333008,
          4.40994930267334
         ],
         "y": [
          6.475338459014893,
          6.277374267578125,
          6.133953094482422,
          6.0462446212768555,
          6.193484783172607,
          6.366434574127197,
          6.206402778625488,
          6.262498378753662,
          6.248818397521973,
          6.198206901550293,
          6.246133804321289,
          6.322275161743164,
          6.604344367980957,
          6.275500774383545
         ]
        },
        {
         "hoverinfo": "text",
         "hovertext": [
          "thought throughout visualising body specifically head",
          "sense time",
          "sense expansion moving towards something forward motion motivation progress purposes",
          "saw vasarely like artworks motion sense time weird experience felt really short bright light bit hurting overall experience amazing",
          "varying journey speed awareness times rapid felt though thr body brain wouldnt able process moments calm soothing desire retain recall shapes colours andfeelings envoked strong understanding experience may lost coming",
          "visual experience felt abit flat sa focused eyes head experience much would rather engage body work somatic aspect dropped body feel felt like flat survace lie canvas face painting images appeared beautiful thanks",
          "loss sense time images werent images feeling like transported moving",
          "time place seem happened yet come",
          "st time felt like seperate front vision nd time around vast difference happen bigger profound akmost intense",
          null
         ],
         "marker": {
          "opacity": 0.5,
          "size": 5
         },
         "mode": "markers+text",
         "name": "5_time_body_flat",
         "text": [
          "",
          "",
          "",
          "",
          "",
          "",
          "",
          "",
          "",
          "5_time_body_flat"
         ],
         "textfont": {
          "size": 12
         },
         "type": "scattergl",
         "x": [
          7.247631549835205,
          8.00574779510498,
          7.879664897918701,
          8.157540321350098,
          7.638725757598877,
          7.287267684936523,
          8.047220230102539,
          8.246546745300293,
          8.375875473022461,
          7.876246929168701
         ],
         "y": [
          6.700446605682373,
          5.970151424407959,
          6.075135231018066,
          6.239793300628662,
          6.431549549102783,
          6.668255805969238,
          6.100189685821533,
          5.607316493988037,
          5.483798027038574,
          6.141848564147949
         ]
        },
        {
         "hoverinfo": "text",
         "hovertext": [
          "nd time st one better coz felt relaxed got ideas time someone kept coughing disrupted thought process feel anything ban people cough",
          "thought god",
          "felt like brain massaged sometimes felt overwhelming think became overwhelming brain would cut normal thoughts eg like need buy tge shop dinner sometimes would see clips eg like film interdespersed everyniw",
          "th visit wouldbe great therapy teach mindfulness train people still thoughts also possibilities recreatiol use perhaps even people want get drugs dm please",
          "random thoughts connected people close others events journeys",
          "also experienced ghost people purifferal verison sometimes fleeting felt walkjng around room whispy milky apperence also dyslexic itwasinteresting experence nuero divergent brained person",
          "thought feeling people around made feel vulnrable",
          "wanting thoughts overtake experience",
          "really thoughts day things need forgotten",
          null
         ],
         "marker": {
          "opacity": 0.5,
          "size": 5
         },
         "mode": "markers+text",
         "name": "6_people_thoughts_eg",
         "text": [
          "",
          "",
          "",
          "",
          "",
          "",
          "",
          "",
          "",
          "6_people_thoughts_eg"
         ],
         "textfont": {
          "size": 12
         },
         "type": "scattergl",
         "x": [
          6.049598217010498,
          6.843138217926025,
          6.557636737823486,
          6.735420227050781,
          6.946079254150391,
          6.707892417907715,
          6.7021894454956055,
          6.9168925285339355,
          7.056848526000977,
          6.723966121673584
         ],
         "y": [
          5.949589729309082,
          5.591932773590088,
          5.765880584716797,
          6.398873329162598,
          5.900094509124756,
          5.901429653167725,
          5.954399585723877,
          5.8039140701293945,
          5.67078971862793,
          5.88187837600708
         ]
        },
        {
         "hoverinfo": "text",
         "hovertext": [
          "didnt know whether asleep awake felt like drifted consciousness never opened eyes felt range emotions sometimes wanted laugh sometimes felt deep sexual feeling relaxing filly opened eyes felt refreshed new",
          "felt similar mri machine also unsuccesfully trying fall asleep insomnia period",
          "put dreamlike semiconcious state sensation quite asleep coming wakefulness dreaming real things conversations",
          "felt sleepy bit anxious times due speed flashing lights profound thoughts experience rather almost fell asleep dreamlike way",
          "peace tranquility joy stimulation arousal swirling patterns geometricshapes shifting changing got lost body disappeared cam eback short dreams",
          "dreaming awake flashes random places maybe like dead",
          "felt like dreaming dream little",
          "dreaming dreamingly",
          null
         ],
         "marker": {
          "opacity": 0.5,
          "size": 5
         },
         "mode": "markers+text",
         "name": "7_dreaming_asleep_opened",
         "text": [
          "",
          "",
          "",
          "",
          "",
          "",
          "",
          "",
          "7_dreaming_asleep_opened"
         ],
         "textfont": {
          "size": 12
         },
         "type": "scattergl",
         "x": [
          6.520631790161133,
          6.528138160705566,
          6.614652633666992,
          6.512504577636719,
          6.675231456756592,
          6.655300140380859,
          6.768299579620361,
          6.63648796081543,
          6.613905906677246
         ],
         "y": [
          5.117081165313721,
          5.07871675491333,
          4.98384428024292,
          5.07543420791626,
          5.0648274421691895,
          4.982292652130127,
          5.141403675079346,
          4.978691101074219,
          5.052786350250244
         ]
        },
        {
         "hoverinfo": "text",
         "hovertext": [
          "something wonderful",
          "immersed calm thrilled",
          "relaxation calm curiosity",
          "pleasure intrigue",
          "joy relaxation",
          "sparked much curiosity really understand",
          "submission fun mild euphoric moments",
          "intrigued excited",
          null
         ],
         "marker": {
          "opacity": 0.5,
          "size": 5
         },
         "mode": "markers+text",
         "name": "8_curiosity_relaxation_calm",
         "text": [
          "",
          "",
          "",
          "",
          "",
          "",
          "",
          "",
          "8_curiosity_relaxation_calm"
         ],
         "textfont": {
          "size": 12
         },
         "type": "scattergl",
         "x": [
          5.059397220611572,
          5.128039360046387,
          5.299687385559082,
          5.23831844329834,
          5.120852470397949,
          5.327083110809326,
          4.788904666900635,
          5.290683269500732,
          5.156620979309082
         ],
         "y": [
          6.640420436859131,
          6.6112871170043945,
          6.360683441162109,
          6.726720809936523,
          6.580132007598877,
          6.763653755187988,
          6.145664691925049,
          6.827301979064941,
          6.5819830894470215
         ]
        },
        {
         "hoverinfo": "text",
         "hovertext": [
          "like acid dmt safer everyone try",
          "felt relaxed safe excited start experience began float tunnel filled bright red blue light outer space dimension body felt heavy sense sinkining time flying forward experience intensified felt euphoric emotiol like lsd trip body sensation drugs quite satisfying think helped process trauma drug use end journey back earth floating dark blue purple water wanted go forever",
          "saw mostly red diamond kaleidescope recede distance zoomed towards breakneck speed sense tiring hallucitins created intense vivid world stayed threatened overwhelm times could feel sort physical effectstess pressure front brain face almost felt taking hit pulse light moments without flashing lights blissful taken halluginogens past lacked rrative emotiol connection comparatively scientific ture presentation perhaps cutting one emotiol spiritual potential although probably highly subjective exhausting similar way though must go eat something",
          "closest thing ill ever experience drugs",
          "like acid",
          "like taking hallucinogenic drugs younger",
          "complete journey closest sober experience honest better psychedelics",
          "exactly rember lsd without scary parts",
          null
         ],
         "marker": {
          "opacity": 0.5,
          "size": 5
         },
         "mode": "markers+text",
         "name": "9_drugs_emotiol_acid",
         "text": [
          "",
          "",
          "",
          "",
          "",
          "",
          "",
          "",
          "9_drugs_emotiol_acid"
         ],
         "textfont": {
          "size": 12
         },
         "type": "scattergl",
         "x": [
          6.963013648986816,
          7.482032775878906,
          7.473208427429199,
          7.034796237945557,
          7.009608745574951,
          7.06229829788208,
          7.142910480499268,
          7.265422821044922,
          7.179161548614502
         ],
         "y": [
          7.784959316253662,
          6.94417667388916,
          7.2931599617004395,
          7.722589015960693,
          7.780270099639893,
          7.736944675445557,
          7.651915073394775,
          7.436275482177734,
          7.54378604888916
         ]
        },
        {
         "hoverinfo": "text",
         "hovertext": [
          "sound inside body",
          "bubbling freedom suddenly seeing somewhere dark yet bright resulting tingling sensation altertive parts body also pure relaxation",
          "profihnd sense f relaxation neved experienced came pure connectivity body slight floating sensation",
          "experienced different states depending lighting darkness constant light made feel relaxed first two levels strobing made feel partly overwhelmed anxious fil rapid level strobing felt relaxing",
          "experienced lot physical sensations stomach face inside head still feel like brain massaged",
          "intense connection body surroundings",
          "intensity connectionvastnessspaciousnesslovi ngawareness",
          "relaxing reflective worries stopped put porportion",
          null
         ],
         "marker": {
          "opacity": 0.5,
          "size": 5
         },
         "mode": "markers+text",
         "name": "10_body_strobing_experienced",
         "text": [
          "",
          "",
          "",
          "",
          "",
          "",
          "",
          "",
          "10_body_strobing_experienced"
         ],
         "textfont": {
          "size": 12
         },
         "type": "scattergl",
         "x": [
          6.892524242401123,
          6.015202045440674,
          5.9859466552734375,
          5.834864616394043,
          6.241113185882568,
          5.978395938873291,
          5.982630729675293,
          5.834431171417236,
          6.095638751983643
         ],
         "y": [
          6.93627405166626,
          5.529708385467529,
          5.516171455383301,
          5.679970741271973,
          5.6753129959106445,
          5.492776393890381,
          5.4876885414123535,
          5.695342540740967,
          5.751655578613281
         ]
        },
        {
         "hoverinfo": "text",
         "hovertext": [
          "flashing patterns music distracted linear ratiol thinking sat back enjoyed sensory pleasure colours music",
          "relaxing patterened music",
          "aware music tgroughout changing rythms tones",
          "stimulation relaxation within music light",
          "heard various music patterns different speeds high low notes music seemed build crescendo near end session move slower calming sequence enhanced patterns made feel like journey",
          "really enjoyed music zen",
          "sound created visuals created pattern energy movement across body",
          "good beats leading helpful positive ambient sounds",
          null
         ],
         "marker": {
          "opacity": 0.5,
          "size": 5
         },
         "mode": "markers+text",
         "name": "11_music_enjoyed_created",
         "text": [
          "",
          "",
          "",
          "",
          "",
          "",
          "",
          "",
          "11_music_enjoyed_created"
         ],
         "textfont": {
          "size": 12
         },
         "type": "scattergl",
         "x": [
          6.710607528686523,
          6.726232528686523,
          6.893823623657227,
          6.689929008483887,
          6.854908466339111,
          7.08268404006958,
          6.89329719543457,
          6.818790435791016,
          6.833784103393555
         ],
         "y": [
          7.349469184875488,
          7.2464070320129395,
          7.140860557556152,
          7.2841715812683105,
          7.094639301300049,
          7.144547462463379,
          6.9241461753845215,
          7.20449686050415,
          7.173592567443848
         ]
        },
        {
         "hoverinfo": "text",
         "hovertext": [
          "brief thinking death could look like experience decided assume go near ddath experience check thoughts could build smth thzn visual thing cannot say totally useless expecting",
          "life death rebirth",
          "life retired",
          "healing part didnt realise decayed entirely",
          "kind felt like dying reincarting starting life also felt like seeing origin galaxy trying understand meaning life",
          "hope thats death feels like x",
          null
         ],
         "marker": {
          "opacity": 0.5,
          "size": 5
         },
         "mode": "markers+text",
         "name": "12_life_death_retired",
         "text": [
          "",
          "",
          "",
          "",
          "",
          "",
          "12_life_death_retired"
         ],
         "textfont": {
          "size": 12
         },
         "type": "scattergl",
         "x": [
          7.378543853759766,
          7.57440185546875,
          7.6109843254089355,
          7.483750343322754,
          7.982180595397949,
          7.657858848571777,
          7.614620208740234
         ],
         "y": [
          4.9353508949279785,
          4.902195453643799,
          4.9687418937683105,
          4.809938907623291,
          4.994623184204102,
          4.842672348022461,
          4.9089202880859375
         ]
        }
       ],
       "layout": {
        "annotations": [
         {
          "showarrow": false,
          "text": "D1",
          "x": 3.5160321950912476,
          "y": 6.915042841434479,
          "yshift": 10
         },
         {
          "showarrow": false,
          "text": "D2",
          "x": 8.293896114826202,
          "xshift": 10,
          "y": 9.74163761138916
         }
        ],
        "height": 750,
        "shapes": [
         {
          "line": {
           "color": "#CFD8DC",
           "width": 2
          },
          "type": "line",
          "x0": 8.293896114826202,
          "x1": 8.293896114826202,
          "y0": 4.088448071479798,
          "y1": 9.74163761138916
         },
         {
          "line": {
           "color": "#9E9E9E",
           "width": 2
          },
          "type": "line",
          "x0": 3.5160321950912476,
          "x1": 13.071760034561157,
          "y0": 6.915042841434479,
          "y1": 6.915042841434479
         }
        ],
        "template": {
         "data": {
          "bar": [
           {
            "error_x": {
             "color": "rgb(36,36,36)"
            },
            "error_y": {
             "color": "rgb(36,36,36)"
            },
            "marker": {
             "line": {
              "color": "white",
              "width": 0.5
             },
             "pattern": {
              "fillmode": "overlay",
              "size": 10,
              "solidity": 0.2
             }
            },
            "type": "bar"
           }
          ],
          "barpolar": [
           {
            "marker": {
             "line": {
              "color": "white",
              "width": 0.5
             },
             "pattern": {
              "fillmode": "overlay",
              "size": 10,
              "solidity": 0.2
             }
            },
            "type": "barpolar"
           }
          ],
          "carpet": [
           {
            "aaxis": {
             "endlinecolor": "rgb(36,36,36)",
             "gridcolor": "white",
             "linecolor": "white",
             "minorgridcolor": "white",
             "startlinecolor": "rgb(36,36,36)"
            },
            "baxis": {
             "endlinecolor": "rgb(36,36,36)",
             "gridcolor": "white",
             "linecolor": "white",
             "minorgridcolor": "white",
             "startlinecolor": "rgb(36,36,36)"
            },
            "type": "carpet"
           }
          ],
          "choropleth": [
           {
            "colorbar": {
             "outlinewidth": 1,
             "tickcolor": "rgb(36,36,36)",
             "ticks": "outside"
            },
            "type": "choropleth"
           }
          ],
          "contour": [
           {
            "colorbar": {
             "outlinewidth": 1,
             "tickcolor": "rgb(36,36,36)",
             "ticks": "outside"
            },
            "colorscale": [
             [
              0,
              "#440154"
             ],
             [
              0.1111111111111111,
              "#482878"
             ],
             [
              0.2222222222222222,
              "#3e4989"
             ],
             [
              0.3333333333333333,
              "#31688e"
             ],
             [
              0.4444444444444444,
              "#26828e"
             ],
             [
              0.5555555555555556,
              "#1f9e89"
             ],
             [
              0.6666666666666666,
              "#35b779"
             ],
             [
              0.7777777777777778,
              "#6ece58"
             ],
             [
              0.8888888888888888,
              "#b5de2b"
             ],
             [
              1,
              "#fde725"
             ]
            ],
            "type": "contour"
           }
          ],
          "contourcarpet": [
           {
            "colorbar": {
             "outlinewidth": 1,
             "tickcolor": "rgb(36,36,36)",
             "ticks": "outside"
            },
            "type": "contourcarpet"
           }
          ],
          "heatmap": [
           {
            "colorbar": {
             "outlinewidth": 1,
             "tickcolor": "rgb(36,36,36)",
             "ticks": "outside"
            },
            "colorscale": [
             [
              0,
              "#440154"
             ],
             [
              0.1111111111111111,
              "#482878"
             ],
             [
              0.2222222222222222,
              "#3e4989"
             ],
             [
              0.3333333333333333,
              "#31688e"
             ],
             [
              0.4444444444444444,
              "#26828e"
             ],
             [
              0.5555555555555556,
              "#1f9e89"
             ],
             [
              0.6666666666666666,
              "#35b779"
             ],
             [
              0.7777777777777778,
              "#6ece58"
             ],
             [
              0.8888888888888888,
              "#b5de2b"
             ],
             [
              1,
              "#fde725"
             ]
            ],
            "type": "heatmap"
           }
          ],
          "heatmapgl": [
           {
            "colorbar": {
             "outlinewidth": 1,
             "tickcolor": "rgb(36,36,36)",
             "ticks": "outside"
            },
            "colorscale": [
             [
              0,
              "#440154"
             ],
             [
              0.1111111111111111,
              "#482878"
             ],
             [
              0.2222222222222222,
              "#3e4989"
             ],
             [
              0.3333333333333333,
              "#31688e"
             ],
             [
              0.4444444444444444,
              "#26828e"
             ],
             [
              0.5555555555555556,
              "#1f9e89"
             ],
             [
              0.6666666666666666,
              "#35b779"
             ],
             [
              0.7777777777777778,
              "#6ece58"
             ],
             [
              0.8888888888888888,
              "#b5de2b"
             ],
             [
              1,
              "#fde725"
             ]
            ],
            "type": "heatmapgl"
           }
          ],
          "histogram": [
           {
            "marker": {
             "line": {
              "color": "white",
              "width": 0.6
             }
            },
            "type": "histogram"
           }
          ],
          "histogram2d": [
           {
            "colorbar": {
             "outlinewidth": 1,
             "tickcolor": "rgb(36,36,36)",
             "ticks": "outside"
            },
            "colorscale": [
             [
              0,
              "#440154"
             ],
             [
              0.1111111111111111,
              "#482878"
             ],
             [
              0.2222222222222222,
              "#3e4989"
             ],
             [
              0.3333333333333333,
              "#31688e"
             ],
             [
              0.4444444444444444,
              "#26828e"
             ],
             [
              0.5555555555555556,
              "#1f9e89"
             ],
             [
              0.6666666666666666,
              "#35b779"
             ],
             [
              0.7777777777777778,
              "#6ece58"
             ],
             [
              0.8888888888888888,
              "#b5de2b"
             ],
             [
              1,
              "#fde725"
             ]
            ],
            "type": "histogram2d"
           }
          ],
          "histogram2dcontour": [
           {
            "colorbar": {
             "outlinewidth": 1,
             "tickcolor": "rgb(36,36,36)",
             "ticks": "outside"
            },
            "colorscale": [
             [
              0,
              "#440154"
             ],
             [
              0.1111111111111111,
              "#482878"
             ],
             [
              0.2222222222222222,
              "#3e4989"
             ],
             [
              0.3333333333333333,
              "#31688e"
             ],
             [
              0.4444444444444444,
              "#26828e"
             ],
             [
              0.5555555555555556,
              "#1f9e89"
             ],
             [
              0.6666666666666666,
              "#35b779"
             ],
             [
              0.7777777777777778,
              "#6ece58"
             ],
             [
              0.8888888888888888,
              "#b5de2b"
             ],
             [
              1,
              "#fde725"
             ]
            ],
            "type": "histogram2dcontour"
           }
          ],
          "mesh3d": [
           {
            "colorbar": {
             "outlinewidth": 1,
             "tickcolor": "rgb(36,36,36)",
             "ticks": "outside"
            },
            "type": "mesh3d"
           }
          ],
          "parcoords": [
           {
            "line": {
             "colorbar": {
              "outlinewidth": 1,
              "tickcolor": "rgb(36,36,36)",
              "ticks": "outside"
             }
            },
            "type": "parcoords"
           }
          ],
          "pie": [
           {
            "automargin": true,
            "type": "pie"
           }
          ],
          "scatter": [
           {
            "fillpattern": {
             "fillmode": "overlay",
             "size": 10,
             "solidity": 0.2
            },
            "type": "scatter"
           }
          ],
          "scatter3d": [
           {
            "line": {
             "colorbar": {
              "outlinewidth": 1,
              "tickcolor": "rgb(36,36,36)",
              "ticks": "outside"
             }
            },
            "marker": {
             "colorbar": {
              "outlinewidth": 1,
              "tickcolor": "rgb(36,36,36)",
              "ticks": "outside"
             }
            },
            "type": "scatter3d"
           }
          ],
          "scattercarpet": [
           {
            "marker": {
             "colorbar": {
              "outlinewidth": 1,
              "tickcolor": "rgb(36,36,36)",
              "ticks": "outside"
             }
            },
            "type": "scattercarpet"
           }
          ],
          "scattergeo": [
           {
            "marker": {
             "colorbar": {
              "outlinewidth": 1,
              "tickcolor": "rgb(36,36,36)",
              "ticks": "outside"
             }
            },
            "type": "scattergeo"
           }
          ],
          "scattergl": [
           {
            "marker": {
             "colorbar": {
              "outlinewidth": 1,
              "tickcolor": "rgb(36,36,36)",
              "ticks": "outside"
             }
            },
            "type": "scattergl"
           }
          ],
          "scattermapbox": [
           {
            "marker": {
             "colorbar": {
              "outlinewidth": 1,
              "tickcolor": "rgb(36,36,36)",
              "ticks": "outside"
             }
            },
            "type": "scattermapbox"
           }
          ],
          "scatterpolar": [
           {
            "marker": {
             "colorbar": {
              "outlinewidth": 1,
              "tickcolor": "rgb(36,36,36)",
              "ticks": "outside"
             }
            },
            "type": "scatterpolar"
           }
          ],
          "scatterpolargl": [
           {
            "marker": {
             "colorbar": {
              "outlinewidth": 1,
              "tickcolor": "rgb(36,36,36)",
              "ticks": "outside"
             }
            },
            "type": "scatterpolargl"
           }
          ],
          "scatterternary": [
           {
            "marker": {
             "colorbar": {
              "outlinewidth": 1,
              "tickcolor": "rgb(36,36,36)",
              "ticks": "outside"
             }
            },
            "type": "scatterternary"
           }
          ],
          "surface": [
           {
            "colorbar": {
             "outlinewidth": 1,
             "tickcolor": "rgb(36,36,36)",
             "ticks": "outside"
            },
            "colorscale": [
             [
              0,
              "#440154"
             ],
             [
              0.1111111111111111,
              "#482878"
             ],
             [
              0.2222222222222222,
              "#3e4989"
             ],
             [
              0.3333333333333333,
              "#31688e"
             ],
             [
              0.4444444444444444,
              "#26828e"
             ],
             [
              0.5555555555555556,
              "#1f9e89"
             ],
             [
              0.6666666666666666,
              "#35b779"
             ],
             [
              0.7777777777777778,
              "#6ece58"
             ],
             [
              0.8888888888888888,
              "#b5de2b"
             ],
             [
              1,
              "#fde725"
             ]
            ],
            "type": "surface"
           }
          ],
          "table": [
           {
            "cells": {
             "fill": {
              "color": "rgb(237,237,237)"
             },
             "line": {
              "color": "white"
             }
            },
            "header": {
             "fill": {
              "color": "rgb(217,217,217)"
             },
             "line": {
              "color": "white"
             }
            },
            "type": "table"
           }
          ]
         },
         "layout": {
          "annotationdefaults": {
           "arrowhead": 0,
           "arrowwidth": 1
          },
          "autotypenumbers": "strict",
          "coloraxis": {
           "colorbar": {
            "outlinewidth": 1,
            "tickcolor": "rgb(36,36,36)",
            "ticks": "outside"
           }
          },
          "colorscale": {
           "diverging": [
            [
             0,
             "rgb(103,0,31)"
            ],
            [
             0.1,
             "rgb(178,24,43)"
            ],
            [
             0.2,
             "rgb(214,96,77)"
            ],
            [
             0.3,
             "rgb(244,165,130)"
            ],
            [
             0.4,
             "rgb(253,219,199)"
            ],
            [
             0.5,
             "rgb(247,247,247)"
            ],
            [
             0.6,
             "rgb(209,229,240)"
            ],
            [
             0.7,
             "rgb(146,197,222)"
            ],
            [
             0.8,
             "rgb(67,147,195)"
            ],
            [
             0.9,
             "rgb(33,102,172)"
            ],
            [
             1,
             "rgb(5,48,97)"
            ]
           ],
           "sequential": [
            [
             0,
             "#440154"
            ],
            [
             0.1111111111111111,
             "#482878"
            ],
            [
             0.2222222222222222,
             "#3e4989"
            ],
            [
             0.3333333333333333,
             "#31688e"
            ],
            [
             0.4444444444444444,
             "#26828e"
            ],
            [
             0.5555555555555556,
             "#1f9e89"
            ],
            [
             0.6666666666666666,
             "#35b779"
            ],
            [
             0.7777777777777778,
             "#6ece58"
            ],
            [
             0.8888888888888888,
             "#b5de2b"
            ],
            [
             1,
             "#fde725"
            ]
           ],
           "sequentialminus": [
            [
             0,
             "#440154"
            ],
            [
             0.1111111111111111,
             "#482878"
            ],
            [
             0.2222222222222222,
             "#3e4989"
            ],
            [
             0.3333333333333333,
             "#31688e"
            ],
            [
             0.4444444444444444,
             "#26828e"
            ],
            [
             0.5555555555555556,
             "#1f9e89"
            ],
            [
             0.6666666666666666,
             "#35b779"
            ],
            [
             0.7777777777777778,
             "#6ece58"
            ],
            [
             0.8888888888888888,
             "#b5de2b"
            ],
            [
             1,
             "#fde725"
            ]
           ]
          },
          "colorway": [
           "#1F77B4",
           "#FF7F0E",
           "#2CA02C",
           "#D62728",
           "#9467BD",
           "#8C564B",
           "#E377C2",
           "#7F7F7F",
           "#BCBD22",
           "#17BECF"
          ],
          "font": {
           "color": "rgb(36,36,36)"
          },
          "geo": {
           "bgcolor": "white",
           "lakecolor": "white",
           "landcolor": "white",
           "showlakes": true,
           "showland": true,
           "subunitcolor": "white"
          },
          "hoverlabel": {
           "align": "left"
          },
          "hovermode": "closest",
          "mapbox": {
           "style": "light"
          },
          "paper_bgcolor": "white",
          "plot_bgcolor": "white",
          "polar": {
           "angularaxis": {
            "gridcolor": "rgb(232,232,232)",
            "linecolor": "rgb(36,36,36)",
            "showgrid": false,
            "showline": true,
            "ticks": "outside"
           },
           "bgcolor": "white",
           "radialaxis": {
            "gridcolor": "rgb(232,232,232)",
            "linecolor": "rgb(36,36,36)",
            "showgrid": false,
            "showline": true,
            "ticks": "outside"
           }
          },
          "scene": {
           "xaxis": {
            "backgroundcolor": "white",
            "gridcolor": "rgb(232,232,232)",
            "gridwidth": 2,
            "linecolor": "rgb(36,36,36)",
            "showbackground": true,
            "showgrid": false,
            "showline": true,
            "ticks": "outside",
            "zeroline": false,
            "zerolinecolor": "rgb(36,36,36)"
           },
           "yaxis": {
            "backgroundcolor": "white",
            "gridcolor": "rgb(232,232,232)",
            "gridwidth": 2,
            "linecolor": "rgb(36,36,36)",
            "showbackground": true,
            "showgrid": false,
            "showline": true,
            "ticks": "outside",
            "zeroline": false,
            "zerolinecolor": "rgb(36,36,36)"
           },
           "zaxis": {
            "backgroundcolor": "white",
            "gridcolor": "rgb(232,232,232)",
            "gridwidth": 2,
            "linecolor": "rgb(36,36,36)",
            "showbackground": true,
            "showgrid": false,
            "showline": true,
            "ticks": "outside",
            "zeroline": false,
            "zerolinecolor": "rgb(36,36,36)"
           }
          },
          "shapedefaults": {
           "fillcolor": "black",
           "line": {
            "width": 0
           },
           "opacity": 0.3
          },
          "ternary": {
           "aaxis": {
            "gridcolor": "rgb(232,232,232)",
            "linecolor": "rgb(36,36,36)",
            "showgrid": false,
            "showline": true,
            "ticks": "outside"
           },
           "baxis": {
            "gridcolor": "rgb(232,232,232)",
            "linecolor": "rgb(36,36,36)",
            "showgrid": false,
            "showline": true,
            "ticks": "outside"
           },
           "bgcolor": "white",
           "caxis": {
            "gridcolor": "rgb(232,232,232)",
            "linecolor": "rgb(36,36,36)",
            "showgrid": false,
            "showline": true,
            "ticks": "outside"
           }
          },
          "title": {
           "x": 0.05
          },
          "xaxis": {
           "automargin": true,
           "gridcolor": "rgb(232,232,232)",
           "linecolor": "rgb(36,36,36)",
           "showgrid": false,
           "showline": true,
           "ticks": "outside",
           "title": {
            "standoff": 15
           },
           "zeroline": false,
           "zerolinecolor": "rgb(36,36,36)"
          },
          "yaxis": {
           "automargin": true,
           "gridcolor": "rgb(232,232,232)",
           "linecolor": "rgb(36,36,36)",
           "showgrid": false,
           "showline": true,
           "ticks": "outside",
           "title": {
            "standoff": 15
           },
           "zeroline": false,
           "zerolinecolor": "rgb(36,36,36)"
          }
         }
        },
        "title": {
         "font": {
          "color": "Black",
          "size": 22
         },
         "text": "<b>Documents and Topics</b>",
         "x": 0.5,
         "xanchor": "center",
         "yanchor": "top"
        },
        "width": 1200,
        "xaxis": {
         "visible": false
        },
        "yaxis": {
         "visible": false
        }
       }
      }
     },
     "metadata": {},
     "output_type": "display_data"
    }
   ],
   "source": [
    "model.visualize_documents(reports_filtered.values) #Visualize the documents in each topic"
   ]
  },
  {
   "cell_type": "code",
   "execution_count": 9,
   "metadata": {},
   "outputs": [
    {
     "data": {
      "application/vnd.plotly.v1+json": {
       "config": {
        "plotlyServerURL": "https://plot.ly"
       },
       "data": [
        {
         "hoverinfo": "text",
         "marker": {
          "color": "rgb(61,153,112)"
         },
         "mode": "lines",
         "type": "scatter",
         "x": [
          0,
          0.9234118363044401,
          0.9234118363044401,
          0
         ],
         "xaxis": "x",
         "y": [
          -5,
          -5,
          -15,
          -15
         ],
         "yaxis": "y"
        },
        {
         "hoverinfo": "text",
         "marker": {
          "color": "rgb(255,65,54)"
         },
         "mode": "lines",
         "type": "scatter",
         "x": [
          0,
          0.8518298655596446,
          0.8518298655596446,
          0
         ],
         "xaxis": "x",
         "y": [
          -45,
          -45,
          -55,
          -55
         ],
         "yaxis": "y"
        },
        {
         "hoverinfo": "text",
         "marker": {
          "color": "rgb(255,65,54)"
         },
         "mode": "lines",
         "type": "scatter",
         "x": [
          0,
          0.8937793639378784,
          0.8937793639378784,
          0.8518298655596446
         ],
         "xaxis": "x",
         "y": [
          -35,
          -35,
          -50,
          -50
         ],
         "yaxis": "y"
        },
        {
         "hoverinfo": "text",
         "marker": {
          "color": "rgb(255,65,54)"
         },
         "mode": "lines",
         "type": "scatter",
         "x": [
          0,
          0.6398205092399374,
          0.6398205092399374,
          0
         ],
         "xaxis": "x",
         "y": [
          -65,
          -65,
          -75,
          -75
         ],
         "yaxis": "y"
        },
        {
         "hoverinfo": "text",
         "marker": {
          "color": "rgb(255,65,54)"
         },
         "mode": "lines",
         "type": "scatter",
         "x": [
          0.6398205092399374,
          0.8130455562456834,
          0.8130455562456834,
          0
         ],
         "xaxis": "x",
         "y": [
          -70,
          -70,
          -85,
          -85
         ],
         "yaxis": "y"
        },
        {
         "hoverinfo": "text",
         "marker": {
          "color": "rgb(255,65,54)"
         },
         "mode": "lines",
         "type": "scatter",
         "x": [
          0.8937793639378784,
          0.9746227617465439,
          0.9746227617465439,
          0.8130455562456834
         ],
         "xaxis": "x",
         "y": [
          -42.5,
          -42.5,
          -77.5,
          -77.5
         ],
         "yaxis": "y"
        },
        {
         "hoverinfo": "text",
         "marker": {
          "color": "rgb(255,65,54)"
         },
         "mode": "lines",
         "type": "scatter",
         "x": [
          0,
          0.9838506199639475,
          0.9838506199639475,
          0.9746227617465439
         ],
         "xaxis": "x",
         "y": [
          -25,
          -25,
          -60,
          -60
         ],
         "yaxis": "y"
        },
        {
         "hoverinfo": "text",
         "marker": {
          "color": "rgb(35,205,205)"
         },
         "mode": "lines",
         "type": "scatter",
         "x": [
          0,
          0.895837623736157,
          0.895837623736157,
          0
         ],
         "xaxis": "x",
         "y": [
          -105,
          -105,
          -115,
          -115
         ],
         "yaxis": "y"
        },
        {
         "hoverinfo": "text",
         "marker": {
          "color": "rgb(35,205,205)"
         },
         "mode": "lines",
         "type": "scatter",
         "x": [
          0.895837623736157,
          0.9164596089969506,
          0.9164596089969506,
          0
         ],
         "xaxis": "x",
         "y": [
          -110,
          -110,
          -125,
          -125
         ],
         "yaxis": "y"
        },
        {
         "hoverinfo": "text",
         "marker": {
          "color": "rgb(35,205,205)"
         },
         "mode": "lines",
         "type": "scatter",
         "x": [
          0,
          0.9480649866279129,
          0.9480649866279129,
          0.9164596089969506
         ],
         "xaxis": "x",
         "y": [
          -95,
          -95,
          -117.5,
          -117.5
         ],
         "yaxis": "y"
        },
        {
         "hoverinfo": "text",
         "marker": {
          "color": "rgb(0,116,217)"
         },
         "mode": "lines",
         "type": "scatter",
         "x": [
          0.9838506199639475,
          1.0251004305298503,
          1.0251004305298503,
          0.9480649866279129
         ],
         "xaxis": "x",
         "y": [
          -42.5,
          -42.5,
          -106.25,
          -106.25
         ],
         "yaxis": "y"
        },
        {
         "hoverinfo": "text",
         "marker": {
          "color": "rgb(0,116,217)"
         },
         "mode": "lines",
         "type": "scatter",
         "x": [
          0.9234118363044401,
          1.080274358161859,
          1.080274358161859,
          1.0251004305298503
         ],
         "xaxis": "x",
         "y": [
          -10,
          -10,
          -74.375,
          -74.375
         ],
         "yaxis": "y"
        }
       ],
       "layout": {
        "autosize": false,
        "height": 395,
        "hoverlabel": {
         "bgcolor": "white",
         "font": {
          "family": "Rockwell",
          "size": 16
         }
        },
        "hovermode": "closest",
        "plot_bgcolor": "#ECEFF1",
        "showlegend": false,
        "template": {
         "data": {
          "bar": [
           {
            "error_x": {
             "color": "#2a3f5f"
            },
            "error_y": {
             "color": "#2a3f5f"
            },
            "marker": {
             "line": {
              "color": "white",
              "width": 0.5
             },
             "pattern": {
              "fillmode": "overlay",
              "size": 10,
              "solidity": 0.2
             }
            },
            "type": "bar"
           }
          ],
          "barpolar": [
           {
            "marker": {
             "line": {
              "color": "white",
              "width": 0.5
             },
             "pattern": {
              "fillmode": "overlay",
              "size": 10,
              "solidity": 0.2
             }
            },
            "type": "barpolar"
           }
          ],
          "carpet": [
           {
            "aaxis": {
             "endlinecolor": "#2a3f5f",
             "gridcolor": "#C8D4E3",
             "linecolor": "#C8D4E3",
             "minorgridcolor": "#C8D4E3",
             "startlinecolor": "#2a3f5f"
            },
            "baxis": {
             "endlinecolor": "#2a3f5f",
             "gridcolor": "#C8D4E3",
             "linecolor": "#C8D4E3",
             "minorgridcolor": "#C8D4E3",
             "startlinecolor": "#2a3f5f"
            },
            "type": "carpet"
           }
          ],
          "choropleth": [
           {
            "colorbar": {
             "outlinewidth": 0,
             "ticks": ""
            },
            "type": "choropleth"
           }
          ],
          "contour": [
           {
            "colorbar": {
             "outlinewidth": 0,
             "ticks": ""
            },
            "colorscale": [
             [
              0,
              "#0d0887"
             ],
             [
              0.1111111111111111,
              "#46039f"
             ],
             [
              0.2222222222222222,
              "#7201a8"
             ],
             [
              0.3333333333333333,
              "#9c179e"
             ],
             [
              0.4444444444444444,
              "#bd3786"
             ],
             [
              0.5555555555555556,
              "#d8576b"
             ],
             [
              0.6666666666666666,
              "#ed7953"
             ],
             [
              0.7777777777777778,
              "#fb9f3a"
             ],
             [
              0.8888888888888888,
              "#fdca26"
             ],
             [
              1,
              "#f0f921"
             ]
            ],
            "type": "contour"
           }
          ],
          "contourcarpet": [
           {
            "colorbar": {
             "outlinewidth": 0,
             "ticks": ""
            },
            "type": "contourcarpet"
           }
          ],
          "heatmap": [
           {
            "colorbar": {
             "outlinewidth": 0,
             "ticks": ""
            },
            "colorscale": [
             [
              0,
              "#0d0887"
             ],
             [
              0.1111111111111111,
              "#46039f"
             ],
             [
              0.2222222222222222,
              "#7201a8"
             ],
             [
              0.3333333333333333,
              "#9c179e"
             ],
             [
              0.4444444444444444,
              "#bd3786"
             ],
             [
              0.5555555555555556,
              "#d8576b"
             ],
             [
              0.6666666666666666,
              "#ed7953"
             ],
             [
              0.7777777777777778,
              "#fb9f3a"
             ],
             [
              0.8888888888888888,
              "#fdca26"
             ],
             [
              1,
              "#f0f921"
             ]
            ],
            "type": "heatmap"
           }
          ],
          "heatmapgl": [
           {
            "colorbar": {
             "outlinewidth": 0,
             "ticks": ""
            },
            "colorscale": [
             [
              0,
              "#0d0887"
             ],
             [
              0.1111111111111111,
              "#46039f"
             ],
             [
              0.2222222222222222,
              "#7201a8"
             ],
             [
              0.3333333333333333,
              "#9c179e"
             ],
             [
              0.4444444444444444,
              "#bd3786"
             ],
             [
              0.5555555555555556,
              "#d8576b"
             ],
             [
              0.6666666666666666,
              "#ed7953"
             ],
             [
              0.7777777777777778,
              "#fb9f3a"
             ],
             [
              0.8888888888888888,
              "#fdca26"
             ],
             [
              1,
              "#f0f921"
             ]
            ],
            "type": "heatmapgl"
           }
          ],
          "histogram": [
           {
            "marker": {
             "pattern": {
              "fillmode": "overlay",
              "size": 10,
              "solidity": 0.2
             }
            },
            "type": "histogram"
           }
          ],
          "histogram2d": [
           {
            "colorbar": {
             "outlinewidth": 0,
             "ticks": ""
            },
            "colorscale": [
             [
              0,
              "#0d0887"
             ],
             [
              0.1111111111111111,
              "#46039f"
             ],
             [
              0.2222222222222222,
              "#7201a8"
             ],
             [
              0.3333333333333333,
              "#9c179e"
             ],
             [
              0.4444444444444444,
              "#bd3786"
             ],
             [
              0.5555555555555556,
              "#d8576b"
             ],
             [
              0.6666666666666666,
              "#ed7953"
             ],
             [
              0.7777777777777778,
              "#fb9f3a"
             ],
             [
              0.8888888888888888,
              "#fdca26"
             ],
             [
              1,
              "#f0f921"
             ]
            ],
            "type": "histogram2d"
           }
          ],
          "histogram2dcontour": [
           {
            "colorbar": {
             "outlinewidth": 0,
             "ticks": ""
            },
            "colorscale": [
             [
              0,
              "#0d0887"
             ],
             [
              0.1111111111111111,
              "#46039f"
             ],
             [
              0.2222222222222222,
              "#7201a8"
             ],
             [
              0.3333333333333333,
              "#9c179e"
             ],
             [
              0.4444444444444444,
              "#bd3786"
             ],
             [
              0.5555555555555556,
              "#d8576b"
             ],
             [
              0.6666666666666666,
              "#ed7953"
             ],
             [
              0.7777777777777778,
              "#fb9f3a"
             ],
             [
              0.8888888888888888,
              "#fdca26"
             ],
             [
              1,
              "#f0f921"
             ]
            ],
            "type": "histogram2dcontour"
           }
          ],
          "mesh3d": [
           {
            "colorbar": {
             "outlinewidth": 0,
             "ticks": ""
            },
            "type": "mesh3d"
           }
          ],
          "parcoords": [
           {
            "line": {
             "colorbar": {
              "outlinewidth": 0,
              "ticks": ""
             }
            },
            "type": "parcoords"
           }
          ],
          "pie": [
           {
            "automargin": true,
            "type": "pie"
           }
          ],
          "scatter": [
           {
            "fillpattern": {
             "fillmode": "overlay",
             "size": 10,
             "solidity": 0.2
            },
            "type": "scatter"
           }
          ],
          "scatter3d": [
           {
            "line": {
             "colorbar": {
              "outlinewidth": 0,
              "ticks": ""
             }
            },
            "marker": {
             "colorbar": {
              "outlinewidth": 0,
              "ticks": ""
             }
            },
            "type": "scatter3d"
           }
          ],
          "scattercarpet": [
           {
            "marker": {
             "colorbar": {
              "outlinewidth": 0,
              "ticks": ""
             }
            },
            "type": "scattercarpet"
           }
          ],
          "scattergeo": [
           {
            "marker": {
             "colorbar": {
              "outlinewidth": 0,
              "ticks": ""
             }
            },
            "type": "scattergeo"
           }
          ],
          "scattergl": [
           {
            "marker": {
             "colorbar": {
              "outlinewidth": 0,
              "ticks": ""
             }
            },
            "type": "scattergl"
           }
          ],
          "scattermapbox": [
           {
            "marker": {
             "colorbar": {
              "outlinewidth": 0,
              "ticks": ""
             }
            },
            "type": "scattermapbox"
           }
          ],
          "scatterpolar": [
           {
            "marker": {
             "colorbar": {
              "outlinewidth": 0,
              "ticks": ""
             }
            },
            "type": "scatterpolar"
           }
          ],
          "scatterpolargl": [
           {
            "marker": {
             "colorbar": {
              "outlinewidth": 0,
              "ticks": ""
             }
            },
            "type": "scatterpolargl"
           }
          ],
          "scatterternary": [
           {
            "marker": {
             "colorbar": {
              "outlinewidth": 0,
              "ticks": ""
             }
            },
            "type": "scatterternary"
           }
          ],
          "surface": [
           {
            "colorbar": {
             "outlinewidth": 0,
             "ticks": ""
            },
            "colorscale": [
             [
              0,
              "#0d0887"
             ],
             [
              0.1111111111111111,
              "#46039f"
             ],
             [
              0.2222222222222222,
              "#7201a8"
             ],
             [
              0.3333333333333333,
              "#9c179e"
             ],
             [
              0.4444444444444444,
              "#bd3786"
             ],
             [
              0.5555555555555556,
              "#d8576b"
             ],
             [
              0.6666666666666666,
              "#ed7953"
             ],
             [
              0.7777777777777778,
              "#fb9f3a"
             ],
             [
              0.8888888888888888,
              "#fdca26"
             ],
             [
              1,
              "#f0f921"
             ]
            ],
            "type": "surface"
           }
          ],
          "table": [
           {
            "cells": {
             "fill": {
              "color": "#EBF0F8"
             },
             "line": {
              "color": "white"
             }
            },
            "header": {
             "fill": {
              "color": "#C8D4E3"
             },
             "line": {
              "color": "white"
             }
            },
            "type": "table"
           }
          ]
         },
         "layout": {
          "annotationdefaults": {
           "arrowcolor": "#2a3f5f",
           "arrowhead": 0,
           "arrowwidth": 1
          },
          "autotypenumbers": "strict",
          "coloraxis": {
           "colorbar": {
            "outlinewidth": 0,
            "ticks": ""
           }
          },
          "colorscale": {
           "diverging": [
            [
             0,
             "#8e0152"
            ],
            [
             0.1,
             "#c51b7d"
            ],
            [
             0.2,
             "#de77ae"
            ],
            [
             0.3,
             "#f1b6da"
            ],
            [
             0.4,
             "#fde0ef"
            ],
            [
             0.5,
             "#f7f7f7"
            ],
            [
             0.6,
             "#e6f5d0"
            ],
            [
             0.7,
             "#b8e186"
            ],
            [
             0.8,
             "#7fbc41"
            ],
            [
             0.9,
             "#4d9221"
            ],
            [
             1,
             "#276419"
            ]
           ],
           "sequential": [
            [
             0,
             "#0d0887"
            ],
            [
             0.1111111111111111,
             "#46039f"
            ],
            [
             0.2222222222222222,
             "#7201a8"
            ],
            [
             0.3333333333333333,
             "#9c179e"
            ],
            [
             0.4444444444444444,
             "#bd3786"
            ],
            [
             0.5555555555555556,
             "#d8576b"
            ],
            [
             0.6666666666666666,
             "#ed7953"
            ],
            [
             0.7777777777777778,
             "#fb9f3a"
            ],
            [
             0.8888888888888888,
             "#fdca26"
            ],
            [
             1,
             "#f0f921"
            ]
           ],
           "sequentialminus": [
            [
             0,
             "#0d0887"
            ],
            [
             0.1111111111111111,
             "#46039f"
            ],
            [
             0.2222222222222222,
             "#7201a8"
            ],
            [
             0.3333333333333333,
             "#9c179e"
            ],
            [
             0.4444444444444444,
             "#bd3786"
            ],
            [
             0.5555555555555556,
             "#d8576b"
            ],
            [
             0.6666666666666666,
             "#ed7953"
            ],
            [
             0.7777777777777778,
             "#fb9f3a"
            ],
            [
             0.8888888888888888,
             "#fdca26"
            ],
            [
             1,
             "#f0f921"
            ]
           ]
          },
          "colorway": [
           "#636efa",
           "#EF553B",
           "#00cc96",
           "#ab63fa",
           "#FFA15A",
           "#19d3f3",
           "#FF6692",
           "#B6E880",
           "#FF97FF",
           "#FECB52"
          ],
          "font": {
           "color": "#2a3f5f"
          },
          "geo": {
           "bgcolor": "white",
           "lakecolor": "white",
           "landcolor": "white",
           "showlakes": true,
           "showland": true,
           "subunitcolor": "#C8D4E3"
          },
          "hoverlabel": {
           "align": "left"
          },
          "hovermode": "closest",
          "mapbox": {
           "style": "light"
          },
          "paper_bgcolor": "white",
          "plot_bgcolor": "white",
          "polar": {
           "angularaxis": {
            "gridcolor": "#EBF0F8",
            "linecolor": "#EBF0F8",
            "ticks": ""
           },
           "bgcolor": "white",
           "radialaxis": {
            "gridcolor": "#EBF0F8",
            "linecolor": "#EBF0F8",
            "ticks": ""
           }
          },
          "scene": {
           "xaxis": {
            "backgroundcolor": "white",
            "gridcolor": "#DFE8F3",
            "gridwidth": 2,
            "linecolor": "#EBF0F8",
            "showbackground": true,
            "ticks": "",
            "zerolinecolor": "#EBF0F8"
           },
           "yaxis": {
            "backgroundcolor": "white",
            "gridcolor": "#DFE8F3",
            "gridwidth": 2,
            "linecolor": "#EBF0F8",
            "showbackground": true,
            "ticks": "",
            "zerolinecolor": "#EBF0F8"
           },
           "zaxis": {
            "backgroundcolor": "white",
            "gridcolor": "#DFE8F3",
            "gridwidth": 2,
            "linecolor": "#EBF0F8",
            "showbackground": true,
            "ticks": "",
            "zerolinecolor": "#EBF0F8"
           }
          },
          "shapedefaults": {
           "line": {
            "color": "#2a3f5f"
           }
          },
          "ternary": {
           "aaxis": {
            "gridcolor": "#DFE8F3",
            "linecolor": "#A2B1C6",
            "ticks": ""
           },
           "baxis": {
            "gridcolor": "#DFE8F3",
            "linecolor": "#A2B1C6",
            "ticks": ""
           },
           "bgcolor": "white",
           "caxis": {
            "gridcolor": "#DFE8F3",
            "linecolor": "#A2B1C6",
            "ticks": ""
           }
          },
          "title": {
           "x": 0.05
          },
          "xaxis": {
           "automargin": true,
           "gridcolor": "#EBF0F8",
           "linecolor": "#EBF0F8",
           "ticks": "",
           "title": {
            "standoff": 15
           },
           "zerolinecolor": "#EBF0F8",
           "zerolinewidth": 2
          },
          "yaxis": {
           "automargin": true,
           "gridcolor": "#EBF0F8",
           "linecolor": "#EBF0F8",
           "ticks": "",
           "title": {
            "standoff": 15
           },
           "zerolinecolor": "#EBF0F8",
           "zerolinewidth": 2
          }
         }
        },
        "title": {
         "font": {
          "color": "Black",
          "size": 22
         },
         "text": "<b>Hierarchical Clustering</b>",
         "x": 0.5,
         "xanchor": "center",
         "yanchor": "top"
        },
        "width": 1000,
        "xaxis": {
         "mirror": "allticks",
         "rangemode": "tozero",
         "showgrid": false,
         "showline": true,
         "showticklabels": true,
         "ticks": "outside",
         "type": "linear",
         "zeroline": false
        },
        "yaxis": {
         "mirror": "allticks",
         "range": [
          -130,
          0
         ],
         "rangemode": "tozero",
         "showgrid": false,
         "showline": true,
         "showticklabels": true,
         "tickmode": "array",
         "ticks": "outside",
         "ticktext": [
          "4_peace_peaceful_happiness",
          "8_curiosity_relaxation_calm",
          "11_music_enjoyed_created",
          "10_body_strobing_experienced",
          "5_time_body_flat",
          "9_drugs_emotiol_acid",
          "1_colours_eyes_would",
          "0_like_saw_shapes",
          "2_saw_ocean_visuals",
          "12_life_death_retired",
          "7_dreaming_asleep_opened",
          "3_experience_awesome_expected",
          "6_people_thoughts_eg"
         ],
         "tickvals": [
          -5,
          -15,
          -25,
          -35,
          -45,
          -55,
          -65,
          -75,
          -85,
          -95,
          -105,
          -115,
          -125
         ],
         "type": "linear",
         "zeroline": false
        }
       }
      }
     },
     "metadata": {},
     "output_type": "display_data"
    }
   ],
   "source": [
    "#Visualize the documents that belong to the top 10 topics\n",
    "model.visualize_heatmap()\n",
    "model.visualize_hierarchy()\n",
    "\n"
   ]
  }
 ],
 "metadata": {
  "kernelspec": {
   "display_name": "topmodvenv",
   "language": "python",
   "name": "python3"
  },
  "language_info": {
   "codemirror_mode": {
    "name": "ipython",
    "version": 3
   },
   "file_extension": ".py",
   "mimetype": "text/x-python",
   "name": "python",
   "nbconvert_exporter": "python",
   "pygments_lexer": "ipython3",
   "version": "3.11.3"
  }
 },
 "nbformat": 4,
 "nbformat_minor": 2
}
