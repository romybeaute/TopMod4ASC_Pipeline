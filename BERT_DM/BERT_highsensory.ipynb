{
 "cells": [
  {
   "cell_type": "markdown",
   "metadata": {},
   "source": [
    "@Author: Romy Beauté\\\n",
    "@Contact: r.beaut@sussex.ac.uk\\\n",
    "@Date: 07-2023\\\n",
    "@Last modification: 08-03-2024"
   ]
  },
  {
   "cell_type": "code",
   "execution_count": 84,
   "metadata": {},
   "outputs": [],
   "source": [
    "import pandas as pd\n",
    "import os \n",
    "from pathlib import Path\n",
    "from bertopic import BERTopic\n",
    "import re \n",
    "from nltk.corpus import stopwords\n",
    "import sys\n",
    "\n",
    "\n",
    "#import helpers functions manually created\n",
    "project_path = os.path.abspath('/Users/rb666/projects/TopicModelling_META')\n",
    "if project_path not in sys.path:\n",
    "    sys.path.append(project_path)\n",
    "from helpers.BERT_helpers import *\n",
    "\n",
    "\n",
    "#Select parameters for dataset and preprocessing\n",
    "HighSensory = True #If False, corresponds to deep listening experience (no flicker)\n",
    "remove_stopwords = True\n",
    "extended_stopwords = False\n"
   ]
  },
  {
   "cell_type": "markdown",
   "metadata": {},
   "source": [
    "# Prepare reports dataset"
   ]
  },
  {
   "cell_type": "code",
   "execution_count": 85,
   "metadata": {},
   "outputs": [
    {
     "name": "stdout",
     "output_type": "stream",
     "text": [
      "Condition : \"highsensory\"\n",
      "N=336 reports (HighSensory = True)\n"
     ]
    },
    {
     "name": "stderr",
     "output_type": "stream",
     "text": [
      "/var/folders/1d/q_0fy53s0jdcsc1sb09wkntw00z7v7/T/ipykernel_36130/532680189.py:12: DtypeWarning:\n",
      "\n",
      "Columns (23,24,71,73,75,77,109,111,112,113,114,115,116,117,118,119,120,121,122,123,124,126,127,128,129,130,131,132,133,134,135,136,137,138,139,140,141,142,143,144,145,146,147,148,149,150,151,157,159,161,165,168,196,203,205) have mixed types. Specify dtype option on import or set low_memory=False.\n",
      "\n"
     ]
    },
    {
     "data": {
      "text/plain": [
       "83     Intense chaos. And then my mind checked out an...\n",
       "99                                         good stuff.\\n\n",
       "120    a pattern of red and white lights thatflashed ...\n",
       "172    i wentback to many hard and mostly beautiful m...\n",
       "189                                                Hello\n",
       "Name: reflection_answer, dtype: object"
      ]
     },
     "execution_count": 85,
     "metadata": {},
     "output_type": "execute_result"
    }
   ],
   "source": [
    "dataset_name = \"SensoryTool_CombinedData.csv\"\n",
    "metaproject_name = 'TopicModelling_META'\n",
    "subproject_name = 'TopMod_pipeline'\n",
    "\n",
    "condition = 'highsensory' if HighSensory else 'deeplistening'\n",
    "print(f'Condition : \"{condition}\"')\n",
    "\n",
    "PROJDIR = os.path.expanduser(f\"~/projects/{metaproject_name}\")\n",
    "DATADIR = os.path.join(PROJDIR,f'DATA/{dataset_name}')\n",
    "CODEDIR = os.path.join(PROJDIR,f'{subproject_name}')\n",
    "\n",
    "df = pd.read_csv(DATADIR)\n",
    "dataset = df[df['meta_HighSensory'] == HighSensory]['reflection_answer']\n",
    "reports = dataset[dataset.notna() & (dataset != '')]\n",
    "\n",
    "print('N={} reports (HighSensory = {})'.format(len(reports),HighSensory))\n",
    "reports.head()\n",
    "\n",
    "\n"
   ]
  },
  {
   "cell_type": "markdown",
   "metadata": {},
   "source": [
    "### Start preprocessing"
   ]
  },
  {
   "cell_type": "code",
   "execution_count": 86,
   "metadata": {},
   "outputs": [
    {
     "name": "stdout",
     "output_type": "stream",
     "text": [
      "83     intense chaos mind checked subconscious took s...\n",
      "99                                            good stuff\n",
      "120    pattern red white lights thatflashed andbecame...\n",
      "172    wentback many hard mostly beautiful memories w...\n",
      "191                                          hope colour\n",
      "Name: reflection_answer, dtype: object\n",
      "N=312 reports after cleaning\n"
     ]
    }
   ],
   "source": [
    "#select stop words to remove\n",
    "stop_words = set(stopwords.words('english'))\n",
    "if extended_stopwords:\n",
    "    stop_words = stop_words.union(custom_stopwords) #load custom stopwords from BERT_helpers.py\n",
    "\n",
    "reports_cleaned = reports.apply(clean_text)\n",
    "reports_filtered = reports_cleaned[reports_cleaned.apply(lambda x: len(x.split()) > 1)]\n",
    "\n",
    "print(reports_filtered.head())\n",
    "#print the number of reports after cleaning\n",
    "print('N={} reports after cleaning'.format(len(reports_filtered)))"
   ]
  },
  {
   "cell_type": "markdown",
   "metadata": {},
   "source": [
    "# Embeddings and BERTopic Model\n",
    "\n",
    "After preporcessing we convert clean text into embeddings and apply BERTopic model. This step includes choosing the right transformer model for embeddings, setting BERTopic parameters, and training the model "
   ]
  },
  {
   "cell_type": "code",
   "execution_count": 87,
   "metadata": {},
   "outputs": [
    {
     "data": {
      "application/vnd.jupyter.widget-view+json": {
       "model_id": "0a537bb313f449e08483d6e38edbcd7c",
       "version_major": 2,
       "version_minor": 0
      },
      "text/plain": [
       "Batches:   0%|          | 0/10 [00:00<?, ?it/s]"
      ]
     },
     "metadata": {},
     "output_type": "display_data"
    }
   ],
   "source": [
    "from bertopic import BERTopic\n",
    "from sentence_transformers import SentenceTransformer\n",
    "from sklearn.feature_extraction.text import CountVectorizer\n",
    "\n",
    "\n",
    "\n",
    "# convert text to embeddings\n",
    "model = \"all-MiniLM-L6-v2\"  #\"paraphrase-MiniLM-L6-v2\" #\n",
    "sentence_model = SentenceTransformer(model)\n",
    "embeddings = sentence_model.encode(reports_filtered.values,show_progress_bar=True)\n",
    "# vectorizer_model = CountVectorizer(ngram_range=(1, 2), stop_words=\"english\")\n",
    "\n",
    "\n",
    "\n",
    "# BERTopic model initialisation\n",
    "model = BERTopic(language=\"english\", \n",
    "                #  vectorizer_model=vectorizer_model, \n",
    "                 calculate_probabilities=True,\n",
    "                 min_topic_size=5,\n",
    "                 embedding_model=model)\n",
    "\n",
    "\n",
    "\n",
    "# Fit BERTopic model\n",
    "topics, probs = model.fit_transform(reports_filtered.values, embeddings) \n",
    "\n"
   ]
  },
  {
   "cell_type": "code",
   "execution_count": 88,
   "metadata": {},
   "outputs": [
    {
     "data": {
      "application/vnd.plotly.v1+json": {
       "config": {
        "plotlyServerURL": "https://plot.ly"
       },
       "data": [
        {
         "customdata": [
          [
           0,
           "shapes | saw | like | one | moving",
           70
          ],
          [
           1,
           "peace | peaceful | year | happiness | calm",
           20
          ],
          [
           2,
           "ocean | saw | visuals | away | charlie",
           17
          ],
          [
           3,
           "colours | orange | like | pink | colors",
           16
          ],
          [
           4,
           "space | felt | energy | stars | earth",
           12
          ],
          [
           5,
           "experience | awesome | expected | emotions | amazing",
           12
          ],
          [
           6,
           "thoughts | people | thought | eg | something",
           11
          ],
          [
           7,
           "stories | colours | dreamachine | way | eyes",
           10
          ],
          [
           8,
           "dreaming | asleep | dreamlike | dead | checked",
           8
          ],
          [
           9,
           "music | enjoyed | created | patterns | zen",
           8
          ],
          [
           10,
           "experience | flat | sense | images | something",
           8
          ],
          [
           11,
           "relaxation | deepest | pure | yet | body",
           8
          ],
          [
           12,
           "drugs | acid | closest | lsd | journey",
           7
          ],
          [
           13,
           "life | death | realm | retired | origin",
           5
          ]
         ],
         "hovertemplate": "<b>Topic %{customdata[0]}</b><br>%{customdata[1]}<br>Size: %{customdata[2]}",
         "legendgroup": "",
         "marker": {
          "color": "#B0BEC5",
          "line": {
           "color": "DarkSlateGrey",
           "width": 2
          },
          "size": [
           70,
           20,
           17,
           16,
           12,
           12,
           11,
           10,
           8,
           8,
           8,
           8,
           7,
           5
          ],
          "sizemode": "area",
          "sizeref": 0.04375,
          "symbol": "circle"
         },
         "mode": "markers",
         "name": "",
         "orientation": "v",
         "showlegend": false,
         "type": "scatter",
         "x": [
          0.7497950792312622,
          5.4103474617004395,
          0.6408788561820984,
          0.4668174088001251,
          0.9451415538787842,
          5.094810485839844,
          5.989076137542725,
          1.1959477663040161,
          6.429073810577393,
          0.07701239734888077,
          0.2636396586894989,
          -0.05998369678854942,
          6.38835334777832,
          5.163778781890869
         ],
         "xaxis": "x",
         "y": [
          10.516155242919922,
          13.257445335388184,
          9.26533317565918,
          10.132452011108398,
          10.856045722961426,
          13.570897102355957,
          13.721961975097656,
          9.202913284301758,
          13.377350807189941,
          10.361372947692871,
          8.61856460571289,
          8.477810859680176,
          11.908536911010742,
          12.895599365234375
         ],
         "yaxis": "y"
        }
       ],
       "layout": {
        "annotations": [
         {
          "showarrow": false,
          "text": "D1",
          "x": -0.06898125130683183,
          "y": 11.493197751045226,
          "yshift": 10
         },
         {
          "showarrow": false,
          "text": "D2",
          "x": 3.6622268154285846,
          "xshift": 10,
          "y": 15.780256271362305
         }
        ],
        "height": 650,
        "hoverlabel": {
         "bgcolor": "white",
         "font": {
          "family": "Rockwell",
          "size": 16
         }
        },
        "legend": {
         "itemsizing": "constant",
         "tracegroupgap": 0
        },
        "margin": {
         "t": 60
        },
        "shapes": [
         {
          "line": {
           "color": "#CFD8DC",
           "width": 2
          },
          "type": "line",
          "x0": 3.6622268154285846,
          "x1": 3.6622268154285846,
          "y0": 7.20613923072815,
          "y1": 15.780256271362305
         },
         {
          "line": {
           "color": "#9E9E9E",
           "width": 2
          },
          "type": "line",
          "x0": -0.06898125130683183,
          "x1": 7.3934348821640015,
          "y0": 11.493197751045226,
          "y1": 11.493197751045226
         }
        ],
        "sliders": [
         {
          "active": 0,
          "pad": {
           "t": 50
          },
          "steps": [
           {
            "args": [
             {
              "marker.color": [
               [
                "red",
                "#B0BEC5",
                "#B0BEC5",
                "#B0BEC5",
                "#B0BEC5",
                "#B0BEC5",
                "#B0BEC5",
                "#B0BEC5",
                "#B0BEC5",
                "#B0BEC5",
                "#B0BEC5",
                "#B0BEC5",
                "#B0BEC5",
                "#B0BEC5"
               ]
              ]
             }
            ],
            "label": "Topic 0",
            "method": "update"
           },
           {
            "args": [
             {
              "marker.color": [
               [
                "#B0BEC5",
                "red",
                "#B0BEC5",
                "#B0BEC5",
                "#B0BEC5",
                "#B0BEC5",
                "#B0BEC5",
                "#B0BEC5",
                "#B0BEC5",
                "#B0BEC5",
                "#B0BEC5",
                "#B0BEC5",
                "#B0BEC5",
                "#B0BEC5"
               ]
              ]
             }
            ],
            "label": "Topic 1",
            "method": "update"
           },
           {
            "args": [
             {
              "marker.color": [
               [
                "#B0BEC5",
                "#B0BEC5",
                "red",
                "#B0BEC5",
                "#B0BEC5",
                "#B0BEC5",
                "#B0BEC5",
                "#B0BEC5",
                "#B0BEC5",
                "#B0BEC5",
                "#B0BEC5",
                "#B0BEC5",
                "#B0BEC5",
                "#B0BEC5"
               ]
              ]
             }
            ],
            "label": "Topic 2",
            "method": "update"
           },
           {
            "args": [
             {
              "marker.color": [
               [
                "#B0BEC5",
                "#B0BEC5",
                "#B0BEC5",
                "red",
                "#B0BEC5",
                "#B0BEC5",
                "#B0BEC5",
                "#B0BEC5",
                "#B0BEC5",
                "#B0BEC5",
                "#B0BEC5",
                "#B0BEC5",
                "#B0BEC5",
                "#B0BEC5"
               ]
              ]
             }
            ],
            "label": "Topic 3",
            "method": "update"
           },
           {
            "args": [
             {
              "marker.color": [
               [
                "#B0BEC5",
                "#B0BEC5",
                "#B0BEC5",
                "#B0BEC5",
                "red",
                "#B0BEC5",
                "#B0BEC5",
                "#B0BEC5",
                "#B0BEC5",
                "#B0BEC5",
                "#B0BEC5",
                "#B0BEC5",
                "#B0BEC5",
                "#B0BEC5"
               ]
              ]
             }
            ],
            "label": "Topic 4",
            "method": "update"
           },
           {
            "args": [
             {
              "marker.color": [
               [
                "#B0BEC5",
                "#B0BEC5",
                "#B0BEC5",
                "#B0BEC5",
                "#B0BEC5",
                "red",
                "#B0BEC5",
                "#B0BEC5",
                "#B0BEC5",
                "#B0BEC5",
                "#B0BEC5",
                "#B0BEC5",
                "#B0BEC5",
                "#B0BEC5"
               ]
              ]
             }
            ],
            "label": "Topic 5",
            "method": "update"
           },
           {
            "args": [
             {
              "marker.color": [
               [
                "#B0BEC5",
                "#B0BEC5",
                "#B0BEC5",
                "#B0BEC5",
                "#B0BEC5",
                "#B0BEC5",
                "red",
                "#B0BEC5",
                "#B0BEC5",
                "#B0BEC5",
                "#B0BEC5",
                "#B0BEC5",
                "#B0BEC5",
                "#B0BEC5"
               ]
              ]
             }
            ],
            "label": "Topic 6",
            "method": "update"
           },
           {
            "args": [
             {
              "marker.color": [
               [
                "#B0BEC5",
                "#B0BEC5",
                "#B0BEC5",
                "#B0BEC5",
                "#B0BEC5",
                "#B0BEC5",
                "#B0BEC5",
                "red",
                "#B0BEC5",
                "#B0BEC5",
                "#B0BEC5",
                "#B0BEC5",
                "#B0BEC5",
                "#B0BEC5"
               ]
              ]
             }
            ],
            "label": "Topic 7",
            "method": "update"
           },
           {
            "args": [
             {
              "marker.color": [
               [
                "#B0BEC5",
                "#B0BEC5",
                "#B0BEC5",
                "#B0BEC5",
                "#B0BEC5",
                "#B0BEC5",
                "#B0BEC5",
                "#B0BEC5",
                "red",
                "#B0BEC5",
                "#B0BEC5",
                "#B0BEC5",
                "#B0BEC5",
                "#B0BEC5"
               ]
              ]
             }
            ],
            "label": "Topic 8",
            "method": "update"
           },
           {
            "args": [
             {
              "marker.color": [
               [
                "#B0BEC5",
                "#B0BEC5",
                "#B0BEC5",
                "#B0BEC5",
                "#B0BEC5",
                "#B0BEC5",
                "#B0BEC5",
                "#B0BEC5",
                "#B0BEC5",
                "red",
                "#B0BEC5",
                "#B0BEC5",
                "#B0BEC5",
                "#B0BEC5"
               ]
              ]
             }
            ],
            "label": "Topic 9",
            "method": "update"
           },
           {
            "args": [
             {
              "marker.color": [
               [
                "#B0BEC5",
                "#B0BEC5",
                "#B0BEC5",
                "#B0BEC5",
                "#B0BEC5",
                "#B0BEC5",
                "#B0BEC5",
                "#B0BEC5",
                "#B0BEC5",
                "#B0BEC5",
                "red",
                "#B0BEC5",
                "#B0BEC5",
                "#B0BEC5"
               ]
              ]
             }
            ],
            "label": "Topic 10",
            "method": "update"
           },
           {
            "args": [
             {
              "marker.color": [
               [
                "#B0BEC5",
                "#B0BEC5",
                "#B0BEC5",
                "#B0BEC5",
                "#B0BEC5",
                "#B0BEC5",
                "#B0BEC5",
                "#B0BEC5",
                "#B0BEC5",
                "#B0BEC5",
                "#B0BEC5",
                "red",
                "#B0BEC5",
                "#B0BEC5"
               ]
              ]
             }
            ],
            "label": "Topic 11",
            "method": "update"
           },
           {
            "args": [
             {
              "marker.color": [
               [
                "#B0BEC5",
                "#B0BEC5",
                "#B0BEC5",
                "#B0BEC5",
                "#B0BEC5",
                "#B0BEC5",
                "#B0BEC5",
                "#B0BEC5",
                "#B0BEC5",
                "#B0BEC5",
                "#B0BEC5",
                "#B0BEC5",
                "red",
                "#B0BEC5"
               ]
              ]
             }
            ],
            "label": "Topic 12",
            "method": "update"
           },
           {
            "args": [
             {
              "marker.color": [
               [
                "#B0BEC5",
                "#B0BEC5",
                "#B0BEC5",
                "#B0BEC5",
                "#B0BEC5",
                "#B0BEC5",
                "#B0BEC5",
                "#B0BEC5",
                "#B0BEC5",
                "#B0BEC5",
                "#B0BEC5",
                "#B0BEC5",
                "#B0BEC5",
                "red"
               ]
              ]
             }
            ],
            "label": "Topic 13",
            "method": "update"
           }
          ]
         }
        ],
        "template": {
         "data": {
          "bar": [
           {
            "error_x": {
             "color": "rgb(36,36,36)"
            },
            "error_y": {
             "color": "rgb(36,36,36)"
            },
            "marker": {
             "line": {
              "color": "white",
              "width": 0.5
             },
             "pattern": {
              "fillmode": "overlay",
              "size": 10,
              "solidity": 0.2
             }
            },
            "type": "bar"
           }
          ],
          "barpolar": [
           {
            "marker": {
             "line": {
              "color": "white",
              "width": 0.5
             },
             "pattern": {
              "fillmode": "overlay",
              "size": 10,
              "solidity": 0.2
             }
            },
            "type": "barpolar"
           }
          ],
          "carpet": [
           {
            "aaxis": {
             "endlinecolor": "rgb(36,36,36)",
             "gridcolor": "white",
             "linecolor": "white",
             "minorgridcolor": "white",
             "startlinecolor": "rgb(36,36,36)"
            },
            "baxis": {
             "endlinecolor": "rgb(36,36,36)",
             "gridcolor": "white",
             "linecolor": "white",
             "minorgridcolor": "white",
             "startlinecolor": "rgb(36,36,36)"
            },
            "type": "carpet"
           }
          ],
          "choropleth": [
           {
            "colorbar": {
             "outlinewidth": 1,
             "tickcolor": "rgb(36,36,36)",
             "ticks": "outside"
            },
            "type": "choropleth"
           }
          ],
          "contour": [
           {
            "colorbar": {
             "outlinewidth": 1,
             "tickcolor": "rgb(36,36,36)",
             "ticks": "outside"
            },
            "colorscale": [
             [
              0,
              "#440154"
             ],
             [
              0.1111111111111111,
              "#482878"
             ],
             [
              0.2222222222222222,
              "#3e4989"
             ],
             [
              0.3333333333333333,
              "#31688e"
             ],
             [
              0.4444444444444444,
              "#26828e"
             ],
             [
              0.5555555555555556,
              "#1f9e89"
             ],
             [
              0.6666666666666666,
              "#35b779"
             ],
             [
              0.7777777777777778,
              "#6ece58"
             ],
             [
              0.8888888888888888,
              "#b5de2b"
             ],
             [
              1,
              "#fde725"
             ]
            ],
            "type": "contour"
           }
          ],
          "contourcarpet": [
           {
            "colorbar": {
             "outlinewidth": 1,
             "tickcolor": "rgb(36,36,36)",
             "ticks": "outside"
            },
            "type": "contourcarpet"
           }
          ],
          "heatmap": [
           {
            "colorbar": {
             "outlinewidth": 1,
             "tickcolor": "rgb(36,36,36)",
             "ticks": "outside"
            },
            "colorscale": [
             [
              0,
              "#440154"
             ],
             [
              0.1111111111111111,
              "#482878"
             ],
             [
              0.2222222222222222,
              "#3e4989"
             ],
             [
              0.3333333333333333,
              "#31688e"
             ],
             [
              0.4444444444444444,
              "#26828e"
             ],
             [
              0.5555555555555556,
              "#1f9e89"
             ],
             [
              0.6666666666666666,
              "#35b779"
             ],
             [
              0.7777777777777778,
              "#6ece58"
             ],
             [
              0.8888888888888888,
              "#b5de2b"
             ],
             [
              1,
              "#fde725"
             ]
            ],
            "type": "heatmap"
           }
          ],
          "heatmapgl": [
           {
            "colorbar": {
             "outlinewidth": 1,
             "tickcolor": "rgb(36,36,36)",
             "ticks": "outside"
            },
            "colorscale": [
             [
              0,
              "#440154"
             ],
             [
              0.1111111111111111,
              "#482878"
             ],
             [
              0.2222222222222222,
              "#3e4989"
             ],
             [
              0.3333333333333333,
              "#31688e"
             ],
             [
              0.4444444444444444,
              "#26828e"
             ],
             [
              0.5555555555555556,
              "#1f9e89"
             ],
             [
              0.6666666666666666,
              "#35b779"
             ],
             [
              0.7777777777777778,
              "#6ece58"
             ],
             [
              0.8888888888888888,
              "#b5de2b"
             ],
             [
              1,
              "#fde725"
             ]
            ],
            "type": "heatmapgl"
           }
          ],
          "histogram": [
           {
            "marker": {
             "line": {
              "color": "white",
              "width": 0.6
             }
            },
            "type": "histogram"
           }
          ],
          "histogram2d": [
           {
            "colorbar": {
             "outlinewidth": 1,
             "tickcolor": "rgb(36,36,36)",
             "ticks": "outside"
            },
            "colorscale": [
             [
              0,
              "#440154"
             ],
             [
              0.1111111111111111,
              "#482878"
             ],
             [
              0.2222222222222222,
              "#3e4989"
             ],
             [
              0.3333333333333333,
              "#31688e"
             ],
             [
              0.4444444444444444,
              "#26828e"
             ],
             [
              0.5555555555555556,
              "#1f9e89"
             ],
             [
              0.6666666666666666,
              "#35b779"
             ],
             [
              0.7777777777777778,
              "#6ece58"
             ],
             [
              0.8888888888888888,
              "#b5de2b"
             ],
             [
              1,
              "#fde725"
             ]
            ],
            "type": "histogram2d"
           }
          ],
          "histogram2dcontour": [
           {
            "colorbar": {
             "outlinewidth": 1,
             "tickcolor": "rgb(36,36,36)",
             "ticks": "outside"
            },
            "colorscale": [
             [
              0,
              "#440154"
             ],
             [
              0.1111111111111111,
              "#482878"
             ],
             [
              0.2222222222222222,
              "#3e4989"
             ],
             [
              0.3333333333333333,
              "#31688e"
             ],
             [
              0.4444444444444444,
              "#26828e"
             ],
             [
              0.5555555555555556,
              "#1f9e89"
             ],
             [
              0.6666666666666666,
              "#35b779"
             ],
             [
              0.7777777777777778,
              "#6ece58"
             ],
             [
              0.8888888888888888,
              "#b5de2b"
             ],
             [
              1,
              "#fde725"
             ]
            ],
            "type": "histogram2dcontour"
           }
          ],
          "mesh3d": [
           {
            "colorbar": {
             "outlinewidth": 1,
             "tickcolor": "rgb(36,36,36)",
             "ticks": "outside"
            },
            "type": "mesh3d"
           }
          ],
          "parcoords": [
           {
            "line": {
             "colorbar": {
              "outlinewidth": 1,
              "tickcolor": "rgb(36,36,36)",
              "ticks": "outside"
             }
            },
            "type": "parcoords"
           }
          ],
          "pie": [
           {
            "automargin": true,
            "type": "pie"
           }
          ],
          "scatter": [
           {
            "fillpattern": {
             "fillmode": "overlay",
             "size": 10,
             "solidity": 0.2
            },
            "type": "scatter"
           }
          ],
          "scatter3d": [
           {
            "line": {
             "colorbar": {
              "outlinewidth": 1,
              "tickcolor": "rgb(36,36,36)",
              "ticks": "outside"
             }
            },
            "marker": {
             "colorbar": {
              "outlinewidth": 1,
              "tickcolor": "rgb(36,36,36)",
              "ticks": "outside"
             }
            },
            "type": "scatter3d"
           }
          ],
          "scattercarpet": [
           {
            "marker": {
             "colorbar": {
              "outlinewidth": 1,
              "tickcolor": "rgb(36,36,36)",
              "ticks": "outside"
             }
            },
            "type": "scattercarpet"
           }
          ],
          "scattergeo": [
           {
            "marker": {
             "colorbar": {
              "outlinewidth": 1,
              "tickcolor": "rgb(36,36,36)",
              "ticks": "outside"
             }
            },
            "type": "scattergeo"
           }
          ],
          "scattergl": [
           {
            "marker": {
             "colorbar": {
              "outlinewidth": 1,
              "tickcolor": "rgb(36,36,36)",
              "ticks": "outside"
             }
            },
            "type": "scattergl"
           }
          ],
          "scattermapbox": [
           {
            "marker": {
             "colorbar": {
              "outlinewidth": 1,
              "tickcolor": "rgb(36,36,36)",
              "ticks": "outside"
             }
            },
            "type": "scattermapbox"
           }
          ],
          "scatterpolar": [
           {
            "marker": {
             "colorbar": {
              "outlinewidth": 1,
              "tickcolor": "rgb(36,36,36)",
              "ticks": "outside"
             }
            },
            "type": "scatterpolar"
           }
          ],
          "scatterpolargl": [
           {
            "marker": {
             "colorbar": {
              "outlinewidth": 1,
              "tickcolor": "rgb(36,36,36)",
              "ticks": "outside"
             }
            },
            "type": "scatterpolargl"
           }
          ],
          "scatterternary": [
           {
            "marker": {
             "colorbar": {
              "outlinewidth": 1,
              "tickcolor": "rgb(36,36,36)",
              "ticks": "outside"
             }
            },
            "type": "scatterternary"
           }
          ],
          "surface": [
           {
            "colorbar": {
             "outlinewidth": 1,
             "tickcolor": "rgb(36,36,36)",
             "ticks": "outside"
            },
            "colorscale": [
             [
              0,
              "#440154"
             ],
             [
              0.1111111111111111,
              "#482878"
             ],
             [
              0.2222222222222222,
              "#3e4989"
             ],
             [
              0.3333333333333333,
              "#31688e"
             ],
             [
              0.4444444444444444,
              "#26828e"
             ],
             [
              0.5555555555555556,
              "#1f9e89"
             ],
             [
              0.6666666666666666,
              "#35b779"
             ],
             [
              0.7777777777777778,
              "#6ece58"
             ],
             [
              0.8888888888888888,
              "#b5de2b"
             ],
             [
              1,
              "#fde725"
             ]
            ],
            "type": "surface"
           }
          ],
          "table": [
           {
            "cells": {
             "fill": {
              "color": "rgb(237,237,237)"
             },
             "line": {
              "color": "white"
             }
            },
            "header": {
             "fill": {
              "color": "rgb(217,217,217)"
             },
             "line": {
              "color": "white"
             }
            },
            "type": "table"
           }
          ]
         },
         "layout": {
          "annotationdefaults": {
           "arrowhead": 0,
           "arrowwidth": 1
          },
          "autotypenumbers": "strict",
          "coloraxis": {
           "colorbar": {
            "outlinewidth": 1,
            "tickcolor": "rgb(36,36,36)",
            "ticks": "outside"
           }
          },
          "colorscale": {
           "diverging": [
            [
             0,
             "rgb(103,0,31)"
            ],
            [
             0.1,
             "rgb(178,24,43)"
            ],
            [
             0.2,
             "rgb(214,96,77)"
            ],
            [
             0.3,
             "rgb(244,165,130)"
            ],
            [
             0.4,
             "rgb(253,219,199)"
            ],
            [
             0.5,
             "rgb(247,247,247)"
            ],
            [
             0.6,
             "rgb(209,229,240)"
            ],
            [
             0.7,
             "rgb(146,197,222)"
            ],
            [
             0.8,
             "rgb(67,147,195)"
            ],
            [
             0.9,
             "rgb(33,102,172)"
            ],
            [
             1,
             "rgb(5,48,97)"
            ]
           ],
           "sequential": [
            [
             0,
             "#440154"
            ],
            [
             0.1111111111111111,
             "#482878"
            ],
            [
             0.2222222222222222,
             "#3e4989"
            ],
            [
             0.3333333333333333,
             "#31688e"
            ],
            [
             0.4444444444444444,
             "#26828e"
            ],
            [
             0.5555555555555556,
             "#1f9e89"
            ],
            [
             0.6666666666666666,
             "#35b779"
            ],
            [
             0.7777777777777778,
             "#6ece58"
            ],
            [
             0.8888888888888888,
             "#b5de2b"
            ],
            [
             1,
             "#fde725"
            ]
           ],
           "sequentialminus": [
            [
             0,
             "#440154"
            ],
            [
             0.1111111111111111,
             "#482878"
            ],
            [
             0.2222222222222222,
             "#3e4989"
            ],
            [
             0.3333333333333333,
             "#31688e"
            ],
            [
             0.4444444444444444,
             "#26828e"
            ],
            [
             0.5555555555555556,
             "#1f9e89"
            ],
            [
             0.6666666666666666,
             "#35b779"
            ],
            [
             0.7777777777777778,
             "#6ece58"
            ],
            [
             0.8888888888888888,
             "#b5de2b"
            ],
            [
             1,
             "#fde725"
            ]
           ]
          },
          "colorway": [
           "#1F77B4",
           "#FF7F0E",
           "#2CA02C",
           "#D62728",
           "#9467BD",
           "#8C564B",
           "#E377C2",
           "#7F7F7F",
           "#BCBD22",
           "#17BECF"
          ],
          "font": {
           "color": "rgb(36,36,36)"
          },
          "geo": {
           "bgcolor": "white",
           "lakecolor": "white",
           "landcolor": "white",
           "showlakes": true,
           "showland": true,
           "subunitcolor": "white"
          },
          "hoverlabel": {
           "align": "left"
          },
          "hovermode": "closest",
          "mapbox": {
           "style": "light"
          },
          "paper_bgcolor": "white",
          "plot_bgcolor": "white",
          "polar": {
           "angularaxis": {
            "gridcolor": "rgb(232,232,232)",
            "linecolor": "rgb(36,36,36)",
            "showgrid": false,
            "showline": true,
            "ticks": "outside"
           },
           "bgcolor": "white",
           "radialaxis": {
            "gridcolor": "rgb(232,232,232)",
            "linecolor": "rgb(36,36,36)",
            "showgrid": false,
            "showline": true,
            "ticks": "outside"
           }
          },
          "scene": {
           "xaxis": {
            "backgroundcolor": "white",
            "gridcolor": "rgb(232,232,232)",
            "gridwidth": 2,
            "linecolor": "rgb(36,36,36)",
            "showbackground": true,
            "showgrid": false,
            "showline": true,
            "ticks": "outside",
            "zeroline": false,
            "zerolinecolor": "rgb(36,36,36)"
           },
           "yaxis": {
            "backgroundcolor": "white",
            "gridcolor": "rgb(232,232,232)",
            "gridwidth": 2,
            "linecolor": "rgb(36,36,36)",
            "showbackground": true,
            "showgrid": false,
            "showline": true,
            "ticks": "outside",
            "zeroline": false,
            "zerolinecolor": "rgb(36,36,36)"
           },
           "zaxis": {
            "backgroundcolor": "white",
            "gridcolor": "rgb(232,232,232)",
            "gridwidth": 2,
            "linecolor": "rgb(36,36,36)",
            "showbackground": true,
            "showgrid": false,
            "showline": true,
            "ticks": "outside",
            "zeroline": false,
            "zerolinecolor": "rgb(36,36,36)"
           }
          },
          "shapedefaults": {
           "fillcolor": "black",
           "line": {
            "width": 0
           },
           "opacity": 0.3
          },
          "ternary": {
           "aaxis": {
            "gridcolor": "rgb(232,232,232)",
            "linecolor": "rgb(36,36,36)",
            "showgrid": false,
            "showline": true,
            "ticks": "outside"
           },
           "baxis": {
            "gridcolor": "rgb(232,232,232)",
            "linecolor": "rgb(36,36,36)",
            "showgrid": false,
            "showline": true,
            "ticks": "outside"
           },
           "bgcolor": "white",
           "caxis": {
            "gridcolor": "rgb(232,232,232)",
            "linecolor": "rgb(36,36,36)",
            "showgrid": false,
            "showline": true,
            "ticks": "outside"
           }
          },
          "title": {
           "x": 0.05
          },
          "xaxis": {
           "automargin": true,
           "gridcolor": "rgb(232,232,232)",
           "linecolor": "rgb(36,36,36)",
           "showgrid": false,
           "showline": true,
           "ticks": "outside",
           "title": {
            "standoff": 15
           },
           "zeroline": false,
           "zerolinecolor": "rgb(36,36,36)"
          },
          "yaxis": {
           "automargin": true,
           "gridcolor": "rgb(232,232,232)",
           "linecolor": "rgb(36,36,36)",
           "showgrid": false,
           "showline": true,
           "ticks": "outside",
           "title": {
            "standoff": 15
           },
           "zeroline": false,
           "zerolinecolor": "rgb(36,36,36)"
          }
         }
        },
        "title": {
         "font": {
          "color": "Black",
          "size": 22
         },
         "text": "<b>Intertopic Distance Map</b>",
         "x": 0.5,
         "xanchor": "center",
         "y": 0.95,
         "yanchor": "top"
        },
        "width": 650,
        "xaxis": {
         "anchor": "y",
         "domain": [
          0,
          1
         ],
         "range": [
          -0.06898125130683183,
          7.3934348821640015
         ],
         "title": {
          "text": ""
         },
         "visible": false
        },
        "yaxis": {
         "anchor": "x",
         "domain": [
          0,
          1
         ],
         "range": [
          7.20613923072815,
          15.780256271362305
         ],
         "title": {
          "text": ""
         },
         "visible": false
        }
       }
      }
     },
     "metadata": {},
     "output_type": "display_data"
    }
   ],
   "source": [
    "model.visualize_topics()"
   ]
  },
  {
   "cell_type": "markdown",
   "metadata": {},
   "source": [
    "### visualisation and evaluation"
   ]
  },
  {
   "cell_type": "code",
   "execution_count": 89,
   "metadata": {},
   "outputs": [
    {
     "name": "stdout",
     "output_type": "stream",
     "text": [
      "N number of topics:  15\n",
      "   Topic  Count                             Name  \\\n",
      "0     -1    100   -1_felt_experience_like_really   \n",
      "1      0     70            0_shapes_saw_like_one   \n",
      "2      1     20  1_peace_peaceful_year_happiness   \n",
      "3      2     17         2_ocean_saw_visuals_away   \n",
      "4      3     16       3_colours_orange_like_pink   \n",
      "\n",
      "                                      Representation  \\\n",
      "0  [felt, experience, like, really, could, memori...   \n",
      "1  [shapes, saw, like, one, moving, colours, colo...   \n",
      "2  [peace, peaceful, year, happiness, calm, self,...   \n",
      "3  [ocean, saw, visuals, away, charlie, boat, fac...   \n",
      "4  [colours, orange, like, pink, colors, patterns...   \n",
      "\n",
      "                                 Representative_Docs  \n",
      "0  [thought fluffy speech writtenhealth safetyasp...  \n",
      "1  [experienced range images chose many colours s...  \n",
      "2  [peace sunlight ture, utter peace happiness, s...  \n",
      "3  [interesting experience definitely easy moment...  \n",
      "4  [first unsettling lights flashing like kaledis...  \n"
     ]
    }
   ],
   "source": [
    "topic_freq = model.get_topic_freq().head() #Get the frequency of each topic\n",
    "freq = model.get_topic_info() #Get the frequency of each topic\n",
    "print(\"N number of topics: \",len(freq))\n",
    "print(freq.head())"
   ]
  },
  {
   "cell_type": "code",
   "execution_count": 90,
   "metadata": {},
   "outputs": [
    {
     "data": {
      "application/vnd.plotly.v1+json": {
       "config": {
        "plotlyServerURL": "https://plot.ly"
       },
       "data": [
        {
         "marker": {
          "color": "#D55E00"
         },
         "orientation": "h",
         "type": "bar",
         "x": [
          0.03291223992033762,
          0.033196139872636796,
          0.04116892813334815,
          0.04452831758301796,
          0.04931465706848137
         ],
         "xaxis": "x",
         "y": [
          "moving  ",
          "one  ",
          "like  ",
          "saw  ",
          "shapes  "
         ],
         "yaxis": "y"
        },
        {
         "marker": {
          "color": "#0072B2"
         },
         "orientation": "h",
         "type": "bar",
         "x": [
          0.11806012153200356,
          0.1240464326134883,
          0.1240464326134883,
          0.12742289240057172,
          0.24802280872161353
         ],
         "xaxis": "x2",
         "y": [
          "calm  ",
          "happiness  ",
          "year  ",
          "peaceful  ",
          "peace  "
         ],
         "yaxis": "y2"
        },
        {
         "marker": {
          "color": "#CC79A7"
         },
         "orientation": "h",
         "type": "bar",
         "x": [
          0.029727103673646605,
          0.03495568325809633,
          0.03495568325809633,
          0.037809547770195726,
          0.04327965391478528
         ],
         "xaxis": "x3",
         "y": [
          "charlie  ",
          "away  ",
          "visuals  ",
          "saw  ",
          "ocean  "
         ],
         "yaxis": "y3"
        },
        {
         "marker": {
          "color": "#E69F00"
         },
         "orientation": "h",
         "type": "bar",
         "x": [
          0.04575940087068616,
          0.04999909079659977,
          0.051016003700417874,
          0.058458223347244466,
          0.060481864959657905
         ],
         "xaxis": "x4",
         "y": [
          "colors  ",
          "pink  ",
          "like  ",
          "orange  ",
          "colours  "
         ],
         "yaxis": "y4"
        },
        {
         "marker": {
          "color": "#56B4E9"
         },
         "orientation": "h",
         "type": "bar",
         "x": [
          0.058265233516317405,
          0.06014383549743578,
          0.0613767557664975,
          0.09487403218732751,
          0.09702205079354914
         ],
         "xaxis": "x5",
         "y": [
          "earth  ",
          "stars  ",
          "energy  ",
          "felt  ",
          "space  "
         ],
         "yaxis": "y5"
        },
        {
         "marker": {
          "color": "#009E73"
         },
         "orientation": "h",
         "type": "bar",
         "x": [
          0.09049480858761576,
          0.11128134689602964,
          0.13578055461746694,
          0.13578055461746694,
          0.31384567022209464
         ],
         "xaxis": "x6",
         "y": [
          "amazing  ",
          "emotions  ",
          "expected  ",
          "awesome  ",
          "experience  "
         ],
         "yaxis": "y6"
        },
        {
         "marker": {
          "color": "#F0E442"
         },
         "orientation": "h",
         "type": "bar",
         "x": [
          0.06631244433982242,
          0.0712607166077486,
          0.09042902925855592,
          0.10600931420356015,
          0.13891431217532993
         ],
         "xaxis": "x7",
         "y": [
          "something  ",
          "eg  ",
          "thought  ",
          "people  ",
          "thoughts  "
         ],
         "yaxis": "y7"
        },
        {
         "marker": {
          "color": "#D55E00"
         },
         "orientation": "h",
         "type": "bar",
         "x": [
          0.042959381080272946,
          0.0432784649862145,
          0.04524626192475931,
          0.05034616780982513,
          0.05078790646087145
         ],
         "xaxis": "x8",
         "y": [
          "eyes  ",
          "way  ",
          "dreamachine  ",
          "colours  ",
          "stories  "
         ],
         "yaxis": "y8"
        }
       ],
       "layout": {
        "annotations": [
         {
          "font": {
           "size": 16
          },
          "showarrow": false,
          "text": "Topic 0",
          "x": 0.0875,
          "xanchor": "center",
          "xref": "paper",
          "y": 1,
          "yanchor": "bottom",
          "yref": "paper"
         },
         {
          "font": {
           "size": 16
          },
          "showarrow": false,
          "text": "Topic 1",
          "x": 0.36250000000000004,
          "xanchor": "center",
          "xref": "paper",
          "y": 1,
          "yanchor": "bottom",
          "yref": "paper"
         },
         {
          "font": {
           "size": 16
          },
          "showarrow": false,
          "text": "Topic 2",
          "x": 0.6375000000000001,
          "xanchor": "center",
          "xref": "paper",
          "y": 1,
          "yanchor": "bottom",
          "yref": "paper"
         },
         {
          "font": {
           "size": 16
          },
          "showarrow": false,
          "text": "Topic 3",
          "x": 0.9125,
          "xanchor": "center",
          "xref": "paper",
          "y": 1,
          "yanchor": "bottom",
          "yref": "paper"
         },
         {
          "font": {
           "size": 16
          },
          "showarrow": false,
          "text": "Topic 4",
          "x": 0.0875,
          "xanchor": "center",
          "xref": "paper",
          "y": 0.4,
          "yanchor": "bottom",
          "yref": "paper"
         },
         {
          "font": {
           "size": 16
          },
          "showarrow": false,
          "text": "Topic 5",
          "x": 0.36250000000000004,
          "xanchor": "center",
          "xref": "paper",
          "y": 0.4,
          "yanchor": "bottom",
          "yref": "paper"
         },
         {
          "font": {
           "size": 16
          },
          "showarrow": false,
          "text": "Topic 6",
          "x": 0.6375000000000001,
          "xanchor": "center",
          "xref": "paper",
          "y": 0.4,
          "yanchor": "bottom",
          "yref": "paper"
         },
         {
          "font": {
           "size": 16
          },
          "showarrow": false,
          "text": "Topic 7",
          "x": 0.9125,
          "xanchor": "center",
          "xref": "paper",
          "y": 0.4,
          "yanchor": "bottom",
          "yref": "paper"
         }
        ],
        "height": 500,
        "hoverlabel": {
         "bgcolor": "white",
         "font": {
          "family": "Rockwell",
          "size": 16
         }
        },
        "showlegend": false,
        "template": {
         "data": {
          "bar": [
           {
            "error_x": {
             "color": "#2a3f5f"
            },
            "error_y": {
             "color": "#2a3f5f"
            },
            "marker": {
             "line": {
              "color": "white",
              "width": 0.5
             },
             "pattern": {
              "fillmode": "overlay",
              "size": 10,
              "solidity": 0.2
             }
            },
            "type": "bar"
           }
          ],
          "barpolar": [
           {
            "marker": {
             "line": {
              "color": "white",
              "width": 0.5
             },
             "pattern": {
              "fillmode": "overlay",
              "size": 10,
              "solidity": 0.2
             }
            },
            "type": "barpolar"
           }
          ],
          "carpet": [
           {
            "aaxis": {
             "endlinecolor": "#2a3f5f",
             "gridcolor": "#C8D4E3",
             "linecolor": "#C8D4E3",
             "minorgridcolor": "#C8D4E3",
             "startlinecolor": "#2a3f5f"
            },
            "baxis": {
             "endlinecolor": "#2a3f5f",
             "gridcolor": "#C8D4E3",
             "linecolor": "#C8D4E3",
             "minorgridcolor": "#C8D4E3",
             "startlinecolor": "#2a3f5f"
            },
            "type": "carpet"
           }
          ],
          "choropleth": [
           {
            "colorbar": {
             "outlinewidth": 0,
             "ticks": ""
            },
            "type": "choropleth"
           }
          ],
          "contour": [
           {
            "colorbar": {
             "outlinewidth": 0,
             "ticks": ""
            },
            "colorscale": [
             [
              0,
              "#0d0887"
             ],
             [
              0.1111111111111111,
              "#46039f"
             ],
             [
              0.2222222222222222,
              "#7201a8"
             ],
             [
              0.3333333333333333,
              "#9c179e"
             ],
             [
              0.4444444444444444,
              "#bd3786"
             ],
             [
              0.5555555555555556,
              "#d8576b"
             ],
             [
              0.6666666666666666,
              "#ed7953"
             ],
             [
              0.7777777777777778,
              "#fb9f3a"
             ],
             [
              0.8888888888888888,
              "#fdca26"
             ],
             [
              1,
              "#f0f921"
             ]
            ],
            "type": "contour"
           }
          ],
          "contourcarpet": [
           {
            "colorbar": {
             "outlinewidth": 0,
             "ticks": ""
            },
            "type": "contourcarpet"
           }
          ],
          "heatmap": [
           {
            "colorbar": {
             "outlinewidth": 0,
             "ticks": ""
            },
            "colorscale": [
             [
              0,
              "#0d0887"
             ],
             [
              0.1111111111111111,
              "#46039f"
             ],
             [
              0.2222222222222222,
              "#7201a8"
             ],
             [
              0.3333333333333333,
              "#9c179e"
             ],
             [
              0.4444444444444444,
              "#bd3786"
             ],
             [
              0.5555555555555556,
              "#d8576b"
             ],
             [
              0.6666666666666666,
              "#ed7953"
             ],
             [
              0.7777777777777778,
              "#fb9f3a"
             ],
             [
              0.8888888888888888,
              "#fdca26"
             ],
             [
              1,
              "#f0f921"
             ]
            ],
            "type": "heatmap"
           }
          ],
          "heatmapgl": [
           {
            "colorbar": {
             "outlinewidth": 0,
             "ticks": ""
            },
            "colorscale": [
             [
              0,
              "#0d0887"
             ],
             [
              0.1111111111111111,
              "#46039f"
             ],
             [
              0.2222222222222222,
              "#7201a8"
             ],
             [
              0.3333333333333333,
              "#9c179e"
             ],
             [
              0.4444444444444444,
              "#bd3786"
             ],
             [
              0.5555555555555556,
              "#d8576b"
             ],
             [
              0.6666666666666666,
              "#ed7953"
             ],
             [
              0.7777777777777778,
              "#fb9f3a"
             ],
             [
              0.8888888888888888,
              "#fdca26"
             ],
             [
              1,
              "#f0f921"
             ]
            ],
            "type": "heatmapgl"
           }
          ],
          "histogram": [
           {
            "marker": {
             "pattern": {
              "fillmode": "overlay",
              "size": 10,
              "solidity": 0.2
             }
            },
            "type": "histogram"
           }
          ],
          "histogram2d": [
           {
            "colorbar": {
             "outlinewidth": 0,
             "ticks": ""
            },
            "colorscale": [
             [
              0,
              "#0d0887"
             ],
             [
              0.1111111111111111,
              "#46039f"
             ],
             [
              0.2222222222222222,
              "#7201a8"
             ],
             [
              0.3333333333333333,
              "#9c179e"
             ],
             [
              0.4444444444444444,
              "#bd3786"
             ],
             [
              0.5555555555555556,
              "#d8576b"
             ],
             [
              0.6666666666666666,
              "#ed7953"
             ],
             [
              0.7777777777777778,
              "#fb9f3a"
             ],
             [
              0.8888888888888888,
              "#fdca26"
             ],
             [
              1,
              "#f0f921"
             ]
            ],
            "type": "histogram2d"
           }
          ],
          "histogram2dcontour": [
           {
            "colorbar": {
             "outlinewidth": 0,
             "ticks": ""
            },
            "colorscale": [
             [
              0,
              "#0d0887"
             ],
             [
              0.1111111111111111,
              "#46039f"
             ],
             [
              0.2222222222222222,
              "#7201a8"
             ],
             [
              0.3333333333333333,
              "#9c179e"
             ],
             [
              0.4444444444444444,
              "#bd3786"
             ],
             [
              0.5555555555555556,
              "#d8576b"
             ],
             [
              0.6666666666666666,
              "#ed7953"
             ],
             [
              0.7777777777777778,
              "#fb9f3a"
             ],
             [
              0.8888888888888888,
              "#fdca26"
             ],
             [
              1,
              "#f0f921"
             ]
            ],
            "type": "histogram2dcontour"
           }
          ],
          "mesh3d": [
           {
            "colorbar": {
             "outlinewidth": 0,
             "ticks": ""
            },
            "type": "mesh3d"
           }
          ],
          "parcoords": [
           {
            "line": {
             "colorbar": {
              "outlinewidth": 0,
              "ticks": ""
             }
            },
            "type": "parcoords"
           }
          ],
          "pie": [
           {
            "automargin": true,
            "type": "pie"
           }
          ],
          "scatter": [
           {
            "fillpattern": {
             "fillmode": "overlay",
             "size": 10,
             "solidity": 0.2
            },
            "type": "scatter"
           }
          ],
          "scatter3d": [
           {
            "line": {
             "colorbar": {
              "outlinewidth": 0,
              "ticks": ""
             }
            },
            "marker": {
             "colorbar": {
              "outlinewidth": 0,
              "ticks": ""
             }
            },
            "type": "scatter3d"
           }
          ],
          "scattercarpet": [
           {
            "marker": {
             "colorbar": {
              "outlinewidth": 0,
              "ticks": ""
             }
            },
            "type": "scattercarpet"
           }
          ],
          "scattergeo": [
           {
            "marker": {
             "colorbar": {
              "outlinewidth": 0,
              "ticks": ""
             }
            },
            "type": "scattergeo"
           }
          ],
          "scattergl": [
           {
            "marker": {
             "colorbar": {
              "outlinewidth": 0,
              "ticks": ""
             }
            },
            "type": "scattergl"
           }
          ],
          "scattermapbox": [
           {
            "marker": {
             "colorbar": {
              "outlinewidth": 0,
              "ticks": ""
             }
            },
            "type": "scattermapbox"
           }
          ],
          "scatterpolar": [
           {
            "marker": {
             "colorbar": {
              "outlinewidth": 0,
              "ticks": ""
             }
            },
            "type": "scatterpolar"
           }
          ],
          "scatterpolargl": [
           {
            "marker": {
             "colorbar": {
              "outlinewidth": 0,
              "ticks": ""
             }
            },
            "type": "scatterpolargl"
           }
          ],
          "scatterternary": [
           {
            "marker": {
             "colorbar": {
              "outlinewidth": 0,
              "ticks": ""
             }
            },
            "type": "scatterternary"
           }
          ],
          "surface": [
           {
            "colorbar": {
             "outlinewidth": 0,
             "ticks": ""
            },
            "colorscale": [
             [
              0,
              "#0d0887"
             ],
             [
              0.1111111111111111,
              "#46039f"
             ],
             [
              0.2222222222222222,
              "#7201a8"
             ],
             [
              0.3333333333333333,
              "#9c179e"
             ],
             [
              0.4444444444444444,
              "#bd3786"
             ],
             [
              0.5555555555555556,
              "#d8576b"
             ],
             [
              0.6666666666666666,
              "#ed7953"
             ],
             [
              0.7777777777777778,
              "#fb9f3a"
             ],
             [
              0.8888888888888888,
              "#fdca26"
             ],
             [
              1,
              "#f0f921"
             ]
            ],
            "type": "surface"
           }
          ],
          "table": [
           {
            "cells": {
             "fill": {
              "color": "#EBF0F8"
             },
             "line": {
              "color": "white"
             }
            },
            "header": {
             "fill": {
              "color": "#C8D4E3"
             },
             "line": {
              "color": "white"
             }
            },
            "type": "table"
           }
          ]
         },
         "layout": {
          "annotationdefaults": {
           "arrowcolor": "#2a3f5f",
           "arrowhead": 0,
           "arrowwidth": 1
          },
          "autotypenumbers": "strict",
          "coloraxis": {
           "colorbar": {
            "outlinewidth": 0,
            "ticks": ""
           }
          },
          "colorscale": {
           "diverging": [
            [
             0,
             "#8e0152"
            ],
            [
             0.1,
             "#c51b7d"
            ],
            [
             0.2,
             "#de77ae"
            ],
            [
             0.3,
             "#f1b6da"
            ],
            [
             0.4,
             "#fde0ef"
            ],
            [
             0.5,
             "#f7f7f7"
            ],
            [
             0.6,
             "#e6f5d0"
            ],
            [
             0.7,
             "#b8e186"
            ],
            [
             0.8,
             "#7fbc41"
            ],
            [
             0.9,
             "#4d9221"
            ],
            [
             1,
             "#276419"
            ]
           ],
           "sequential": [
            [
             0,
             "#0d0887"
            ],
            [
             0.1111111111111111,
             "#46039f"
            ],
            [
             0.2222222222222222,
             "#7201a8"
            ],
            [
             0.3333333333333333,
             "#9c179e"
            ],
            [
             0.4444444444444444,
             "#bd3786"
            ],
            [
             0.5555555555555556,
             "#d8576b"
            ],
            [
             0.6666666666666666,
             "#ed7953"
            ],
            [
             0.7777777777777778,
             "#fb9f3a"
            ],
            [
             0.8888888888888888,
             "#fdca26"
            ],
            [
             1,
             "#f0f921"
            ]
           ],
           "sequentialminus": [
            [
             0,
             "#0d0887"
            ],
            [
             0.1111111111111111,
             "#46039f"
            ],
            [
             0.2222222222222222,
             "#7201a8"
            ],
            [
             0.3333333333333333,
             "#9c179e"
            ],
            [
             0.4444444444444444,
             "#bd3786"
            ],
            [
             0.5555555555555556,
             "#d8576b"
            ],
            [
             0.6666666666666666,
             "#ed7953"
            ],
            [
             0.7777777777777778,
             "#fb9f3a"
            ],
            [
             0.8888888888888888,
             "#fdca26"
            ],
            [
             1,
             "#f0f921"
            ]
           ]
          },
          "colorway": [
           "#636efa",
           "#EF553B",
           "#00cc96",
           "#ab63fa",
           "#FFA15A",
           "#19d3f3",
           "#FF6692",
           "#B6E880",
           "#FF97FF",
           "#FECB52"
          ],
          "font": {
           "color": "#2a3f5f"
          },
          "geo": {
           "bgcolor": "white",
           "lakecolor": "white",
           "landcolor": "white",
           "showlakes": true,
           "showland": true,
           "subunitcolor": "#C8D4E3"
          },
          "hoverlabel": {
           "align": "left"
          },
          "hovermode": "closest",
          "mapbox": {
           "style": "light"
          },
          "paper_bgcolor": "white",
          "plot_bgcolor": "white",
          "polar": {
           "angularaxis": {
            "gridcolor": "#EBF0F8",
            "linecolor": "#EBF0F8",
            "ticks": ""
           },
           "bgcolor": "white",
           "radialaxis": {
            "gridcolor": "#EBF0F8",
            "linecolor": "#EBF0F8",
            "ticks": ""
           }
          },
          "scene": {
           "xaxis": {
            "backgroundcolor": "white",
            "gridcolor": "#DFE8F3",
            "gridwidth": 2,
            "linecolor": "#EBF0F8",
            "showbackground": true,
            "ticks": "",
            "zerolinecolor": "#EBF0F8"
           },
           "yaxis": {
            "backgroundcolor": "white",
            "gridcolor": "#DFE8F3",
            "gridwidth": 2,
            "linecolor": "#EBF0F8",
            "showbackground": true,
            "ticks": "",
            "zerolinecolor": "#EBF0F8"
           },
           "zaxis": {
            "backgroundcolor": "white",
            "gridcolor": "#DFE8F3",
            "gridwidth": 2,
            "linecolor": "#EBF0F8",
            "showbackground": true,
            "ticks": "",
            "zerolinecolor": "#EBF0F8"
           }
          },
          "shapedefaults": {
           "line": {
            "color": "#2a3f5f"
           }
          },
          "ternary": {
           "aaxis": {
            "gridcolor": "#DFE8F3",
            "linecolor": "#A2B1C6",
            "ticks": ""
           },
           "baxis": {
            "gridcolor": "#DFE8F3",
            "linecolor": "#A2B1C6",
            "ticks": ""
           },
           "bgcolor": "white",
           "caxis": {
            "gridcolor": "#DFE8F3",
            "linecolor": "#A2B1C6",
            "ticks": ""
           }
          },
          "title": {
           "x": 0.05
          },
          "xaxis": {
           "automargin": true,
           "gridcolor": "#EBF0F8",
           "linecolor": "#EBF0F8",
           "ticks": "",
           "title": {
            "standoff": 15
           },
           "zerolinecolor": "#EBF0F8",
           "zerolinewidth": 2
          },
          "yaxis": {
           "automargin": true,
           "gridcolor": "#EBF0F8",
           "linecolor": "#EBF0F8",
           "ticks": "",
           "title": {
            "standoff": 15
           },
           "zerolinecolor": "#EBF0F8",
           "zerolinewidth": 2
          }
         }
        },
        "title": {
         "font": {
          "color": "Black",
          "size": 22
         },
         "text": "Topic Word Scores",
         "x": 0.5,
         "xanchor": "center",
         "yanchor": "top"
        },
        "width": 1000,
        "xaxis": {
         "anchor": "y",
         "domain": [
          0,
          0.175
         ],
         "showgrid": true
        },
        "xaxis2": {
         "anchor": "y2",
         "domain": [
          0.275,
          0.45
         ],
         "showgrid": true
        },
        "xaxis3": {
         "anchor": "y3",
         "domain": [
          0.55,
          0.7250000000000001
         ],
         "showgrid": true
        },
        "xaxis4": {
         "anchor": "y4",
         "domain": [
          0.825,
          1
         ],
         "showgrid": true
        },
        "xaxis5": {
         "anchor": "y5",
         "domain": [
          0,
          0.175
         ],
         "showgrid": true
        },
        "xaxis6": {
         "anchor": "y6",
         "domain": [
          0.275,
          0.45
         ],
         "showgrid": true
        },
        "xaxis7": {
         "anchor": "y7",
         "domain": [
          0.55,
          0.7250000000000001
         ],
         "showgrid": true
        },
        "xaxis8": {
         "anchor": "y8",
         "domain": [
          0.825,
          1
         ],
         "showgrid": true
        },
        "yaxis": {
         "anchor": "x",
         "domain": [
          0.6000000000000001,
          1
         ],
         "showgrid": true
        },
        "yaxis2": {
         "anchor": "x2",
         "domain": [
          0.6000000000000001,
          1
         ],
         "showgrid": true
        },
        "yaxis3": {
         "anchor": "x3",
         "domain": [
          0.6000000000000001,
          1
         ],
         "showgrid": true
        },
        "yaxis4": {
         "anchor": "x4",
         "domain": [
          0.6000000000000001,
          1
         ],
         "showgrid": true
        },
        "yaxis5": {
         "anchor": "x5",
         "domain": [
          0,
          0.4
         ],
         "showgrid": true
        },
        "yaxis6": {
         "anchor": "x6",
         "domain": [
          0,
          0.4
         ],
         "showgrid": true
        },
        "yaxis7": {
         "anchor": "x7",
         "domain": [
          0,
          0.4
         ],
         "showgrid": true
        },
        "yaxis8": {
         "anchor": "x8",
         "domain": [
          0,
          0.4
         ],
         "showgrid": true
        }
       }
      }
     },
     "metadata": {},
     "output_type": "display_data"
    }
   ],
   "source": [
    "model.visualize_barchart() #Visualize the top 10 topics"
   ]
  },
  {
   "cell_type": "code",
   "execution_count": 91,
   "metadata": {},
   "outputs": [
    {
     "data": {
      "application/vnd.plotly.v1+json": {
       "config": {
        "plotlyServerURL": "https://plot.ly"
       },
       "data": [
        {
         "hoverinfo": "text",
         "hovertext": [
          "trying remember patterns",
          "first resistance gone bliss saw colourful mandalas keeping pace beats perfect synchronicity amazed never experienced something equal beyond words",
          "remembered beautiful joyful memories moments family asif waswith beach",
          "wondered would like die calm serene frightening isaw lots warmcolours black crossesno green",
          "anxiousoverwhelmed total lack control first reaklized give entregarme experience wanted feel emotiol somatic understanding control place saw planets revolving rapidly almost colliding spaceship travelling fast felt leaving body behind approaching sun heat cartoonish face man moustache reflected like disco light ceiling fans approached zoomed collective many fans intricacies single fan jumped bloodstream could see red blood cells travelling flow could almost feel warmth blood floated flowed squirrel bioluminescence ocean la gigi end",
          "saw serene beach scene people text subtitled movie set south france",
          "deep memories emotive reflections images ive seen",
          "thought fluffy speech writtenhealth safetyaspect broke sense adventure departure really ecessary meditive part nice perhaps take intro time brief overview histiry pursuits aybea bit science lose faux hand holding lovely experience overall",
          "kalsczscope colours",
          "immense comfort even much experience frantic towards end saw deep blue snow incredibly peaceful",
          "sound inside body",
          "incredible technicolour experience",
          "devtest trev site",
          "found experience moving emotiol transcendental peaceful although also felt somewhat anxious participated pschycedelic trial dmt months ago experience took back music especially par one perceives sound actual trip find feeling peaceful present like back truly amazing experiencehard describe thank creating",
          "pattern red white lights thatflashed andbecame intensewhen lights flashed intensely alsofelt sleep abit thinkingof partner could visualise",
          "sensory rollercoaster",
          "felt pulled vortex time waiting awake different dimension",
          "towards end washing machine spin going helicopter moving different possitions",
          "felt warm cold sensations hands one point relaxed sleepy end found flashing lights little intense eye mask worked well times overall enjoyable relaxing experience",
          "evershifting visions often kaleidoscopic geometric cosmic linked music could shaped intention obliquely mysteriously taken alterte realities unintelligible considerate guide",
          "thought fluffy speech writtenhealth safetyaspect broke sense adventure departure really ecessary meditive part nice perhaps take intro time brief overview histiry pursuits aybea bit science lose faux hand holding lovely experience overall",
          "intense visual clarity hyperresolution extremely rich",
          "experienced different states depending lighting darkness constant light made feel relaxed first two levels strobing made feel partly overwhelmed anxious fil rapid level strobing felt relaxing",
          "sparked much curiosity really understand",
          "falling snow peaceful lost cornfield staring tunnel scared",
          "dreamt harbinger new planet shaping world life equity wish belong someone really loved missed",
          "felt confusing sense place familiar place like grandmothers basement train station couldnt place sensation strong struggled find memory matched feeling knew felt strong pull familiar place beyond remembering sure glad wasnt drugs",
          "amazing sense harmony balance oneness visually moving mandala",
          "quite honest think fell asleep dont really rememberwhat saw",
          "past memories people really life anymore",
          "felt clouds holding breath",
          "thought throughout visualising body specifically head",
          "devtest trevor onsite",
          "good stuff",
          "saw stars hexagons tesselating twisting zooming left right reds blues greens galactic bacground wanted engage annoyed started ands topped brain developing themes louder music better would liked slight difusion light something keep eyes shut intensity demanding open eyes concious mind thinking stopping thinking end funny couldnt help thinking would happen drum beat maybe allow non euro music much love john hopkins",
          "first thouhht really intense went phases felt rush anxiety taking journey colour beautiful calmingor rigid uncomfortable ididnt know look sudden felt like disembodied huge wave eurphoria took felt like totally free itsthe comfort ive ever felt magical",
          "absolutely tripped away good came n experienced experience u set",
          "felt outerspace experiencing transition death comforting whilst felt small insignificant also felt free powerful",
          "end sharp music connected sound helicopters smell burning associated war majority experienced heart shapes cosmic lights galaxies",
          "relaxation calm curiosity",
          "intrigued excited",
          "good loads ket still decent",
          "wentback many hard mostly beautiful memories without prompting",
          "kept seeing images og peope",
          "seeing hearing deceased relatives smiled could hear distinctive voices",
          "rollercoaster sun dont make get",
          "experience felt almost transformative lights started gradually built moved states mindfullness distracted everyday thoughts sometimes wrestling two crescendoed cacophony sound light reached state full awareness arms weightless parts body felt distant unrecognisable",
          "memories meditationswimming weightlessnessspace",
          "helicopter busy mind rest relentless stuck",
          "euphoric healing experience",
          "riding ray sort flying barren icelandic desert spinning universe",
          "bright blue skies waterfall flowing backwards flock birds universe",
          "really pleasant relaxing sensation erotic make think sex sense struck enjoyable could sexual experience alone others conjunction sensation also felt like wanted experience intenlse much louder music intense part lighting pattern repeated longer",
          "want fo",
          "st time felt like seperate front vision nd time around vast difference happen bigger profound akmost intense",
          "wish could remindedme child",
          "felt overwhelming sense euphoria love everyone room felt journeying together felt hopeful",
          "flying coourful vortex overwhelming vast spaceand insignificant",
          "musicis calming surreal sensory overwhelming powerful scared ar first calmed feels like sympolism acceptance self fear life isvan unique experience wont forget",
          "saw mostly red diamond kaleidescope recede distance zoomed towards breakneck speed sense tiring hallucitins created intense vivid world stayed threatened overwhelm times could feel sort physical effectstess pressure front brain face almost felt taking hit pulse light moments without flashing lights blissful taken halluginogens past lacked rrative emotiol connection comparatively scientific ture presentation perhaps cutting one emotiol spiritual potential although probably highly subjective exhausting similar way though must go eat something",
          "felt relaxed comfortable",
          "alot memories",
          "felt like parents house couldnt figure room felt like old house shared ex walking daily comute towards old front door felt like walking dog normal experiences usually time everything scary felt like people things surroundings closing sides made jump grab chest",
          "nd time st one better coz felt relaxed got ideas time someone kept coughing disrupted thought process feel anything ban people cough",
          "loved would like try couple hours",
          "fasciting experience great thrapeutic potential",
          "someone sleep paralysis regularly quite interesting brain automatically reached details prove wasnt real felt much present couldnt meditate either even though tried visuals pretty fun though",
          "many psychecik lic experiences many years tame interezted potential taki g co mbining substzncex",
          "entry another univerise",
          "felt incredibly small weight exsistence like heavy blanket rather negative experience felt relief comforted",
          "saw map london walked new york floating space like star angel floating past memories forgiving ever felt sad numb",
          "felt like fun fare spinning ride two next spinning opposite directions light lot mottled reds greens",
          "thoughts felt safe fun gives odd feeling wanting keep feeling types thing",
          "felt like coming home",
          "busy airport waiting area landing egypt",
          "calm serenity flashback emotions",
          "atei feel really relaxed would like j try meditate beforehand still racing thoughts interrupting couldnt totally immersed suffer tinnitus matter always distraction",
          "didnt know whether asleep awake felt like drifted consciousness never opened eyes felt range emotions sometimes wanted laugh sometimes felt deep sexual feeling relaxing filly opened eyes felt refreshed new",
          "healing part didnt realise decayed entirely",
          "noxtalgia andpdace optimism escapism ive visited three timesand different experience wearing contacts geometric last timei saw lot white geomtricforms mixed smoke times saw hyperspace style visuals red blue",
          "seeing figures wearing black hats height music banda stars twirling tunnels slanting right left well zooming creamsicle room totally disorienting picked spot tried blink lots uncertainty went okay",
          "interesting one",
          "changing temperature body lights changes intensity experience focussed compared light across whole peripheral vision",
          "began violent falling away darkness",
          "confusion difficult make note seeing ive never experienced also felt happy smiledat certain points quite weird",
          "persolly hard find peace intensity bright light eyes wouldnt stop watering kept mind occupied still really cool experience",
          "yourefrom university sussex need stand reality believe souls gendered ogherwise",
          "dissolved light",
          "ittransported memories deeper onnection ever beforei could walk around room almost reach felt like therein memory looking back places deep unsure totally conscious felt like almost dream like state aesthesia",
          "would like next make felt artwork",
          "good vibes",
          "people talking made see people walking towards really creepy",
          "felt like vsarely flying brain space warm sunset",
          "totally immersive experience felt like inside kaleidescope saw bright yellow like thesun took myhappy place",
          "brief thinking death could look like experience decided assume go near ddath experience check thoughts could build smth thzn visual thing cannot say totally useless expecting",
          "brain hallucites go",
          "brains neurons veins elephants",
          "incredible sensory experience huge feeling calm peace times felt like l back womb",
          "fabulous experience didnt wantit end like eyesopen throughoutand yet totally enveloped sound",
          "time place seem happened yet come",
          null
         ],
         "marker": {
          "color": "#CFD8DC",
          "opacity": 0.5,
          "size": 5
         },
         "mode": "markers+text",
         "name": "other",
         "showlegend": false,
         "type": "scattergl",
         "x": [
          7.7117791175842285,
          5.557301998138428,
          5.806609153747559,
          6.7569804191589355,
          5.794475555419922,
          6.045691013336182,
          5.433244705200195,
          5.840643882751465,
          7.879484176635742,
          5.29813289642334,
          5.174292087554932,
          3.851039171218872,
          4.121184825897217,
          3.9253597259521484,
          6.917959213256836,
          6.9111127853393555,
          5.3423357009887695,
          7.505600452423096,
          4.624758720397949,
          6.297910213470459,
          5.831629753112793,
          8.218607902526855,
          4.71489953994751,
          3.199087142944336,
          5.694705486297607,
          4.872382640838623,
          4.729945182800293,
          5.559427261352539,
          5.081249237060547,
          5.326920032501221,
          4.426738739013672,
          5.271233558654785,
          4.2199296951293945,
          3.541950225830078,
          5.783622741699219,
          3.6767852306365967,
          3.5535659790039062,
          4.9319658279418945,
          6.065165042877197,
          2.9632248878479004,
          3.1177759170532227,
          3.6137354373931885,
          5.48667573928833,
          5.844972610473633,
          4.606308937072754,
          7.004138469696045,
          4.950313568115234,
          5.030271053314209,
          7.330216884613037,
          2.7013235092163086,
          7.615624904632568,
          7.726233005523682,
          4.864135265350342,
          4.794387340545654,
          5.261505603790283,
          4.765287399291992,
          2.6404078006744385,
          7.677206039428711,
          3.8317508697509766,
          5.147698402404785,
          3.0609278678894043,
          5.462701320648193,
          4.315029144287109,
          3.905247449874878,
          4.757205486297607,
          3.7697031497955322,
          4.611390590667725,
          4.033663749694824,
          4.624274730682373,
          4.177010536193848,
          6.844983100891113,
          6.796644687652588,
          3.995640993118286,
          4.243187427520752,
          7.301447868347168,
          4.168094635009766,
          3.816795825958252,
          4.618127822875977,
          4.565540790557861,
          5.939620018005371,
          6.487905979156494,
          3.2368245124816895,
          4.950799942016602,
          5.750453948974609,
          3.750657558441162,
          6.9077839851379395,
          4.637983798980713,
          7.097352027893066,
          5.0281877517700195,
          4.8456926345825195,
          3.5315206050872803,
          4.461106300354004,
          6.997282028198242,
          7.438089370727539,
          4.646650791168213,
          5.074601650238037,
          5.245142459869385,
          4.105923175811768,
          5.356510639190674,
          5.324753284454346,
          5.183513641357422
         ],
         "y": [
          6.360008716583252,
          7.184391975402832,
          7.95701789855957,
          6.825803279876709,
          7.800039768218994,
          8.154394149780273,
          7.696497440338135,
          6.518929958343506,
          7.050415515899658,
          8.71442699432373,
          5.369346618652344,
          8.583913803100586,
          8.981498718261719,
          7.152292728424072,
          6.391513347625732,
          8.046638488769531,
          8.276259422302246,
          8.232903480529785,
          5.944521427154541,
          5.948907375335693,
          6.537611961364746,
          7.007327079772949,
          6.070804119110107,
          8.242189407348633,
          8.616836547851562,
          7.979176998138428,
          7.648584365844727,
          7.177999973297119,
          7.385533332824707,
          7.831744194030762,
          8.4942045211792,
          6.464519500732422,
          9.004613876342773,
          8.892046928405762,
          6.043835639953613,
          7.532899379730225,
          7.968054294586182,
          8.441802024841309,
          5.850172519683838,
          7.900687217712402,
          8.387511253356934,
          8.937874794006348,
          7.8520073890686035,
          7.40914249420166,
          7.327206134796143,
          8.030527114868164,
          6.844597339630127,
          7.421187400817871,
          8.30534839630127,
          8.636088371276855,
          8.556254386901855,
          8.226835250854492,
          6.254426956176758,
          8.997447967529297,
          8.268980026245117,
          7.802121639251709,
          8.686914443969727,
          8.48497200012207,
          7.581417560577393,
          6.870280742645264,
          7.839099884033203,
          7.791041851043701,
          7.670525074005127,
          7.180441379547119,
          8.994218826293945,
          8.511770248413086,
          7.011302947998047,
          7.306056976318359,
          7.460138320922852,
          8.079944610595703,
          8.667398452758789,
          7.457792282104492,
          7.603157997131348,
          8.276019096374512,
          8.35301685333252,
          8.005121231079102,
          7.117307662963867,
          6.292665958404541,
          8.133203506469727,
          7.043535232543945,
          6.128772258758545,
          8.558433532714844,
          5.888174533843994,
          8.503856658935547,
          7.7829742431640625,
          6.291514873504639,
          7.519689083099365,
          6.3332085609436035,
          7.438629627227783,
          8.967079162597656,
          8.848748207092285,
          7.6381516456604,
          8.45261001586914,
          7.599167823791504,
          7.87636661529541,
          6.686184406280518,
          6.50094747543335,
          8.128584861755371,
          7.068563938140869,
          8.129063606262207,
          7.622961044311523
         ]
        },
        {
         "hoverinfo": "text",
         "hovertext": [
          "l felt like flower slowly unfurling sunlight like trippy mickey mouse disney animation seen kalaidescope",
          "huge landscapes flashing backgrounds undulating foreground quuckly becoming new perspective",
          "surprised time th experience high sensory seeing peripheral live structures pyramidal shapes another thing found strange seeing clearly pentagram centre spiral normal one well reversed rotating",
          "one central heart shape kept returning every colour rainbow one point sky immersed like skydiving went space saw galaxies stars lots kaleidoscope shapes",
          "experienced range images chose many colours shapes asked describe saw perhaps focused one saw octagol like shapes saw rotations like washed yellow light intense part smooth heavy intense red light mixed yellow like fire looked like spaceship moving like eruption light engine firing thank interesting",
          "changing colours interlocking diamond triangles faintly distinct light appear grow shrink",
          "moving tunnel branches green see green start finish",
          "perception various geometric constructs dyson speheres mobius strips rippling water etc",
          "thousansds fluttering butterfly wings flying space incredible speed phosporescence water welsh blanket mothers blue handmade patchwork quilt tesselations hexagons overwhelming beauty spinning planet childhood memory staring glittering eyelashes rainbow bright sun",
          "light shapes emerging receding patterns folding ofeash kaleidescope effects wasalso interesting image stabilised scan field vision side fo side explore periphery",
          "fractals intense colours sometimes mix memories single short scenes beautiful situations past",
          "portal moving towards away fractaling everything",
          "intro red spiralsalmost like cyclone",
          "kaleidoscope light patterns",
          "desert figures moving across dunes underwater among whales viewing london sky line one point followed helicopter saw lot orange blue bubbly patterns",
          "towards end felt like slowly floating upwards",
          "colours lines spheres twirls",
          "saw film strips sons lips giant wooshing manga dragon focussed grass slate little windows stained glass",
          "spirals pulsing",
          "suddenly fely like shot air travelling time space saw stars pass overhead everything taking kalaeidoscopic texture also saw alogue timer counting filling whole field view",
          "felt one point saw someone leave room like dream also lifted spiralled like waltzer saw many kinds patterns sparks geometric shapes contrarotating spirals feet feel bit floaty",
          "frustration couldnt stop thinking outside concentdate happening occasiol tumbles patterns made leap back",
          "red red shapes travel tbrough time",
          "vca fuzz patterns",
          "bizarre lots observing others giant bubble people coming protected others control dome",
          "jouney forward maybe backwards slow fast really fast really sloooow many fractals colours",
          "saw something like moroccan tile pattern based around small geometric crosses diagols lots lots flickering moving sometimes focusing particularly one shape others colourful lots small different blocks colour repetitive shapes colours repeated sometimes couple colours became domint like blue red fluffy green pattern couple times small geometric shapes started grey black white sometimes felt like beginnings ends musical light episodes periods stillness one colour mainly warm yellow orangey red",
          "visual doesnt look anything like whst saw much geometric kaledoscopic sky like",
          "saw kaleidoscope like childhood toy abstract space dunes sunshine",
          "quite meshes orders dark colours emerging blackness one point hexagons pulsating pink black began punching sides altertely lasted seconds gone longer would",
          "wheat field girl summer roller coaster speeding bird flying earths atmosphere space sun covered creamy milk swim deep ocean ske coming towards feeling cocoon womb",
          "sense moving portal transported like end viewed kaleidoscope wearing kaleidogoggles immense",
          "felt like understood islamic architecture featurees geometriic shapes promintly becasue see shaops close eyes obviously spiritual",
          "mass moving shapes vivid colours continually changing evolving enveloping",
          "wasmy second time experance black white cold bluues grids fractials previous pink tones vortexes sensation flyingin wormhole",
          "geometric paterns colour mainly sometimes white dots moved rapidly direcion shape centre sometimes moved opposite direction towards centre point like calledoscope linear helicopter like sound could see like rotors geometrical shapes one front eye",
          "points intense chaos broke clear defined counter clockwise spiralling tunnel two small semi circles centre going opposite way",
          "incredible kakeidoscopic journey set ckmbitions colours shapes took different dimensions like flying crashing different dimensions shockingly vivid white red black angular kakeidoscooe elements grew textured physical forms within kakeidoscope blue mist dots black void like space tunnel pink yellow round shapes incredible deep orange morohed bred amazing new forms calm turquoise blue hints yellow like gradient sunset",
          "hard focus single pattern wanted focus one would become less focused let pass would able see clearer",
          "experienced absolute chaos mirrors im currently feeling emotiol saw every combition shape colour seemingly combining random",
          "saw many shapes colours usually swirling falling around moving vortex tunnel often red orange sometimes bluey green underwater",
          "saw x distinct images staircaseescalator treasure chests x opening x closedlocked bookmark symbol",
          "one point light darkened vision shifted field blue one recognised deep shade derek jarmans film",
          "sequential rich kalidescopic patterning sense depth structures felt ite tural rather architectural fantastical transcendental",
          "varirtyof lights colours movinginward outwards",
          "initially spiral like spool old film running projector figures standing though dance starfields reminiscent stargate oddly robbie williams",
          "geometrical rythmic pulsating cosmos front eyes infinently varied beutiful return time without help dream machine",
          "floating air travelling universe flowers blooming",
          "kaleidascopic guest beauty beast experience kept seeing happy spinning teapots",
          "saw incredible kaleidescopes patterns made solid stripes colour edges kaleidescopes started see corridors gardens though doorways imagined world inside patterns one moment darker saw deep mass blue green sparks pulsed almost like jelly fish wanted stay space see worlds",
          "incredible colours patterns tended shift focusing sound colours difficult hold equally present",
          "sea f green stars moving like oil water wading fading glimspe something disappearing shifting sharp angled reds bold lines intersectoring like gate black swirling spheres orange turning spiral sense happening seems arrive vision virbates sense leaves",
          "visions ture petals flowers sun connection things vast desert dunes multitude cells zooming shapes floral crystalline technology humans chaos stillness",
          "blue red cross initially dots various colours one point got quite animated bounced around fair bit dozed",
          "colurs shapes stars ac inecoce",
          "felt powerless pulled along experience like dragged along space portal tunnel high speed saw stars outlines planets saw large cross two wolf shapes facing saw large butterfydragon shape descending stars saw large huge open space paterned looked like white black tiles saw large ske like shapes writhing space tunnel different colour",
          "saw shapes waves azulejo tiles patchwork blurry landscapes vague outlines animals shapes stag running saw past love wedding dress another swimming ocean",
          "colour fields varying colours changed rapidly moving patterns sometimes patterns appeared move downwards front eyes sometimes across vision sometimes towards point infinity",
          "geometric kaleidescope shapes overlayed moving cosmosnight sky slow exposure different pulling directions moving portal time space",
          "numerous random shapes sometimes geometric sometimes dots feeling things comings sense travelling along galaxy highway towards end",
          "lots pulsating spiralling images take specific forms",
          "peacefull contemplation vivid mandelbrot type kaladescopic patterns",
          "became music music became floating flying multidimensiol kaleidoscope beautiful geometry symmetry colour",
          "saw hexagons blue tunnel thought bees generativity pure full electricity",
          "thought universe felt like moving moving centre drawn saw honeycomb shapes thought bees saw blocks colour red yellow felt dramatic",
          "colourful patterns",
          "saw vertical tree branches green leaves towards end felt though moving sleep state point",
          "lot kaleidoscope flowers falling blossoms snow flakes ripples like rain drops water",
          "intense fast movement sound shapes colour aand light immersive anticipated",
          "outside kelidoscope colour rotating universe stars beyond everything one point felt like looking buildings white curved modernist like futuristic city",
          null
         ],
         "marker": {
          "opacity": 0.5,
          "size": 5
         },
         "mode": "markers+text",
         "name": "0_shapes_saw_like",
         "text": [
          "",
          "",
          "",
          "",
          "",
          "",
          "",
          "",
          "",
          "",
          "",
          "",
          "",
          "",
          "",
          "",
          "",
          "",
          "",
          "",
          "",
          "",
          "",
          "",
          "",
          "",
          "",
          "",
          "",
          "",
          "",
          "",
          "",
          "",
          "",
          "",
          "",
          "",
          "",
          "",
          "",
          "",
          "",
          "",
          "",
          "",
          "",
          "",
          "",
          "",
          "",
          "",
          "",
          "",
          "",
          "",
          "",
          "",
          "",
          "",
          "",
          "",
          "",
          "",
          "",
          "",
          "",
          "",
          "",
          "",
          "0_shapes_saw_like"
         ],
         "textfont": {
          "size": 12
         },
         "type": "scattergl",
         "x": [
          7.625743389129639,
          8.344148635864258,
          8.932841300964355,
          8.441017150878906,
          8.674408912658691,
          8.162480354309082,
          8.938277244567871,
          8.828747749328613,
          7.5121073722839355,
          8.032170295715332,
          8.319000244140625,
          8.570218086242676,
          8.749207496643066,
          7.929421424865723,
          7.913469314575195,
          8.884821891784668,
          8.442249298095703,
          8.562385559082031,
          8.965953826904297,
          8.490443229675293,
          8.992013931274414,
          8.64377212524414,
          8.604244232177734,
          8.443455696105957,
          8.460990905761719,
          8.416145324707031,
          8.332259178161621,
          8.241567611694336,
          7.7082905769348145,
          8.76552963256836,
          7.180102825164795,
          8.184868812561035,
          8.269452095031738,
          8.303895950317383,
          8.706524848937988,
          8.31613540649414,
          8.940454483032227,
          7.926263809204102,
          7.95808744430542,
          8.557433128356934,
          8.647991180419922,
          8.620231628417969,
          7.919853687286377,
          8.143816947937012,
          8.174091339111328,
          9.034680366516113,
          8.297350883483887,
          7.679008960723877,
          7.443216323852539,
          8.152238845825195,
          8.045995712280273,
          8.508683204650879,
          7.344221591949463,
          8.547388076782227,
          8.302358627319336,
          8.628498077392578,
          8.609155654907227,
          8.351105690002441,
          8.335168838500977,
          8.5596923828125,
          9.00200366973877,
          7.881417274475098,
          7.8772873878479,
          8.7901611328125,
          8.749871253967285,
          8.083054542541504,
          8.955263137817383,
          7.656961917877197,
          7.851565361022949,
          8.278172492980957,
          8.33915901184082
         ],
         "y": [
          7.788476467132568,
          7.045135498046875,
          7.180835723876953,
          7.956716537475586,
          8.017939567565918,
          6.147817611694336,
          7.553470134735107,
          7.886710166931152,
          7.840759754180908,
          6.914576530456543,
          6.326379776000977,
          7.601513862609863,
          6.822279930114746,
          7.33939790725708,
          7.3534698486328125,
          7.6953277587890625,
          6.079337120056152,
          8.107080459594727,
          7.065554141998291,
          7.813384056091309,
          7.475920677185059,
          7.352310657501221,
          6.268169403076172,
          6.419646263122559,
          7.031113147735596,
          6.3771843910217285,
          6.439803600311279,
          7.51693058013916,
          7.550992488861084,
          6.639675140380859,
          8.048441886901855,
          7.661578178405762,
          7.867992401123047,
          6.091197490692139,
          6.713369846343994,
          6.6492228507995605,
          7.031585216522217,
          7.764821529388428,
          6.403066635131836,
          6.5141987800598145,
          6.574686050415039,
          8.234591484069824,
          6.655163288116455,
          7.726752758026123,
          6.092097759246826,
          7.417957782745361,
          7.6031012535095215,
          8.135075569152832,
          7.735064506530762,
          7.876699924468994,
          6.187555313110352,
          7.149554252624512,
          7.472843647003174,
          6.210673809051514,
          8.365002632141113,
          8.034133911132812,
          8.06594181060791,
          6.3092217445373535,
          7.619221210479736,
          7.163390636444092,
          7.2199249267578125,
          7.714336395263672,
          7.543707370758057,
          7.8922200202941895,
          7.959744930267334,
          6.267265319824219,
          7.5997748374938965,
          7.759295463562012,
          5.9441704750061035,
          8.191486358642578,
          7.24391508102417
         ]
        },
        {
         "hoverinfo": "text",
         "hovertext": [
          "calm peaceful state blissful even vastness poetic beautiful",
          "spoke year old self year old self happy",
          "ajourney relaxedand abit worried iknewi would safe",
          "submission fun mild euphoric moments",
          "joy relaxation",
          "great sense calm belonging",
          "feeling peace tranquillity",
          "sen se comfort connection anin inner peace clam safe",
          "felt peaceful euphoric sense wonder awe",
          "utter peace happiness",
          "happiness joy adventure",
          "something wonderful",
          "peaceful experience",
          "pleasure intrigue",
          "peace contentment",
          "overarching ture love",
          "immersed calm thrilled",
          "peace sunlight ture",
          "amazing sense peace positivity",
          "peacefulness guidance",
          null
         ],
         "marker": {
          "opacity": 0.5,
          "size": 5
         },
         "mode": "markers+text",
         "name": "1_peace_peaceful_year",
         "text": [
          "",
          "",
          "",
          "",
          "",
          "",
          "",
          "",
          "",
          "",
          "",
          "",
          "",
          "",
          "",
          "",
          "",
          "",
          "",
          "",
          "1_peace_peaceful_year"
         ],
         "textfont": {
          "size": 12
         },
         "type": "scattergl",
         "x": [
          2.2128231525421143,
          2.663133144378662,
          2.8719253540039062,
          2.8235971927642822,
          2.839944839477539,
          2.3142037391662598,
          2.1462583541870117,
          2.659834146499634,
          2.365119218826294,
          2.1725916862487793,
          2.7194292545318604,
          2.795236825942993,
          2.3029446601867676,
          2.9454169273376465,
          2.0945920944213867,
          2.2832350730895996,
          2.8781278133392334,
          2.1241610050201416,
          2.168818235397339,
          2.176553726196289,
          2.4778971672058105
         ],
         "y": [
          8.598051071166992,
          8.169614791870117,
          7.71724271774292,
          8.501704216003418,
          8.117218017578125,
          8.59255313873291,
          8.54259967803955,
          7.853831768035889,
          8.631794929504395,
          8.552799224853516,
          8.214466094970703,
          8.290807723999023,
          8.515655517578125,
          8.236313819885254,
          8.558289527893066,
          8.334990501403809,
          8.19437026977539,
          8.429350852966309,
          8.58273696899414,
          8.577254295349121,
          8.36058235168457
         ]
        },
        {
         "hoverinfo": "text",
         "hovertext": [
          "collection keyholes could see paintingthrough animals merpeople morphing intoeach wireframe structures animated moviestyle montage future",
          "many different visuals experiences one ocean house grass fields near cliffs next ocean approaching heaven one last ones walworth road",
          "feel amazed saw afriend past free field green hill made weep joy saw poverty forebears loved thanked",
          "scary pointy laughing clown face test period came later able control turned pecking bird zooming space someone wanted show planet far away flew cities deserts one point wasflyingclose ground herd elephants met god one eye middle theirforehead great sense ofadventure wellbeing traveller welcome ontheir peaceful world",
          "times saw clear blue ocean saw people yellow walking past bus lots children playing parents throwing balls air various characters focused would disappear end everything calmed saw person amongst white hospital bed saw hazy silhouette man walking away looked shoulder disappearing filly pregnt mother amongst blue cradled husband felt like circle life soul leaving returning emotiolly moved wonderful experience wasnt expecting",
          "intense geometric shapes spiralling deep ocean blue circle vivid memories dad carrying shoulders young girl felt like back short dream machine unforgettable magical lifeaffirming experience",
          "like interactive multicoloured multidimensiol escher painting",
          "interesting experience definitely easy moment reminded used get bored school assemblies press eyes watch patterns unfold visuals kaleidoscopic although saw moroccan landscape dolphin swimming away cave various points",
          "earth falling sun least nineties rave visuals cycle death rebirth envisaged eighties dd summer meadow lot diamond ripples",
          "felt like llama intro credit scene monty python holy grail points",
          "journey unknown beautiful quest oblivion",
          "direct experience infinite creativity much beauty vivid colours patterns like travelling dimensions imagine would go similar journey transition realms",
          "wild experience could stayed dreamachine day complete disconnection body strong desire turn intensity explore visual phases kaleidoscope swirls geometric patterns oranges reds blues green suddenly blackwhite phases feeling motion floating looking sky looking beneath flying forwards backwards tunnel",
          "possible generate full images demand elephant made upwards flowing oil rivulets",
          "wild ride",
          "like riding willie wonkas boat crazy tunnels charlie chocolate factory",
          "felt like boat charlie chocolate factory",
          null
         ],
         "marker": {
          "opacity": 0.5,
          "size": 5
         },
         "mode": "markers+text",
         "name": "2_ocean_saw_visuals",
         "text": [
          "",
          "",
          "",
          "",
          "",
          "",
          "",
          "",
          "",
          "",
          "",
          "",
          "",
          "",
          "",
          "",
          "",
          "2_ocean_saw_visuals"
         ],
         "textfont": {
          "size": 12
         },
         "type": "scattergl",
         "x": [
          6.226582050323486,
          6.483374118804932,
          5.715618133544922,
          6.005223274230957,
          5.885668754577637,
          6.5064921379089355,
          6.34401798248291,
          5.881836414337158,
          6.705253601074219,
          6.194622039794922,
          3.4516026973724365,
          6.423667907714844,
          6.590269088745117,
          6.330705165863037,
          6.762720584869385,
          6.560850143432617,
          6.213595867156982,
          6.134240627288818
         ],
         "y": [
          8.567883491516113,
          8.013690948486328,
          8.05244255065918,
          8.368325233459473,
          7.859923839569092,
          7.694612503051758,
          8.509834289550781,
          8.553866386413574,
          7.6241774559021,
          8.1719388961792,
          6.875679969787598,
          7.429792404174805,
          7.438436508178711,
          8.421978950500488,
          7.57500696182251,
          7.795380592346191,
          8.086597442626953,
          7.943504810333252
         ]
        },
        {
         "hoverinfo": "text",
         "hovertext": [
          "would love experience continual stimulation without breaks see images evolve",
          "psychedelic colours",
          "mainly stressed moments calm went dark blue saw lots colours patterns didnt like lot found hoping would become colour combition like find emotiolly peaceful one point darker background starry bright pink yellow blue shapes dancing liked white background made feel like clinical space made stressed generally prefer dark",
          "colours patterns sense awe brain light creating powerful hallucitions little afraid first good get touch fear feel beautiful experience",
          "whole spectrum colors shapes colors never seen moving many directions pircing thorough body mind ecstatic experience wished would never end end felt home deep sense warm loving embrace like mothers wumb",
          "range emotions patterns colour movement sense really beingbinside head",
          "lots colors",
          "physical discomfort amazing patterns intense colours yearning desire see questions",
          "first unsettling lights flashing like kalediscope front eyes even thouh eyes closed didnt feel control wondered would positive found could shut wanted able relax almost falling asleep times experience colours changed patterns sometimes like sunrise othertimes like something science fiction blue backgrounds white linked rectangles",
          "strobe lighting orange yellow domint colours like old kaleidoscopes kids main experience visual senses involved",
          "deep relaxation sense hope made feel positive though sometging guiding mei saw deep red heart distance well flowers glitter skeskin eye owl",
          "hope colour",
          "brightest fullvision orange never entire sight orange lots lines n sw ne nw se mostly red orange yellow also black white blue dont know ever saw green pink brown purple moments body jerked like try p mind sometimes active overthinking actually memory always something obvious captivating come back",
          "lights colours sense calm joy",
          "curiositywant contol uble intense orange",
          "colours like testcard first lightly muted called pink mind saw wash deep pink also saw text almost like ancient runes one point felt like iwas flying remembered difficult experiences afterwards felt euphoric",
          null
         ],
         "marker": {
          "opacity": 0.5,
          "size": 5
         },
         "mode": "markers+text",
         "name": "3_colours_orange_like",
         "text": [
          "",
          "",
          "",
          "",
          "",
          "",
          "",
          "",
          "",
          "",
          "",
          "",
          "",
          "",
          "",
          "",
          "3_colours_orange_like"
         ],
         "textfont": {
          "size": 12
         },
         "type": "scattergl",
         "x": [
          6.247198581695557,
          6.79791259765625,
          6.508092880249023,
          6.647772312164307,
          6.531590461730957,
          6.42590856552124,
          7.1033148765563965,
          6.467628479003906,
          6.345663547515869,
          6.870140552520752,
          6.548251152038574,
          7.01722526550293,
          6.744636535644531,
          6.781010150909424,
          6.785465717315674,
          6.403751373291016,
          6.639097690582275
         ],
         "y": [
          6.820335865020752,
          6.796582221984863,
          6.402224540710449,
          6.583652496337891,
          6.965885639190674,
          6.488973617553711,
          6.613366603851318,
          6.539347171783447,
          6.450997352600098,
          6.454573631286621,
          6.821646690368652,
          6.589480876922607,
          6.6627116203308105,
          6.413100242614746,
          6.78914737701416,
          6.710437297821045,
          6.631403923034668
         ]
        },
        {
         "hoverinfo": "text",
         "hovertext": [
          "space even ive never physically",
          "moved wild tide atomic energy converging around us",
          "felt like ajourney space riding kaleidoscope body experience occasion felt spinning sensastion like could see glaxies star clusters around invisibke kaleidsospascecraft felt body lifted tracvelling theuniverse profound throughout felt calm exalted",
          "felt thatgods light shone upon going back beginning universe big bang andseeing creatures microcosm cellular level well planets stars also end depths ocean",
          "towards end went space take intense scary end floating peacefully orbit glow earth could see stars",
          "hurtling space time speed couldnt determine felt like experienced big bang everything since really hard put finger shedding different layers felt connected life forms felt much energy pulsating body",
          "felt body fact planet earth like took trip space",
          "felt though experiencing formation solar system eartha place warmth light arising dust spinning chaos suspended infinite void",
          "like particles star emiting light space",
          "web gold dark universe saw energy connection things domed tower full stars mountains arches appeared surrendered geometry falling lifted tunnels felt ascending warmth sun saw waters moving face earth covering deepness outside time felt close religious experience profoundly moving elating",
          "often felt connected space floating weightless surrounded millions stars travelling great speed time sometimes felt looked like wormholes felt elated completely peaceful found smiling broadly moments",
          "travelling space",
          null
         ],
         "marker": {
          "opacity": 0.5,
          "size": 5
         },
         "mode": "markers+text",
         "name": "4_space_felt_energy",
         "text": [
          "",
          "",
          "",
          "",
          "",
          "",
          "",
          "",
          "",
          "",
          "",
          "",
          "4_space_felt_energy"
         ],
         "textfont": {
          "size": 12
         },
         "type": "scattergl",
         "x": [
          7.359879970550537,
          7.635959148406982,
          7.065765857696533,
          7.816396236419678,
          8.021687507629395,
          7.197218894958496,
          7.20652961730957,
          7.4699625968933105,
          8.064632415771484,
          7.577877044677734,
          7.25920295715332,
          7.232145309448242,
          7.492271423339844
         ],
         "y": [
          8.857394218444824,
          8.813570022583008,
          8.50472640991211,
          8.683809280395508,
          8.624518394470215,
          8.829973220825195,
          8.809640884399414,
          8.728635787963867,
          8.602474212646484,
          8.811704635620117,
          8.848687171936035,
          8.849759101867676,
          8.747075080871582
         ]
        },
        {
         "hoverinfo": "text",
         "hovertext": [
          "overall amazing experience",
          "awesome experience expected sometimes verging oppressive never scary well lead",
          "awesome experience much expected diolch yn fawr tess calming",
          "pareidolia unnerving sometimes amazing experience though",
          "starting fee lfar significantinteresting emotions experience stopped",
          "times felt concern experience would end soon",
          "zeen experience",
          "perfectly cromulent experience",
          "similar stuff normally experience",
          "interesting experience felt relaxed",
          "good experience surprise sensation play mind emotions thanks experience",
          "experience felt like new form art individual host unique experience",
          null
         ],
         "marker": {
          "opacity": 0.5,
          "size": 5
         },
         "mode": "markers+text",
         "name": "5_experience_awesome_expected",
         "text": [
          "",
          "",
          "",
          "",
          "",
          "",
          "",
          "",
          "",
          "",
          "",
          "",
          "5_experience_awesome_expected"
         ],
         "textfont": {
          "size": 12
         },
         "type": "scattergl",
         "x": [
          3.625445604324341,
          3.6349754333496094,
          3.452831268310547,
          3.4716432094573975,
          3.6827542781829834,
          3.4986531734466553,
          3.730822801589966,
          3.604968547821045,
          3.826115369796753,
          3.4784228801727295,
          3.7002196311950684,
          3.7236928939819336,
          3.6192121505737305
         ],
         "y": [
          8.457355499267578,
          7.658699989318848,
          8.089223861694336,
          8.27973747253418,
          7.650792598724365,
          7.786579608917236,
          8.298234939575195,
          8.414728164672852,
          7.914740085601807,
          8.120865821838379,
          7.828904151916504,
          8.36685848236084,
          8.072226524353027
         ]
        },
        {
         "hoverinfo": "text",
         "hovertext": [
          "something ever experienced something wish could week",
          "also experienced ghost people purifferal verison sometimes fleeting felt walkjng around room whispy milky apperence also dyslexic itwasinteresting experence nuero divergent brained person",
          "felt like brain massaged sometimes felt overwhelming think became overwhelming brain would cut normal thoughts eg like need buy tge shop dinner sometimes would see clips eg like film interdespersed everyniw",
          "wanting thoughts overtake experience",
          "different thoughts perception light manner human descernment develops towards something",
          "th visit wouldbe great therapy teach mindfulness train people still thoughts also possibilities recreatiol use perhaps even people want get drugs dm please",
          "really thoughts day things need forgotten",
          "thought god",
          "found lost thought near end stopped aware visual experience thought stuff similar stuff normally think wonder didnt work tall chair",
          "random thoughts connected people close others events journeys",
          "thought feeling people around made feel vulnrable",
          null
         ],
         "marker": {
          "opacity": 0.5,
          "size": 5
         },
         "mode": "markers+text",
         "name": "6_thoughts_people_thought",
         "text": [
          "",
          "",
          "",
          "",
          "",
          "",
          "",
          "",
          "",
          "",
          "",
          "6_thoughts_people_thought"
         ],
         "textfont": {
          "size": 12
         },
         "type": "scattergl",
         "x": [
          4.1836934089660645,
          4.405640602111816,
          4.346722602844238,
          4.216395854949951,
          4.9946208000183105,
          3.940185308456421,
          4.257478713989258,
          4.291304111480713,
          4.785658359527588,
          4.254344940185547,
          4.210585117340088,
          4.353330135345459
         ],
         "y": [
          7.475074768066406,
          7.281845569610596,
          7.050556182861328,
          7.375118732452393,
          6.869873523712158,
          7.1373066902160645,
          7.325109958648682,
          7.284730911254883,
          7.029580116271973,
          7.457409381866455,
          7.4377827644348145,
          7.247671604156494
         ]
        },
        {
         "hoverinfo": "text",
         "hovertext": [
          "guides voice began speak telling us felt colours stopped time realised interaction quite short consciousness drifted early stages sand man cometh brains alpha waves quickly displaced exterlly generated momentary visions garbled messy free association nonsensical stories act scent kindling dreams",
          "found thoughts developing stories images eyes closed vast colours brain generated impressive art gallerty",
          "lots ofvisuals towards end people love thencestors previously know apparent within eye good bad stories immaterial experiences eye wider space colours reverberating patterns many eyes many perceptions born many lifetimes witnin themall eyes within flow colours inside outside syes infinite",
          "saw insideof eyelids whole new way",
          "dreamachine put quite strange amazing mood want catch still sensitizing feeling one afterglow wonderful seeing deep textures powdery lights arise vision best bit taking feelingss music gliding morphing visions according feel music memory childhood spending lots time staring windows media player audio visualiser listening songs liked seemed amazing time made think synesthetic experiences theyre precious worth seeking appreciating like music visual thing",
          "brain oscar worthy director",
          "thought alot rands journey rhudian experiencing history aiel eyes ancestors",
          "breathing exercize would help staff could show us could copy way delivered fast long wasnt rythm found eye mask uncomfortable forehead took would prefer use hands shield light abit cold dreamachine especially moving quite echoy dreamachine could hear someone snoring staff openin shutting thedoor near beginning end might idea box tissues reflection room",
          "aware started follow train thought maybe going deeoer didnt see much imagery whdn concentratingon colours shapes spent lot timethunjing aboutthe way experience world sesoriky whether normal compaired people",
          "struggled let go though amazing mind make colours shapes images tried think living fear experience live",
          null
         ],
         "marker": {
          "opacity": 0.5,
          "size": 5
         },
         "mode": "markers+text",
         "name": "7_stories_colours_dreamachine",
         "text": [
          "",
          "",
          "",
          "",
          "",
          "",
          "",
          "",
          "",
          "",
          "7_stories_colours_dreamachine"
         ],
         "textfont": {
          "size": 12
         },
         "type": "scattergl",
         "x": [
          5.804367542266846,
          5.928398609161377,
          5.771816253662109,
          5.508284568786621,
          5.54775857925415,
          5.403907299041748,
          5.761276721954346,
          5.820514678955078,
          5.83871603012085,
          6.146548748016357,
          5.753159046173096
         ],
         "y": [
          6.592299461364746,
          6.7631402015686035,
          6.761111259460449,
          6.729377746582031,
          6.169943332672119,
          6.526556491851807,
          6.973745822906494,
          6.262380123138428,
          7.017334938049316,
          6.8960347175598145,
          6.669192314147949
         ]
        },
        {
         "hoverinfo": "text",
         "hovertext": [
          "peace tranquility joy stimulation arousal swirling patterns geometricshapes shifting changing got lost body disappeared cam eback short dreams",
          "dreaming dreamingly",
          "put dreamlike semiconcious state sensation quite asleep coming wakefulness dreaming real things conversations",
          "felt like dreaming dream little",
          "felt sleepy bit anxious times due speed flashing lights profound thoughts experience rather almost fell asleep dreamlike way",
          "felt similar mri machine also unsuccesfully trying fall asleep insomnia period",
          "intense chaos mind checked subconscious took started talking imagine like looking back life die",
          "dreaming awake flashes random places maybe like dead",
          null
         ],
         "marker": {
          "opacity": 0.5,
          "size": 5
         },
         "mode": "markers+text",
         "name": "8_dreaming_asleep_dreamlike",
         "text": [
          "",
          "",
          "",
          "",
          "",
          "",
          "",
          "",
          "8_dreaming_asleep_dreamlike"
         ],
         "textfont": {
          "size": 12
         },
         "type": "scattergl",
         "x": [
          4.8834757804870605,
          4.473341464996338,
          4.532425403594971,
          4.472380638122559,
          4.510966777801514,
          4.4269795417785645,
          4.7552690505981445,
          4.497035980224609,
          4.568984031677246
         ],
         "y": [
          6.472860813140869,
          6.492152214050293,
          6.395975112915039,
          6.8109822273254395,
          6.467720031738281,
          6.36967658996582,
          7.3549652099609375,
          6.458967685699463,
          6.602912425994873
         ]
        },
        {
         "hoverinfo": "text",
         "hovertext": [
          "good beats leading helpful positive ambient sounds",
          "stimulation relaxation within music light",
          "sound created visuals created pattern energy movement across body",
          "aware music tgroughout changing rythms tones",
          "really enjoyed music zen",
          "heard various music patterns different speeds high low notes music seemed build crescendo near end session move slower calming sequence enhanced patterns made feel like journey",
          "relaxing patterened music",
          "flashing patterns music distracted linear ratiol thinking sat back enjoyed sensory pleasure colours music",
          null
         ],
         "marker": {
          "opacity": 0.5,
          "size": 5
         },
         "mode": "markers+text",
         "name": "9_music_enjoyed_created",
         "text": [
          "",
          "",
          "",
          "",
          "",
          "",
          "",
          "",
          "9_music_enjoyed_created"
         ],
         "textfont": {
          "size": 12
         },
         "type": "scattergl",
         "x": [
          5.645143985748291,
          5.581863880157471,
          5.502231597900391,
          5.642306804656982,
          5.627532958984375,
          5.586843013763428,
          5.604647159576416,
          5.751511096954346,
          5.617760181427002
         ],
         "y": [
          5.3964619636535645,
          5.389777660369873,
          5.353161811828613,
          5.426265239715576,
          5.705413818359375,
          5.630665302276611,
          5.387646198272705,
          5.504289150238037,
          5.474209785461426
         ]
        },
        {
         "hoverinfo": "text",
         "hovertext": [
          "saw lot fast movement despite emotiolly felt absolute stillness deep calm periphery vision sometimes saw objects people tried interpret first decided fully present experience overall enjoyed dreamachine still feel stilness feeling bliss",
          "varying journey speed awareness times rapid felt though thr body brain wouldnt able process moments calm soothing desire retain recall shapes colours andfeelings envoked strong understanding experience may lost coming",
          "visual experience felt abit flat sa focused eyes head experience much would rather engage body work somatic aspect dropped body feel felt like flat survace lie canvas face painting images appeared beautiful thanks",
          "loss sense time images werent images feeling like transported moving",
          "kept thinking game football played tuesdayand hyper aware eyes something something might pull awzy experience",
          "saw vasarely like artworks motion sense time weird experience felt really short bright light bit hurting overall experience amazing",
          "sense time",
          "sense expansion moving towards something forward motion motivation progress purposes",
          null
         ],
         "marker": {
          "opacity": 0.5,
          "size": 5
         },
         "mode": "markers+text",
         "name": "10_experience_flat_sense",
         "text": [
          "",
          "",
          "",
          "",
          "",
          "",
          "",
          "",
          "10_experience_flat_sense"
         ],
         "textfont": {
          "size": 12
         },
         "type": "scattergl",
         "x": [
          5.395848274230957,
          5.658514022827148,
          5.3004865646362305,
          5.628382205963135,
          5.482567310333252,
          5.442577838897705,
          5.547412395477295,
          5.573566913604736,
          5.503669261932373
         ],
         "y": [
          6.956966876983643,
          6.984981060028076,
          6.67202091217041,
          7.418717861175537,
          6.191289901733398,
          7.53409481048584,
          7.42936372756958,
          7.220911502838135,
          7.051043510437012
         ]
        },
        {
         "hoverinfo": "text",
         "hovertext": [
          "profihnd sense f relaxation neved experienced came pure connectivity body slight floating sensation",
          "deep relaxation like deep tissue massage mind safe healthy groovy drugfree trip long last afterwards felt deepest deepest sleep worried might give headache didnt great peace soothed tired",
          "experienced lot physical sensations stomach face inside head still feel like brain massaged",
          "intense connection body surroundings",
          "bubbling freedom suddenly seeing somewhere dark yet bright resulting tingling sensation altertive parts body also pure relaxation",
          "intensity connectionvastnessspaciousnesslovi ngawareness",
          "relaxing reflective worries stopped put porportion",
          "felt relaxed also stimulated brightness frequency flickering felt attacked yet never felt scared weak",
          null
         ],
         "marker": {
          "opacity": 0.5,
          "size": 5
         },
         "mode": "markers+text",
         "name": "11_relaxation_deepest_pure",
         "text": [
          "",
          "",
          "",
          "",
          "",
          "",
          "",
          "",
          "11_relaxation_deepest_pure"
         ],
         "textfont": {
          "size": 12
         },
         "type": "scattergl",
         "x": [
          4.650461673736572,
          4.2190656661987305,
          4.733541488647461,
          4.709589958190918,
          4.625794410705566,
          4.6872878074646,
          4.378966331481934,
          4.5453715324401855,
          4.568759918212891
         ],
         "y": [
          5.653890132904053,
          6.06248140335083,
          5.833738327026367,
          5.542064666748047,
          5.734206676483154,
          5.601781368255615,
          6.230894088745117,
          5.818130016326904,
          5.809648513793945
         ]
        },
        {
         "hoverinfo": "text",
         "hovertext": [
          "felt relaxed safe excited start experience began float tunnel filled bright red blue light outer space dimension body felt heavy sense sinkining time flying forward experience intensified felt euphoric emotiol like lsd trip body sensation drugs quite satisfying think helped process trauma drug use end journey back earth floating dark blue purple water wanted go forever",
          "exactly rember lsd without scary parts",
          "closest thing ill ever experience drugs",
          "like taking hallucinogenic drugs younger",
          "complete journey closest sober experience honest better psychedelics",
          "like acid dmt safer everyone try",
          "like acid",
          null
         ],
         "marker": {
          "opacity": 0.5,
          "size": 5
         },
         "mode": "markers+text",
         "name": "12_drugs_acid_closest",
         "text": [
          "",
          "",
          "",
          "",
          "",
          "",
          "",
          "12_drugs_acid_closest"
         ],
         "textfont": {
          "size": 12
         },
         "type": "scattergl",
         "x": [
          5.261163711547852,
          3.53204345703125,
          3.393968105316162,
          3.4019668102264404,
          3.5148708820343018,
          3.3504602909088135,
          3.339277505874634,
          3.684821605682373
         ],
         "y": [
          7.21976375579834,
          6.7235941886901855,
          6.589292526245117,
          6.574525356292725,
          6.807081699371338,
          6.550728797912598,
          6.513571262359619,
          6.7112226486206055
         ]
        },
        {
         "hoverinfo": "text",
         "hovertext": [
          "kind felt like dying reincarting starting life also felt like seeing origin galaxy trying understand meaning life",
          "life retired",
          "felt like looking across universe beyond realm experience felt deep connection humankind overwhelming sense peace left feeling profoundly moved tearful",
          "life death rebirth",
          "hope thats death feels like x",
          null
         ],
         "marker": {
          "opacity": 0.5,
          "size": 5
         },
         "mode": "markers+text",
         "name": "13_life_death_realm",
         "text": [
          "",
          "",
          "",
          "",
          "",
          "13_life_death_realm"
         ],
         "textfont": {
          "size": 12
         },
         "type": "scattergl",
         "x": [
          4.905941963195801,
          4.801296710968018,
          4.951051712036133,
          4.770354270935059,
          4.753702163696289,
          4.836469650268555
         ],
         "y": [
          8.465517044067383,
          8.24895191192627,
          8.573126792907715,
          8.235426902770996,
          8.358109474182129,
          8.376226425170898
         ]
        }
       ],
       "layout": {
        "annotations": [
         {
          "showarrow": false,
          "text": "D1",
          "x": 1.7804032802581786,
          "y": 7.452746748924255,
          "yshift": 10
         },
         {
          "showarrow": false,
          "text": "D2",
          "x": 6.0851428508758545,
          "xshift": 10,
          "y": 10.35530595779419
         }
        ],
        "height": 750,
        "shapes": [
         {
          "line": {
           "color": "#CFD8DC",
           "width": 2
          },
          "type": "line",
          "x0": 6.0851428508758545,
          "x1": 6.0851428508758545,
          "y0": 4.5501875400543215,
          "y1": 10.35530595779419
         },
         {
          "line": {
           "color": "#9E9E9E",
           "width": 2
          },
          "type": "line",
          "x0": 1.7804032802581786,
          "x1": 10.38988242149353,
          "y0": 7.452746748924255,
          "y1": 7.452746748924255
         }
        ],
        "template": {
         "data": {
          "bar": [
           {
            "error_x": {
             "color": "rgb(36,36,36)"
            },
            "error_y": {
             "color": "rgb(36,36,36)"
            },
            "marker": {
             "line": {
              "color": "white",
              "width": 0.5
             },
             "pattern": {
              "fillmode": "overlay",
              "size": 10,
              "solidity": 0.2
             }
            },
            "type": "bar"
           }
          ],
          "barpolar": [
           {
            "marker": {
             "line": {
              "color": "white",
              "width": 0.5
             },
             "pattern": {
              "fillmode": "overlay",
              "size": 10,
              "solidity": 0.2
             }
            },
            "type": "barpolar"
           }
          ],
          "carpet": [
           {
            "aaxis": {
             "endlinecolor": "rgb(36,36,36)",
             "gridcolor": "white",
             "linecolor": "white",
             "minorgridcolor": "white",
             "startlinecolor": "rgb(36,36,36)"
            },
            "baxis": {
             "endlinecolor": "rgb(36,36,36)",
             "gridcolor": "white",
             "linecolor": "white",
             "minorgridcolor": "white",
             "startlinecolor": "rgb(36,36,36)"
            },
            "type": "carpet"
           }
          ],
          "choropleth": [
           {
            "colorbar": {
             "outlinewidth": 1,
             "tickcolor": "rgb(36,36,36)",
             "ticks": "outside"
            },
            "type": "choropleth"
           }
          ],
          "contour": [
           {
            "colorbar": {
             "outlinewidth": 1,
             "tickcolor": "rgb(36,36,36)",
             "ticks": "outside"
            },
            "colorscale": [
             [
              0,
              "#440154"
             ],
             [
              0.1111111111111111,
              "#482878"
             ],
             [
              0.2222222222222222,
              "#3e4989"
             ],
             [
              0.3333333333333333,
              "#31688e"
             ],
             [
              0.4444444444444444,
              "#26828e"
             ],
             [
              0.5555555555555556,
              "#1f9e89"
             ],
             [
              0.6666666666666666,
              "#35b779"
             ],
             [
              0.7777777777777778,
              "#6ece58"
             ],
             [
              0.8888888888888888,
              "#b5de2b"
             ],
             [
              1,
              "#fde725"
             ]
            ],
            "type": "contour"
           }
          ],
          "contourcarpet": [
           {
            "colorbar": {
             "outlinewidth": 1,
             "tickcolor": "rgb(36,36,36)",
             "ticks": "outside"
            },
            "type": "contourcarpet"
           }
          ],
          "heatmap": [
           {
            "colorbar": {
             "outlinewidth": 1,
             "tickcolor": "rgb(36,36,36)",
             "ticks": "outside"
            },
            "colorscale": [
             [
              0,
              "#440154"
             ],
             [
              0.1111111111111111,
              "#482878"
             ],
             [
              0.2222222222222222,
              "#3e4989"
             ],
             [
              0.3333333333333333,
              "#31688e"
             ],
             [
              0.4444444444444444,
              "#26828e"
             ],
             [
              0.5555555555555556,
              "#1f9e89"
             ],
             [
              0.6666666666666666,
              "#35b779"
             ],
             [
              0.7777777777777778,
              "#6ece58"
             ],
             [
              0.8888888888888888,
              "#b5de2b"
             ],
             [
              1,
              "#fde725"
             ]
            ],
            "type": "heatmap"
           }
          ],
          "heatmapgl": [
           {
            "colorbar": {
             "outlinewidth": 1,
             "tickcolor": "rgb(36,36,36)",
             "ticks": "outside"
            },
            "colorscale": [
             [
              0,
              "#440154"
             ],
             [
              0.1111111111111111,
              "#482878"
             ],
             [
              0.2222222222222222,
              "#3e4989"
             ],
             [
              0.3333333333333333,
              "#31688e"
             ],
             [
              0.4444444444444444,
              "#26828e"
             ],
             [
              0.5555555555555556,
              "#1f9e89"
             ],
             [
              0.6666666666666666,
              "#35b779"
             ],
             [
              0.7777777777777778,
              "#6ece58"
             ],
             [
              0.8888888888888888,
              "#b5de2b"
             ],
             [
              1,
              "#fde725"
             ]
            ],
            "type": "heatmapgl"
           }
          ],
          "histogram": [
           {
            "marker": {
             "line": {
              "color": "white",
              "width": 0.6
             }
            },
            "type": "histogram"
           }
          ],
          "histogram2d": [
           {
            "colorbar": {
             "outlinewidth": 1,
             "tickcolor": "rgb(36,36,36)",
             "ticks": "outside"
            },
            "colorscale": [
             [
              0,
              "#440154"
             ],
             [
              0.1111111111111111,
              "#482878"
             ],
             [
              0.2222222222222222,
              "#3e4989"
             ],
             [
              0.3333333333333333,
              "#31688e"
             ],
             [
              0.4444444444444444,
              "#26828e"
             ],
             [
              0.5555555555555556,
              "#1f9e89"
             ],
             [
              0.6666666666666666,
              "#35b779"
             ],
             [
              0.7777777777777778,
              "#6ece58"
             ],
             [
              0.8888888888888888,
              "#b5de2b"
             ],
             [
              1,
              "#fde725"
             ]
            ],
            "type": "histogram2d"
           }
          ],
          "histogram2dcontour": [
           {
            "colorbar": {
             "outlinewidth": 1,
             "tickcolor": "rgb(36,36,36)",
             "ticks": "outside"
            },
            "colorscale": [
             [
              0,
              "#440154"
             ],
             [
              0.1111111111111111,
              "#482878"
             ],
             [
              0.2222222222222222,
              "#3e4989"
             ],
             [
              0.3333333333333333,
              "#31688e"
             ],
             [
              0.4444444444444444,
              "#26828e"
             ],
             [
              0.5555555555555556,
              "#1f9e89"
             ],
             [
              0.6666666666666666,
              "#35b779"
             ],
             [
              0.7777777777777778,
              "#6ece58"
             ],
             [
              0.8888888888888888,
              "#b5de2b"
             ],
             [
              1,
              "#fde725"
             ]
            ],
            "type": "histogram2dcontour"
           }
          ],
          "mesh3d": [
           {
            "colorbar": {
             "outlinewidth": 1,
             "tickcolor": "rgb(36,36,36)",
             "ticks": "outside"
            },
            "type": "mesh3d"
           }
          ],
          "parcoords": [
           {
            "line": {
             "colorbar": {
              "outlinewidth": 1,
              "tickcolor": "rgb(36,36,36)",
              "ticks": "outside"
             }
            },
            "type": "parcoords"
           }
          ],
          "pie": [
           {
            "automargin": true,
            "type": "pie"
           }
          ],
          "scatter": [
           {
            "fillpattern": {
             "fillmode": "overlay",
             "size": 10,
             "solidity": 0.2
            },
            "type": "scatter"
           }
          ],
          "scatter3d": [
           {
            "line": {
             "colorbar": {
              "outlinewidth": 1,
              "tickcolor": "rgb(36,36,36)",
              "ticks": "outside"
             }
            },
            "marker": {
             "colorbar": {
              "outlinewidth": 1,
              "tickcolor": "rgb(36,36,36)",
              "ticks": "outside"
             }
            },
            "type": "scatter3d"
           }
          ],
          "scattercarpet": [
           {
            "marker": {
             "colorbar": {
              "outlinewidth": 1,
              "tickcolor": "rgb(36,36,36)",
              "ticks": "outside"
             }
            },
            "type": "scattercarpet"
           }
          ],
          "scattergeo": [
           {
            "marker": {
             "colorbar": {
              "outlinewidth": 1,
              "tickcolor": "rgb(36,36,36)",
              "ticks": "outside"
             }
            },
            "type": "scattergeo"
           }
          ],
          "scattergl": [
           {
            "marker": {
             "colorbar": {
              "outlinewidth": 1,
              "tickcolor": "rgb(36,36,36)",
              "ticks": "outside"
             }
            },
            "type": "scattergl"
           }
          ],
          "scattermapbox": [
           {
            "marker": {
             "colorbar": {
              "outlinewidth": 1,
              "tickcolor": "rgb(36,36,36)",
              "ticks": "outside"
             }
            },
            "type": "scattermapbox"
           }
          ],
          "scatterpolar": [
           {
            "marker": {
             "colorbar": {
              "outlinewidth": 1,
              "tickcolor": "rgb(36,36,36)",
              "ticks": "outside"
             }
            },
            "type": "scatterpolar"
           }
          ],
          "scatterpolargl": [
           {
            "marker": {
             "colorbar": {
              "outlinewidth": 1,
              "tickcolor": "rgb(36,36,36)",
              "ticks": "outside"
             }
            },
            "type": "scatterpolargl"
           }
          ],
          "scatterternary": [
           {
            "marker": {
             "colorbar": {
              "outlinewidth": 1,
              "tickcolor": "rgb(36,36,36)",
              "ticks": "outside"
             }
            },
            "type": "scatterternary"
           }
          ],
          "surface": [
           {
            "colorbar": {
             "outlinewidth": 1,
             "tickcolor": "rgb(36,36,36)",
             "ticks": "outside"
            },
            "colorscale": [
             [
              0,
              "#440154"
             ],
             [
              0.1111111111111111,
              "#482878"
             ],
             [
              0.2222222222222222,
              "#3e4989"
             ],
             [
              0.3333333333333333,
              "#31688e"
             ],
             [
              0.4444444444444444,
              "#26828e"
             ],
             [
              0.5555555555555556,
              "#1f9e89"
             ],
             [
              0.6666666666666666,
              "#35b779"
             ],
             [
              0.7777777777777778,
              "#6ece58"
             ],
             [
              0.8888888888888888,
              "#b5de2b"
             ],
             [
              1,
              "#fde725"
             ]
            ],
            "type": "surface"
           }
          ],
          "table": [
           {
            "cells": {
             "fill": {
              "color": "rgb(237,237,237)"
             },
             "line": {
              "color": "white"
             }
            },
            "header": {
             "fill": {
              "color": "rgb(217,217,217)"
             },
             "line": {
              "color": "white"
             }
            },
            "type": "table"
           }
          ]
         },
         "layout": {
          "annotationdefaults": {
           "arrowhead": 0,
           "arrowwidth": 1
          },
          "autotypenumbers": "strict",
          "coloraxis": {
           "colorbar": {
            "outlinewidth": 1,
            "tickcolor": "rgb(36,36,36)",
            "ticks": "outside"
           }
          },
          "colorscale": {
           "diverging": [
            [
             0,
             "rgb(103,0,31)"
            ],
            [
             0.1,
             "rgb(178,24,43)"
            ],
            [
             0.2,
             "rgb(214,96,77)"
            ],
            [
             0.3,
             "rgb(244,165,130)"
            ],
            [
             0.4,
             "rgb(253,219,199)"
            ],
            [
             0.5,
             "rgb(247,247,247)"
            ],
            [
             0.6,
             "rgb(209,229,240)"
            ],
            [
             0.7,
             "rgb(146,197,222)"
            ],
            [
             0.8,
             "rgb(67,147,195)"
            ],
            [
             0.9,
             "rgb(33,102,172)"
            ],
            [
             1,
             "rgb(5,48,97)"
            ]
           ],
           "sequential": [
            [
             0,
             "#440154"
            ],
            [
             0.1111111111111111,
             "#482878"
            ],
            [
             0.2222222222222222,
             "#3e4989"
            ],
            [
             0.3333333333333333,
             "#31688e"
            ],
            [
             0.4444444444444444,
             "#26828e"
            ],
            [
             0.5555555555555556,
             "#1f9e89"
            ],
            [
             0.6666666666666666,
             "#35b779"
            ],
            [
             0.7777777777777778,
             "#6ece58"
            ],
            [
             0.8888888888888888,
             "#b5de2b"
            ],
            [
             1,
             "#fde725"
            ]
           ],
           "sequentialminus": [
            [
             0,
             "#440154"
            ],
            [
             0.1111111111111111,
             "#482878"
            ],
            [
             0.2222222222222222,
             "#3e4989"
            ],
            [
             0.3333333333333333,
             "#31688e"
            ],
            [
             0.4444444444444444,
             "#26828e"
            ],
            [
             0.5555555555555556,
             "#1f9e89"
            ],
            [
             0.6666666666666666,
             "#35b779"
            ],
            [
             0.7777777777777778,
             "#6ece58"
            ],
            [
             0.8888888888888888,
             "#b5de2b"
            ],
            [
             1,
             "#fde725"
            ]
           ]
          },
          "colorway": [
           "#1F77B4",
           "#FF7F0E",
           "#2CA02C",
           "#D62728",
           "#9467BD",
           "#8C564B",
           "#E377C2",
           "#7F7F7F",
           "#BCBD22",
           "#17BECF"
          ],
          "font": {
           "color": "rgb(36,36,36)"
          },
          "geo": {
           "bgcolor": "white",
           "lakecolor": "white",
           "landcolor": "white",
           "showlakes": true,
           "showland": true,
           "subunitcolor": "white"
          },
          "hoverlabel": {
           "align": "left"
          },
          "hovermode": "closest",
          "mapbox": {
           "style": "light"
          },
          "paper_bgcolor": "white",
          "plot_bgcolor": "white",
          "polar": {
           "angularaxis": {
            "gridcolor": "rgb(232,232,232)",
            "linecolor": "rgb(36,36,36)",
            "showgrid": false,
            "showline": true,
            "ticks": "outside"
           },
           "bgcolor": "white",
           "radialaxis": {
            "gridcolor": "rgb(232,232,232)",
            "linecolor": "rgb(36,36,36)",
            "showgrid": false,
            "showline": true,
            "ticks": "outside"
           }
          },
          "scene": {
           "xaxis": {
            "backgroundcolor": "white",
            "gridcolor": "rgb(232,232,232)",
            "gridwidth": 2,
            "linecolor": "rgb(36,36,36)",
            "showbackground": true,
            "showgrid": false,
            "showline": true,
            "ticks": "outside",
            "zeroline": false,
            "zerolinecolor": "rgb(36,36,36)"
           },
           "yaxis": {
            "backgroundcolor": "white",
            "gridcolor": "rgb(232,232,232)",
            "gridwidth": 2,
            "linecolor": "rgb(36,36,36)",
            "showbackground": true,
            "showgrid": false,
            "showline": true,
            "ticks": "outside",
            "zeroline": false,
            "zerolinecolor": "rgb(36,36,36)"
           },
           "zaxis": {
            "backgroundcolor": "white",
            "gridcolor": "rgb(232,232,232)",
            "gridwidth": 2,
            "linecolor": "rgb(36,36,36)",
            "showbackground": true,
            "showgrid": false,
            "showline": true,
            "ticks": "outside",
            "zeroline": false,
            "zerolinecolor": "rgb(36,36,36)"
           }
          },
          "shapedefaults": {
           "fillcolor": "black",
           "line": {
            "width": 0
           },
           "opacity": 0.3
          },
          "ternary": {
           "aaxis": {
            "gridcolor": "rgb(232,232,232)",
            "linecolor": "rgb(36,36,36)",
            "showgrid": false,
            "showline": true,
            "ticks": "outside"
           },
           "baxis": {
            "gridcolor": "rgb(232,232,232)",
            "linecolor": "rgb(36,36,36)",
            "showgrid": false,
            "showline": true,
            "ticks": "outside"
           },
           "bgcolor": "white",
           "caxis": {
            "gridcolor": "rgb(232,232,232)",
            "linecolor": "rgb(36,36,36)",
            "showgrid": false,
            "showline": true,
            "ticks": "outside"
           }
          },
          "title": {
           "x": 0.05
          },
          "xaxis": {
           "automargin": true,
           "gridcolor": "rgb(232,232,232)",
           "linecolor": "rgb(36,36,36)",
           "showgrid": false,
           "showline": true,
           "ticks": "outside",
           "title": {
            "standoff": 15
           },
           "zeroline": false,
           "zerolinecolor": "rgb(36,36,36)"
          },
          "yaxis": {
           "automargin": true,
           "gridcolor": "rgb(232,232,232)",
           "linecolor": "rgb(36,36,36)",
           "showgrid": false,
           "showline": true,
           "ticks": "outside",
           "title": {
            "standoff": 15
           },
           "zeroline": false,
           "zerolinecolor": "rgb(36,36,36)"
          }
         }
        },
        "title": {
         "font": {
          "color": "Black",
          "size": 22
         },
         "text": "<b>Documents and Topics</b>",
         "x": 0.5,
         "xanchor": "center",
         "yanchor": "top"
        },
        "width": 1200,
        "xaxis": {
         "visible": false
        },
        "yaxis": {
         "visible": false
        }
       }
      }
     },
     "metadata": {},
     "output_type": "display_data"
    }
   ],
   "source": [
    "model.visualize_documents(reports_filtered.values) #Visualize the documents in each topic"
   ]
  },
  {
   "cell_type": "code",
   "execution_count": 92,
   "metadata": {},
   "outputs": [
    {
     "data": {
      "application/vnd.plotly.v1+json": {
       "config": {
        "plotlyServerURL": "https://plot.ly"
       },
       "data": [
        {
         "hoverinfo": "text",
         "marker": {
          "color": "rgb(61,153,112)"
         },
         "mode": "lines",
         "type": "scatter",
         "x": [
          0,
          0.8993544023760068,
          0.8993544023760068,
          0
         ],
         "xaxis": "x",
         "y": [
          -5,
          -5,
          -15,
          -15
         ],
         "yaxis": "y"
        },
        {
         "hoverinfo": "text",
         "marker": {
          "color": "rgb(61,153,112)"
         },
         "mode": "lines",
         "type": "scatter",
         "x": [
          0.8993544023760068,
          0.9464839439403816,
          0.9464839439403816,
          0
         ],
         "xaxis": "x",
         "y": [
          -10,
          -10,
          -25,
          -25
         ],
         "yaxis": "y"
        },
        {
         "hoverinfo": "text",
         "marker": {
          "color": "rgb(61,153,112)"
         },
         "mode": "lines",
         "type": "scatter",
         "x": [
          0,
          0.8664791120934348,
          0.8664791120934348,
          0
         ],
         "xaxis": "x",
         "y": [
          -45,
          -45,
          -55,
          -55
         ],
         "yaxis": "y"
        },
        {
         "hoverinfo": "text",
         "marker": {
          "color": "rgb(61,153,112)"
         },
         "mode": "lines",
         "type": "scatter",
         "x": [
          0,
          0.9030247166649883,
          0.9030247166649883,
          0.8664791120934348
         ],
         "xaxis": "x",
         "y": [
          -35,
          -35,
          -50,
          -50
         ],
         "yaxis": "y"
        },
        {
         "hoverinfo": "text",
         "marker": {
          "color": "rgb(61,153,112)"
         },
         "mode": "lines",
         "type": "scatter",
         "x": [
          0.9464839439403816,
          0.9790688314372087,
          0.9790688314372087,
          0.9030247166649883
         ],
         "xaxis": "x",
         "y": [
          -17.5,
          -17.5,
          -42.5,
          -42.5
         ],
         "yaxis": "y"
        },
        {
         "hoverinfo": "text",
         "marker": {
          "color": "rgb(255,65,54)"
         },
         "mode": "lines",
         "type": "scatter",
         "x": [
          0,
          0.6547764460702206,
          0.6547764460702206,
          0
         ],
         "xaxis": "x",
         "y": [
          -75,
          -75,
          -85,
          -85
         ],
         "yaxis": "y"
        },
        {
         "hoverinfo": "text",
         "marker": {
          "color": "rgb(255,65,54)"
         },
         "mode": "lines",
         "type": "scatter",
         "x": [
          0,
          0.8347400878160721,
          0.8347400878160721,
          0.6547764460702206
         ],
         "xaxis": "x",
         "y": [
          -65,
          -65,
          -80,
          -80
         ],
         "yaxis": "y"
        },
        {
         "hoverinfo": "text",
         "marker": {
          "color": "rgb(255,65,54)"
         },
         "mode": "lines",
         "type": "scatter",
         "x": [
          0,
          0.8312577378632461,
          0.8312577378632461,
          0
         ],
         "xaxis": "x",
         "y": [
          -95,
          -95,
          -105,
          -105
         ],
         "yaxis": "y"
        },
        {
         "hoverinfo": "text",
         "marker": {
          "color": "rgb(255,65,54)"
         },
         "mode": "lines",
         "type": "scatter",
         "x": [
          0,
          0.869569384936638,
          0.869569384936638,
          0
         ],
         "xaxis": "x",
         "y": [
          -115,
          -115,
          -125,
          -125
         ],
         "yaxis": "y"
        },
        {
         "hoverinfo": "text",
         "marker": {
          "color": "rgb(255,65,54)"
         },
         "mode": "lines",
         "type": "scatter",
         "x": [
          0.8312577378632461,
          0.9327674400490523,
          0.9327674400490523,
          0.869569384936638
         ],
         "xaxis": "x",
         "y": [
          -100,
          -100,
          -120,
          -120
         ],
         "yaxis": "y"
        },
        {
         "hoverinfo": "text",
         "marker": {
          "color": "rgb(255,65,54)"
         },
         "mode": "lines",
         "type": "scatter",
         "x": [
          0.9327674400490523,
          0.9815231151198279,
          0.9815231151198279,
          0
         ],
         "xaxis": "x",
         "y": [
          -110,
          -110,
          -135,
          -135
         ],
         "yaxis": "y"
        },
        {
         "hoverinfo": "text",
         "marker": {
          "color": "rgb(255,65,54)"
         },
         "mode": "lines",
         "type": "scatter",
         "x": [
          0.8347400878160721,
          0.9961986134656146,
          0.9961986134656146,
          0.9815231151198279
         ],
         "xaxis": "x",
         "y": [
          -72.5,
          -72.5,
          -122.5,
          -122.5
         ],
         "yaxis": "y"
        },
        {
         "hoverinfo": "text",
         "marker": {
          "color": "rgb(0,116,217)"
         },
         "mode": "lines",
         "type": "scatter",
         "x": [
          0.9790688314372087,
          1.0609094806671027,
          1.0609094806671027,
          0.9961986134656146
         ],
         "xaxis": "x",
         "y": [
          -30,
          -30,
          -97.5,
          -97.5
         ],
         "yaxis": "y"
        }
       ],
       "layout": {
        "autosize": false,
        "height": 410,
        "hoverlabel": {
         "bgcolor": "white",
         "font": {
          "family": "Rockwell",
          "size": 16
         }
        },
        "hovermode": "closest",
        "plot_bgcolor": "#ECEFF1",
        "showlegend": false,
        "template": {
         "data": {
          "bar": [
           {
            "error_x": {
             "color": "#2a3f5f"
            },
            "error_y": {
             "color": "#2a3f5f"
            },
            "marker": {
             "line": {
              "color": "white",
              "width": 0.5
             },
             "pattern": {
              "fillmode": "overlay",
              "size": 10,
              "solidity": 0.2
             }
            },
            "type": "bar"
           }
          ],
          "barpolar": [
           {
            "marker": {
             "line": {
              "color": "white",
              "width": 0.5
             },
             "pattern": {
              "fillmode": "overlay",
              "size": 10,
              "solidity": 0.2
             }
            },
            "type": "barpolar"
           }
          ],
          "carpet": [
           {
            "aaxis": {
             "endlinecolor": "#2a3f5f",
             "gridcolor": "#C8D4E3",
             "linecolor": "#C8D4E3",
             "minorgridcolor": "#C8D4E3",
             "startlinecolor": "#2a3f5f"
            },
            "baxis": {
             "endlinecolor": "#2a3f5f",
             "gridcolor": "#C8D4E3",
             "linecolor": "#C8D4E3",
             "minorgridcolor": "#C8D4E3",
             "startlinecolor": "#2a3f5f"
            },
            "type": "carpet"
           }
          ],
          "choropleth": [
           {
            "colorbar": {
             "outlinewidth": 0,
             "ticks": ""
            },
            "type": "choropleth"
           }
          ],
          "contour": [
           {
            "colorbar": {
             "outlinewidth": 0,
             "ticks": ""
            },
            "colorscale": [
             [
              0,
              "#0d0887"
             ],
             [
              0.1111111111111111,
              "#46039f"
             ],
             [
              0.2222222222222222,
              "#7201a8"
             ],
             [
              0.3333333333333333,
              "#9c179e"
             ],
             [
              0.4444444444444444,
              "#bd3786"
             ],
             [
              0.5555555555555556,
              "#d8576b"
             ],
             [
              0.6666666666666666,
              "#ed7953"
             ],
             [
              0.7777777777777778,
              "#fb9f3a"
             ],
             [
              0.8888888888888888,
              "#fdca26"
             ],
             [
              1,
              "#f0f921"
             ]
            ],
            "type": "contour"
           }
          ],
          "contourcarpet": [
           {
            "colorbar": {
             "outlinewidth": 0,
             "ticks": ""
            },
            "type": "contourcarpet"
           }
          ],
          "heatmap": [
           {
            "colorbar": {
             "outlinewidth": 0,
             "ticks": ""
            },
            "colorscale": [
             [
              0,
              "#0d0887"
             ],
             [
              0.1111111111111111,
              "#46039f"
             ],
             [
              0.2222222222222222,
              "#7201a8"
             ],
             [
              0.3333333333333333,
              "#9c179e"
             ],
             [
              0.4444444444444444,
              "#bd3786"
             ],
             [
              0.5555555555555556,
              "#d8576b"
             ],
             [
              0.6666666666666666,
              "#ed7953"
             ],
             [
              0.7777777777777778,
              "#fb9f3a"
             ],
             [
              0.8888888888888888,
              "#fdca26"
             ],
             [
              1,
              "#f0f921"
             ]
            ],
            "type": "heatmap"
           }
          ],
          "heatmapgl": [
           {
            "colorbar": {
             "outlinewidth": 0,
             "ticks": ""
            },
            "colorscale": [
             [
              0,
              "#0d0887"
             ],
             [
              0.1111111111111111,
              "#46039f"
             ],
             [
              0.2222222222222222,
              "#7201a8"
             ],
             [
              0.3333333333333333,
              "#9c179e"
             ],
             [
              0.4444444444444444,
              "#bd3786"
             ],
             [
              0.5555555555555556,
              "#d8576b"
             ],
             [
              0.6666666666666666,
              "#ed7953"
             ],
             [
              0.7777777777777778,
              "#fb9f3a"
             ],
             [
              0.8888888888888888,
              "#fdca26"
             ],
             [
              1,
              "#f0f921"
             ]
            ],
            "type": "heatmapgl"
           }
          ],
          "histogram": [
           {
            "marker": {
             "pattern": {
              "fillmode": "overlay",
              "size": 10,
              "solidity": 0.2
             }
            },
            "type": "histogram"
           }
          ],
          "histogram2d": [
           {
            "colorbar": {
             "outlinewidth": 0,
             "ticks": ""
            },
            "colorscale": [
             [
              0,
              "#0d0887"
             ],
             [
              0.1111111111111111,
              "#46039f"
             ],
             [
              0.2222222222222222,
              "#7201a8"
             ],
             [
              0.3333333333333333,
              "#9c179e"
             ],
             [
              0.4444444444444444,
              "#bd3786"
             ],
             [
              0.5555555555555556,
              "#d8576b"
             ],
             [
              0.6666666666666666,
              "#ed7953"
             ],
             [
              0.7777777777777778,
              "#fb9f3a"
             ],
             [
              0.8888888888888888,
              "#fdca26"
             ],
             [
              1,
              "#f0f921"
             ]
            ],
            "type": "histogram2d"
           }
          ],
          "histogram2dcontour": [
           {
            "colorbar": {
             "outlinewidth": 0,
             "ticks": ""
            },
            "colorscale": [
             [
              0,
              "#0d0887"
             ],
             [
              0.1111111111111111,
              "#46039f"
             ],
             [
              0.2222222222222222,
              "#7201a8"
             ],
             [
              0.3333333333333333,
              "#9c179e"
             ],
             [
              0.4444444444444444,
              "#bd3786"
             ],
             [
              0.5555555555555556,
              "#d8576b"
             ],
             [
              0.6666666666666666,
              "#ed7953"
             ],
             [
              0.7777777777777778,
              "#fb9f3a"
             ],
             [
              0.8888888888888888,
              "#fdca26"
             ],
             [
              1,
              "#f0f921"
             ]
            ],
            "type": "histogram2dcontour"
           }
          ],
          "mesh3d": [
           {
            "colorbar": {
             "outlinewidth": 0,
             "ticks": ""
            },
            "type": "mesh3d"
           }
          ],
          "parcoords": [
           {
            "line": {
             "colorbar": {
              "outlinewidth": 0,
              "ticks": ""
             }
            },
            "type": "parcoords"
           }
          ],
          "pie": [
           {
            "automargin": true,
            "type": "pie"
           }
          ],
          "scatter": [
           {
            "fillpattern": {
             "fillmode": "overlay",
             "size": 10,
             "solidity": 0.2
            },
            "type": "scatter"
           }
          ],
          "scatter3d": [
           {
            "line": {
             "colorbar": {
              "outlinewidth": 0,
              "ticks": ""
             }
            },
            "marker": {
             "colorbar": {
              "outlinewidth": 0,
              "ticks": ""
             }
            },
            "type": "scatter3d"
           }
          ],
          "scattercarpet": [
           {
            "marker": {
             "colorbar": {
              "outlinewidth": 0,
              "ticks": ""
             }
            },
            "type": "scattercarpet"
           }
          ],
          "scattergeo": [
           {
            "marker": {
             "colorbar": {
              "outlinewidth": 0,
              "ticks": ""
             }
            },
            "type": "scattergeo"
           }
          ],
          "scattergl": [
           {
            "marker": {
             "colorbar": {
              "outlinewidth": 0,
              "ticks": ""
             }
            },
            "type": "scattergl"
           }
          ],
          "scattermapbox": [
           {
            "marker": {
             "colorbar": {
              "outlinewidth": 0,
              "ticks": ""
             }
            },
            "type": "scattermapbox"
           }
          ],
          "scatterpolar": [
           {
            "marker": {
             "colorbar": {
              "outlinewidth": 0,
              "ticks": ""
             }
            },
            "type": "scatterpolar"
           }
          ],
          "scatterpolargl": [
           {
            "marker": {
             "colorbar": {
              "outlinewidth": 0,
              "ticks": ""
             }
            },
            "type": "scatterpolargl"
           }
          ],
          "scatterternary": [
           {
            "marker": {
             "colorbar": {
              "outlinewidth": 0,
              "ticks": ""
             }
            },
            "type": "scatterternary"
           }
          ],
          "surface": [
           {
            "colorbar": {
             "outlinewidth": 0,
             "ticks": ""
            },
            "colorscale": [
             [
              0,
              "#0d0887"
             ],
             [
              0.1111111111111111,
              "#46039f"
             ],
             [
              0.2222222222222222,
              "#7201a8"
             ],
             [
              0.3333333333333333,
              "#9c179e"
             ],
             [
              0.4444444444444444,
              "#bd3786"
             ],
             [
              0.5555555555555556,
              "#d8576b"
             ],
             [
              0.6666666666666666,
              "#ed7953"
             ],
             [
              0.7777777777777778,
              "#fb9f3a"
             ],
             [
              0.8888888888888888,
              "#fdca26"
             ],
             [
              1,
              "#f0f921"
             ]
            ],
            "type": "surface"
           }
          ],
          "table": [
           {
            "cells": {
             "fill": {
              "color": "#EBF0F8"
             },
             "line": {
              "color": "white"
             }
            },
            "header": {
             "fill": {
              "color": "#C8D4E3"
             },
             "line": {
              "color": "white"
             }
            },
            "type": "table"
           }
          ]
         },
         "layout": {
          "annotationdefaults": {
           "arrowcolor": "#2a3f5f",
           "arrowhead": 0,
           "arrowwidth": 1
          },
          "autotypenumbers": "strict",
          "coloraxis": {
           "colorbar": {
            "outlinewidth": 0,
            "ticks": ""
           }
          },
          "colorscale": {
           "diverging": [
            [
             0,
             "#8e0152"
            ],
            [
             0.1,
             "#c51b7d"
            ],
            [
             0.2,
             "#de77ae"
            ],
            [
             0.3,
             "#f1b6da"
            ],
            [
             0.4,
             "#fde0ef"
            ],
            [
             0.5,
             "#f7f7f7"
            ],
            [
             0.6,
             "#e6f5d0"
            ],
            [
             0.7,
             "#b8e186"
            ],
            [
             0.8,
             "#7fbc41"
            ],
            [
             0.9,
             "#4d9221"
            ],
            [
             1,
             "#276419"
            ]
           ],
           "sequential": [
            [
             0,
             "#0d0887"
            ],
            [
             0.1111111111111111,
             "#46039f"
            ],
            [
             0.2222222222222222,
             "#7201a8"
            ],
            [
             0.3333333333333333,
             "#9c179e"
            ],
            [
             0.4444444444444444,
             "#bd3786"
            ],
            [
             0.5555555555555556,
             "#d8576b"
            ],
            [
             0.6666666666666666,
             "#ed7953"
            ],
            [
             0.7777777777777778,
             "#fb9f3a"
            ],
            [
             0.8888888888888888,
             "#fdca26"
            ],
            [
             1,
             "#f0f921"
            ]
           ],
           "sequentialminus": [
            [
             0,
             "#0d0887"
            ],
            [
             0.1111111111111111,
             "#46039f"
            ],
            [
             0.2222222222222222,
             "#7201a8"
            ],
            [
             0.3333333333333333,
             "#9c179e"
            ],
            [
             0.4444444444444444,
             "#bd3786"
            ],
            [
             0.5555555555555556,
             "#d8576b"
            ],
            [
             0.6666666666666666,
             "#ed7953"
            ],
            [
             0.7777777777777778,
             "#fb9f3a"
            ],
            [
             0.8888888888888888,
             "#fdca26"
            ],
            [
             1,
             "#f0f921"
            ]
           ]
          },
          "colorway": [
           "#636efa",
           "#EF553B",
           "#00cc96",
           "#ab63fa",
           "#FFA15A",
           "#19d3f3",
           "#FF6692",
           "#B6E880",
           "#FF97FF",
           "#FECB52"
          ],
          "font": {
           "color": "#2a3f5f"
          },
          "geo": {
           "bgcolor": "white",
           "lakecolor": "white",
           "landcolor": "white",
           "showlakes": true,
           "showland": true,
           "subunitcolor": "#C8D4E3"
          },
          "hoverlabel": {
           "align": "left"
          },
          "hovermode": "closest",
          "mapbox": {
           "style": "light"
          },
          "paper_bgcolor": "white",
          "plot_bgcolor": "white",
          "polar": {
           "angularaxis": {
            "gridcolor": "#EBF0F8",
            "linecolor": "#EBF0F8",
            "ticks": ""
           },
           "bgcolor": "white",
           "radialaxis": {
            "gridcolor": "#EBF0F8",
            "linecolor": "#EBF0F8",
            "ticks": ""
           }
          },
          "scene": {
           "xaxis": {
            "backgroundcolor": "white",
            "gridcolor": "#DFE8F3",
            "gridwidth": 2,
            "linecolor": "#EBF0F8",
            "showbackground": true,
            "ticks": "",
            "zerolinecolor": "#EBF0F8"
           },
           "yaxis": {
            "backgroundcolor": "white",
            "gridcolor": "#DFE8F3",
            "gridwidth": 2,
            "linecolor": "#EBF0F8",
            "showbackground": true,
            "ticks": "",
            "zerolinecolor": "#EBF0F8"
           },
           "zaxis": {
            "backgroundcolor": "white",
            "gridcolor": "#DFE8F3",
            "gridwidth": 2,
            "linecolor": "#EBF0F8",
            "showbackground": true,
            "ticks": "",
            "zerolinecolor": "#EBF0F8"
           }
          },
          "shapedefaults": {
           "line": {
            "color": "#2a3f5f"
           }
          },
          "ternary": {
           "aaxis": {
            "gridcolor": "#DFE8F3",
            "linecolor": "#A2B1C6",
            "ticks": ""
           },
           "baxis": {
            "gridcolor": "#DFE8F3",
            "linecolor": "#A2B1C6",
            "ticks": ""
           },
           "bgcolor": "white",
           "caxis": {
            "gridcolor": "#DFE8F3",
            "linecolor": "#A2B1C6",
            "ticks": ""
           }
          },
          "title": {
           "x": 0.05
          },
          "xaxis": {
           "automargin": true,
           "gridcolor": "#EBF0F8",
           "linecolor": "#EBF0F8",
           "ticks": "",
           "title": {
            "standoff": 15
           },
           "zerolinecolor": "#EBF0F8",
           "zerolinewidth": 2
          },
          "yaxis": {
           "automargin": true,
           "gridcolor": "#EBF0F8",
           "linecolor": "#EBF0F8",
           "ticks": "",
           "title": {
            "standoff": 15
           },
           "zerolinecolor": "#EBF0F8",
           "zerolinewidth": 2
          }
         }
        },
        "title": {
         "font": {
          "color": "Black",
          "size": 22
         },
         "text": "<b>Hierarchical Clustering</b>",
         "x": 0.5,
         "xanchor": "center",
         "yanchor": "top"
        },
        "width": 1000,
        "xaxis": {
         "mirror": "allticks",
         "rangemode": "tozero",
         "showgrid": false,
         "showline": true,
         "showticklabels": true,
         "ticks": "outside",
         "type": "linear",
         "zeroline": false
        },
        "yaxis": {
         "mirror": "allticks",
         "range": [
          -140,
          0
         ],
         "rangemode": "tozero",
         "showgrid": false,
         "showline": true,
         "showticklabels": true,
         "tickmode": "array",
         "ticks": "outside",
         "ticktext": [
          "8_dreaming_asleep_dreamlike",
          "13_life_death_realm",
          "1_peace_peaceful_year",
          "11_relaxation_deepest_pure",
          "4_space_felt_energy",
          "12_drugs_acid_closest",
          "2_ocean_saw_visuals",
          "0_shapes_saw_like",
          "3_colours_orange_like",
          "5_experience_awesome_expected",
          "10_experience_flat_sense",
          "7_stories_colours_dreamachine",
          "6_thoughts_people_thought",
          "9_music_enjoyed_created"
         ],
         "tickvals": [
          -5,
          -15,
          -25,
          -35,
          -45,
          -55,
          -65,
          -75,
          -85,
          -95,
          -105,
          -115,
          -125,
          -135
         ],
         "type": "linear",
         "zeroline": false
        }
       }
      }
     },
     "metadata": {},
     "output_type": "display_data"
    }
   ],
   "source": [
    "#Visualize the documents that belong to the top 10 topics\n",
    "model.visualize_heatmap()\n",
    "model.visualize_hierarchy()\n",
    "\n"
   ]
  }
 ],
 "metadata": {
  "kernelspec": {
   "display_name": "topmodvenv",
   "language": "python",
   "name": "python3"
  },
  "language_info": {
   "codemirror_mode": {
    "name": "ipython",
    "version": 3
   },
   "file_extension": ".py",
   "mimetype": "text/x-python",
   "name": "python",
   "nbconvert_exporter": "python",
   "pygments_lexer": "ipython3",
   "version": "3.11.3"
  }
 },
 "nbformat": 4,
 "nbformat_minor": 2
}
